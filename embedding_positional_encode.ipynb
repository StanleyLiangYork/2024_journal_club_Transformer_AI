{
  "nbformat": 4,
  "nbformat_minor": 0,
  "metadata": {
    "colab": {
      "provenance": [],
      "authorship_tag": "ABX9TyNPaOjT6fJnsgyx46ThmumI",
      "include_colab_link": true
    },
    "kernelspec": {
      "name": "python3",
      "display_name": "Python 3"
    },
    "language_info": {
      "name": "python"
    }
  },
  "cells": [
    {
      "cell_type": "markdown",
      "metadata": {
        "id": "view-in-github",
        "colab_type": "text"
      },
      "source": [
        "<a href=\"https://colab.research.google.com/github/StanleyLiangYork/2024_journal_club_Transformer_AI/blob/main/embedding_positional_encode.ipynb\" target=\"_parent\"><img src=\"https://colab.research.google.com/assets/colab-badge.svg\" alt=\"Open In Colab\"/></a>"
      ]
    },
    {
      "cell_type": "markdown",
      "source": [
        "In this demo notebook, we show the pipeline from text tokenization, word embedding, and adding positional encoding to the word embedding to build the numeric representations of the input text."
      ],
      "metadata": {
        "id": "5qdC3rpM_kvw"
      }
    },
    {
      "cell_type": "markdown",
      "source": [
        "# 1 Text Vectorization\n",
        "\n",
        "After data cleaning, we are about to send to text to the computer. The process will convert the words to numeric vectors following certain rules.\n",
        "\n",
        "We will use the TensorFlow Keras API to perform this process. In the following example, we will try to vectorize two sentences.\n",
        "\n",
        "\n",
        "*   I like transformer for AI\n",
        "*   You like transformer movies\n",
        "\n"
      ],
      "metadata": {
        "id": "Fnq_uRNQAb8b"
      }
    },
    {
      "cell_type": "code",
      "source": [
        "import tensorflow as tf\n",
        "from tensorflow import convert_to_tensor\n",
        "from tensorflow.keras.layers import TextVectorization\n",
        "from tensorflow.data import Dataset\n",
        "\n",
        "output_sequence_length = 5\n",
        "vocab_size = 10 # because we have 7 unique words, a vocabulary size of 10 is enough\n",
        "\n",
        "sentences = [[\"I like transformer for A.\"], [\"You like transformer movies.\"]]\n",
        "sentence_data = Dataset.from_tensor_slices(sentences)\n",
        "\n",
        "# the Dataset object is a generator function to fetch data\n",
        "data_point = next(iter(sentence_data))\n",
        "print(data_point)"
      ],
      "metadata": {
        "colab": {
          "base_uri": "https://localhost:8080/"
        },
        "id": "sjW-Ds2sAbJ2",
        "outputId": "39042680-0493-40ff-cadc-76febdac5634"
      },
      "execution_count": null,
      "outputs": [
        {
          "output_type": "stream",
          "name": "stdout",
          "text": [
            "tf.Tensor([b'I like transformer for A'], shape=(1,), dtype=string)\n"
          ]
        }
      ]
    },
    {
      "cell_type": "code",
      "execution_count": null,
      "metadata": {
        "colab": {
          "base_uri": "https://localhost:8080/"
        },
        "id": "wK1DEcWc_Y_d",
        "outputId": "a1dd82e6-7f3b-4ec9-c048-7b823fb9a340"
      },
      "outputs": [
        {
          "output_type": "stream",
          "name": "stderr",
          "text": [
            "WARNING:tensorflow:6 out of the last 11 calls to <function PreprocessingLayer.make_adapt_function.<locals>.adapt_step at 0x7fd83e397010> triggered tf.function retracing. Tracing is expensive and the excessive number of tracings could be due to (1) creating @tf.function repeatedly in a loop, (2) passing tensors with different shapes, (3) passing Python objects instead of tensors. For (1), please define your @tf.function outside of the loop. For (2), @tf.function has reduce_retracing=True option that can avoid unnecessary retracing. For (3), please refer to https://www.tensorflow.org/guide/function#controlling_retracing and https://www.tensorflow.org/api_docs/python/tf/function for  more details.\n"
          ]
        },
        {
          "output_type": "stream",
          "name": "stdout",
          "text": [
            "Vocabulary:  ['', '[UNK]', 'transformer', 'like', 'you', 'movies', 'i', 'for', 'a'] total length of vocabulary: 9\n",
            "you can see that the tokens only include words in TensorFlow\n",
            "Vectorized words:  tf.Tensor([6 3 2 7 8], shape=(5,), dtype=int64)\n",
            "the numbers are the vocabulary indices\n"
          ]
        }
      ],
      "source": [
        "# Create the TextVectorization layer\n",
        "vectorize_layer = TextVectorization(output_sequence_length=output_sequence_length,\n",
        "                                    max_tokens=vocab_size)\n",
        "\n",
        "# Train the layer to create a dictionary\n",
        "vectorize_layer.adapt(sentence_data)\n",
        "\n",
        "# Convert all sentences to tensors\n",
        "word_tensors = convert_to_tensor(sentences, dtype=tf.string)\n",
        "\n",
        "# Use the word tensors to get vectorized phrases\n",
        "vectorized_words = vectorize_layer(word_tensors)\n",
        "print(\"Vocabulary: \", vectorize_layer.get_vocabulary(), f\"total length of vocabulary: {len(vectorize_layer.get_vocabulary())}\")\n",
        "print(\"you can see that the tokens only include words in TensorFlow\")\n",
        "print(\"Vectorized words: \", vectorized_words[0])\n",
        "print(\"the numbers are the vocabulary indices\")"
      ]
    },
    {
      "cell_type": "markdown",
      "source": [
        "2 Vector to word embedding\n",
        "\n",
        "We use the Keras Embedding layer to convert the word integer indices to dense vectors. Word embedding is a shallow network to map the indices to a vector with fixed dimension, which represents the similarity of the text."
      ],
      "metadata": {
        "id": "D5PBpsI6ELWV"
      }
    },
    {
      "cell_type": "code",
      "source": [
        "from tensorflow.keras.layers import Embedding\n",
        "\n",
        "output_length = 4 # we map a sequence of 5 to a word embedding of 4\n",
        "\n",
        "# Create an Embedding layer\n",
        "word_embedding_layer = Embedding(vocab_size, output_length)\n",
        "embedded_words = word_embedding_layer(vectorized_words)\n",
        "print(\"word embedding for 'I like transformer for A.'\")\n",
        "print(embedded_words[0])\n",
        "print()\n",
        "print(\"word embedding for 'You like transformer movies.'\")\n",
        "print(embedded_words[1])\n",
        "embed_1 = embedded_words[0]\n",
        "embed_2 = embedded_words[1]\n"
      ],
      "metadata": {
        "colab": {
          "base_uri": "https://localhost:8080/"
        },
        "id": "nnah7kPcEDAC",
        "outputId": "e8fde32c-1fcb-42b3-e214-be4c3a9a9eab"
      },
      "execution_count": null,
      "outputs": [
        {
          "output_type": "stream",
          "name": "stdout",
          "text": [
            "word embedding for 'I like transformer for A.'\n",
            "tf.Tensor(\n",
            "[[ 0.01649566  0.01579009  0.02546985  0.02437569]\n",
            " [-0.00217835 -0.03769909 -0.02639313 -0.03361668]\n",
            " [-0.04453452  0.03663423  0.02534889 -0.02998656]\n",
            " [ 0.01726962  0.04845453 -0.00604462 -0.00385002]\n",
            " [ 0.00604017 -0.04431595  0.01222227 -0.04144819]], shape=(5, 4), dtype=float32)\n",
            "\n",
            "word embedding for 'You like transformer movies.'\n",
            "tf.Tensor(\n",
            "[[ 0.04963252  0.01079917  0.01240839 -0.0271549 ]\n",
            " [-0.00217835 -0.03769909 -0.02639313 -0.03361668]\n",
            " [-0.04453452  0.03663423  0.02534889 -0.02998656]\n",
            " [ 0.03950762 -0.02748002 -0.02822621 -0.02210274]\n",
            " [ 0.00316463  0.02864688 -0.02418419 -0.02352774]], shape=(5, 4), dtype=float32)\n"
          ]
        }
      ]
    },
    {
      "cell_type": "code",
      "source": [
        "position_embedding_layer = Embedding(output_sequence_length, output_length)\n",
        "position_indices = tf.range(output_sequence_length)\n",
        "embedded_indices = position_embedding_layer(position_indices)\n",
        "print(embedded_indices)"
      ],
      "metadata": {
        "colab": {
          "base_uri": "https://localhost:8080/"
        },
        "id": "RMLHLtTKHQ8v",
        "outputId": "1e4cdf70-55fa-4611-958d-51d73709822d"
      },
      "execution_count": null,
      "outputs": [
        {
          "output_type": "stream",
          "name": "stdout",
          "text": [
            "tf.Tensor(\n",
            "[[ 0.0366757  -0.04132217  0.02714071 -0.00478549]\n",
            " [ 0.00205923 -0.04976795  0.04320231  0.0462178 ]\n",
            " [ 0.02623284 -0.04074157  0.01225953  0.01377899]\n",
            " [-0.03114364 -0.00439594  0.0301802   0.04171369]\n",
            " [-0.02724293 -0.04023157  0.029333   -0.04260156]], shape=(5, 4), dtype=float32)\n"
          ]
        }
      ]
    },
    {
      "cell_type": "code",
      "source": [
        "position_indices"
      ],
      "metadata": {
        "colab": {
          "base_uri": "https://localhost:8080/"
        },
        "id": "cWPR6wu8ZvtD",
        "outputId": "fa813117-2ff1-4ecc-e3fc-01a268e1267a"
      },
      "execution_count": null,
      "outputs": [
        {
          "output_type": "execute_result",
          "data": {
            "text/plain": [
              "<tf.Tensor: shape=(5,), dtype=int32, numpy=array([0, 1, 2, 3, 4], dtype=int32)>"
            ]
          },
          "metadata": {},
          "execution_count": 27
        }
      ]
    },
    {
      "cell_type": "markdown",
      "source": [
        "To add positional encoding to the word embeddings, we can sum the word embeddings and the position embeddings.\n",
        "\n",
        "As shown above, we can utilize the Embedding layer of Keras to create a Embedding object by setting up the input and output dimension, then we load the input indices to the Embedding layer, and it will encode the input to the target embedding vectors that have the same dimension as the word embedding. Therefore, we can sum them up."
      ],
      "metadata": {
        "id": "4WRd3mcgY04Q"
      }
    },
    {
      "cell_type": "code",
      "source": [
        "# since we use the same embedding layer, the outputs have the identical dimensionality\n",
        "final_output_embedding = embedded_words + embedded_indices\n",
        "print(\"Final output: \", final_output_embedding)"
      ],
      "metadata": {
        "colab": {
          "base_uri": "https://localhost:8080/"
        },
        "id": "tmjQEbnBaQSb",
        "outputId": "c73c6ae9-0a48-438d-8e6c-a4142bab10e4"
      },
      "execution_count": null,
      "outputs": [
        {
          "output_type": "stream",
          "name": "stdout",
          "text": [
            "Final output:  tf.Tensor(\n",
            "[[[ 0.05317136 -0.02553208  0.05261056  0.0195902 ]\n",
            "  [-0.00011912 -0.08746704  0.01680919  0.01260113]\n",
            "  [-0.01830167 -0.00410734  0.03760842 -0.01620757]\n",
            "  [-0.01387403  0.04405859  0.02413559  0.03786367]\n",
            "  [-0.02120277 -0.08454752  0.04155527 -0.08404975]]\n",
            "\n",
            " [[ 0.08630822 -0.030523    0.0395491  -0.03194039]\n",
            "  [-0.00011912 -0.08746704  0.01680919  0.01260113]\n",
            "  [-0.01830167 -0.00410734  0.03760842 -0.01620757]\n",
            "  [ 0.00836398 -0.03187596  0.00195399  0.01961095]\n",
            "  [-0.02407831 -0.0115847   0.00514881 -0.0661293 ]]], shape=(2, 5, 4), dtype=float32)\n"
          ]
        }
      ]
    },
    {
      "cell_type": "markdown",
      "source": [
        "# 3 - combine word embedding and positional embedding\n",
        "\n",
        "So we can write the above word embeddings and positional embedding into a new class named positional embedding layer, which can do both word embedding and positional embedding.\n",
        "\n",
        "We will implement the sine and cosine functions to the positional embedding later."
      ],
      "metadata": {
        "id": "65xerTReai6-"
      }
    },
    {
      "cell_type": "code",
      "source": [
        "import tensorflow as tf\n",
        "from tensorflow import convert_to_tensor, string\n",
        "from tensorflow.keras.layers import TextVectorization, Embedding, Layer\n",
        "from tensorflow.data import Dataset\n",
        "import numpy as np\n",
        "import matplotlib.pyplot as plt\n",
        "\n",
        "output_sequence_length = 5 # the token vector length\n",
        "output_length = 4 # the word embedding length\n",
        "vocab_size = 10\n",
        "\n",
        "sentences = [[\"I like transformer for A.\"], [\"You like transformer movies.\"]]\n",
        "sentence_data = Dataset.from_tensor_slices(sentences)\n",
        "\n",
        "# word --> integer numeric tokens\n",
        "vectorize_layer = TextVectorization(output_sequence_length=output_sequence_length, max_tokens=vocab_size)\n",
        "# Train the layer to create a dictionary\n",
        "vectorize_layer.adapt(sentence_data)\n",
        "# Convert all sentences to tensors -- as input tensor for the vectorize layer\n",
        "word_tensors = convert_to_tensor(sentences, dtype=tf.string)\n",
        "# Use the word tensors to get vectorized phrases\n",
        "vectorized_words = vectorize_layer(word_tensors)\n",
        "\n",
        "print(vectorized_words)"
      ],
      "metadata": {
        "colab": {
          "base_uri": "https://localhost:8080/"
        },
        "id": "cEAGsqAJbGkA",
        "outputId": "d1b07508-c8a4-45d8-e8fc-ddce3cff349b"
      },
      "execution_count": 2,
      "outputs": [
        {
          "output_type": "stream",
          "name": "stdout",
          "text": [
            "tf.Tensor(\n",
            "[[6 3 2 7 8]\n",
            " [4 3 2 5 0]], shape=(2, 5), dtype=int64)\n"
          ]
        }
      ]
    },
    {
      "cell_type": "code",
      "source": [
        "class PositionEmbeddingLayer(Layer):\n",
        "    # define the constructor\n",
        "    def __init__(self, seq_length, vocab_size, output_dim, **kwargs):\n",
        "        super().__init__(**kwargs)\n",
        "        self.word_embedding_layer = Embedding(input_dim=vocab_size, output_dim=output_dim)\n",
        "        self.position_embedding_layer = Embedding(input_dim=seq_length, output_dim=output_dim)\n",
        "\n",
        "    # the custom call method, the call method will do the processing when an object is created\n",
        "    def call(self, inputs):\n",
        "        position_indices = tf.range(tf.shape(inputs)[-1])\n",
        "        embedded_words = self.word_embedding_layer(inputs)\n",
        "        embedded_indices = self.position_embedding_layer(position_indices)\n",
        "        return embedded_words + embedded_indices"
      ],
      "metadata": {
        "id": "eNh-ld6JcUEP"
      },
      "execution_count": 3,
      "outputs": []
    },
    {
      "cell_type": "code",
      "source": [
        "# create the positional + word embedding layer\n",
        "custom_embedding_layer = PositionEmbeddingLayer(output_sequence_length, vocab_size, output_length)\n",
        "embedded_layer_output = custom_embedding_layer(vectorized_words)\n",
        "print(\"Output from custom_embedded_layer: \", embedded_layer_output)"
      ],
      "metadata": {
        "colab": {
          "base_uri": "https://localhost:8080/"
        },
        "id": "6YcdCZvic1ve",
        "outputId": "0e307dd1-6ded-41e5-9eaf-c9f83c33dbfc"
      },
      "execution_count": 4,
      "outputs": [
        {
          "output_type": "stream",
          "name": "stdout",
          "text": [
            "Output from custom_embedded_layer:  tf.Tensor(\n",
            "[[[-0.00380678  0.00208563 -0.02357931 -0.03710254]\n",
            "  [ 0.05882748 -0.0311981  -0.05575901  0.0094553 ]\n",
            "  [ 0.02231822 -0.01596844 -0.02795559  0.01843645]\n",
            "  [-0.05834459  0.0131742   0.01238996 -0.04256581]\n",
            "  [ 0.00080627 -0.01387829 -0.02629715  0.01510316]]\n",
            "\n",
            " [[ 0.01207545  0.00369031 -0.02263095 -0.03031536]\n",
            "  [ 0.05882748 -0.0311981  -0.05575901  0.0094553 ]\n",
            "  [ 0.02231822 -0.01596844 -0.02795559  0.01843645]\n",
            "  [-0.06400754 -0.02763527  0.0380559   0.03393208]\n",
            "  [-0.01415101 -0.0150631  -0.04899985  0.02097845]]], shape=(2, 5, 4), dtype=float32)\n"
          ]
        }
      ]
    },
    {
      "cell_type": "markdown",
      "source": [
        "# 4 Add the sinusoidal function to positional encoding\n",
        "\n",
        "Note the the above implementation uses the Embedding layer from Keras, thus the encoding weights are random. To get static positional encodings to the words, we need to add the sinusoidal functions to the class. We call this class \"PositionEmbeddingFixedWeights\""
      ],
      "metadata": {
        "id": "jJMuSyZFeBSh"
      }
    },
    {
      "cell_type": "code",
      "source": [
        "output_sequence_length = 5 # the token vector length\n",
        "output_length = 4 # the word embedding length\n",
        "vocab_size = 10\n",
        "\n",
        "sentences = [[\"I like transformer for A.\"], [\"You like transformer movies.\"]]\n",
        "sentence_data = Dataset.from_tensor_slices(sentences)\n",
        "\n",
        "# Create the TextVectorization layer\n",
        "vectorize_layer = TextVectorization(output_sequence_length=output_sequence_length, max_tokens=vocab_size)\n",
        "# Train the layer to create a dictionary\n",
        "vectorize_layer.adapt(sentence_data)\n",
        "# Convert all sentences to tensors\n",
        "word_tensors = convert_to_tensor(sentences, dtype=tf.string)\n",
        "# Use the word tensors to get vectorized phrases\n",
        "vectorized_words = vectorize_layer(word_tensors)\n",
        "\n",
        "class PositionEmbeddingFixedWeights(Layer):\n",
        "    def __init__(self, seq_length, vocab_size, output_dim, **kwargs):\n",
        "        super().__init__(**kwargs)\n",
        "        word_embedding_matrix = self.get_position_encoding(vocab_size, output_dim)\n",
        "        pos_embedding_matrix = self.get_position_encoding(seq_length, output_dim)\n",
        "        # to let the positional encoding fixed, we set the layer untrainable\n",
        "        # Note that we use the transformer block architecture to learn the semantic features, the embedding layer does not need to learn\n",
        "        self.word_embedding_layer = Embedding(input_dim=vocab_size, output_dim=output_dim, weights=[word_embedding_matrix], trainable=False)\n",
        "        self.position_embedding_layer = Embedding(input_dim=seq_length, output_dim=output_dim,weights=[pos_embedding_matrix],trainable=False)\n",
        "\n",
        "    def get_position_encoding(self, seq_len, d, n=10000):\n",
        "        P = np.zeros((seq_len, d))\n",
        "        for k in range(seq_len):\n",
        "            for i in np.arange(int(d/2)):\n",
        "                denominator = np.power(n, 2*i/d)\n",
        "                P[k, 2*i] = np.sin(k/denominator)\n",
        "                P[k, 2*i+1] = np.cos(k/denominator)\n",
        "        return P\n",
        "\n",
        "\n",
        "    def call(self, inputs):\n",
        "        position_indices = tf.range(tf.shape(inputs)[-1])\n",
        "        embedded_words = self.word_embedding_layer(inputs)\n",
        "        embedded_indices = self.position_embedding_layer(position_indices)\n",
        "        return embedded_words + embedded_indices\n",
        "\n",
        "sinusoid_embedding = PositionEmbeddingFixedWeights(output_sequence_length, vocab_size, output_length)\n",
        "sinusoid_output = sinusoid_embedding(vectorized_words)\n",
        "print(\"Output from my_embedded_layer: \", sinusoid_output)"
      ],
      "metadata": {
        "colab": {
          "base_uri": "https://localhost:8080/"
        },
        "id": "wGbmUtNEeqs6",
        "outputId": "a4cd66cd-39b4-4e98-dfc3-44fc431b9479"
      },
      "execution_count": 10,
      "outputs": [
        {
          "output_type": "stream",
          "name": "stdout",
          "text": [
            "Output from my_embedded_layer:  tf.Tensor(\n",
            "[[[-0.2794155   1.9601703   0.059964    1.9982005 ]\n",
            "  [ 0.982591   -0.44969022  0.03999534  1.9995    ]\n",
            "  [ 1.8185948  -0.8322937   0.03999733  1.9996    ]\n",
            "  [ 0.7981066  -0.23609024  0.09993835  1.9971011 ]\n",
            "  [ 0.23255575 -0.7991437   0.11990403  1.9960018 ]]\n",
            "\n",
            " [[-0.7568025   0.3463564   0.03998933  1.9992001 ]\n",
            "  [ 0.982591   -0.44969022  0.03999534  1.9995    ]\n",
            "  [ 1.8185948  -0.8322937   0.03999733  1.9996    ]\n",
            "  [-0.8178043  -0.7063303   0.07997467  1.9983003 ]\n",
            "  [-0.7568025   0.3463564   0.03998933  1.9992001 ]]], shape=(2, 5, 4), dtype=float32)\n"
          ]
        }
      ]
    },
    {
      "cell_type": "markdown",
      "source": [
        "# 5 Visualize the positional embeddings"
      ],
      "metadata": {
        "id": "jyaxZGR3gavF"
      }
    },
    {
      "cell_type": "code",
      "source": [
        "# we use longer text for the visualization\n",
        "\n",
        "technical_phrase = \"to understand machine learning algorithms you need\" +\\\n",
        "                   \" to understand concepts such as gradient of a function \"+\\\n",
        "                   \"Hessians of a matrix and optimization etc\"\n",
        "wise_phrase = \"patrick henry said give me liberty or give me death \"+\\\n",
        "              \"when he addressed the second virginia convention in march\""
      ],
      "metadata": {
        "id": "uuNv3XnBgkDB"
      },
      "execution_count": 6,
      "outputs": []
    },
    {
      "cell_type": "code",
      "source": [
        "total_vocabulary = 200 # the vocabulary size can be greater than the actually size\n",
        "seq_length = 20\n",
        "final_output_len = 50\n",
        "\n",
        "phrase_vectorization_layer = TextVectorization(output_sequence_length=seq_length,max_tokens=total_vocabulary)\n",
        "# Learn the dictionary\n",
        "phrase_vectorization_layer.adapt([technical_phrase, wise_phrase])\n",
        "# Convert all sentences to tensors\n",
        "phrase_tensors = convert_to_tensor([technical_phrase, wise_phrase], dtype=tf.string)\n",
        "# Use the word tensors to get vectorized phrases\n",
        "vectorized_phrases = phrase_vectorization_layer(phrase_tensors)"
      ],
      "metadata": {
        "id": "FcYWvMu8gz5X"
      },
      "execution_count": 9,
      "outputs": []
    },
    {
      "cell_type": "code",
      "source": [
        "random_embedding_layer = PositionEmbeddingLayer(seq_length, total_vocabulary, final_output_len)\n",
        "sinusoid_embedding = PositionEmbeddingFixedWeights(seq_length, total_vocabulary, final_output_len)"
      ],
      "metadata": {
        "id": "sNHo78JkhJJ8"
      },
      "execution_count": 13,
      "outputs": []
    },
    {
      "cell_type": "code",
      "source": [
        "random_embedding_output = random_embedding_layer(vectorized_phrases)\n",
        "sinusoid_embedding_output = sinusoid_embedding(vectorized_phrases)"
      ],
      "metadata": {
        "id": "ISDkRwaKh-5D"
      },
      "execution_count": 14,
      "outputs": []
    },
    {
      "cell_type": "markdown",
      "source": [
        "Visualize the random embedding"
      ],
      "metadata": {
        "id": "UlPaBujti2yj"
      }
    },
    {
      "cell_type": "code",
      "source": [
        "fig = plt.figure(figsize=(15, 5))\n",
        "title = [\"Tech Phrase\", \"Wise Phrase\"]\n",
        "for i in range(2):\n",
        "    ax = plt.subplot(1, 2, 1+i)\n",
        "    matrix = tf.reshape(random_embedding_output[i, :, :], (seq_length, final_output_len))\n",
        "    cax = ax.matshow(matrix)\n",
        "    plt.gcf().colorbar(cax)\n",
        "    plt.title(title[i], y=1.2)\n",
        "fig.suptitle(\"Random Weight Embedding\")\n",
        "plt.show()"
      ],
      "metadata": {
        "colab": {
          "base_uri": "https://localhost:8080/",
          "height": 472
        },
        "id": "J-4w6RlKi5bs",
        "outputId": "c5738b1e-307a-4b55-9962-563a8e0e2cea"
      },
      "execution_count": 17,
      "outputs": [
        {
          "output_type": "display_data",
          "data": {
            "text/plain": [
              "<Figure size 1500x500 with 4 Axes>"
            ],
            "image/png": "[encoded data removed]"
          },
          "metadata": {}
        }
      ]
    },
    {
      "cell_type": "markdown",
      "source": [
        "Visualize the sinusoidal embedding"
      ],
      "metadata": {
        "id": "bt9sBAfDincG"
      }
    },
    {
      "cell_type": "code",
      "source": [
        "fig = plt.figure(figsize=(15, 5))\n",
        "title = [\"Tech Phrase\", \"Wise Phrase\"]\n",
        "for i in range(2):\n",
        "    ax = plt.subplot(1, 2, 1+i)\n",
        "    matrix = tf.reshape(sinusoid_embedding_output[i, :, :], (seq_length, final_output_len))\n",
        "    cax = ax.matshow(matrix)\n",
        "    plt.gcf().colorbar(cax)\n",
        "    plt.title(title[i], y=1.2)\n",
        "fig.suptitle(\"Fixed Weight Embedding from Attention is All You Need\")\n",
        "plt.show()"
      ],
      "metadata": {
        "colab": {
          "base_uri": "https://localhost:8080/",
          "height": 472
        },
        "id": "nSi4E73kiToI",
        "outputId": "aebd5bde-6ec2-4e18-bdfb-30de1cd73340"
      },
      "execution_count": 15,
      "outputs": [
        {
          "output_type": "display_data",
          "data": {
            "text/plain": [
              "<Figure size 1500x500 with 4 Axes>"
            ],
            "image/png": "[encoded data removed]"
          },
          "metadata": {}
        }
      ]
    }
  ]
}