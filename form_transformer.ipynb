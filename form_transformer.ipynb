{
  "nbformat": 4,
  "nbformat_minor": 0,
  "metadata": {
    "colab": {
      "provenance": [],
      "gpuType": "T4",
      "authorship_tag": "ABX9TyOGVgghMZRspCtYpxiVFAIg",
      "include_colab_link": true
    },
    "kernelspec": {
      "name": "python3",
      "display_name": "Python 3"
    },
    "language_info": {
      "name": "python"
    },
    "accelerator": "GPU",
    "widgets": {
      "application/vnd.jupyter.widget-state+json": {
        "f3c7e15b42f54af4b7d75a4cb365905b": {
          "model_module": "@jupyter-widgets/controls",
          "model_name": "HBoxModel",
          "model_module_version": "1.5.0",
          "state": {
            "_dom_classes": [],
            "_model_module": "@jupyter-widgets/controls",
            "_model_module_version": "1.5.0",
            "_model_name": "HBoxModel",
            "_view_count": null,
            "_view_module": "@jupyter-widgets/controls",
            "_view_module_version": "1.5.0",
            "_view_name": "HBoxView",
            "box_style": "",
            "children": [
              "IPY_MODEL_3969a9792ccd4dfebb02e298de777690",
              "IPY_MODEL_77135e617ba248dfba6c64629416f551",
              "IPY_MODEL_daead86ced864b9bbec7ed1e217ed60e"
            ],
            "layout": "IPY_MODEL_e5e896ca7f6b49e2a1af6ce4c860bb77"
          }
        },
        "3969a9792ccd4dfebb02e298de777690": {
          "model_module": "@jupyter-widgets/controls",
          "model_name": "HTMLModel",
          "model_module_version": "1.5.0",
          "state": {
            "_dom_classes": [],
            "_model_module": "@jupyter-widgets/controls",
            "_model_module_version": "1.5.0",
            "_model_name": "HTMLModel",
            "_view_count": null,
            "_view_module": "@jupyter-widgets/controls",
            "_view_module_version": "1.5.0",
            "_view_name": "HTMLView",
            "description": "",
            "description_tooltip": null,
            "layout": "IPY_MODEL_0fb15158faeb4b2091024ce9cbf89326",
            "placeholder": "​",
            "style": "IPY_MODEL_ef63a18fff194e68b5564970b4de6bc1",
            "value": "Dl Completed...: 100%"
          }
        },
        "77135e617ba248dfba6c64629416f551": {
          "model_module": "@jupyter-widgets/controls",
          "model_name": "FloatProgressModel",
          "model_module_version": "1.5.0",
          "state": {
            "_dom_classes": [],
            "_model_module": "@jupyter-widgets/controls",
            "_model_module_version": "1.5.0",
            "_model_name": "FloatProgressModel",
            "_view_count": null,
            "_view_module": "@jupyter-widgets/controls",
            "_view_module_version": "1.5.0",
            "_view_name": "ProgressView",
            "bar_style": "success",
            "description": "",
            "description_tooltip": null,
            "layout": "IPY_MODEL_1d75313b202748c881e53104f1862d57",
            "max": 1,
            "min": 0,
            "orientation": "horizontal",
            "style": "IPY_MODEL_b6ec5e7f37194689b4e3947b8944c518",
            "value": 1
          }
        },
        "daead86ced864b9bbec7ed1e217ed60e": {
          "model_module": "@jupyter-widgets/controls",
          "model_name": "HTMLModel",
          "model_module_version": "1.5.0",
          "state": {
            "_dom_classes": [],
            "_model_module": "@jupyter-widgets/controls",
            "_model_module_version": "1.5.0",
            "_model_name": "HTMLModel",
            "_view_count": null,
            "_view_module": "@jupyter-widgets/controls",
            "_view_module_version": "1.5.0",
            "_view_name": "HTMLView",
            "description": "",
            "description_tooltip": null,
            "layout": "IPY_MODEL_25845c82a99443548970ab53c3731543",
            "placeholder": "​",
            "style": "IPY_MODEL_19891766dafe4d3ab162c5134e0f4eb4",
            "value": " 1/1 [00:12&lt;00:00,  8.37s/ url]"
          }
        },
        "e5e896ca7f6b49e2a1af6ce4c860bb77": {
          "model_module": "@jupyter-widgets/base",
          "model_name": "LayoutModel",
          "model_module_version": "1.2.0",
          "state": {
            "_model_module": "@jupyter-widgets/base",
            "_model_module_version": "1.2.0",
            "_model_name": "LayoutModel",
            "_view_count": null,
            "_view_module": "@jupyter-widgets/base",
            "_view_module_version": "1.2.0",
            "_view_name": "LayoutView",
            "align_content": null,
            "align_items": null,
            "align_self": null,
            "border": null,
            "bottom": null,
            "display": null,
            "flex": null,
            "flex_flow": null,
            "grid_area": null,
            "grid_auto_columns": null,
            "grid_auto_flow": null,
            "grid_auto_rows": null,
            "grid_column": null,
            "grid_gap": null,
            "grid_row": null,
            "grid_template_areas": null,
            "grid_template_columns": null,
            "grid_template_rows": null,
            "height": null,
            "justify_content": null,
            "justify_items": null,
            "left": null,
            "margin": null,
            "max_height": null,
            "max_width": null,
            "min_height": null,
            "min_width": null,
            "object_fit": null,
            "object_position": null,
            "order": null,
            "overflow": null,
            "overflow_x": null,
            "overflow_y": null,
            "padding": null,
            "right": null,
            "top": null,
            "visibility": null,
            "width": null
          }
        },
        "0fb15158faeb4b2091024ce9cbf89326": {
          "model_module": "@jupyter-widgets/base",
          "model_name": "LayoutModel",
          "model_module_version": "1.2.0",
          "state": {
            "_model_module": "@jupyter-widgets/base",
            "_model_module_version": "1.2.0",
            "_model_name": "LayoutModel",
            "_view_count": null,
            "_view_module": "@jupyter-widgets/base",
            "_view_module_version": "1.2.0",
            "_view_name": "LayoutView",
            "align_content": null,
            "align_items": null,
            "align_self": null,
            "border": null,
            "bottom": null,
            "display": null,
            "flex": null,
            "flex_flow": null,
            "grid_area": null,
            "grid_auto_columns": null,
            "grid_auto_flow": null,
            "grid_auto_rows": null,
            "grid_column": null,
            "grid_gap": null,
            "grid_row": null,
            "grid_template_areas": null,
            "grid_template_columns": null,
            "grid_template_rows": null,
            "height": null,
            "justify_content": null,
            "justify_items": null,
            "left": null,
            "margin": null,
            "max_height": null,
            "max_width": null,
            "min_height": null,
            "min_width": null,
            "object_fit": null,
            "object_position": null,
            "order": null,
            "overflow": null,
            "overflow_x": null,
            "overflow_y": null,
            "padding": null,
            "right": null,
            "top": null,
            "visibility": null,
            "width": null
          }
        },
        "ef63a18fff194e68b5564970b4de6bc1": {
          "model_module": "@jupyter-widgets/controls",
          "model_name": "DescriptionStyleModel",
          "model_module_version": "1.5.0",
          "state": {
            "_model_module": "@jupyter-widgets/controls",
            "_model_module_version": "1.5.0",
            "_model_name": "DescriptionStyleModel",
            "_view_count": null,
            "_view_module": "@jupyter-widgets/base",
            "_view_module_version": "1.2.0",
            "_view_name": "StyleView",
            "description_width": ""
          }
        },
        "1d75313b202748c881e53104f1862d57": {
          "model_module": "@jupyter-widgets/base",
          "model_name": "LayoutModel",
          "model_module_version": "1.2.0",
          "state": {
            "_model_module": "@jupyter-widgets/base",
            "_model_module_version": "1.2.0",
            "_model_name": "LayoutModel",
            "_view_count": null,
            "_view_module": "@jupyter-widgets/base",
            "_view_module_version": "1.2.0",
            "_view_name": "LayoutView",
            "align_content": null,
            "align_items": null,
            "align_self": null,
            "border": null,
            "bottom": null,
            "display": null,
            "flex": null,
            "flex_flow": null,
            "grid_area": null,
            "grid_auto_columns": null,
            "grid_auto_flow": null,
            "grid_auto_rows": null,
            "grid_column": null,
            "grid_gap": null,
            "grid_row": null,
            "grid_template_areas": null,
            "grid_template_columns": null,
            "grid_template_rows": null,
            "height": null,
            "justify_content": null,
            "justify_items": null,
            "left": null,
            "margin": null,
            "max_height": null,
            "max_width": null,
            "min_height": null,
            "min_width": null,
            "object_fit": null,
            "object_position": null,
            "order": null,
            "overflow": null,
            "overflow_x": null,
            "overflow_y": null,
            "padding": null,
            "right": null,
            "top": null,
            "visibility": null,
            "width": "20px"
          }
        },
        "b6ec5e7f37194689b4e3947b8944c518": {
          "model_module": "@jupyter-widgets/controls",
          "model_name": "ProgressStyleModel",
          "model_module_version": "1.5.0",
          "state": {
            "_model_module": "@jupyter-widgets/controls",
            "_model_module_version": "1.5.0",
            "_model_name": "ProgressStyleModel",
            "_view_count": null,
            "_view_module": "@jupyter-widgets/base",
            "_view_module_version": "1.2.0",
            "_view_name": "StyleView",
            "bar_color": null,
            "description_width": ""
          }
        },
        "25845c82a99443548970ab53c3731543": {
          "model_module": "@jupyter-widgets/base",
          "model_name": "LayoutModel",
          "model_module_version": "1.2.0",
          "state": {
            "_model_module": "@jupyter-widgets/base",
            "_model_module_version": "1.2.0",
            "_model_name": "LayoutModel",
            "_view_count": null,
            "_view_module": "@jupyter-widgets/base",
            "_view_module_version": "1.2.0",
            "_view_name": "LayoutView",
            "align_content": null,
            "align_items": null,
            "align_self": null,
            "border": null,
            "bottom": null,
            "display": null,
            "flex": null,
            "flex_flow": null,
            "grid_area": null,
            "grid_auto_columns": null,
            "grid_auto_flow": null,
            "grid_auto_rows": null,
            "grid_column": null,
            "grid_gap": null,
            "grid_row": null,
            "grid_template_areas": null,
            "grid_template_columns": null,
            "grid_template_rows": null,
            "height": null,
            "justify_content": null,
            "justify_items": null,
            "left": null,
            "margin": null,
            "max_height": null,
            "max_width": null,
            "min_height": null,
            "min_width": null,
            "object_fit": null,
            "object_position": null,
            "order": null,
            "overflow": null,
            "overflow_x": null,
            "overflow_y": null,
            "padding": null,
            "right": null,
            "top": null,
            "visibility": null,
            "width": null
          }
        },
        "19891766dafe4d3ab162c5134e0f4eb4": {
          "model_module": "@jupyter-widgets/controls",
          "model_name": "DescriptionStyleModel",
          "model_module_version": "1.5.0",
          "state": {
            "_model_module": "@jupyter-widgets/controls",
            "_model_module_version": "1.5.0",
            "_model_name": "DescriptionStyleModel",
            "_view_count": null,
            "_view_module": "@jupyter-widgets/base",
            "_view_module_version": "1.2.0",
            "_view_name": "StyleView",
            "description_width": ""
          }
        },
        "082b315f6cba433ea2c2f5ad3c9eab3e": {
          "model_module": "@jupyter-widgets/controls",
          "model_name": "HBoxModel",
          "model_module_version": "1.5.0",
          "state": {
            "_dom_classes": [],
            "_model_module": "@jupyter-widgets/controls",
            "_model_module_version": "1.5.0",
            "_model_name": "HBoxModel",
            "_view_count": null,
            "_view_module": "@jupyter-widgets/controls",
            "_view_module_version": "1.5.0",
            "_view_name": "HBoxView",
            "box_style": "",
            "children": [
              "IPY_MODEL_629d41028bcd47af9df43fc1df4c63ac",
              "IPY_MODEL_05bfa66422e14a8b925a09d1fbf85b04",
              "IPY_MODEL_8027f6d293504d199992fd08bc4b2914"
            ],
            "layout": "IPY_MODEL_123df8a79961440a9968c7137f858c21"
          }
        },
        "629d41028bcd47af9df43fc1df4c63ac": {
          "model_module": "@jupyter-widgets/controls",
          "model_name": "HTMLModel",
          "model_module_version": "1.5.0",
          "state": {
            "_dom_classes": [],
            "_model_module": "@jupyter-widgets/controls",
            "_model_module_version": "1.5.0",
            "_model_name": "HTMLModel",
            "_view_count": null,
            "_view_module": "@jupyter-widgets/controls",
            "_view_module_version": "1.5.0",
            "_view_name": "HTMLView",
            "description": "",
            "description_tooltip": null,
            "layout": "IPY_MODEL_42413be0405a4767b3c190314c34b1e8",
            "placeholder": "​",
            "style": "IPY_MODEL_9aa5e3e4e70d498f9683efe383afceb8",
            "value": "Dl Size...: 100%"
          }
        },
        "05bfa66422e14a8b925a09d1fbf85b04": {
          "model_module": "@jupyter-widgets/controls",
          "model_name": "FloatProgressModel",
          "model_module_version": "1.5.0",
          "state": {
            "_dom_classes": [],
            "_model_module": "@jupyter-widgets/controls",
            "_model_module_version": "1.5.0",
            "_model_name": "FloatProgressModel",
            "_view_count": null,
            "_view_module": "@jupyter-widgets/controls",
            "_view_module_version": "1.5.0",
            "_view_name": "ProgressView",
            "bar_style": "success",
            "description": "",
            "description_tooltip": null,
            "layout": "IPY_MODEL_5b9d9eef0c0347d798684a48066e44dc",
            "max": 1,
            "min": 0,
            "orientation": "horizontal",
            "style": "IPY_MODEL_b1d499eae5334896bad99c5ddaed636c",
            "value": 1
          }
        },
        "8027f6d293504d199992fd08bc4b2914": {
          "model_module": "@jupyter-widgets/controls",
          "model_name": "HTMLModel",
          "model_module_version": "1.5.0",
          "state": {
            "_dom_classes": [],
            "_model_module": "@jupyter-widgets/controls",
            "_model_module_version": "1.5.0",
            "_model_name": "HTMLModel",
            "_view_count": null,
            "_view_module": "@jupyter-widgets/controls",
            "_view_module_version": "1.5.0",
            "_view_name": "HTMLView",
            "description": "",
            "description_tooltip": null,
            "layout": "IPY_MODEL_a10ff22275e44821926354535e2fb2e0",
            "placeholder": "​",
            "style": "IPY_MODEL_9185ac2dd53d4fc3a366ddacb3721f0a",
            "value": " 124/124 [00:12&lt;00:00, 14.97 MiB/s]"
          }
        },
        "123df8a79961440a9968c7137f858c21": {
          "model_module": "@jupyter-widgets/base",
          "model_name": "LayoutModel",
          "model_module_version": "1.2.0",
          "state": {
            "_model_module": "@jupyter-widgets/base",
            "_model_module_version": "1.2.0",
            "_model_name": "LayoutModel",
            "_view_count": null,
            "_view_module": "@jupyter-widgets/base",
            "_view_module_version": "1.2.0",
            "_view_name": "LayoutView",
            "align_content": null,
            "align_items": null,
            "align_self": null,
            "border": null,
            "bottom": null,
            "display": null,
            "flex": null,
            "flex_flow": null,
            "grid_area": null,
            "grid_auto_columns": null,
            "grid_auto_flow": null,
            "grid_auto_rows": null,
            "grid_column": null,
            "grid_gap": null,
            "grid_row": null,
            "grid_template_areas": null,
            "grid_template_columns": null,
            "grid_template_rows": null,
            "height": null,
            "justify_content": null,
            "justify_items": null,
            "left": null,
            "margin": null,
            "max_height": null,
            "max_width": null,
            "min_height": null,
            "min_width": null,
            "object_fit": null,
            "object_position": null,
            "order": null,
            "overflow": null,
            "overflow_x": null,
            "overflow_y": null,
            "padding": null,
            "right": null,
            "top": null,
            "visibility": null,
            "width": null
          }
        },
        "42413be0405a4767b3c190314c34b1e8": {
          "model_module": "@jupyter-widgets/base",
          "model_name": "LayoutModel",
          "model_module_version": "1.2.0",
          "state": {
            "_model_module": "@jupyter-widgets/base",
            "_model_module_version": "1.2.0",
            "_model_name": "LayoutModel",
            "_view_count": null,
            "_view_module": "@jupyter-widgets/base",
            "_view_module_version": "1.2.0",
            "_view_name": "LayoutView",
            "align_content": null,
            "align_items": null,
            "align_self": null,
            "border": null,
            "bottom": null,
            "display": null,
            "flex": null,
            "flex_flow": null,
            "grid_area": null,
            "grid_auto_columns": null,
            "grid_auto_flow": null,
            "grid_auto_rows": null,
            "grid_column": null,
            "grid_gap": null,
            "grid_row": null,
            "grid_template_areas": null,
            "grid_template_columns": null,
            "grid_template_rows": null,
            "height": null,
            "justify_content": null,
            "justify_items": null,
            "left": null,
            "margin": null,
            "max_height": null,
            "max_width": null,
            "min_height": null,
            "min_width": null,
            "object_fit": null,
            "object_position": null,
            "order": null,
            "overflow": null,
            "overflow_x": null,
            "overflow_y": null,
            "padding": null,
            "right": null,
            "top": null,
            "visibility": null,
            "width": null
          }
        },
        "9aa5e3e4e70d498f9683efe383afceb8": {
          "model_module": "@jupyter-widgets/controls",
          "model_name": "DescriptionStyleModel",
          "model_module_version": "1.5.0",
          "state": {
            "_model_module": "@jupyter-widgets/controls",
            "_model_module_version": "1.5.0",
            "_model_name": "DescriptionStyleModel",
            "_view_count": null,
            "_view_module": "@jupyter-widgets/base",
            "_view_module_version": "1.2.0",
            "_view_name": "StyleView",
            "description_width": ""
          }
        },
        "5b9d9eef0c0347d798684a48066e44dc": {
          "model_module": "@jupyter-widgets/base",
          "model_name": "LayoutModel",
          "model_module_version": "1.2.0",
          "state": {
            "_model_module": "@jupyter-widgets/base",
            "_model_module_version": "1.2.0",
            "_model_name": "LayoutModel",
            "_view_count": null,
            "_view_module": "@jupyter-widgets/base",
            "_view_module_version": "1.2.0",
            "_view_name": "LayoutView",
            "align_content": null,
            "align_items": null,
            "align_self": null,
            "border": null,
            "bottom": null,
            "display": null,
            "flex": null,
            "flex_flow": null,
            "grid_area": null,
            "grid_auto_columns": null,
            "grid_auto_flow": null,
            "grid_auto_rows": null,
            "grid_column": null,
            "grid_gap": null,
            "grid_row": null,
            "grid_template_areas": null,
            "grid_template_columns": null,
            "grid_template_rows": null,
            "height": null,
            "justify_content": null,
            "justify_items": null,
            "left": null,
            "margin": null,
            "max_height": null,
            "max_width": null,
            "min_height": null,
            "min_width": null,
            "object_fit": null,
            "object_position": null,
            "order": null,
            "overflow": null,
            "overflow_x": null,
            "overflow_y": null,
            "padding": null,
            "right": null,
            "top": null,
            "visibility": null,
            "width": "20px"
          }
        },
        "b1d499eae5334896bad99c5ddaed636c": {
          "model_module": "@jupyter-widgets/controls",
          "model_name": "ProgressStyleModel",
          "model_module_version": "1.5.0",
          "state": {
            "_model_module": "@jupyter-widgets/controls",
            "_model_module_version": "1.5.0",
            "_model_name": "ProgressStyleModel",
            "_view_count": null,
            "_view_module": "@jupyter-widgets/base",
            "_view_module_version": "1.2.0",
            "_view_name": "StyleView",
            "bar_color": null,
            "description_width": ""
          }
        },
        "a10ff22275e44821926354535e2fb2e0": {
          "model_module": "@jupyter-widgets/base",
          "model_name": "LayoutModel",
          "model_module_version": "1.2.0",
          "state": {
            "_model_module": "@jupyter-widgets/base",
            "_model_module_version": "1.2.0",
            "_model_name": "LayoutModel",
            "_view_count": null,
            "_view_module": "@jupyter-widgets/base",
            "_view_module_version": "1.2.0",
            "_view_name": "LayoutView",
            "align_content": null,
            "align_items": null,
            "align_self": null,
            "border": null,
            "bottom": null,
            "display": null,
            "flex": null,
            "flex_flow": null,
            "grid_area": null,
            "grid_auto_columns": null,
            "grid_auto_flow": null,
            "grid_auto_rows": null,
            "grid_column": null,
            "grid_gap": null,
            "grid_row": null,
            "grid_template_areas": null,
            "grid_template_columns": null,
            "grid_template_rows": null,
            "height": null,
            "justify_content": null,
            "justify_items": null,
            "left": null,
            "margin": null,
            "max_height": null,
            "max_width": null,
            "min_height": null,
            "min_width": null,
            "object_fit": null,
            "object_position": null,
            "order": null,
            "overflow": null,
            "overflow_x": null,
            "overflow_y": null,
            "padding": null,
            "right": null,
            "top": null,
            "visibility": null,
            "width": null
          }
        },
        "9185ac2dd53d4fc3a366ddacb3721f0a": {
          "model_module": "@jupyter-widgets/controls",
          "model_name": "DescriptionStyleModel",
          "model_module_version": "1.5.0",
          "state": {
            "_model_module": "@jupyter-widgets/controls",
            "_model_module_version": "1.5.0",
            "_model_name": "DescriptionStyleModel",
            "_view_count": null,
            "_view_module": "@jupyter-widgets/base",
            "_view_module_version": "1.2.0",
            "_view_name": "StyleView",
            "description_width": ""
          }
        },
        "02d481c90a6f4d25b47b97ac7d0ce7bc": {
          "model_module": "@jupyter-widgets/controls",
          "model_name": "HBoxModel",
          "model_module_version": "1.5.0",
          "state": {
            "_dom_classes": [],
            "_model_module": "@jupyter-widgets/controls",
            "_model_module_version": "1.5.0",
            "_model_name": "HBoxModel",
            "_view_count": null,
            "_view_module": "@jupyter-widgets/controls",
            "_view_module_version": "1.5.0",
            "_view_name": "HBoxView",
            "box_style": "",
            "children": [
              "IPY_MODEL_f84d6e6f4a9d4105af717d2fd24c9016",
              "IPY_MODEL_dd13d3c5ceae4fffba84a208823e7ade",
              "IPY_MODEL_a1d7f8f25bf54a1a93d5d32c4b3e2a20"
            ],
            "layout": "IPY_MODEL_11769bb4f74a4ad08c76f0d6cf6760f2"
          }
        },
        "f84d6e6f4a9d4105af717d2fd24c9016": {
          "model_module": "@jupyter-widgets/controls",
          "model_name": "HTMLModel",
          "model_module_version": "1.5.0",
          "state": {
            "_dom_classes": [],
            "_model_module": "@jupyter-widgets/controls",
            "_model_module_version": "1.5.0",
            "_model_name": "HTMLModel",
            "_view_count": null,
            "_view_module": "@jupyter-widgets/controls",
            "_view_module_version": "1.5.0",
            "_view_name": "HTMLView",
            "description": "",
            "description_tooltip": null,
            "layout": "IPY_MODEL_1fa59472328b4bf2ad1d56230638cadb",
            "placeholder": "​",
            "style": "IPY_MODEL_5faf9f8b43ff434faa50fff36bad59ef",
            "value": "Extraction completed...: 100%"
          }
        },
        "dd13d3c5ceae4fffba84a208823e7ade": {
          "model_module": "@jupyter-widgets/controls",
          "model_name": "FloatProgressModel",
          "model_module_version": "1.5.0",
          "state": {
            "_dom_classes": [],
            "_model_module": "@jupyter-widgets/controls",
            "_model_module_version": "1.5.0",
            "_model_name": "FloatProgressModel",
            "_view_count": null,
            "_view_module": "@jupyter-widgets/controls",
            "_view_module_version": "1.5.0",
            "_view_name": "ProgressView",
            "bar_style": "success",
            "description": "",
            "description_tooltip": null,
            "layout": "IPY_MODEL_9918bec9c74348afbd49b5984e2acc2d",
            "max": 1,
            "min": 0,
            "orientation": "horizontal",
            "style": "IPY_MODEL_d9b2ae18a13b47b6bd58055c7559f3f8",
            "value": 1
          }
        },
        "a1d7f8f25bf54a1a93d5d32c4b3e2a20": {
          "model_module": "@jupyter-widgets/controls",
          "model_name": "HTMLModel",
          "model_module_version": "1.5.0",
          "state": {
            "_dom_classes": [],
            "_model_module": "@jupyter-widgets/controls",
            "_model_module_version": "1.5.0",
            "_model_name": "HTMLModel",
            "_view_count": null,
            "_view_module": "@jupyter-widgets/controls",
            "_view_module_version": "1.5.0",
            "_view_name": "HTMLView",
            "description": "",
            "description_tooltip": null,
            "layout": "IPY_MODEL_8cdd8bac7c7a4d8bad41e702dd67d5f3",
            "placeholder": "​",
            "style": "IPY_MODEL_d9a452553ab74f6cafa9c8911ae5fb36",
            "value": " 112/112 [00:12&lt;00:00, 12.33s/ file]"
          }
        },
        "11769bb4f74a4ad08c76f0d6cf6760f2": {
          "model_module": "@jupyter-widgets/base",
          "model_name": "LayoutModel",
          "model_module_version": "1.2.0",
          "state": {
            "_model_module": "@jupyter-widgets/base",
            "_model_module_version": "1.2.0",
            "_model_name": "LayoutModel",
            "_view_count": null,
            "_view_module": "@jupyter-widgets/base",
            "_view_module_version": "1.2.0",
            "_view_name": "LayoutView",
            "align_content": null,
            "align_items": null,
            "align_self": null,
            "border": null,
            "bottom": null,
            "display": null,
            "flex": null,
            "flex_flow": null,
            "grid_area": null,
            "grid_auto_columns": null,
            "grid_auto_flow": null,
            "grid_auto_rows": null,
            "grid_column": null,
            "grid_gap": null,
            "grid_row": null,
            "grid_template_areas": null,
            "grid_template_columns": null,
            "grid_template_rows": null,
            "height": null,
            "justify_content": null,
            "justify_items": null,
            "left": null,
            "margin": null,
            "max_height": null,
            "max_width": null,
            "min_height": null,
            "min_width": null,
            "object_fit": null,
            "object_position": null,
            "order": null,
            "overflow": null,
            "overflow_x": null,
            "overflow_y": null,
            "padding": null,
            "right": null,
            "top": null,
            "visibility": null,
            "width": null
          }
        },
        "1fa59472328b4bf2ad1d56230638cadb": {
          "model_module": "@jupyter-widgets/base",
          "model_name": "LayoutModel",
          "model_module_version": "1.2.0",
          "state": {
            "_model_module": "@jupyter-widgets/base",
            "_model_module_version": "1.2.0",
            "_model_name": "LayoutModel",
            "_view_count": null,
            "_view_module": "@jupyter-widgets/base",
            "_view_module_version": "1.2.0",
            "_view_name": "LayoutView",
            "align_content": null,
            "align_items": null,
            "align_self": null,
            "border": null,
            "bottom": null,
            "display": null,
            "flex": null,
            "flex_flow": null,
            "grid_area": null,
            "grid_auto_columns": null,
            "grid_auto_flow": null,
            "grid_auto_rows": null,
            "grid_column": null,
            "grid_gap": null,
            "grid_row": null,
            "grid_template_areas": null,
            "grid_template_columns": null,
            "grid_template_rows": null,
            "height": null,
            "justify_content": null,
            "justify_items": null,
            "left": null,
            "margin": null,
            "max_height": null,
            "max_width": null,
            "min_height": null,
            "min_width": null,
            "object_fit": null,
            "object_position": null,
            "order": null,
            "overflow": null,
            "overflow_x": null,
            "overflow_y": null,
            "padding": null,
            "right": null,
            "top": null,
            "visibility": null,
            "width": null
          }
        },
        "5faf9f8b43ff434faa50fff36bad59ef": {
          "model_module": "@jupyter-widgets/controls",
          "model_name": "DescriptionStyleModel",
          "model_module_version": "1.5.0",
          "state": {
            "_model_module": "@jupyter-widgets/controls",
            "_model_module_version": "1.5.0",
            "_model_name": "DescriptionStyleModel",
            "_view_count": null,
            "_view_module": "@jupyter-widgets/base",
            "_view_module_version": "1.2.0",
            "_view_name": "StyleView",
            "description_width": ""
          }
        },
        "9918bec9c74348afbd49b5984e2acc2d": {
          "model_module": "@jupyter-widgets/base",
          "model_name": "LayoutModel",
          "model_module_version": "1.2.0",
          "state": {
            "_model_module": "@jupyter-widgets/base",
            "_model_module_version": "1.2.0",
            "_model_name": "LayoutModel",
            "_view_count": null,
            "_view_module": "@jupyter-widgets/base",
            "_view_module_version": "1.2.0",
            "_view_name": "LayoutView",
            "align_content": null,
            "align_items": null,
            "align_self": null,
            "border": null,
            "bottom": null,
            "display": null,
            "flex": null,
            "flex_flow": null,
            "grid_area": null,
            "grid_auto_columns": null,
            "grid_auto_flow": null,
            "grid_auto_rows": null,
            "grid_column": null,
            "grid_gap": null,
            "grid_row": null,
            "grid_template_areas": null,
            "grid_template_columns": null,
            "grid_template_rows": null,
            "height": null,
            "justify_content": null,
            "justify_items": null,
            "left": null,
            "margin": null,
            "max_height": null,
            "max_width": null,
            "min_height": null,
            "min_width": null,
            "object_fit": null,
            "object_position": null,
            "order": null,
            "overflow": null,
            "overflow_x": null,
            "overflow_y": null,
            "padding": null,
            "right": null,
            "top": null,
            "visibility": null,
            "width": "20px"
          }
        },
        "d9b2ae18a13b47b6bd58055c7559f3f8": {
          "model_module": "@jupyter-widgets/controls",
          "model_name": "ProgressStyleModel",
          "model_module_version": "1.5.0",
          "state": {
            "_model_module": "@jupyter-widgets/controls",
            "_model_module_version": "1.5.0",
            "_model_name": "ProgressStyleModel",
            "_view_count": null,
            "_view_module": "@jupyter-widgets/base",
            "_view_module_version": "1.2.0",
            "_view_name": "StyleView",
            "bar_color": null,
            "description_width": ""
          }
        },
        "8cdd8bac7c7a4d8bad41e702dd67d5f3": {
          "model_module": "@jupyter-widgets/base",
          "model_name": "LayoutModel",
          "model_module_version": "1.2.0",
          "state": {
            "_model_module": "@jupyter-widgets/base",
            "_model_module_version": "1.2.0",
            "_model_name": "LayoutModel",
            "_view_count": null,
            "_view_module": "@jupyter-widgets/base",
            "_view_module_version": "1.2.0",
            "_view_name": "LayoutView",
            "align_content": null,
            "align_items": null,
            "align_self": null,
            "border": null,
            "bottom": null,
            "display": null,
            "flex": null,
            "flex_flow": null,
            "grid_area": null,
            "grid_auto_columns": null,
            "grid_auto_flow": null,
            "grid_auto_rows": null,
            "grid_column": null,
            "grid_gap": null,
            "grid_row": null,
            "grid_template_areas": null,
            "grid_template_columns": null,
            "grid_template_rows": null,
            "height": null,
            "justify_content": null,
            "justify_items": null,
            "left": null,
            "margin": null,
            "max_height": null,
            "max_width": null,
            "min_height": null,
            "min_width": null,
            "object_fit": null,
            "object_position": null,
            "order": null,
            "overflow": null,
            "overflow_x": null,
            "overflow_y": null,
            "padding": null,
            "right": null,
            "top": null,
            "visibility": null,
            "width": null
          }
        },
        "d9a452553ab74f6cafa9c8911ae5fb36": {
          "model_module": "@jupyter-widgets/controls",
          "model_name": "DescriptionStyleModel",
          "model_module_version": "1.5.0",
          "state": {
            "_model_module": "@jupyter-widgets/controls",
            "_model_module_version": "1.5.0",
            "_model_name": "DescriptionStyleModel",
            "_view_count": null,
            "_view_module": "@jupyter-widgets/base",
            "_view_module_version": "1.2.0",
            "_view_name": "StyleView",
            "description_width": ""
          }
        },
        "f1078060338d4cef8161dfc5062018c1": {
          "model_module": "@jupyter-widgets/controls",
          "model_name": "HBoxModel",
          "model_module_version": "1.5.0",
          "state": {
            "_dom_classes": [],
            "_model_module": "@jupyter-widgets/controls",
            "_model_module_version": "1.5.0",
            "_model_name": "HBoxModel",
            "_view_count": null,
            "_view_module": "@jupyter-widgets/controls",
            "_view_module_version": "1.5.0",
            "_view_name": "HBoxView",
            "box_style": "",
            "children": [
              "IPY_MODEL_d694394d22dd44598492a2f823a09347",
              "IPY_MODEL_23b820e64a9e43cc993e776b201733ae",
              "IPY_MODEL_18e862a1b97c4e6cb81dd92ea210365e"
            ],
            "layout": "IPY_MODEL_2fffe2c06ce5465586be8ac60ad975f6"
          }
        },
        "d694394d22dd44598492a2f823a09347": {
          "model_module": "@jupyter-widgets/controls",
          "model_name": "HTMLModel",
          "model_module_version": "1.5.0",
          "state": {
            "_dom_classes": [],
            "_model_module": "@jupyter-widgets/controls",
            "_model_module_version": "1.5.0",
            "_model_name": "HTMLModel",
            "_view_count": null,
            "_view_module": "@jupyter-widgets/controls",
            "_view_module_version": "1.5.0",
            "_view_name": "HTMLView",
            "description": "",
            "description_tooltip": null,
            "layout": "IPY_MODEL_a0fbf884eb94499eb344bda9c05a5d86",
            "placeholder": "​",
            "style": "IPY_MODEL_1c579b11047b4f30a669543ed2f447da",
            "value": "Generating splits...: 100%"
          }
        },
        "23b820e64a9e43cc993e776b201733ae": {
          "model_module": "@jupyter-widgets/controls",
          "model_name": "FloatProgressModel",
          "model_module_version": "1.5.0",
          "state": {
            "_dom_classes": [],
            "_model_module": "@jupyter-widgets/controls",
            "_model_module_version": "1.5.0",
            "_model_name": "FloatProgressModel",
            "_view_count": null,
            "_view_module": "@jupyter-widgets/controls",
            "_view_module_version": "1.5.0",
            "_view_name": "ProgressView",
            "bar_style": "",
            "description": "",
            "description_tooltip": null,
            "layout": "IPY_MODEL_89aaa4613787449c911277c2db7d9053",
            "max": 3,
            "min": 0,
            "orientation": "horizontal",
            "style": "IPY_MODEL_52a70ae9d3dc4145a49788fe1e9382f0",
            "value": 3
          }
        },
        "18e862a1b97c4e6cb81dd92ea210365e": {
          "model_module": "@jupyter-widgets/controls",
          "model_name": "HTMLModel",
          "model_module_version": "1.5.0",
          "state": {
            "_dom_classes": [],
            "_model_module": "@jupyter-widgets/controls",
            "_model_module_version": "1.5.0",
            "_model_name": "HTMLModel",
            "_view_count": null,
            "_view_module": "@jupyter-widgets/controls",
            "_view_module_version": "1.5.0",
            "_view_name": "HTMLView",
            "description": "",
            "description_tooltip": null,
            "layout": "IPY_MODEL_11eb00ab36c141879f156b6dea99b899",
            "placeholder": "​",
            "style": "IPY_MODEL_a2e9140a38f64e3987cd2941dbf414ad",
            "value": " 3/3 [00:06&lt;00:00,  1.65s/ splits]"
          }
        },
        "2fffe2c06ce5465586be8ac60ad975f6": {
          "model_module": "@jupyter-widgets/base",
          "model_name": "LayoutModel",
          "model_module_version": "1.2.0",
          "state": {
            "_model_module": "@jupyter-widgets/base",
            "_model_module_version": "1.2.0",
            "_model_name": "LayoutModel",
            "_view_count": null,
            "_view_module": "@jupyter-widgets/base",
            "_view_module_version": "1.2.0",
            "_view_name": "LayoutView",
            "align_content": null,
            "align_items": null,
            "align_self": null,
            "border": null,
            "bottom": null,
            "display": null,
            "flex": null,
            "flex_flow": null,
            "grid_area": null,
            "grid_auto_columns": null,
            "grid_auto_flow": null,
            "grid_auto_rows": null,
            "grid_column": null,
            "grid_gap": null,
            "grid_row": null,
            "grid_template_areas": null,
            "grid_template_columns": null,
            "grid_template_rows": null,
            "height": null,
            "justify_content": null,
            "justify_items": null,
            "left": null,
            "margin": null,
            "max_height": null,
            "max_width": null,
            "min_height": null,
            "min_width": null,
            "object_fit": null,
            "object_position": null,
            "order": null,
            "overflow": null,
            "overflow_x": null,
            "overflow_y": null,
            "padding": null,
            "right": null,
            "top": null,
            "visibility": "hidden",
            "width": null
          }
        },
        "a0fbf884eb94499eb344bda9c05a5d86": {
          "model_module": "@jupyter-widgets/base",
          "model_name": "LayoutModel",
          "model_module_version": "1.2.0",
          "state": {
            "_model_module": "@jupyter-widgets/base",
            "_model_module_version": "1.2.0",
            "_model_name": "LayoutModel",
            "_view_count": null,
            "_view_module": "@jupyter-widgets/base",
            "_view_module_version": "1.2.0",
            "_view_name": "LayoutView",
            "align_content": null,
            "align_items": null,
            "align_self": null,
            "border": null,
            "bottom": null,
            "display": null,
            "flex": null,
            "flex_flow": null,
            "grid_area": null,
            "grid_auto_columns": null,
            "grid_auto_flow": null,
            "grid_auto_rows": null,
            "grid_column": null,
            "grid_gap": null,
            "grid_row": null,
            "grid_template_areas": null,
            "grid_template_columns": null,
            "grid_template_rows": null,
            "height": null,
            "justify_content": null,
            "justify_items": null,
            "left": null,
            "margin": null,
            "max_height": null,
            "max_width": null,
            "min_height": null,
            "min_width": null,
            "object_fit": null,
            "object_position": null,
            "order": null,
            "overflow": null,
            "overflow_x": null,
            "overflow_y": null,
            "padding": null,
            "right": null,
            "top": null,
            "visibility": null,
            "width": null
          }
        },
        "1c579b11047b4f30a669543ed2f447da": {
          "model_module": "@jupyter-widgets/controls",
          "model_name": "DescriptionStyleModel",
          "model_module_version": "1.5.0",
          "state": {
            "_model_module": "@jupyter-widgets/controls",
            "_model_module_version": "1.5.0",
            "_model_name": "DescriptionStyleModel",
            "_view_count": null,
            "_view_module": "@jupyter-widgets/base",
            "_view_module_version": "1.2.0",
            "_view_name": "StyleView",
            "description_width": ""
          }
        },
        "89aaa4613787449c911277c2db7d9053": {
          "model_module": "@jupyter-widgets/base",
          "model_name": "LayoutModel",
          "model_module_version": "1.2.0",
          "state": {
            "_model_module": "@jupyter-widgets/base",
            "_model_module_version": "1.2.0",
            "_model_name": "LayoutModel",
            "_view_count": null,
            "_view_module": "@jupyter-widgets/base",
            "_view_module_version": "1.2.0",
            "_view_name": "LayoutView",
            "align_content": null,
            "align_items": null,
            "align_self": null,
            "border": null,
            "bottom": null,
            "display": null,
            "flex": null,
            "flex_flow": null,
            "grid_area": null,
            "grid_auto_columns": null,
            "grid_auto_flow": null,
            "grid_auto_rows": null,
            "grid_column": null,
            "grid_gap": null,
            "grid_row": null,
            "grid_template_areas": null,
            "grid_template_columns": null,
            "grid_template_rows": null,
            "height": null,
            "justify_content": null,
            "justify_items": null,
            "left": null,
            "margin": null,
            "max_height": null,
            "max_width": null,
            "min_height": null,
            "min_width": null,
            "object_fit": null,
            "object_position": null,
            "order": null,
            "overflow": null,
            "overflow_x": null,
            "overflow_y": null,
            "padding": null,
            "right": null,
            "top": null,
            "visibility": null,
            "width": null
          }
        },
        "52a70ae9d3dc4145a49788fe1e9382f0": {
          "model_module": "@jupyter-widgets/controls",
          "model_name": "ProgressStyleModel",
          "model_module_version": "1.5.0",
          "state": {
            "_model_module": "@jupyter-widgets/controls",
            "_model_module_version": "1.5.0",
            "_model_name": "ProgressStyleModel",
            "_view_count": null,
            "_view_module": "@jupyter-widgets/base",
            "_view_module_version": "1.2.0",
            "_view_name": "StyleView",
            "bar_color": null,
            "description_width": ""
          }
        },
        "11eb00ab36c141879f156b6dea99b899": {
          "model_module": "@jupyter-widgets/base",
          "model_name": "LayoutModel",
          "model_module_version": "1.2.0",
          "state": {
            "_model_module": "@jupyter-widgets/base",
            "_model_module_version": "1.2.0",
            "_model_name": "LayoutModel",
            "_view_count": null,
            "_view_module": "@jupyter-widgets/base",
            "_view_module_version": "1.2.0",
            "_view_name": "LayoutView",
            "align_content": null,
            "align_items": null,
            "align_self": null,
            "border": null,
            "bottom": null,
            "display": null,
            "flex": null,
            "flex_flow": null,
            "grid_area": null,
            "grid_auto_columns": null,
            "grid_auto_flow": null,
            "grid_auto_rows": null,
            "grid_column": null,
            "grid_gap": null,
            "grid_row": null,
            "grid_template_areas": null,
            "grid_template_columns": null,
            "grid_template_rows": null,
            "height": null,
            "justify_content": null,
            "justify_items": null,
            "left": null,
            "margin": null,
            "max_height": null,
            "max_width": null,
            "min_height": null,
            "min_width": null,
            "object_fit": null,
            "object_position": null,
            "order": null,
            "overflow": null,
            "overflow_x": null,
            "overflow_y": null,
            "padding": null,
            "right": null,
            "top": null,
            "visibility": null,
            "width": null
          }
        },
        "a2e9140a38f64e3987cd2941dbf414ad": {
          "model_module": "@jupyter-widgets/controls",
          "model_name": "DescriptionStyleModel",
          "model_module_version": "1.5.0",
          "state": {
            "_model_module": "@jupyter-widgets/controls",
            "_model_module_version": "1.5.0",
            "_model_name": "DescriptionStyleModel",
            "_view_count": null,
            "_view_module": "@jupyter-widgets/base",
            "_view_module_version": "1.2.0",
            "_view_name": "StyleView",
            "description_width": ""
          }
        },
        "b80e48afa286478ab831dee4bbd541c5": {
          "model_module": "@jupyter-widgets/controls",
          "model_name": "HBoxModel",
          "model_module_version": "1.5.0",
          "state": {
            "_dom_classes": [],
            "_model_module": "@jupyter-widgets/controls",
            "_model_module_version": "1.5.0",
            "_model_name": "HBoxModel",
            "_view_count": null,
            "_view_module": "@jupyter-widgets/controls",
            "_view_module_version": "1.5.0",
            "_view_name": "HBoxView",
            "box_style": "",
            "children": [
              "IPY_MODEL_c6354b5890054ba5807a8fbac448e205",
              "IPY_MODEL_848c87eea1ba471fb41c5177dca69e1e",
              "IPY_MODEL_3f41763778844b088746f656a8ca4c54"
            ],
            "layout": "IPY_MODEL_dd632f41cd0e4c79a8ce37ea9ddf1dff"
          }
        },
        "c6354b5890054ba5807a8fbac448e205": {
          "model_module": "@jupyter-widgets/controls",
          "model_name": "HTMLModel",
          "model_module_version": "1.5.0",
          "state": {
            "_dom_classes": [],
            "_model_module": "@jupyter-widgets/controls",
            "_model_module_version": "1.5.0",
            "_model_name": "HTMLModel",
            "_view_count": null,
            "_view_module": "@jupyter-widgets/controls",
            "_view_module_version": "1.5.0",
            "_view_name": "HTMLView",
            "description": "",
            "description_tooltip": null,
            "layout": "IPY_MODEL_0e7d9cf4178d4bdc9cfff9bc1df73cde",
            "placeholder": "​",
            "style": "IPY_MODEL_e101324847734550b869ea1ac08e9f88",
            "value": "Generating train examples...:  92%"
          }
        },
        "848c87eea1ba471fb41c5177dca69e1e": {
          "model_module": "@jupyter-widgets/controls",
          "model_name": "FloatProgressModel",
          "model_module_version": "1.5.0",
          "state": {
            "_dom_classes": [],
            "_model_module": "@jupyter-widgets/controls",
            "_model_module_version": "1.5.0",
            "_model_name": "FloatProgressModel",
            "_view_count": null,
            "_view_module": "@jupyter-widgets/controls",
            "_view_module_version": "1.5.0",
            "_view_name": "ProgressView",
            "bar_style": "",
            "description": "",
            "description_tooltip": null,
            "layout": "IPY_MODEL_927ec8a6a29a498089e7eae59d523706",
            "max": 51785,
            "min": 0,
            "orientation": "horizontal",
            "style": "IPY_MODEL_2d14fe4a8caf4deeb55c75aeae4f8832",
            "value": 51785
          }
        },
        "3f41763778844b088746f656a8ca4c54": {
          "model_module": "@jupyter-widgets/controls",
          "model_name": "HTMLModel",
          "model_module_version": "1.5.0",
          "state": {
            "_dom_classes": [],
            "_model_module": "@jupyter-widgets/controls",
            "_model_module_version": "1.5.0",
            "_model_name": "HTMLModel",
            "_view_count": null,
            "_view_module": "@jupyter-widgets/controls",
            "_view_module_version": "1.5.0",
            "_view_name": "HTMLView",
            "description": "",
            "description_tooltip": null,
            "layout": "IPY_MODEL_c704d3d2764147cb8de4f003098ead32",
            "placeholder": "​",
            "style": "IPY_MODEL_f3d3d73fdade43dd9fd64f2152821e08",
            "value": " 47728/51785 [00:05&lt;00:00, 8291.39 examples/s]"
          }
        },
        "dd632f41cd0e4c79a8ce37ea9ddf1dff": {
          "model_module": "@jupyter-widgets/base",
          "model_name": "LayoutModel",
          "model_module_version": "1.2.0",
          "state": {
            "_model_module": "@jupyter-widgets/base",
            "_model_module_version": "1.2.0",
            "_model_name": "LayoutModel",
            "_view_count": null,
            "_view_module": "@jupyter-widgets/base",
            "_view_module_version": "1.2.0",
            "_view_name": "LayoutView",
            "align_content": null,
            "align_items": null,
            "align_self": null,
            "border": null,
            "bottom": null,
            "display": null,
            "flex": null,
            "flex_flow": null,
            "grid_area": null,
            "grid_auto_columns": null,
            "grid_auto_flow": null,
            "grid_auto_rows": null,
            "grid_column": null,
            "grid_gap": null,
            "grid_row": null,
            "grid_template_areas": null,
            "grid_template_columns": null,
            "grid_template_rows": null,
            "height": null,
            "justify_content": null,
            "justify_items": null,
            "left": null,
            "margin": null,
            "max_height": null,
            "max_width": null,
            "min_height": null,
            "min_width": null,
            "object_fit": null,
            "object_position": null,
            "order": null,
            "overflow": null,
            "overflow_x": null,
            "overflow_y": null,
            "padding": null,
            "right": null,
            "top": null,
            "visibility": "hidden",
            "width": null
          }
        },
        "0e7d9cf4178d4bdc9cfff9bc1df73cde": {
          "model_module": "@jupyter-widgets/base",
          "model_name": "LayoutModel",
          "model_module_version": "1.2.0",
          "state": {
            "_model_module": "@jupyter-widgets/base",
            "_model_module_version": "1.2.0",
            "_model_name": "LayoutModel",
            "_view_count": null,
            "_view_module": "@jupyter-widgets/base",
            "_view_module_version": "1.2.0",
            "_view_name": "LayoutView",
            "align_content": null,
            "align_items": null,
            "align_self": null,
            "border": null,
            "bottom": null,
            "display": null,
            "flex": null,
            "flex_flow": null,
            "grid_area": null,
            "grid_auto_columns": null,
            "grid_auto_flow": null,
            "grid_auto_rows": null,
            "grid_column": null,
            "grid_gap": null,
            "grid_row": null,
            "grid_template_areas": null,
            "grid_template_columns": null,
            "grid_template_rows": null,
            "height": null,
            "justify_content": null,
            "justify_items": null,
            "left": null,
            "margin": null,
            "max_height": null,
            "max_width": null,
            "min_height": null,
            "min_width": null,
            "object_fit": null,
            "object_position": null,
            "order": null,
            "overflow": null,
            "overflow_x": null,
            "overflow_y": null,
            "padding": null,
            "right": null,
            "top": null,
            "visibility": null,
            "width": null
          }
        },
        "e101324847734550b869ea1ac08e9f88": {
          "model_module": "@jupyter-widgets/controls",
          "model_name": "DescriptionStyleModel",
          "model_module_version": "1.5.0",
          "state": {
            "_model_module": "@jupyter-widgets/controls",
            "_model_module_version": "1.5.0",
            "_model_name": "DescriptionStyleModel",
            "_view_count": null,
            "_view_module": "@jupyter-widgets/base",
            "_view_module_version": "1.2.0",
            "_view_name": "StyleView",
            "description_width": ""
          }
        },
        "927ec8a6a29a498089e7eae59d523706": {
          "model_module": "@jupyter-widgets/base",
          "model_name": "LayoutModel",
          "model_module_version": "1.2.0",
          "state": {
            "_model_module": "@jupyter-widgets/base",
            "_model_module_version": "1.2.0",
            "_model_name": "LayoutModel",
            "_view_count": null,
            "_view_module": "@jupyter-widgets/base",
            "_view_module_version": "1.2.0",
            "_view_name": "LayoutView",
            "align_content": null,
            "align_items": null,
            "align_self": null,
            "border": null,
            "bottom": null,
            "display": null,
            "flex": null,
            "flex_flow": null,
            "grid_area": null,
            "grid_auto_columns": null,
            "grid_auto_flow": null,
            "grid_auto_rows": null,
            "grid_column": null,
            "grid_gap": null,
            "grid_row": null,
            "grid_template_areas": null,
            "grid_template_columns": null,
            "grid_template_rows": null,
            "height": null,
            "justify_content": null,
            "justify_items": null,
            "left": null,
            "margin": null,
            "max_height": null,
            "max_width": null,
            "min_height": null,
            "min_width": null,
            "object_fit": null,
            "object_position": null,
            "order": null,
            "overflow": null,
            "overflow_x": null,
            "overflow_y": null,
            "padding": null,
            "right": null,
            "top": null,
            "visibility": null,
            "width": null
          }
        },
        "2d14fe4a8caf4deeb55c75aeae4f8832": {
          "model_module": "@jupyter-widgets/controls",
          "model_name": "ProgressStyleModel",
          "model_module_version": "1.5.0",
          "state": {
            "_model_module": "@jupyter-widgets/controls",
            "_model_module_version": "1.5.0",
            "_model_name": "ProgressStyleModel",
            "_view_count": null,
            "_view_module": "@jupyter-widgets/base",
            "_view_module_version": "1.2.0",
            "_view_name": "StyleView",
            "bar_color": null,
            "description_width": ""
          }
        },
        "c704d3d2764147cb8de4f003098ead32": {
          "model_module": "@jupyter-widgets/base",
          "model_name": "LayoutModel",
          "model_module_version": "1.2.0",
          "state": {
            "_model_module": "@jupyter-widgets/base",
            "_model_module_version": "1.2.0",
            "_model_name": "LayoutModel",
            "_view_count": null,
            "_view_module": "@jupyter-widgets/base",
            "_view_module_version": "1.2.0",
            "_view_name": "LayoutView",
            "align_content": null,
            "align_items": null,
            "align_self": null,
            "border": null,
            "bottom": null,
            "display": null,
            "flex": null,
            "flex_flow": null,
            "grid_area": null,
            "grid_auto_columns": null,
            "grid_auto_flow": null,
            "grid_auto_rows": null,
            "grid_column": null,
            "grid_gap": null,
            "grid_row": null,
            "grid_template_areas": null,
            "grid_template_columns": null,
            "grid_template_rows": null,
            "height": null,
            "justify_content": null,
            "justify_items": null,
            "left": null,
            "margin": null,
            "max_height": null,
            "max_width": null,
            "min_height": null,
            "min_width": null,
            "object_fit": null,
            "object_position": null,
            "order": null,
            "overflow": null,
            "overflow_x": null,
            "overflow_y": null,
            "padding": null,
            "right": null,
            "top": null,
            "visibility": null,
            "width": null
          }
        },
        "f3d3d73fdade43dd9fd64f2152821e08": {
          "model_module": "@jupyter-widgets/controls",
          "model_name": "DescriptionStyleModel",
          "model_module_version": "1.5.0",
          "state": {
            "_model_module": "@jupyter-widgets/controls",
            "_model_module_version": "1.5.0",
            "_model_name": "DescriptionStyleModel",
            "_view_count": null,
            "_view_module": "@jupyter-widgets/base",
            "_view_module_version": "1.2.0",
            "_view_name": "StyleView",
            "description_width": ""
          }
        },
        "b277f06d0637449bbb40192c58f241c0": {
          "model_module": "@jupyter-widgets/controls",
          "model_name": "HBoxModel",
          "model_module_version": "1.5.0",
          "state": {
            "_dom_classes": [],
            "_model_module": "@jupyter-widgets/controls",
            "_model_module_version": "1.5.0",
            "_model_name": "HBoxModel",
            "_view_count": null,
            "_view_module": "@jupyter-widgets/controls",
            "_view_module_version": "1.5.0",
            "_view_name": "HBoxView",
            "box_style": "",
            "children": [
              "IPY_MODEL_65904a12dee94e6284b16d7c55d708f6",
              "IPY_MODEL_0158ed7dc3b24d10b0910a37f132c90d",
              "IPY_MODEL_818c582fb70e48f881873ad7d96c6496"
            ],
            "layout": "IPY_MODEL_c0bf612669eb4a80bc1831f9069ef5fb"
          }
        },
        "65904a12dee94e6284b16d7c55d708f6": {
          "model_module": "@jupyter-widgets/controls",
          "model_name": "HTMLModel",
          "model_module_version": "1.5.0",
          "state": {
            "_dom_classes": [],
            "_model_module": "@jupyter-widgets/controls",
            "_model_module_version": "1.5.0",
            "_model_name": "HTMLModel",
            "_view_count": null,
            "_view_module": "@jupyter-widgets/controls",
            "_view_module_version": "1.5.0",
            "_view_name": "HTMLView",
            "description": "",
            "description_tooltip": null,
            "layout": "IPY_MODEL_5629dd8bf5a540948c632b3c6ff2770b",
            "placeholder": "​",
            "style": "IPY_MODEL_4442357742874fa6a34409d6b8a795cd",
            "value": "Shuffling /root/tensorflow_datasets/ted_hrlr_translate/pt_to_en/incomplete.2GWICD_1.0.0/ted_hrlr_translate-train.tfrecord*...:   0%"
          }
        },
        "0158ed7dc3b24d10b0910a37f132c90d": {
          "model_module": "@jupyter-widgets/controls",
          "model_name": "FloatProgressModel",
          "model_module_version": "1.5.0",
          "state": {
            "_dom_classes": [],
            "_model_module": "@jupyter-widgets/controls",
            "_model_module_version": "1.5.0",
            "_model_name": "FloatProgressModel",
            "_view_count": null,
            "_view_module": "@jupyter-widgets/controls",
            "_view_module_version": "1.5.0",
            "_view_name": "ProgressView",
            "bar_style": "",
            "description": "",
            "description_tooltip": null,
            "layout": "IPY_MODEL_d534add631694cd6ae14397d655812d0",
            "max": 51785,
            "min": 0,
            "orientation": "horizontal",
            "style": "IPY_MODEL_c671af35520144ab8271b328686e3933",
            "value": 51785
          }
        },
        "818c582fb70e48f881873ad7d96c6496": {
          "model_module": "@jupyter-widgets/controls",
          "model_name": "HTMLModel",
          "model_module_version": "1.5.0",
          "state": {
            "_dom_classes": [],
            "_model_module": "@jupyter-widgets/controls",
            "_model_module_version": "1.5.0",
            "_model_name": "HTMLModel",
            "_view_count": null,
            "_view_module": "@jupyter-widgets/controls",
            "_view_module_version": "1.5.0",
            "_view_name": "HTMLView",
            "description": "",
            "description_tooltip": null,
            "layout": "IPY_MODEL_952f116c30894ee198f14b8f8c3e0b99",
            "placeholder": "​",
            "style": "IPY_MODEL_8f0eb9cfb8f44705b766e3da4c893fd2",
            "value": " 0/51785 [00:00&lt;?, ? examples/s]"
          }
        },
        "c0bf612669eb4a80bc1831f9069ef5fb": {
          "model_module": "@jupyter-widgets/base",
          "model_name": "LayoutModel",
          "model_module_version": "1.2.0",
          "state": {
            "_model_module": "@jupyter-widgets/base",
            "_model_module_version": "1.2.0",
            "_model_name": "LayoutModel",
            "_view_count": null,
            "_view_module": "@jupyter-widgets/base",
            "_view_module_version": "1.2.0",
            "_view_name": "LayoutView",
            "align_content": null,
            "align_items": null,
            "align_self": null,
            "border": null,
            "bottom": null,
            "display": null,
            "flex": null,
            "flex_flow": null,
            "grid_area": null,
            "grid_auto_columns": null,
            "grid_auto_flow": null,
            "grid_auto_rows": null,
            "grid_column": null,
            "grid_gap": null,
            "grid_row": null,
            "grid_template_areas": null,
            "grid_template_columns": null,
            "grid_template_rows": null,
            "height": null,
            "justify_content": null,
            "justify_items": null,
            "left": null,
            "margin": null,
            "max_height": null,
            "max_width": null,
            "min_height": null,
            "min_width": null,
            "object_fit": null,
            "object_position": null,
            "order": null,
            "overflow": null,
            "overflow_x": null,
            "overflow_y": null,
            "padding": null,
            "right": null,
            "top": null,
            "visibility": "hidden",
            "width": null
          }
        },
        "5629dd8bf5a540948c632b3c6ff2770b": {
          "model_module": "@jupyter-widgets/base",
          "model_name": "LayoutModel",
          "model_module_version": "1.2.0",
          "state": {
            "_model_module": "@jupyter-widgets/base",
            "_model_module_version": "1.2.0",
            "_model_name": "LayoutModel",
            "_view_count": null,
            "_view_module": "@jupyter-widgets/base",
            "_view_module_version": "1.2.0",
            "_view_name": "LayoutView",
            "align_content": null,
            "align_items": null,
            "align_self": null,
            "border": null,
            "bottom": null,
            "display": null,
            "flex": null,
            "flex_flow": null,
            "grid_area": null,
            "grid_auto_columns": null,
            "grid_auto_flow": null,
            "grid_auto_rows": null,
            "grid_column": null,
            "grid_gap": null,
            "grid_row": null,
            "grid_template_areas": null,
            "grid_template_columns": null,
            "grid_template_rows": null,
            "height": null,
            "justify_content": null,
            "justify_items": null,
            "left": null,
            "margin": null,
            "max_height": null,
            "max_width": null,
            "min_height": null,
            "min_width": null,
            "object_fit": null,
            "object_position": null,
            "order": null,
            "overflow": null,
            "overflow_x": null,
            "overflow_y": null,
            "padding": null,
            "right": null,
            "top": null,
            "visibility": null,
            "width": null
          }
        },
        "4442357742874fa6a34409d6b8a795cd": {
          "model_module": "@jupyter-widgets/controls",
          "model_name": "DescriptionStyleModel",
          "model_module_version": "1.5.0",
          "state": {
            "_model_module": "@jupyter-widgets/controls",
            "_model_module_version": "1.5.0",
            "_model_name": "DescriptionStyleModel",
            "_view_count": null,
            "_view_module": "@jupyter-widgets/base",
            "_view_module_version": "1.2.0",
            "_view_name": "StyleView",
            "description_width": ""
          }
        },
        "d534add631694cd6ae14397d655812d0": {
          "model_module": "@jupyter-widgets/base",
          "model_name": "LayoutModel",
          "model_module_version": "1.2.0",
          "state": {
            "_model_module": "@jupyter-widgets/base",
            "_model_module_version": "1.2.0",
            "_model_name": "LayoutModel",
            "_view_count": null,
            "_view_module": "@jupyter-widgets/base",
            "_view_module_version": "1.2.0",
            "_view_name": "LayoutView",
            "align_content": null,
            "align_items": null,
            "align_self": null,
            "border": null,
            "bottom": null,
            "display": null,
            "flex": null,
            "flex_flow": null,
            "grid_area": null,
            "grid_auto_columns": null,
            "grid_auto_flow": null,
            "grid_auto_rows": null,
            "grid_column": null,
            "grid_gap": null,
            "grid_row": null,
            "grid_template_areas": null,
            "grid_template_columns": null,
            "grid_template_rows": null,
            "height": null,
            "justify_content": null,
            "justify_items": null,
            "left": null,
            "margin": null,
            "max_height": null,
            "max_width": null,
            "min_height": null,
            "min_width": null,
            "object_fit": null,
            "object_position": null,
            "order": null,
            "overflow": null,
            "overflow_x": null,
            "overflow_y": null,
            "padding": null,
            "right": null,
            "top": null,
            "visibility": null,
            "width": null
          }
        },
        "c671af35520144ab8271b328686e3933": {
          "model_module": "@jupyter-widgets/controls",
          "model_name": "ProgressStyleModel",
          "model_module_version": "1.5.0",
          "state": {
            "_model_module": "@jupyter-widgets/controls",
            "_model_module_version": "1.5.0",
            "_model_name": "ProgressStyleModel",
            "_view_count": null,
            "_view_module": "@jupyter-widgets/base",
            "_view_module_version": "1.2.0",
            "_view_name": "StyleView",
            "bar_color": null,
            "description_width": ""
          }
        },
        "952f116c30894ee198f14b8f8c3e0b99": {
          "model_module": "@jupyter-widgets/base",
          "model_name": "LayoutModel",
          "model_module_version": "1.2.0",
          "state": {
            "_model_module": "@jupyter-widgets/base",
            "_model_module_version": "1.2.0",
            "_model_name": "LayoutModel",
            "_view_count": null,
            "_view_module": "@jupyter-widgets/base",
            "_view_module_version": "1.2.0",
            "_view_name": "LayoutView",
            "align_content": null,
            "align_items": null,
            "align_self": null,
            "border": null,
            "bottom": null,
            "display": null,
            "flex": null,
            "flex_flow": null,
            "grid_area": null,
            "grid_auto_columns": null,
            "grid_auto_flow": null,
            "grid_auto_rows": null,
            "grid_column": null,
            "grid_gap": null,
            "grid_row": null,
            "grid_template_areas": null,
            "grid_template_columns": null,
            "grid_template_rows": null,
            "height": null,
            "justify_content": null,
            "justify_items": null,
            "left": null,
            "margin": null,
            "max_height": null,
            "max_width": null,
            "min_height": null,
            "min_width": null,
            "object_fit": null,
            "object_position": null,
            "order": null,
            "overflow": null,
            "overflow_x": null,
            "overflow_y": null,
            "padding": null,
            "right": null,
            "top": null,
            "visibility": null,
            "width": null
          }
        },
        "8f0eb9cfb8f44705b766e3da4c893fd2": {
          "model_module": "@jupyter-widgets/controls",
          "model_name": "DescriptionStyleModel",
          "model_module_version": "1.5.0",
          "state": {
            "_model_module": "@jupyter-widgets/controls",
            "_model_module_version": "1.5.0",
            "_model_name": "DescriptionStyleModel",
            "_view_count": null,
            "_view_module": "@jupyter-widgets/base",
            "_view_module_version": "1.2.0",
            "_view_name": "StyleView",
            "description_width": ""
          }
        },
        "39c38595c2cf43098c08eb9c6815c55f": {
          "model_module": "@jupyter-widgets/controls",
          "model_name": "HBoxModel",
          "model_module_version": "1.5.0",
          "state": {
            "_dom_classes": [],
            "_model_module": "@jupyter-widgets/controls",
            "_model_module_version": "1.5.0",
            "_model_name": "HBoxModel",
            "_view_count": null,
            "_view_module": "@jupyter-widgets/controls",
            "_view_module_version": "1.5.0",
            "_view_name": "HBoxView",
            "box_style": "",
            "children": [
              "IPY_MODEL_0a273ca930ed4471a060e6b30422e64c",
              "IPY_MODEL_40f8a140f6e94c43835fba9913fe8a57",
              "IPY_MODEL_06927e88005a421bb1ce3e0f5b8e8272"
            ],
            "layout": "IPY_MODEL_7cf537cbc4e24478880f7dfdba2cefd2"
          }
        },
        "0a273ca930ed4471a060e6b30422e64c": {
          "model_module": "@jupyter-widgets/controls",
          "model_name": "HTMLModel",
          "model_module_version": "1.5.0",
          "state": {
            "_dom_classes": [],
            "_model_module": "@jupyter-widgets/controls",
            "_model_module_version": "1.5.0",
            "_model_name": "HTMLModel",
            "_view_count": null,
            "_view_module": "@jupyter-widgets/controls",
            "_view_module_version": "1.5.0",
            "_view_name": "HTMLView",
            "description": "",
            "description_tooltip": null,
            "layout": "IPY_MODEL_608348c1043e4c78bada0de16192bfcb",
            "placeholder": "​",
            "style": "IPY_MODEL_d45bbe587aa94a0a8c8d3a7d943f15e9",
            "value": "Generating validation examples...:   0%"
          }
        },
        "40f8a140f6e94c43835fba9913fe8a57": {
          "model_module": "@jupyter-widgets/controls",
          "model_name": "FloatProgressModel",
          "model_module_version": "1.5.0",
          "state": {
            "_dom_classes": [],
            "_model_module": "@jupyter-widgets/controls",
            "_model_module_version": "1.5.0",
            "_model_name": "FloatProgressModel",
            "_view_count": null,
            "_view_module": "@jupyter-widgets/controls",
            "_view_module_version": "1.5.0",
            "_view_name": "ProgressView",
            "bar_style": "",
            "description": "",
            "description_tooltip": null,
            "layout": "IPY_MODEL_c80033b7cb5a4eb993b0e015569fc061",
            "max": 1193,
            "min": 0,
            "orientation": "horizontal",
            "style": "IPY_MODEL_ee6e01407305464e8eea37805d383efb",
            "value": 1193
          }
        },
        "06927e88005a421bb1ce3e0f5b8e8272": {
          "model_module": "@jupyter-widgets/controls",
          "model_name": "HTMLModel",
          "model_module_version": "1.5.0",
          "state": {
            "_dom_classes": [],
            "_model_module": "@jupyter-widgets/controls",
            "_model_module_version": "1.5.0",
            "_model_name": "HTMLModel",
            "_view_count": null,
            "_view_module": "@jupyter-widgets/controls",
            "_view_module_version": "1.5.0",
            "_view_name": "HTMLView",
            "description": "",
            "description_tooltip": null,
            "layout": "IPY_MODEL_c4a06daedae34579afcf948394fe53ae",
            "placeholder": "​",
            "style": "IPY_MODEL_f65b5a757a2b4235afb602a05c023583",
            "value": " 0/1193 [00:00&lt;?, ? examples/s]"
          }
        },
        "7cf537cbc4e24478880f7dfdba2cefd2": {
          "model_module": "@jupyter-widgets/base",
          "model_name": "LayoutModel",
          "model_module_version": "1.2.0",
          "state": {
            "_model_module": "@jupyter-widgets/base",
            "_model_module_version": "1.2.0",
            "_model_name": "LayoutModel",
            "_view_count": null,
            "_view_module": "@jupyter-widgets/base",
            "_view_module_version": "1.2.0",
            "_view_name": "LayoutView",
            "align_content": null,
            "align_items": null,
            "align_self": null,
            "border": null,
            "bottom": null,
            "display": null,
            "flex": null,
            "flex_flow": null,
            "grid_area": null,
            "grid_auto_columns": null,
            "grid_auto_flow": null,
            "grid_auto_rows": null,
            "grid_column": null,
            "grid_gap": null,
            "grid_row": null,
            "grid_template_areas": null,
            "grid_template_columns": null,
            "grid_template_rows": null,
            "height": null,
            "justify_content": null,
            "justify_items": null,
            "left": null,
            "margin": null,
            "max_height": null,
            "max_width": null,
            "min_height": null,
            "min_width": null,
            "object_fit": null,
            "object_position": null,
            "order": null,
            "overflow": null,
            "overflow_x": null,
            "overflow_y": null,
            "padding": null,
            "right": null,
            "top": null,
            "visibility": "hidden",
            "width": null
          }
        },
        "608348c1043e4c78bada0de16192bfcb": {
          "model_module": "@jupyter-widgets/base",
          "model_name": "LayoutModel",
          "model_module_version": "1.2.0",
          "state": {
            "_model_module": "@jupyter-widgets/base",
            "_model_module_version": "1.2.0",
            "_model_name": "LayoutModel",
            "_view_count": null,
            "_view_module": "@jupyter-widgets/base",
            "_view_module_version": "1.2.0",
            "_view_name": "LayoutView",
            "align_content": null,
            "align_items": null,
            "align_self": null,
            "border": null,
            "bottom": null,
            "display": null,
            "flex": null,
            "flex_flow": null,
            "grid_area": null,
            "grid_auto_columns": null,
            "grid_auto_flow": null,
            "grid_auto_rows": null,
            "grid_column": null,
            "grid_gap": null,
            "grid_row": null,
            "grid_template_areas": null,
            "grid_template_columns": null,
            "grid_template_rows": null,
            "height": null,
            "justify_content": null,
            "justify_items": null,
            "left": null,
            "margin": null,
            "max_height": null,
            "max_width": null,
            "min_height": null,
            "min_width": null,
            "object_fit": null,
            "object_position": null,
            "order": null,
            "overflow": null,
            "overflow_x": null,
            "overflow_y": null,
            "padding": null,
            "right": null,
            "top": null,
            "visibility": null,
            "width": null
          }
        },
        "d45bbe587aa94a0a8c8d3a7d943f15e9": {
          "model_module": "@jupyter-widgets/controls",
          "model_name": "DescriptionStyleModel",
          "model_module_version": "1.5.0",
          "state": {
            "_model_module": "@jupyter-widgets/controls",
            "_model_module_version": "1.5.0",
            "_model_name": "DescriptionStyleModel",
            "_view_count": null,
            "_view_module": "@jupyter-widgets/base",
            "_view_module_version": "1.2.0",
            "_view_name": "StyleView",
            "description_width": ""
          }
        },
        "c80033b7cb5a4eb993b0e015569fc061": {
          "model_module": "@jupyter-widgets/base",
          "model_name": "LayoutModel",
          "model_module_version": "1.2.0",
          "state": {
            "_model_module": "@jupyter-widgets/base",
            "_model_module_version": "1.2.0",
            "_model_name": "LayoutModel",
            "_view_count": null,
            "_view_module": "@jupyter-widgets/base",
            "_view_module_version": "1.2.0",
            "_view_name": "LayoutView",
            "align_content": null,
            "align_items": null,
            "align_self": null,
            "border": null,
            "bottom": null,
            "display": null,
            "flex": null,
            "flex_flow": null,
            "grid_area": null,
            "grid_auto_columns": null,
            "grid_auto_flow": null,
            "grid_auto_rows": null,
            "grid_column": null,
            "grid_gap": null,
            "grid_row": null,
            "grid_template_areas": null,
            "grid_template_columns": null,
            "grid_template_rows": null,
            "height": null,
            "justify_content": null,
            "justify_items": null,
            "left": null,
            "margin": null,
            "max_height": null,
            "max_width": null,
            "min_height": null,
            "min_width": null,
            "object_fit": null,
            "object_position": null,
            "order": null,
            "overflow": null,
            "overflow_x": null,
            "overflow_y": null,
            "padding": null,
            "right": null,
            "top": null,
            "visibility": null,
            "width": null
          }
        },
        "ee6e01407305464e8eea37805d383efb": {
          "model_module": "@jupyter-widgets/controls",
          "model_name": "ProgressStyleModel",
          "model_module_version": "1.5.0",
          "state": {
            "_model_module": "@jupyter-widgets/controls",
            "_model_module_version": "1.5.0",
            "_model_name": "ProgressStyleModel",
            "_view_count": null,
            "_view_module": "@jupyter-widgets/base",
            "_view_module_version": "1.2.0",
            "_view_name": "StyleView",
            "bar_color": null,
            "description_width": ""
          }
        },
        "c4a06daedae34579afcf948394fe53ae": {
          "model_module": "@jupyter-widgets/base",
          "model_name": "LayoutModel",
          "model_module_version": "1.2.0",
          "state": {
            "_model_module": "@jupyter-widgets/base",
            "_model_module_version": "1.2.0",
            "_model_name": "LayoutModel",
            "_view_count": null,
            "_view_module": "@jupyter-widgets/base",
            "_view_module_version": "1.2.0",
            "_view_name": "LayoutView",
            "align_content": null,
            "align_items": null,
            "align_self": null,
            "border": null,
            "bottom": null,
            "display": null,
            "flex": null,
            "flex_flow": null,
            "grid_area": null,
            "grid_auto_columns": null,
            "grid_auto_flow": null,
            "grid_auto_rows": null,
            "grid_column": null,
            "grid_gap": null,
            "grid_row": null,
            "grid_template_areas": null,
            "grid_template_columns": null,
            "grid_template_rows": null,
            "height": null,
            "justify_content": null,
            "justify_items": null,
            "left": null,
            "margin": null,
            "max_height": null,
            "max_width": null,
            "min_height": null,
            "min_width": null,
            "object_fit": null,
            "object_position": null,
            "order": null,
            "overflow": null,
            "overflow_x": null,
            "overflow_y": null,
            "padding": null,
            "right": null,
            "top": null,
            "visibility": null,
            "width": null
          }
        },
        "f65b5a757a2b4235afb602a05c023583": {
          "model_module": "@jupyter-widgets/controls",
          "model_name": "DescriptionStyleModel",
          "model_module_version": "1.5.0",
          "state": {
            "_model_module": "@jupyter-widgets/controls",
            "_model_module_version": "1.5.0",
            "_model_name": "DescriptionStyleModel",
            "_view_count": null,
            "_view_module": "@jupyter-widgets/base",
            "_view_module_version": "1.2.0",
            "_view_name": "StyleView",
            "description_width": ""
          }
        },
        "b4c4741693084b578659907cc74e6cec": {
          "model_module": "@jupyter-widgets/controls",
          "model_name": "HBoxModel",
          "model_module_version": "1.5.0",
          "state": {
            "_dom_classes": [],
            "_model_module": "@jupyter-widgets/controls",
            "_model_module_version": "1.5.0",
            "_model_name": "HBoxModel",
            "_view_count": null,
            "_view_module": "@jupyter-widgets/controls",
            "_view_module_version": "1.5.0",
            "_view_name": "HBoxView",
            "box_style": "",
            "children": [
              "IPY_MODEL_f6017fb0ae82476086d0b1edc12b99f6",
              "IPY_MODEL_81fda75643ba43d792b915b0b393c1c6",
              "IPY_MODEL_6f30d140119b4a9499b9a5fba6d980de"
            ],
            "layout": "IPY_MODEL_594d8f0e7b894e2b834f36266a20c1dd"
          }
        },
        "f6017fb0ae82476086d0b1edc12b99f6": {
          "model_module": "@jupyter-widgets/controls",
          "model_name": "HTMLModel",
          "model_module_version": "1.5.0",
          "state": {
            "_dom_classes": [],
            "_model_module": "@jupyter-widgets/controls",
            "_model_module_version": "1.5.0",
            "_model_name": "HTMLModel",
            "_view_count": null,
            "_view_module": "@jupyter-widgets/controls",
            "_view_module_version": "1.5.0",
            "_view_name": "HTMLView",
            "description": "",
            "description_tooltip": null,
            "layout": "IPY_MODEL_5e232c0144204abeb9444dcc13c9d330",
            "placeholder": "​",
            "style": "IPY_MODEL_ffeb7463513646b1b7716c2f17b2d22e",
            "value": "Shuffling /root/tensorflow_datasets/ted_hrlr_translate/pt_to_en/incomplete.2GWICD_1.0.0/ted_hrlr_translate-validation.tfrecord*...:   0%"
          }
        },
        "81fda75643ba43d792b915b0b393c1c6": {
          "model_module": "@jupyter-widgets/controls",
          "model_name": "FloatProgressModel",
          "model_module_version": "1.5.0",
          "state": {
            "_dom_classes": [],
            "_model_module": "@jupyter-widgets/controls",
            "_model_module_version": "1.5.0",
            "_model_name": "FloatProgressModel",
            "_view_count": null,
            "_view_module": "@jupyter-widgets/controls",
            "_view_module_version": "1.5.0",
            "_view_name": "ProgressView",
            "bar_style": "",
            "description": "",
            "description_tooltip": null,
            "layout": "IPY_MODEL_5d0d8d0bf01242f7b10f9aaa49257ee8",
            "max": 1193,
            "min": 0,
            "orientation": "horizontal",
            "style": "IPY_MODEL_3d0f49ba6d7a4207928e78ed8b9da675",
            "value": 1193
          }
        },
        "6f30d140119b4a9499b9a5fba6d980de": {
          "model_module": "@jupyter-widgets/controls",
          "model_name": "HTMLModel",
          "model_module_version": "1.5.0",
          "state": {
            "_dom_classes": [],
            "_model_module": "@jupyter-widgets/controls",
            "_model_module_version": "1.5.0",
            "_model_name": "HTMLModel",
            "_view_count": null,
            "_view_module": "@jupyter-widgets/controls",
            "_view_module_version": "1.5.0",
            "_view_name": "HTMLView",
            "description": "",
            "description_tooltip": null,
            "layout": "IPY_MODEL_00bba5fe48ef47599cc8b4b8733a03ef",
            "placeholder": "​",
            "style": "IPY_MODEL_947d450eaa00483c938a03a5bdeaaaad",
            "value": " 0/1193 [00:00&lt;?, ? examples/s]"
          }
        },
        "594d8f0e7b894e2b834f36266a20c1dd": {
          "model_module": "@jupyter-widgets/base",
          "model_name": "LayoutModel",
          "model_module_version": "1.2.0",
          "state": {
            "_model_module": "@jupyter-widgets/base",
            "_model_module_version": "1.2.0",
            "_model_name": "LayoutModel",
            "_view_count": null,
            "_view_module": "@jupyter-widgets/base",
            "_view_module_version": "1.2.0",
            "_view_name": "LayoutView",
            "align_content": null,
            "align_items": null,
            "align_self": null,
            "border": null,
            "bottom": null,
            "display": null,
            "flex": null,
            "flex_flow": null,
            "grid_area": null,
            "grid_auto_columns": null,
            "grid_auto_flow": null,
            "grid_auto_rows": null,
            "grid_column": null,
            "grid_gap": null,
            "grid_row": null,
            "grid_template_areas": null,
            "grid_template_columns": null,
            "grid_template_rows": null,
            "height": null,
            "justify_content": null,
            "justify_items": null,
            "left": null,
            "margin": null,
            "max_height": null,
            "max_width": null,
            "min_height": null,
            "min_width": null,
            "object_fit": null,
            "object_position": null,
            "order": null,
            "overflow": null,
            "overflow_x": null,
            "overflow_y": null,
            "padding": null,
            "right": null,
            "top": null,
            "visibility": "hidden",
            "width": null
          }
        },
        "5e232c0144204abeb9444dcc13c9d330": {
          "model_module": "@jupyter-widgets/base",
          "model_name": "LayoutModel",
          "model_module_version": "1.2.0",
          "state": {
            "_model_module": "@jupyter-widgets/base",
            "_model_module_version": "1.2.0",
            "_model_name": "LayoutModel",
            "_view_count": null,
            "_view_module": "@jupyter-widgets/base",
            "_view_module_version": "1.2.0",
            "_view_name": "LayoutView",
            "align_content": null,
            "align_items": null,
            "align_self": null,
            "border": null,
            "bottom": null,
            "display": null,
            "flex": null,
            "flex_flow": null,
            "grid_area": null,
            "grid_auto_columns": null,
            "grid_auto_flow": null,
            "grid_auto_rows": null,
            "grid_column": null,
            "grid_gap": null,
            "grid_row": null,
            "grid_template_areas": null,
            "grid_template_columns": null,
            "grid_template_rows": null,
            "height": null,
            "justify_content": null,
            "justify_items": null,
            "left": null,
            "margin": null,
            "max_height": null,
            "max_width": null,
            "min_height": null,
            "min_width": null,
            "object_fit": null,
            "object_position": null,
            "order": null,
            "overflow": null,
            "overflow_x": null,
            "overflow_y": null,
            "padding": null,
            "right": null,
            "top": null,
            "visibility": null,
            "width": null
          }
        },
        "ffeb7463513646b1b7716c2f17b2d22e": {
          "model_module": "@jupyter-widgets/controls",
          "model_name": "DescriptionStyleModel",
          "model_module_version": "1.5.0",
          "state": {
            "_model_module": "@jupyter-widgets/controls",
            "_model_module_version": "1.5.0",
            "_model_name": "DescriptionStyleModel",
            "_view_count": null,
            "_view_module": "@jupyter-widgets/base",
            "_view_module_version": "1.2.0",
            "_view_name": "StyleView",
            "description_width": ""
          }
        },
        "5d0d8d0bf01242f7b10f9aaa49257ee8": {
          "model_module": "@jupyter-widgets/base",
          "model_name": "LayoutModel",
          "model_module_version": "1.2.0",
          "state": {
            "_model_module": "@jupyter-widgets/base",
            "_model_module_version": "1.2.0",
            "_model_name": "LayoutModel",
            "_view_count": null,
            "_view_module": "@jupyter-widgets/base",
            "_view_module_version": "1.2.0",
            "_view_name": "LayoutView",
            "align_content": null,
            "align_items": null,
            "align_self": null,
            "border": null,
            "bottom": null,
            "display": null,
            "flex": null,
            "flex_flow": null,
            "grid_area": null,
            "grid_auto_columns": null,
            "grid_auto_flow": null,
            "grid_auto_rows": null,
            "grid_column": null,
            "grid_gap": null,
            "grid_row": null,
            "grid_template_areas": null,
            "grid_template_columns": null,
            "grid_template_rows": null,
            "height": null,
            "justify_content": null,
            "justify_items": null,
            "left": null,
            "margin": null,
            "max_height": null,
            "max_width": null,
            "min_height": null,
            "min_width": null,
            "object_fit": null,
            "object_position": null,
            "order": null,
            "overflow": null,
            "overflow_x": null,
            "overflow_y": null,
            "padding": null,
            "right": null,
            "top": null,
            "visibility": null,
            "width": null
          }
        },
        "3d0f49ba6d7a4207928e78ed8b9da675": {
          "model_module": "@jupyter-widgets/controls",
          "model_name": "ProgressStyleModel",
          "model_module_version": "1.5.0",
          "state": {
            "_model_module": "@jupyter-widgets/controls",
            "_model_module_version": "1.5.0",
            "_model_name": "ProgressStyleModel",
            "_view_count": null,
            "_view_module": "@jupyter-widgets/base",
            "_view_module_version": "1.2.0",
            "_view_name": "StyleView",
            "bar_color": null,
            "description_width": ""
          }
        },
        "00bba5fe48ef47599cc8b4b8733a03ef": {
          "model_module": "@jupyter-widgets/base",
          "model_name": "LayoutModel",
          "model_module_version": "1.2.0",
          "state": {
            "_model_module": "@jupyter-widgets/base",
            "_model_module_version": "1.2.0",
            "_model_name": "LayoutModel",
            "_view_count": null,
            "_view_module": "@jupyter-widgets/base",
            "_view_module_version": "1.2.0",
            "_view_name": "LayoutView",
            "align_content": null,
            "align_items": null,
            "align_self": null,
            "border": null,
            "bottom": null,
            "display": null,
            "flex": null,
            "flex_flow": null,
            "grid_area": null,
            "grid_auto_columns": null,
            "grid_auto_flow": null,
            "grid_auto_rows": null,
            "grid_column": null,
            "grid_gap": null,
            "grid_row": null,
            "grid_template_areas": null,
            "grid_template_columns": null,
            "grid_template_rows": null,
            "height": null,
            "justify_content": null,
            "justify_items": null,
            "left": null,
            "margin": null,
            "max_height": null,
            "max_width": null,
            "min_height": null,
            "min_width": null,
            "object_fit": null,
            "object_position": null,
            "order": null,
            "overflow": null,
            "overflow_x": null,
            "overflow_y": null,
            "padding": null,
            "right": null,
            "top": null,
            "visibility": null,
            "width": null
          }
        },
        "947d450eaa00483c938a03a5bdeaaaad": {
          "model_module": "@jupyter-widgets/controls",
          "model_name": "DescriptionStyleModel",
          "model_module_version": "1.5.0",
          "state": {
            "_model_module": "@jupyter-widgets/controls",
            "_model_module_version": "1.5.0",
            "_model_name": "DescriptionStyleModel",
            "_view_count": null,
            "_view_module": "@jupyter-widgets/base",
            "_view_module_version": "1.2.0",
            "_view_name": "StyleView",
            "description_width": ""
          }
        },
        "a92e63c4464a4f3ea6058a39044f6c84": {
          "model_module": "@jupyter-widgets/controls",
          "model_name": "HBoxModel",
          "model_module_version": "1.5.0",
          "state": {
            "_dom_classes": [],
            "_model_module": "@jupyter-widgets/controls",
            "_model_module_version": "1.5.0",
            "_model_name": "HBoxModel",
            "_view_count": null,
            "_view_module": "@jupyter-widgets/controls",
            "_view_module_version": "1.5.0",
            "_view_name": "HBoxView",
            "box_style": "",
            "children": [
              "IPY_MODEL_e0df43aeafde4423ac6314350d3d9fb1",
              "IPY_MODEL_f3b2473663004f778b52421fa34fc0cf",
              "IPY_MODEL_fee2b53f13e549c4b264dc8662e2c25e"
            ],
            "layout": "IPY_MODEL_7e64b090146e4e998ac26a81cb100046"
          }
        },
        "e0df43aeafde4423ac6314350d3d9fb1": {
          "model_module": "@jupyter-widgets/controls",
          "model_name": "HTMLModel",
          "model_module_version": "1.5.0",
          "state": {
            "_dom_classes": [],
            "_model_module": "@jupyter-widgets/controls",
            "_model_module_version": "1.5.0",
            "_model_name": "HTMLModel",
            "_view_count": null,
            "_view_module": "@jupyter-widgets/controls",
            "_view_module_version": "1.5.0",
            "_view_name": "HTMLView",
            "description": "",
            "description_tooltip": null,
            "layout": "IPY_MODEL_7acff32e539a45a1b7f29b8429084615",
            "placeholder": "​",
            "style": "IPY_MODEL_23273a28736041e0970466f1324c6b04",
            "value": "Generating test examples...:   0%"
          }
        },
        "f3b2473663004f778b52421fa34fc0cf": {
          "model_module": "@jupyter-widgets/controls",
          "model_name": "FloatProgressModel",
          "model_module_version": "1.5.0",
          "state": {
            "_dom_classes": [],
            "_model_module": "@jupyter-widgets/controls",
            "_model_module_version": "1.5.0",
            "_model_name": "FloatProgressModel",
            "_view_count": null,
            "_view_module": "@jupyter-widgets/controls",
            "_view_module_version": "1.5.0",
            "_view_name": "ProgressView",
            "bar_style": "",
            "description": "",
            "description_tooltip": null,
            "layout": "IPY_MODEL_501dd917729d42acb5dbe8f314b1fe33",
            "max": 1803,
            "min": 0,
            "orientation": "horizontal",
            "style": "IPY_MODEL_75c83ec18baa409da44022565f9aa3a9",
            "value": 1803
          }
        },
        "fee2b53f13e549c4b264dc8662e2c25e": {
          "model_module": "@jupyter-widgets/controls",
          "model_name": "HTMLModel",
          "model_module_version": "1.5.0",
          "state": {
            "_dom_classes": [],
            "_model_module": "@jupyter-widgets/controls",
            "_model_module_version": "1.5.0",
            "_model_name": "HTMLModel",
            "_view_count": null,
            "_view_module": "@jupyter-widgets/controls",
            "_view_module_version": "1.5.0",
            "_view_name": "HTMLView",
            "description": "",
            "description_tooltip": null,
            "layout": "IPY_MODEL_4c6b9a28a156449e83032f4d38b764f8",
            "placeholder": "​",
            "style": "IPY_MODEL_3d53e63b2b9f47a3a9efdfe2a38ee74d",
            "value": " 0/1803 [00:00&lt;?, ? examples/s]"
          }
        },
        "7e64b090146e4e998ac26a81cb100046": {
          "model_module": "@jupyter-widgets/base",
          "model_name": "LayoutModel",
          "model_module_version": "1.2.0",
          "state": {
            "_model_module": "@jupyter-widgets/base",
            "_model_module_version": "1.2.0",
            "_model_name": "LayoutModel",
            "_view_count": null,
            "_view_module": "@jupyter-widgets/base",
            "_view_module_version": "1.2.0",
            "_view_name": "LayoutView",
            "align_content": null,
            "align_items": null,
            "align_self": null,
            "border": null,
            "bottom": null,
            "display": null,
            "flex": null,
            "flex_flow": null,
            "grid_area": null,
            "grid_auto_columns": null,
            "grid_auto_flow": null,
            "grid_auto_rows": null,
            "grid_column": null,
            "grid_gap": null,
            "grid_row": null,
            "grid_template_areas": null,
            "grid_template_columns": null,
            "grid_template_rows": null,
            "height": null,
            "justify_content": null,
            "justify_items": null,
            "left": null,
            "margin": null,
            "max_height": null,
            "max_width": null,
            "min_height": null,
            "min_width": null,
            "object_fit": null,
            "object_position": null,
            "order": null,
            "overflow": null,
            "overflow_x": null,
            "overflow_y": null,
            "padding": null,
            "right": null,
            "top": null,
            "visibility": "hidden",
            "width": null
          }
        },
        "7acff32e539a45a1b7f29b8429084615": {
          "model_module": "@jupyter-widgets/base",
          "model_name": "LayoutModel",
          "model_module_version": "1.2.0",
          "state": {
            "_model_module": "@jupyter-widgets/base",
            "_model_module_version": "1.2.0",
            "_model_name": "LayoutModel",
            "_view_count": null,
            "_view_module": "@jupyter-widgets/base",
            "_view_module_version": "1.2.0",
            "_view_name": "LayoutView",
            "align_content": null,
            "align_items": null,
            "align_self": null,
            "border": null,
            "bottom": null,
            "display": null,
            "flex": null,
            "flex_flow": null,
            "grid_area": null,
            "grid_auto_columns": null,
            "grid_auto_flow": null,
            "grid_auto_rows": null,
            "grid_column": null,
            "grid_gap": null,
            "grid_row": null,
            "grid_template_areas": null,
            "grid_template_columns": null,
            "grid_template_rows": null,
            "height": null,
            "justify_content": null,
            "justify_items": null,
            "left": null,
            "margin": null,
            "max_height": null,
            "max_width": null,
            "min_height": null,
            "min_width": null,
            "object_fit": null,
            "object_position": null,
            "order": null,
            "overflow": null,
            "overflow_x": null,
            "overflow_y": null,
            "padding": null,
            "right": null,
            "top": null,
            "visibility": null,
            "width": null
          }
        },
        "23273a28736041e0970466f1324c6b04": {
          "model_module": "@jupyter-widgets/controls",
          "model_name": "DescriptionStyleModel",
          "model_module_version": "1.5.0",
          "state": {
            "_model_module": "@jupyter-widgets/controls",
            "_model_module_version": "1.5.0",
            "_model_name": "DescriptionStyleModel",
            "_view_count": null,
            "_view_module": "@jupyter-widgets/base",
            "_view_module_version": "1.2.0",
            "_view_name": "StyleView",
            "description_width": ""
          }
        },
        "501dd917729d42acb5dbe8f314b1fe33": {
          "model_module": "@jupyter-widgets/base",
          "model_name": "LayoutModel",
          "model_module_version": "1.2.0",
          "state": {
            "_model_module": "@jupyter-widgets/base",
            "_model_module_version": "1.2.0",
            "_model_name": "LayoutModel",
            "_view_count": null,
            "_view_module": "@jupyter-widgets/base",
            "_view_module_version": "1.2.0",
            "_view_name": "LayoutView",
            "align_content": null,
            "align_items": null,
            "align_self": null,
            "border": null,
            "bottom": null,
            "display": null,
            "flex": null,
            "flex_flow": null,
            "grid_area": null,
            "grid_auto_columns": null,
            "grid_auto_flow": null,
            "grid_auto_rows": null,
            "grid_column": null,
            "grid_gap": null,
            "grid_row": null,
            "grid_template_areas": null,
            "grid_template_columns": null,
            "grid_template_rows": null,
            "height": null,
            "justify_content": null,
            "justify_items": null,
            "left": null,
            "margin": null,
            "max_height": null,
            "max_width": null,
            "min_height": null,
            "min_width": null,
            "object_fit": null,
            "object_position": null,
            "order": null,
            "overflow": null,
            "overflow_x": null,
            "overflow_y": null,
            "padding": null,
            "right": null,
            "top": null,
            "visibility": null,
            "width": null
          }
        },
        "75c83ec18baa409da44022565f9aa3a9": {
          "model_module": "@jupyter-widgets/controls",
          "model_name": "ProgressStyleModel",
          "model_module_version": "1.5.0",
          "state": {
            "_model_module": "@jupyter-widgets/controls",
            "_model_module_version": "1.5.0",
            "_model_name": "ProgressStyleModel",
            "_view_count": null,
            "_view_module": "@jupyter-widgets/base",
            "_view_module_version": "1.2.0",
            "_view_name": "StyleView",
            "bar_color": null,
            "description_width": ""
          }
        },
        "4c6b9a28a156449e83032f4d38b764f8": {
          "model_module": "@jupyter-widgets/base",
          "model_name": "LayoutModel",
          "model_module_version": "1.2.0",
          "state": {
            "_model_module": "@jupyter-widgets/base",
            "_model_module_version": "1.2.0",
            "_model_name": "LayoutModel",
            "_view_count": null,
            "_view_module": "@jupyter-widgets/base",
            "_view_module_version": "1.2.0",
            "_view_name": "LayoutView",
            "align_content": null,
            "align_items": null,
            "align_self": null,
            "border": null,
            "bottom": null,
            "display": null,
            "flex": null,
            "flex_flow": null,
            "grid_area": null,
            "grid_auto_columns": null,
            "grid_auto_flow": null,
            "grid_auto_rows": null,
            "grid_column": null,
            "grid_gap": null,
            "grid_row": null,
            "grid_template_areas": null,
            "grid_template_columns": null,
            "grid_template_rows": null,
            "height": null,
            "justify_content": null,
            "justify_items": null,
            "left": null,
            "margin": null,
            "max_height": null,
            "max_width": null,
            "min_height": null,
            "min_width": null,
            "object_fit": null,
            "object_position": null,
            "order": null,
            "overflow": null,
            "overflow_x": null,
            "overflow_y": null,
            "padding": null,
            "right": null,
            "top": null,
            "visibility": null,
            "width": null
          }
        },
        "3d53e63b2b9f47a3a9efdfe2a38ee74d": {
          "model_module": "@jupyter-widgets/controls",
          "model_name": "DescriptionStyleModel",
          "model_module_version": "1.5.0",
          "state": {
            "_model_module": "@jupyter-widgets/controls",
            "_model_module_version": "1.5.0",
            "_model_name": "DescriptionStyleModel",
            "_view_count": null,
            "_view_module": "@jupyter-widgets/base",
            "_view_module_version": "1.2.0",
            "_view_name": "StyleView",
            "description_width": ""
          }
        },
        "f509e0c9d16e4802a5a0469dee40a6f2": {
          "model_module": "@jupyter-widgets/controls",
          "model_name": "HBoxModel",
          "model_module_version": "1.5.0",
          "state": {
            "_dom_classes": [],
            "_model_module": "@jupyter-widgets/controls",
            "_model_module_version": "1.5.0",
            "_model_name": "HBoxModel",
            "_view_count": null,
            "_view_module": "@jupyter-widgets/controls",
            "_view_module_version": "1.5.0",
            "_view_name": "HBoxView",
            "box_style": "",
            "children": [
              "IPY_MODEL_d89c78be725745b28010f7d318fe0871",
              "IPY_MODEL_88abd8b3fd24407981787fcf70d10426",
              "IPY_MODEL_af4129c8554042acb9f25a1aacd18149"
            ],
            "layout": "IPY_MODEL_c44f9109b7794f099a73e6c44c6f4a94"
          }
        },
        "d89c78be725745b28010f7d318fe0871": {
          "model_module": "@jupyter-widgets/controls",
          "model_name": "HTMLModel",
          "model_module_version": "1.5.0",
          "state": {
            "_dom_classes": [],
            "_model_module": "@jupyter-widgets/controls",
            "_model_module_version": "1.5.0",
            "_model_name": "HTMLModel",
            "_view_count": null,
            "_view_module": "@jupyter-widgets/controls",
            "_view_module_version": "1.5.0",
            "_view_name": "HTMLView",
            "description": "",
            "description_tooltip": null,
            "layout": "IPY_MODEL_979edd069f434e8e9478edf516c447ac",
            "placeholder": "​",
            "style": "IPY_MODEL_1ecfcfca30e8473c93a5689943e0c1e8",
            "value": "Shuffling /root/tensorflow_datasets/ted_hrlr_translate/pt_to_en/incomplete.2GWICD_1.0.0/ted_hrlr_translate-test.tfrecord*...:   0%"
          }
        },
        "88abd8b3fd24407981787fcf70d10426": {
          "model_module": "@jupyter-widgets/controls",
          "model_name": "FloatProgressModel",
          "model_module_version": "1.5.0",
          "state": {
            "_dom_classes": [],
            "_model_module": "@jupyter-widgets/controls",
            "_model_module_version": "1.5.0",
            "_model_name": "FloatProgressModel",
            "_view_count": null,
            "_view_module": "@jupyter-widgets/controls",
            "_view_module_version": "1.5.0",
            "_view_name": "ProgressView",
            "bar_style": "",
            "description": "",
            "description_tooltip": null,
            "layout": "IPY_MODEL_da5de2f248904c16a50627a239b980e7",
            "max": 1803,
            "min": 0,
            "orientation": "horizontal",
            "style": "IPY_MODEL_d41421de29944e439d31b58152d61336",
            "value": 1803
          }
        },
        "af4129c8554042acb9f25a1aacd18149": {
          "model_module": "@jupyter-widgets/controls",
          "model_name": "HTMLModel",
          "model_module_version": "1.5.0",
          "state": {
            "_dom_classes": [],
            "_model_module": "@jupyter-widgets/controls",
            "_model_module_version": "1.5.0",
            "_model_name": "HTMLModel",
            "_view_count": null,
            "_view_module": "@jupyter-widgets/controls",
            "_view_module_version": "1.5.0",
            "_view_name": "HTMLView",
            "description": "",
            "description_tooltip": null,
            "layout": "IPY_MODEL_3764445598b048d58b1062952f36e2c9",
            "placeholder": "​",
            "style": "IPY_MODEL_3424922f0b2340f4a92307d333a953a6",
            "value": " 0/1803 [00:00&lt;?, ? examples/s]"
          }
        },
        "c44f9109b7794f099a73e6c44c6f4a94": {
          "model_module": "@jupyter-widgets/base",
          "model_name": "LayoutModel",
          "model_module_version": "1.2.0",
          "state": {
            "_model_module": "@jupyter-widgets/base",
            "_model_module_version": "1.2.0",
            "_model_name": "LayoutModel",
            "_view_count": null,
            "_view_module": "@jupyter-widgets/base",
            "_view_module_version": "1.2.0",
            "_view_name": "LayoutView",
            "align_content": null,
            "align_items": null,
            "align_self": null,
            "border": null,
            "bottom": null,
            "display": null,
            "flex": null,
            "flex_flow": null,
            "grid_area": null,
            "grid_auto_columns": null,
            "grid_auto_flow": null,
            "grid_auto_rows": null,
            "grid_column": null,
            "grid_gap": null,
            "grid_row": null,
            "grid_template_areas": null,
            "grid_template_columns": null,
            "grid_template_rows": null,
            "height": null,
            "justify_content": null,
            "justify_items": null,
            "left": null,
            "margin": null,
            "max_height": null,
            "max_width": null,
            "min_height": null,
            "min_width": null,
            "object_fit": null,
            "object_position": null,
            "order": null,
            "overflow": null,
            "overflow_x": null,
            "overflow_y": null,
            "padding": null,
            "right": null,
            "top": null,
            "visibility": "hidden",
            "width": null
          }
        },
        "979edd069f434e8e9478edf516c447ac": {
          "model_module": "@jupyter-widgets/base",
          "model_name": "LayoutModel",
          "model_module_version": "1.2.0",
          "state": {
            "_model_module": "@jupyter-widgets/base",
            "_model_module_version": "1.2.0",
            "_model_name": "LayoutModel",
            "_view_count": null,
            "_view_module": "@jupyter-widgets/base",
            "_view_module_version": "1.2.0",
            "_view_name": "LayoutView",
            "align_content": null,
            "align_items": null,
            "align_self": null,
            "border": null,
            "bottom": null,
            "display": null,
            "flex": null,
            "flex_flow": null,
            "grid_area": null,
            "grid_auto_columns": null,
            "grid_auto_flow": null,
            "grid_auto_rows": null,
            "grid_column": null,
            "grid_gap": null,
            "grid_row": null,
            "grid_template_areas": null,
            "grid_template_columns": null,
            "grid_template_rows": null,
            "height": null,
            "justify_content": null,
            "justify_items": null,
            "left": null,
            "margin": null,
            "max_height": null,
            "max_width": null,
            "min_height": null,
            "min_width": null,
            "object_fit": null,
            "object_position": null,
            "order": null,
            "overflow": null,
            "overflow_x": null,
            "overflow_y": null,
            "padding": null,
            "right": null,
            "top": null,
            "visibility": null,
            "width": null
          }
        },
        "1ecfcfca30e8473c93a5689943e0c1e8": {
          "model_module": "@jupyter-widgets/controls",
          "model_name": "DescriptionStyleModel",
          "model_module_version": "1.5.0",
          "state": {
            "_model_module": "@jupyter-widgets/controls",
            "_model_module_version": "1.5.0",
            "_model_name": "DescriptionStyleModel",
            "_view_count": null,
            "_view_module": "@jupyter-widgets/base",
            "_view_module_version": "1.2.0",
            "_view_name": "StyleView",
            "description_width": ""
          }
        },
        "da5de2f248904c16a50627a239b980e7": {
          "model_module": "@jupyter-widgets/base",
          "model_name": "LayoutModel",
          "model_module_version": "1.2.0",
          "state": {
            "_model_module": "@jupyter-widgets/base",
            "_model_module_version": "1.2.0",
            "_model_name": "LayoutModel",
            "_view_count": null,
            "_view_module": "@jupyter-widgets/base",
            "_view_module_version": "1.2.0",
            "_view_name": "LayoutView",
            "align_content": null,
            "align_items": null,
            "align_self": null,
            "border": null,
            "bottom": null,
            "display": null,
            "flex": null,
            "flex_flow": null,
            "grid_area": null,
            "grid_auto_columns": null,
            "grid_auto_flow": null,
            "grid_auto_rows": null,
            "grid_column": null,
            "grid_gap": null,
            "grid_row": null,
            "grid_template_areas": null,
            "grid_template_columns": null,
            "grid_template_rows": null,
            "height": null,
            "justify_content": null,
            "justify_items": null,
            "left": null,
            "margin": null,
            "max_height": null,
            "max_width": null,
            "min_height": null,
            "min_width": null,
            "object_fit": null,
            "object_position": null,
            "order": null,
            "overflow": null,
            "overflow_x": null,
            "overflow_y": null,
            "padding": null,
            "right": null,
            "top": null,
            "visibility": null,
            "width": null
          }
        },
        "d41421de29944e439d31b58152d61336": {
          "model_module": "@jupyter-widgets/controls",
          "model_name": "ProgressStyleModel",
          "model_module_version": "1.5.0",
          "state": {
            "_model_module": "@jupyter-widgets/controls",
            "_model_module_version": "1.5.0",
            "_model_name": "ProgressStyleModel",
            "_view_count": null,
            "_view_module": "@jupyter-widgets/base",
            "_view_module_version": "1.2.0",
            "_view_name": "StyleView",
            "bar_color": null,
            "description_width": ""
          }
        },
        "3764445598b048d58b1062952f36e2c9": {
          "model_module": "@jupyter-widgets/base",
          "model_name": "LayoutModel",
          "model_module_version": "1.2.0",
          "state": {
            "_model_module": "@jupyter-widgets/base",
            "_model_module_version": "1.2.0",
            "_model_name": "LayoutModel",
            "_view_count": null,
            "_view_module": "@jupyter-widgets/base",
            "_view_module_version": "1.2.0",
            "_view_name": "LayoutView",
            "align_content": null,
            "align_items": null,
            "align_self": null,
            "border": null,
            "bottom": null,
            "display": null,
            "flex": null,
            "flex_flow": null,
            "grid_area": null,
            "grid_auto_columns": null,
            "grid_auto_flow": null,
            "grid_auto_rows": null,
            "grid_column": null,
            "grid_gap": null,
            "grid_row": null,
            "grid_template_areas": null,
            "grid_template_columns": null,
            "grid_template_rows": null,
            "height": null,
            "justify_content": null,
            "justify_items": null,
            "left": null,
            "margin": null,
            "max_height": null,
            "max_width": null,
            "min_height": null,
            "min_width": null,
            "object_fit": null,
            "object_position": null,
            "order": null,
            "overflow": null,
            "overflow_x": null,
            "overflow_y": null,
            "padding": null,
            "right": null,
            "top": null,
            "visibility": null,
            "width": null
          }
        },
        "3424922f0b2340f4a92307d333a953a6": {
          "model_module": "@jupyter-widgets/controls",
          "model_name": "DescriptionStyleModel",
          "model_module_version": "1.5.0",
          "state": {
            "_model_module": "@jupyter-widgets/controls",
            "_model_module_version": "1.5.0",
            "_model_name": "DescriptionStyleModel",
            "_view_count": null,
            "_view_module": "@jupyter-widgets/base",
            "_view_module_version": "1.2.0",
            "_view_name": "StyleView",
            "description_width": ""
          }
        }
      }
    }
  },
  "cells": [
    {
      "cell_type": "markdown",
      "metadata": {
        "id": "view-in-github",
        "colab_type": "text"
      },
      "source": [
        "<a href=\"https://colab.research.google.com/github/StanleyLiangYork/2024_journal_club_Transformer_AI/blob/main/form_transformer.ipynb\" target=\"_parent\"><img src=\"https://colab.research.google.com/assets/colab-badge.svg\" alt=\"Open In Colab\"/></a>"
      ]
    },
    {
      "cell_type": "markdown",
      "source": [
        "This notebook implements encoder of the transformer. The transformer encoder consists of a stack of N identical building blocks with two sub-units:\n",
        "\n",
        "*   a multi-head attention mechanism that receives the queries, keys, and values as inputs.\n",
        "*   a fully-connected feedforward network.\n",
        "\n",
        "The sub-units are connected by the normalization for the sum of the inputs and the outputs"
      ],
      "metadata": {
        "id": "bavguyuwAx3B"
      }
    },
    {
      "cell_type": "code",
      "source": [
        "# Install the most re version of TensorFlow to use the improved\n",
        "# masking support for `tf.keras.layers.MultiHeadAttention`.\n",
        "# !apt install --allow-change-held-packages libcudnn8=8.1.0.77-1+cuda11.2\n",
        "!pip uninstall -y -q tensorflow keras tensorflow-estimator tensorflow-text\n",
        "!pip install protobuf~=3.20.3\n",
        "!pip install -q -U tensorflow-text tensorflow==2.15\n",
        "!pip install -q tensorflow_dataset\n",
        "!pip install -q --upgrade rouge-score\n",
        "!pip install -q --upgrade keras-nlp"
      ],
      "metadata": {
        "colab": {
          "base_uri": "https://localhost:8080/"
        },
        "id": "R10NIYQboE88",
        "outputId": "2c141873-2e35-4793-b3b3-d5cae3d5324d"
      },
      "execution_count": null,
      "outputs": [
        {
          "output_type": "stream",
          "name": "stdout",
          "text": [
            "\u001b[33mWARNING: Skipping tensorflow-text as it is not installed.\u001b[0m\u001b[33m\n",
            "\u001b[0mRequirement already satisfied: protobuf~=3.20.3 in /usr/local/lib/python3.10/dist-packages (3.20.3)\n",
            "\u001b[2K     \u001b[90m━━━━━━━━━━━━━━━━━━━━━━━━━━━━━━━━━━━━━━━━\u001b[0m \u001b[32m5.2/5.2 MB\u001b[0m \u001b[31m15.6 MB/s\u001b[0m eta \u001b[36m0:00:00\u001b[0m\n",
            "\u001b[2K     \u001b[90m━━━━━━━━━━━━━━━━━━━━━━━━━━━━━━━━━━━━━━━━\u001b[0m \u001b[32m475.2/475.2 MB\u001b[0m \u001b[31m3.3 MB/s\u001b[0m eta \u001b[36m0:00:00\u001b[0m\n",
            "\u001b[2K     \u001b[90m━━━━━━━━━━━━━━━━━━━━━━━━━━━━━━━━━━━━━━━━\u001b[0m \u001b[32m442.0/442.0 kB\u001b[0m \u001b[31m39.1 MB/s\u001b[0m eta \u001b[36m0:00:00\u001b[0m\n",
            "\u001b[2K     \u001b[90m━━━━━━━━━━━━━━━━━━━━━━━━━━━━━━━━━━━━━━━━\u001b[0m \u001b[32m1.7/1.7 MB\u001b[0m \u001b[31m76.2 MB/s\u001b[0m eta \u001b[36m0:00:00\u001b[0m\n",
            "\u001b[2K     \u001b[90m━━━━━━━━━━━━━━━━━━━━━━━━━━━━━━━━━━━━━━━━\u001b[0m \u001b[32m5.2/5.2 MB\u001b[0m \u001b[31m97.7 MB/s\u001b[0m eta \u001b[36m0:00:00\u001b[0m\n",
            "\u001b[?25h\u001b[31mERROR: Could not find a version that satisfies the requirement tensorflow_dataset (from versions: none)\u001b[0m\u001b[31m\n",
            "\u001b[0m\u001b[31mERROR: No matching distribution found for tensorflow_dataset\u001b[0m\u001b[31m\n",
            "\u001b[0m  Preparing metadata (setup.py) ... \u001b[?25l\u001b[?25hdone\n",
            "  Building wheel for rouge-score (setup.py) ... \u001b[?25l\u001b[?25hdone\n",
            "\u001b[2K     \u001b[90m━━━━━━━━━━━━━━━━━━━━━━━━━━━━━━━━━━━━━━━━\u001b[0m \u001b[32m570.5/570.5 kB\u001b[0m \u001b[31m7.2 MB/s\u001b[0m eta \u001b[36m0:00:00\u001b[0m\n",
            "\u001b[2K     \u001b[90m━━━━━━━━━━━━━━━━━━━━━━━━━━━━━━━━━━━━━━━━\u001b[0m \u001b[32m950.8/950.8 kB\u001b[0m \u001b[31m12.7 MB/s\u001b[0m eta \u001b[36m0:00:00\u001b[0m\n",
            "\u001b[?25h"
          ]
        }
      ]
    },
    {
      "cell_type": "markdown",
      "source": [
        "Download the Portuguese-English translation dataset with approximately 52,000 training, 1,200 validation and 1,800 test examples."
      ],
      "metadata": {
        "id": "qMllGnDGdizU"
      }
    },
    {
      "cell_type": "code",
      "source": [
        "import tensorflow_datasets as tfds\n",
        "\n",
        "examples, metadata = tfds.load('ted_hrlr_translate/pt_to_en',\n",
        "                               with_info=True,\n",
        "                               as_supervised=True)\n",
        "\n",
        "train_examples, val_examples = examples['train'], examples['validation']"
      ],
      "metadata": {
        "id": "zub38T5bdy1U",
        "colab": {
          "base_uri": "https://localhost:8080/",
          "height": 169,
          "referenced_widgets": [
            "f3c7e15b42f54af4b7d75a4cb365905b",
            "3969a9792ccd4dfebb02e298de777690",
            "77135e617ba248dfba6c64629416f551",
            "daead86ced864b9bbec7ed1e217ed60e",
            "e5e896ca7f6b49e2a1af6ce4c860bb77",
            "0fb15158faeb4b2091024ce9cbf89326",
            "ef63a18fff194e68b5564970b4de6bc1",
            "1d75313b202748c881e53104f1862d57",
            "b6ec5e7f37194689b4e3947b8944c518",
            "25845c82a99443548970ab53c3731543",
            "19891766dafe4d3ab162c5134e0f4eb4",
            "082b315f6cba433ea2c2f5ad3c9eab3e",
            "629d41028bcd47af9df43fc1df4c63ac",
            "05bfa66422e14a8b925a09d1fbf85b04",
            "8027f6d293504d199992fd08bc4b2914",
            "123df8a79961440a9968c7137f858c21",
            "42413be0405a4767b3c190314c34b1e8",
            "9aa5e3e4e70d498f9683efe383afceb8",
            "5b9d9eef0c0347d798684a48066e44dc",
            "b1d499eae5334896bad99c5ddaed636c",
            "a10ff22275e44821926354535e2fb2e0",
            "9185ac2dd53d4fc3a366ddacb3721f0a",
            "02d481c90a6f4d25b47b97ac7d0ce7bc",
            "f84d6e6f4a9d4105af717d2fd24c9016",
            "dd13d3c5ceae4fffba84a208823e7ade",
            "a1d7f8f25bf54a1a93d5d32c4b3e2a20",
            "11769bb4f74a4ad08c76f0d6cf6760f2",
            "1fa59472328b4bf2ad1d56230638cadb",
            "5faf9f8b43ff434faa50fff36bad59ef",
            "9918bec9c74348afbd49b5984e2acc2d",
            "d9b2ae18a13b47b6bd58055c7559f3f8",
            "8cdd8bac7c7a4d8bad41e702dd67d5f3",
            "d9a452553ab74f6cafa9c8911ae5fb36",
            "f1078060338d4cef8161dfc5062018c1",
            "d694394d22dd44598492a2f823a09347",
            "23b820e64a9e43cc993e776b201733ae",
            "18e862a1b97c4e6cb81dd92ea210365e",
            "2fffe2c06ce5465586be8ac60ad975f6",
            "a0fbf884eb94499eb344bda9c05a5d86",
            "1c579b11047b4f30a669543ed2f447da",
            "89aaa4613787449c911277c2db7d9053",
            "52a70ae9d3dc4145a49788fe1e9382f0",
            "11eb00ab36c141879f156b6dea99b899",
            "a2e9140a38f64e3987cd2941dbf414ad",
            "b80e48afa286478ab831dee4bbd541c5",
            "c6354b5890054ba5807a8fbac448e205",
            "848c87eea1ba471fb41c5177dca69e1e",
            "3f41763778844b088746f656a8ca4c54",
            "dd632f41cd0e4c79a8ce37ea9ddf1dff",
            "0e7d9cf4178d4bdc9cfff9bc1df73cde",
            "e101324847734550b869ea1ac08e9f88",
            "927ec8a6a29a498089e7eae59d523706",
            "2d14fe4a8caf4deeb55c75aeae4f8832",
            "c704d3d2764147cb8de4f003098ead32",
            "f3d3d73fdade43dd9fd64f2152821e08",
            "b277f06d0637449bbb40192c58f241c0",
            "65904a12dee94e6284b16d7c55d708f6",
            "0158ed7dc3b24d10b0910a37f132c90d",
            "818c582fb70e48f881873ad7d96c6496",
            "c0bf612669eb4a80bc1831f9069ef5fb",
            "5629dd8bf5a540948c632b3c6ff2770b",
            "4442357742874fa6a34409d6b8a795cd",
            "d534add631694cd6ae14397d655812d0",
            "c671af35520144ab8271b328686e3933",
            "952f116c30894ee198f14b8f8c3e0b99",
            "8f0eb9cfb8f44705b766e3da4c893fd2",
            "39c38595c2cf43098c08eb9c6815c55f",
            "0a273ca930ed4471a060e6b30422e64c",
            "40f8a140f6e94c43835fba9913fe8a57",
            "06927e88005a421bb1ce3e0f5b8e8272",
            "7cf537cbc4e24478880f7dfdba2cefd2",
            "608348c1043e4c78bada0de16192bfcb",
            "d45bbe587aa94a0a8c8d3a7d943f15e9",
            "c80033b7cb5a4eb993b0e015569fc061",
            "ee6e01407305464e8eea37805d383efb",
            "c4a06daedae34579afcf948394fe53ae",
            "f65b5a757a2b4235afb602a05c023583",
            "b4c4741693084b578659907cc74e6cec",
            "f6017fb0ae82476086d0b1edc12b99f6",
            "81fda75643ba43d792b915b0b393c1c6",
            "6f30d140119b4a9499b9a5fba6d980de",
            "594d8f0e7b894e2b834f36266a20c1dd",
            "5e232c0144204abeb9444dcc13c9d330",
            "ffeb7463513646b1b7716c2f17b2d22e",
            "5d0d8d0bf01242f7b10f9aaa49257ee8",
            "3d0f49ba6d7a4207928e78ed8b9da675",
            "00bba5fe48ef47599cc8b4b8733a03ef",
            "947d450eaa00483c938a03a5bdeaaaad",
            "a92e63c4464a4f3ea6058a39044f6c84",
            "e0df43aeafde4423ac6314350d3d9fb1",
            "f3b2473663004f778b52421fa34fc0cf",
            "fee2b53f13e549c4b264dc8662e2c25e",
            "7e64b090146e4e998ac26a81cb100046",
            "7acff32e539a45a1b7f29b8429084615",
            "23273a28736041e0970466f1324c6b04",
            "501dd917729d42acb5dbe8f314b1fe33",
            "75c83ec18baa409da44022565f9aa3a9",
            "4c6b9a28a156449e83032f4d38b764f8",
            "3d53e63b2b9f47a3a9efdfe2a38ee74d",
            "f509e0c9d16e4802a5a0469dee40a6f2",
            "d89c78be725745b28010f7d318fe0871",
            "88abd8b3fd24407981787fcf70d10426",
            "af4129c8554042acb9f25a1aacd18149",
            "c44f9109b7794f099a73e6c44c6f4a94",
            "979edd069f434e8e9478edf516c447ac",
            "1ecfcfca30e8473c93a5689943e0c1e8",
            "da5de2f248904c16a50627a239b980e7",
            "d41421de29944e439d31b58152d61336",
            "3764445598b048d58b1062952f36e2c9",
            "3424922f0b2340f4a92307d333a953a6"
          ]
        },
        "outputId": "7bcbafe8-ba38-415e-9d8b-6f3079d2ae89"
      },
      "execution_count": null,
      "outputs": [
        {
          "output_type": "stream",
          "name": "stdout",
          "text": [
            "Downloading and preparing dataset 124.94 MiB (download: 124.94 MiB, generated: Unknown size, total: 124.94 MiB) to /root/tensorflow_datasets/ted_hrlr_translate/pt_to_en/1.0.0...\n"
          ]
        },
        {
          "output_type": "display_data",
          "data": {
            "text/plain": [
              "Dl Completed...: 0 url [00:00, ? url/s]"
            ],
            "application/vnd.jupyter.widget-view+json": {
              "version_major": 2,
              "version_minor": 0,
              "model_id": "f3c7e15b42f54af4b7d75a4cb365905b"
            }
          },
          "metadata": {}
        },
        {
          "output_type": "display_data",
          "data": {
            "text/plain": [
              "Dl Size...: 0 MiB [00:00, ? MiB/s]"
            ],
            "application/vnd.jupyter.widget-view+json": {
              "version_major": 2,
              "version_minor": 0,
              "model_id": "082b315f6cba433ea2c2f5ad3c9eab3e"
            }
          },
          "metadata": {}
        },
        {
          "output_type": "display_data",
          "data": {
            "text/plain": [
              "Extraction completed...: 0 file [00:00, ? file/s]"
            ],
            "application/vnd.jupyter.widget-view+json": {
              "version_major": 2,
              "version_minor": 0,
              "model_id": "02d481c90a6f4d25b47b97ac7d0ce7bc"
            }
          },
          "metadata": {}
        },
        {
          "output_type": "display_data",
          "data": {
            "text/plain": [
              "Generating splits...:   0%|          | 0/3 [00:00<?, ? splits/s]"
            ],
            "application/vnd.jupyter.widget-view+json": {
              "version_major": 2,
              "version_minor": 0,
              "model_id": "f1078060338d4cef8161dfc5062018c1"
            }
          },
          "metadata": {}
        },
        {
          "output_type": "display_data",
          "data": {
            "text/plain": [
              "Generating train examples...:   0%|          | 0/51785 [00:00<?, ? examples/s]"
            ],
            "application/vnd.jupyter.widget-view+json": {
              "version_major": 2,
              "version_minor": 0,
              "model_id": "b80e48afa286478ab831dee4bbd541c5"
            }
          },
          "metadata": {}
        },
        {
          "output_type": "display_data",
          "data": {
            "text/plain": [
              "Shuffling /root/tensorflow_datasets/ted_hrlr_translate/pt_to_en/incomplete.2GWICD_1.0.0/ted_hrlr_translate-tra…"
            ],
            "application/vnd.jupyter.widget-view+json": {
              "version_major": 2,
              "version_minor": 0,
              "model_id": "b277f06d0637449bbb40192c58f241c0"
            }
          },
          "metadata": {}
        },
        {
          "output_type": "display_data",
          "data": {
            "text/plain": [
              "Generating validation examples...:   0%|          | 0/1193 [00:00<?, ? examples/s]"
            ],
            "application/vnd.jupyter.widget-view+json": {
              "version_major": 2,
              "version_minor": 0,
              "model_id": "39c38595c2cf43098c08eb9c6815c55f"
            }
          },
          "metadata": {}
        },
        {
          "output_type": "display_data",
          "data": {
            "text/plain": [
              "Shuffling /root/tensorflow_datasets/ted_hrlr_translate/pt_to_en/incomplete.2GWICD_1.0.0/ted_hrlr_translate-val…"
            ],
            "application/vnd.jupyter.widget-view+json": {
              "version_major": 2,
              "version_minor": 0,
              "model_id": "b4c4741693084b578659907cc74e6cec"
            }
          },
          "metadata": {}
        },
        {
          "output_type": "display_data",
          "data": {
            "text/plain": [
              "Generating test examples...:   0%|          | 0/1803 [00:00<?, ? examples/s]"
            ],
            "application/vnd.jupyter.widget-view+json": {
              "version_major": 2,
              "version_minor": 0,
              "model_id": "a92e63c4464a4f3ea6058a39044f6c84"
            }
          },
          "metadata": {}
        },
        {
          "output_type": "display_data",
          "data": {
            "text/plain": [
              "Shuffling /root/tensorflow_datasets/ted_hrlr_translate/pt_to_en/incomplete.2GWICD_1.0.0/ted_hrlr_translate-tes…"
            ],
            "application/vnd.jupyter.widget-view+json": {
              "version_major": 2,
              "version_minor": 0,
              "model_id": "f509e0c9d16e4802a5a0469dee40a6f2"
            }
          },
          "metadata": {}
        },
        {
          "output_type": "stream",
          "name": "stdout",
          "text": [
            "Dataset ted_hrlr_translate downloaded and prepared to /root/tensorflow_datasets/ted_hrlr_translate/pt_to_en/1.0.0. Subsequent calls will reuse this data.\n"
          ]
        }
      ]
    },
    {
      "cell_type": "markdown",
      "source": [
        "Take one batch (size=3) data and check"
      ],
      "metadata": {
        "id": "Uzwpr7pV487u"
      }
    },
    {
      "cell_type": "code",
      "source": [
        "for pt_examples, en_examples in train_examples.batch(3).take(1):\n",
        "  print('==== Examples in Portuguese ====')\n",
        "  for pt in pt_examples.numpy():\n",
        "    print(pt.decode('utf-8'))\n",
        "\n",
        "  print('==== The corresponding English')\n",
        "\n",
        "  print('==== Examples in English ====')\n",
        "  for en in en_examples.numpy():\n",
        "    print(en.decode('utf-8'))"
      ],
      "metadata": {
        "colab": {
          "base_uri": "https://localhost:8080/"
        },
        "id": "IOICeoV54zd1",
        "outputId": "8cee1d9f-cc95-46e2-86b2-d7df70d5776c"
      },
      "execution_count": null,
      "outputs": [
        {
          "output_type": "stream",
          "name": "stdout",
          "text": [
            "==== Examples in Portuguese ====\n",
            "e quando melhoramos a procura , tiramos a única vantagem da impressão , que é a serendipidade .\n",
            "mas e se estes fatores fossem ativos ?\n",
            "mas eles não tinham a curiosidade de me testar .\n",
            "==== The corresponding English\n",
            "==== Examples in English ====\n",
            "and when you improve searchability , you actually take away the one advantage of print , which is serendipity .\n",
            "but what if it were active ?\n",
            "but they did n't test for curiosity .\n"
          ]
        }
      ]
    },
    {
      "cell_type": "markdown",
      "source": [
        "# Set up the preprocessing pipeline.\n",
        "\n",
        "Tokenization is the process of breaking up text, into \"tokens\". Depending on the tokenizer, these tokens can represent sentence-pieces, words, subwords, or characters. We need two tokenizers - one for the source language (Portuguese), and the other for the target language (English).\n",
        "\n",
        "We will use the keras_nlp.tokenizers.WordPieceTokenizer, which takes a WordPiece vocabulary and has functions for tokenizing the text, and detokenizing sequences of tokens.\n",
        "\n",
        "The WordPiece tokenization algorithm is a subword tokenization algorithm; training it on a corpus gives us a vocabulary of subwords. A subword tokenizer is a compromise between word tokenizers (word tokenizers need very large vocabularies for good coverage of input words), and character tokenizers (characters don't really encode meaning like words do)."
      ],
      "metadata": {
        "id": "YNRLrcK15buO"
      }
    },
    {
      "cell_type": "code",
      "source": [
        "import tensorflow as tf\n",
        "import tensorflow.data as tf_data\n",
        "import keras_nlp\n",
        "\n",
        "def train_word_piece(text_samples, vocab_size, reserved_tokens):\n",
        "    word_piece_ds = tf_data.Dataset.from_tensor_slices(text_samples)\n",
        "    vocab = keras_nlp.tokenizers.compute_word_piece_vocabulary(\n",
        "        word_piece_ds.batch(1000).prefetch(2),\n",
        "        vocabulary_size=vocab_size,\n",
        "        reserved_tokens=reserved_tokens,\n",
        "    )\n",
        "    return vocab"
      ],
      "metadata": {
        "id": "et0n58lV6Or6"
      },
      "execution_count": null,
      "outputs": []
    },
    {
      "cell_type": "code",
      "source": [
        "len(train_examples)"
      ],
      "metadata": {
        "colab": {
          "base_uri": "https://localhost:8080/"
        },
        "id": "a1ft_ROCKGUc",
        "outputId": "0bae1e21-514f-49b8-a183-bebb606a3481"
      },
      "execution_count": null,
      "outputs": [
        {
          "output_type": "execute_result",
          "data": {
            "text/plain": [
              "51785"
            ]
          },
          "metadata": {},
          "execution_count": 13
        }
      ]
    },
    {
      "cell_type": "code",
      "source": [
        "model_name = 'ted_hrlr_translate_pt_en_converter'\n",
        "tf.keras.utils.get_file(\n",
        "    f'{model_name}.zip',\n",
        "    f'https://storage.googleapis.com/download.tensorflow.org/models/{model_name}.zip',\n",
        "    cache_dir='.', cache_subdir='', extract=True\n",
        ")"
      ],
      "metadata": {
        "colab": {
          "base_uri": "https://localhost:8080/",
          "height": 71
        },
        "id": "1NHgTQyHqXGE",
        "outputId": "daeb0b0e-77e6-403c-dd9f-b3df02f9bc18"
      },
      "execution_count": null,
      "outputs": [
        {
          "output_type": "stream",
          "name": "stdout",
          "text": [
            "Downloading data from https://storage.googleapis.com/download.tensorflow.org/models/ted_hrlr_translate_pt_en_converter.zip\n",
            "184801/184801 [==============================] - 0s 0us/step\n"
          ]
        },
        {
          "output_type": "execute_result",
          "data": {
            "text/plain": [
              "'./ted_hrlr_translate_pt_en_converter.zip'"
            ],
            "application/vnd.google.colaboratory.intrinsic+json": {
              "type": "string"
            }
          },
          "metadata": {},
          "execution_count": 159
        }
      ]
    },
    {
      "cell_type": "code",
      "source": [
        "tokenizers = tf.saved_model.load(model_name)"
      ],
      "metadata": {
        "id": "IxHPbx-eqZMe"
      },
      "execution_count": null,
      "outputs": []
    },
    {
      "cell_type": "code",
      "source": [
        "# The methods of the tokenizers\n",
        "[item for item in dir(tokenizers.en) if not item.startswith('_')]"
      ],
      "metadata": {
        "colab": {
          "base_uri": "https://localhost:8080/"
        },
        "id": "a434DMyXqeLP",
        "outputId": "b08f431d-be28-43e0-8ece-a0dda0e6d3b9"
      },
      "execution_count": null,
      "outputs": [
        {
          "output_type": "execute_result",
          "data": {
            "text/plain": [
              "['detokenize',\n",
              " 'get_reserved_tokens',\n",
              " 'get_vocab_path',\n",
              " 'get_vocab_size',\n",
              " 'lookup',\n",
              " 'tokenize',\n",
              " 'tokenizer',\n",
              " 'vocab']"
            ]
          },
          "metadata": {},
          "execution_count": 162
        }
      ]
    },
    {
      "cell_type": "markdown",
      "source": [
        "create the tokenizers"
      ],
      "metadata": {
        "id": "IpgoaWOrMwjJ"
      }
    },
    {
      "cell_type": "code",
      "source": [
        "eng_tokenizer = keras_nlp.tokenizers.WordPieceTokenizer(vocabulary=eng_vocab, lowercase=False)\n",
        "pt_tokenizer = keras_nlp.tokenizers.WordPieceTokenizer(vocabulary=pt_vocab, lowercase=False)"
      ],
      "metadata": {
        "id": "xqp0aTvgM0w6"
      },
      "execution_count": null,
      "outputs": []
    },
    {
      "cell_type": "code",
      "source": [
        "pt_examples, en_examples = next(iter(train_examples.batch(3)))\n",
        "print('==== This is a batch of strings in English ====')\n",
        "for en in en_examples.numpy():\n",
        "  print(en.decode('utf-8'))\n",
        "\n",
        "# tokenize the string\n",
        "encoded_en = tokenizers.en.tokenize(en_examples)\n",
        "\n",
        "print('==== This is a batch of token IDs of English ====')\n",
        "for row in encoded_en.to_list():\n",
        "  print(row)\n",
        "print(\"==== Recovered text after detokenizing ====\")\n",
        "word_restored = tokenizers.en.detokenize(encoded_en)\n",
        "for text in word_restored.numpy():\n",
        "  print(text.decode('utf-8'))\n",
        "print()\n",
        "\n",
        "print('==== This is a batch of strings in Portuguese ====')\n",
        "for pt in pt_examples.numpy():\n",
        "  print(pt.decode('utf-8'))\n",
        "\n",
        "encoded_pt = tokenizers.pt.tokenize(pt_examples)\n",
        "\n",
        "print('==== This is a batch of token IDs of Portuguese ====')\n",
        "for row in encoded_pt.to_list():\n",
        "  print(row)\n",
        "print(\"==== Recovered text after detokenizing ==== \")\n",
        "word_restored = tokenizers.pt.detokenize(encoded_pt)\n",
        "for text in word_restored.numpy():\n",
        "  print(text.decode('utf-8'))\n"
      ],
      "metadata": {
        "colab": {
          "base_uri": "https://localhost:8080/"
        },
        "id": "UYmAq5lL5gBt",
        "outputId": "74243730-deb2-4356-ffb6-11c688c0dba5"
      },
      "execution_count": null,
      "outputs": [
        {
          "output_type": "stream",
          "name": "stdout",
          "text": [
            "==== This is a batch of strings in English ====\n",
            "and when you improve searchability , you actually take away the one advantage of print , which is serendipity .\n",
            "but what if it were active ?\n",
            "but they did n't test for curiosity .\n",
            "==== This is a batch of token IDs of English ====\n",
            "[2, 72, 117, 79, 1259, 1491, 2362, 13, 79, 150, 184, 311, 71, 103, 2308, 74, 2679, 13, 148, 80, 55, 4840, 1434, 2423, 540, 15, 3]\n",
            "[2, 87, 90, 107, 76, 129, 1852, 30, 3]\n",
            "[2, 87, 83, 149, 50, 9, 56, 664, 85, 2512, 15, 3]\n",
            "==== Recovered text after detokenizing ====\n",
            "and when you improve searchability , you actually take away the one advantage of print , which is serendipity .\n",
            "but what if it were active ?\n",
            "but they did n ' t test for curiosity .\n",
            "\n",
            "==== This is a batch of strings in Portuguese ====\n",
            "e quando melhoramos a procura , tiramos a única vantagem da impressão , que é a serendipidade .\n",
            "mas e se estes fatores fossem ativos ?\n",
            "mas eles não tinham a curiosidade de me testar .\n",
            "==== This is a batch of token IDs of Portuguese ====\n",
            "[2, 44, 115, 6402, 148, 40, 887, 14, 3936, 40, 463, 2715, 94, 2047, 14, 84, 44, 40, 117, 1328, 2721, 818, 539, 16, 3]\n",
            "[2, 99, 44, 89, 199, 2836, 1336, 3996, 32, 3]\n",
            "[2, 99, 131, 88, 383, 40, 2673, 83, 110, 1972, 16, 3]\n",
            "==== Recovered text after detokenizing ==== \n",
            "e quando melhoramos a procura , tiramos a unica vantagem da impressao , que e a serendipidade .\n",
            "mas e se estes fatores fossem ativos ?\n",
            "mas eles nao tinham a curiosidade de me testar .\n"
          ]
        }
      ]
    },
    {
      "cell_type": "markdown",
      "source": [
        "# Prepare the dataset for the model\n",
        "We cannot send the above data to the transformer model. In stead, we need to perform the following steps to format the raw data into a dataset good for machine learning. The dataset do the following things:\n",
        "\n",
        "1.   Tokenizes them into ragged batches. (some rows are longer, the others are shorter)\n",
        "2.   Trims all rows to be no longer than MAX_TOKENS.\n",
        "3.   Splits the target (English) tokens into inputs (to learn) and labels (to check). These are shifted by one step so that at each input location the label is the id of the next token.\n",
        "4.   Converts the RaggedTensors to padded dense Tensors, i.e. every row has the same length.\n",
        "2.   Returns data as (inputs, labels) pair."
      ],
      "metadata": {
        "id": "QBXMjrIwtwal"
      }
    },
    {
      "cell_type": "code",
      "source": [
        "MAX_TOKENS=128\n",
        "def prepare_batch(pt, en):\n",
        "    pt = tokenizers.pt.tokenize(pt)      # Output is ragged.\n",
        "    pt = pt[:, :MAX_TOKENS]    # Trim to MAX_TOKENS.\n",
        "    pt = pt.to_tensor()  # Convert to 0-padded dense Tensor\n",
        "\n",
        "    en = tokenizers.en.tokenize(en)\n",
        "    en = en[:, :(MAX_TOKENS+1)]\n",
        "    en_inputs = en[:, :-1].to_tensor()  # Drop the [END] tokens\n",
        "    en_labels = en[:, 1:].to_tensor()   # Drop the [START] tokens\n",
        "\n",
        "    return (pt, en_inputs), en_labels"
      ],
      "metadata": {
        "id": "VSMVzjUbu-tG"
      },
      "execution_count": null,
      "outputs": []
    },
    {
      "cell_type": "code",
      "source": [
        "BUFFER_SIZE = 20000\n",
        "BATCH_SIZE = 64\n",
        "\n",
        "def make_batches(ds):\n",
        "  return (\n",
        "      ds\n",
        "      .shuffle(BUFFER_SIZE)\n",
        "      .batch(BATCH_SIZE)\n",
        "      .map(prepare_batch, tf.data.AUTOTUNE)\n",
        "      .prefetch(buffer_size=tf.data.AUTOTUNE))"
      ],
      "metadata": {
        "id": "NkwZ3SkovKK_"
      },
      "execution_count": null,
      "outputs": []
    },
    {
      "cell_type": "code",
      "source": [
        "# Create training and validation set batches.\n",
        "train_batches = make_batches(train_examples)\n",
        "val_batches = make_batches(val_examples)"
      ],
      "metadata": {
        "id": "GfJunLYwvWxg"
      },
      "execution_count": null,
      "outputs": []
    },
    {
      "cell_type": "code",
      "source": [
        "for (pt, en), en_labels in train_batches.take(1):\n",
        "  break\n",
        "\n",
        "print(pt.shape)\n",
        "print(en.shape)\n",
        "print(en_labels.shape)"
      ],
      "metadata": {
        "colab": {
          "base_uri": "https://localhost:8080/"
        },
        "id": "zmxgTcGHvbOQ",
        "outputId": "5b668a52-f32f-49d7-b6f0-0bf8f4554f24"
      },
      "execution_count": null,
      "outputs": [
        {
          "output_type": "stream",
          "name": "stdout",
          "text": [
            "(64, 128)\n",
            "(64, 128)\n",
            "(64, 128)\n"
          ]
        }
      ]
    },
    {
      "cell_type": "code",
      "source": [
        "# the features and labels only have one shift to the right\n",
        "print(en[0][:10])\n",
        "print(en_labels[0][:10])"
      ],
      "metadata": {
        "colab": {
          "base_uri": "https://localhost:8080/"
        },
        "id": "cErtKJT-vhrt",
        "outputId": "c94dc388-564d-4f31-8ea9-cce1e104f294"
      },
      "execution_count": null,
      "outputs": [
        {
          "output_type": "stream",
          "name": "stdout",
          "text": [
            "tf.Tensor([  2  72 175 197  76  84 106  37  56 459], shape=(10,), dtype=int64)\n",
            "tf.Tensor([  72  175  197   76   84  106   37   56  459 4893], shape=(10,), dtype=int64)\n"
          ]
        }
      ]
    },
    {
      "cell_type": "markdown",
      "source": [
        "# Positional encoding\n",
        "\n",
        "The inputs to both the encoder and decoder use the same embedding and positional encoding logic.\n",
        "![image.png](data:image/png;base64,iVBORw0KGgoAAAANSUhEUgAAAeQAAAE7CAIAAACDpGVUAAAAAXNSR0IArs4c6QAAAERlWElmTU0AKgAAAAgAAYdpAAQAAAABAAAAGgAAAAAAA6ABAAMAAAABAAEAAKACAAQAAAABAAAB5KADAAQAAAABAAABOwAAAAALeij3AABAAElEQVR4AexdBVxUzxP3ZwCS0iEiInYXJgKKYGChYANi/W0xULHF7u4i7EYlDBALC1sJJQUpAQWRsP7fY/F5HnfH3fEO7+C9D59j3+7s7Ozs7uy82d3Z/379+lVJah8LC4vg4GBra+tTp07zqcS3b9+mTZt27NhRwFSvXt3ZeYyTk5OhoaGMjAyfXNKY1Llz51evXtrY9D16lFVZqXsI/VOnTt26dSstxKN7GxgYJCYmjhk7btPGjbTgLEskWdnZdQwNv3//tmTpspkuLmVZtKSVhWF+/37IvHnzVq1aJWm0lQ09VcummH9bSrVq1TD4dXR08Jubm7tz547du3cZGNQ2MKilpKT8b2mjt/TY2Fh6ETLYGA4wHJAQDlQIYQ1eQ4lesmQJJmf3Fe4hISE/vn+PjY3Bn4Q0A0MGwwGGAwwH+HOgoghrwoUOHTpcuXzl9Zs3169de/XqVXx8fH5+Hn8GSVdqWFhYXl65qlFZ8v/z58/Xr19/8eJFQUFBWZbLp6yCb99+/PgOgIAA/7TUVD6QZZxUU7+mhblFkyZNyrjcilxcxRLWpKWbNG6Mv3LZ6sTmWy6rJu5KBQYGTp48+cOHRHEXJBr++yEh+BMtr5hyVa1aFcs/K1askJWVFVMRDFp2DlREYc1efybMcAAcePny5ahRI798+cJwQ3AOfP/+fd++vZUrV167dq3guRhIkTnACGuRWcdkLD8cWLduHST1f//9N3Omo5NzLxkZZlyU0LivXsbOmL7h/fukAwf2T5o0qXbt2iVkYJJLzQGmU5aahQwCKedAfn5BUFAQKtHFtPWiJY5SXpsyIl9bW23tuunDh82Dfh0YGDR6tFMZFVyBi6lcgevOVJ3hAIsDWE4sKMhHoFUrQVcyfvz4iT/+7Pv58xcvGCT9/Mkz+/fv2Kz0gw9yXqXzz8UHoWhJzZrXw7cI8mZlZ4mGgcklFAcYYS0Uuxjg8syBQslTcgVxjGzY0MVdTf8HmcsH2svTb97c3VwB9uw+5778SPEkIFy5wrNLp/Gmnf+3YrkHL/xOju7WPaZ9/frXlpWYmOR2bZy/fWNtHSmbp3JllqRmnjLjACOsy4zVTEHlhAPv33/88iVXRqba40cR9Fbp1q0XISEvbgTtvB6443Hom1u3nvPC//Zt/PZt/E7t8srIxEsvBxhhLb1tx1D+bzjg7eU7aFA35zEDvL39OSgoKPgRF5ecmvqpuBOH/Hycw0pKS/tcPIlCkvThY926NRUU5BQUZJs2rZuclEElcQRmzXY+dtQ/NPQtRzz7a0ZGdnR0YlbWVyoyKysnOzsXrykpn3Jyivbjf//+8/37lJTkTAJGqgA6qVxMQEI4wCwwSkhDMGRIBwcgc/38Qs5fWFulSpVNG73T07PV1ZUI6beCny9dckBJSfa//6ro6Gi0aGlMVenq1cerVh5RUZGr9KtyLQNdY2M9Kok9YGVtsnnzsYSE9B8/fty+9WyGyzD2VPawrq7qipWTpk/b4Oe/RUmpOnsSwgX535cuPXjr1lMtTaWPH3N69uroOnd41apVjh29UblK5WdPwzFtuC0Y/fzZWy0ttbNnb3z7VpCcnNm5SwuHUX2WLt1fqdK3xISMXr07LVrsRKzSHPgFfM3IyPjx86emhoaA8AwYfw4wwpo/f5hUhgN/ceDG9dDmzY01NFguZUxMGl+5fM/B0Rrh2NiUWTO3enovbdTIAK+Qzm7zd1lYtEE4IiJhoduu4ydX1q2ri9dLPvcWL9o7YKAZwhwP5P6sWSOH2rupqCht2zFLQ6NoGuAAI682fTsGBITAxr1m7QQOgCVLDuXl5QcG7cAexLy8bxPGr9my+dTsOSzRf+xowMyZw/r26wQDfeCN0PPnbnp6L9HTU8vP/2bedeLrVzGnTq+AXp+dnWfZbfKw4db16nGfVzhKZH+F37TQ0ND9B/ZHRkTeuBHInsSES8MBxgxSGu4xeSsWB+DDz9PzyvARPUm1hw3v6e3lR8JnTgfZ2VsSSY0YK6u2JiZFR7FPHL/m6NSXSGokQVA2b1GP5OL4ffEiBvj1a+kYGuk1a2bEkcrxCmm7fPm4a1fvQaNnT8rMyPH3u7N02ViyW1xOrtrq1ZOPegcUFLDWHkFGv/4sSU0e657tIakRlpWt1qFji969O0JS41VJSa5lq4aRETFFcIL9+/Tp0759+7p3725tbXX2zBk3NzdY9gXLykCVzAFGWJfMIwaC4QDhANTnp0/C37x563HkMv4iImLehL178SIWqW/eRFHSmQC3alUkkd+8jjJp/5cPDSqJQJLfN6/jpk/dsH3HrKPHluR8yd275yLU2wnjt/Da/4dcaupKGzbOmDlzc0bGn7OXYeHRtQ11VVTkKeR6NdVUVRU/fPiEmDZt/6LEqG4tCqxKlcqGdWpSr9jskZ+fT73yCcBo8/TpU3ghbtas6Zw5s58/fwZgTGw4FKqhoc7xB1eX5hbmCxYsePDwAfZo80HLJHFwgBHWHAxhXhkO8OTA8aPXOnVq9iX7a0ZGFv6+5ny1sGh74vhVZMC+aQ7zLvXKJ4m9pO3bT0+dNsTISBdCc+u2GT4+tz08/JM+fOC/Q86iW6vu3TssWXyAQoUNf1TRVCRwEs/1HNgoFZuCFCEAx7yrVq/y9vbKyvprwzXsIcUfeMt6+uTJjh3bra2s+vXr++TpUxFKrJhZGJt1xWx3ptZCcwBLixcuBp86tdKwjjaVGYuBPa2mzps/sn4Dw6dPw83Mm1NJr17FVKtWBa9IevYkvG3bP6YPJOnra1KQJJCenollSRJWUVHYtWtO167jXV0di0tejowLFzn2sp5++VIIiW9Q3zA2JunLl3xFRZZBA09q6uekpHRd3RrklfbfunXrbt2yJSoqysPD49SpU8nJSSgCC7CjnceoqbFsLOzPp8xM+DWE9g3P8nfv3u3Z0xq+iyf+bxLHLMKehQkTDtCvWaMN4GeSq6NOmLSePHnCsJ7hgDRy4Mb1x0ZGeuySGrWoWVO9cROjq1cfDR7cDfbrmJgUUrV7d1/fu/eShIcM6bF///nExHTyGhT0NPRxOAmz/5qbt9227QSmBERCO7569WEtfZ0zp69/ysxhBysexm6QLVtnr19/mCRpaimbdm29do0XsZ/Ax+qypQcG2lrAeF08L10xmFGMjY3d3d2xtLh33/7OnbtAkcelHwvc3Dj+1q9fHxAQ8ODBQ5hN4K4vPy/Pbf78tevWEsWfLnrKJR76NeukpCQrK6uxY8fu3buXQymAt+VFixZBlJdLVjKVKsccwOboc+eCRowsWlqkagozwsiRvc6cCRw82GzR4jEjhy/GtrzvP2CIqDx/vtPz5xGAbN6izsxZI+0HuxnX0/tW8ENGRnbefKe4uEQKCQk4j7EJj4jrZj6pfgP9lJTPBgbafgFbTp0MdHPbvW37zKpV/+hVSkryWA9kz962Xf0pU4b4+YaQEbdq9YTZs7Zb9ZhuaKgVE5PaunXDBQsdAC8nJ1Pp99IiXuXl5djxKChUZ18PVFSszp7KXhyfsKKi4tAhQ+zt7OA1/vixYx+SPujpctlPAsdP7u4rbGz6jRw5IjU1ZcP6dfBa3K9fPz6YmST6hTV4qqSk5OPj079//z59+pRjFienpLx7905yHNWD1cTJZ1paWmChZyIJYb62llb9+vWhZ0kIPbzI+FbwjVcShPKBg/O5pvbr3xl/SOo/oEsPK5O3b+NUlJVqG+ogy0BbVjyeIUO72fTt/DYyTk29Rq1aWlwtxdB8t22bAZPF+/cfdHW19PTUkXHceJtKlWw4tM5du+cUYv3rx3XuCPyRKEVFuT175yQkfExJSdPX19PWViHxTqP/mmxmzxnCjmLZcmf21/UbJrO/Fg/zOdoOv6nNmjZtVtJlie3bm5w+fXrAgAGZmRlYmezWrRtkffGCmBjCAbEIaxUVlUuXLpmbm2PlAeHyx+vk5GR8Ivhc8snLZZ0Hk7TnwYP7Awf0lxyqMHTrGBktXbJUMlUnefnqysoqaWmpgYEPc3NHV68u+jXK8vIyLXhsy8OWuJat6pfYKFpaKvjjAOP4QuVI5fWqr6+BP16ppY/3871LZpFa+voiY2vZsiWMJ1OmTMaYOnjw4PTp00VGVe4zikVYg2vNmzd3cXEZMWIEpDbXrpadnS0vL49VCHYWQyXU0NDgCs8O9m/DsLzb2Ni8fRv5b8mQotKxHSLq3TsHh1E7duwcOXKkpFGOTmhra7t3757w8Gi7wfOdnQfIwlzAPHw5gC2MO7YfBwi0MTNzc76wJSQOGzZs27atkZGRx48fnzx5Ck5alpChoiaLS1iDn9hK2aJFC09PT0dHx+Ls9fX1vXDhwtGjR6F2kdTbt28vW7YMiw8cErx43n8bs2nTZiKpTUyaDxnaXQS73r+lv+xLDwt7f2D/OWzaXbx4Uc9evTTUWR/4EvXMnj37xo0b7969vXP7Cf4kijZJJgZDdcWKlerFtnwIRTOuB7O3H7JihXtU1LuExARD5h4DHuwTo7BGQ0LyNm7c2NLSsmbNmhwE2Nvbw9oLPcvLywuQt27dWr58uZ+fH8IckBL1iv3/586dBUl169a64LMen70SRZ7EElPLQGee6+b09PSgwEA7OztJo1NLSwurLDNnzrxx4zq2BksaeZJJj2GdOosWLho8eHDpyevYsROQQCBgEYgR1rz4KUZhjSIhozds2ICVxgcPHnBIYdg6IKlxhAm/UL0BBl1b8tegPmdlZWZmompm5u0YSc2rVxWP72HZbmHVKvCOj2WM4qmSEIO+is9wXHjPuvNeYm43x0ZYJ0dHXHA+cuSoAQMHSgKjCA2ampr169WDJZMWknR0irauw8ZIC8JyiUS8whosGzNmzIkTJzZu3DhnDucSNuS1k5PT1atXYTHE8oKMjBRoqdCsyR0fHHMPn86xY/vZd+/eb9k6gw/MreBnz1+8mzqVi5KCPanx8SnjxnHZ1RQS8mbvnrMgycmpX3fL1lzxb9508mN6prv7BPZDB58+fYHXod175pbZZYOUsQvUcqVTEiJBpGHhIwnEEBqysrPJEk5dY+MelpaSQxi9lFDdg2PfC72lSDu2P5s3xVQTNMPZs2dxX31EBGvPKceDPdcQ0xDl48ePJ0KQA0DaX3GdB/z4BAWGRkZy7qtlr1pKSkZEeBx7DBX+8OHju7cJ1CsVwM0g8JA5YYKty8wRy5bue/7sHZXEHggLi92149S5c7fYI+Fi7X7IKz5OJ9iBmTDDAYYDksABsWvWqGSNGjWwmxKWa5wrpeqMKfTatWs4zgTNGisMysrKQ4cOxXeo4BorhUocAdjQa9bUNzKqQ/QakYvwvRJiZtZaU0vV28t/ufsYkfEUz/j4UXi7do06dmL55elj0/n+/TfsDpTZ4Z3H2C1fur9jh6Y19SVuZY+dTgkJs2wgfC4IKFsqKYMMvkgEdKtUNgRinGLYlk1ZTCmEA2XEbpxpNDMzmzp1apcuXUjBkNSrV6+GpCZ26uHDh0OzxlY/7A+RBHmtp6dnYWHWoUNHmHEwzYhGEoa8l+cV95UTtbRU+/R2mTtvJPE/CQ7ATdqG9UcDbzyA5+IRI3vLyv5piLS0rHVrvW4FP1JTU4VrTV5yw6R94y1bjufk5MMBRci910uWjuXVp5u3MMKp6Dmzt3sdXVKlCtsJtt8Z4GNz29YTUVHx9erXmTTZzty8BVIunL+bl59XXU5u396z4yYMUlGuXkNVOfjm0zOnr8rJyQGsV+8Oq1Z6wEWnqloNeCDq3bvDb3xS+f9XpV9XLl/Zu2/vu7f4RvklIXX4+evX9++sBU843zh08ICEUAUyYLQ0M7eY6eICu5HkUFW+KfkjI8RaT+in+/fvv3nzJlUKNsNTkhqRAMBKY/v27SnrFQUpjgDWnbEz4WN6Oh8bmZmZuY/PxYAA/1q1ajk6Og0ZMhTeHYUiJuxNPK5Ubd68DnIZG+vDbz1cCSMMCTvEzm3AQIubt/bCy/DWzScfPQ43MNBEUtbnr4MGznVy7rdi5YTc3AJI7Zcvoxs3rl283Nq1tfr1M3Nx2ZqfV2Bp1a5Va+PiMFTM1GmDBvR7cPiQ79hxnGdKL164u3nT0c1bZrZoWff1q7jJk9bOmDnM1rYrroDC8WVNLZUDhxbhXpIN60/AV73T6N5BwXvgKdR24Ozjx6/PcBmy3H0svDCPGrGoSRMjkESVKF0BKAoLFy7cuXOHxJKdnQ3z9V8+7f45qbFHDvtcvIgVqQ4dpHue/uecFJAA+oV1nTp1sP+muPUAC8dxcXGUcMRmKQ4SkQWHkjkiaX999er14cOHAgNvJCQkFhQI5K73/fv32AS6adPGHlbWA1kr8oKqXcePBdjbdydVwKUb3t6+RFjjehFDQ71Jkwfi2DEOGS9Y5Dh8aJGB6OzZm61aN3B27oVcULdXrBzfv68rVyZAlGdkfA688XDwIMspUwZxhaEioX1v2uIy2NbVzLxlvXp/tlFiqli18uBhj6WNG7PuN2nW3HD33nm4WMTGhjWp4LCyp/dC4joOr3WMdOyHWCCA20OsrDohvnNnlhGmRQsj065tXrx4J73C+vLly7t27URd8CXR3bStmirnGUIkMQ87B16GRT19GY5j4uPGjQu5f19RQYE9lQmLgwP0C2vIXF77Ov6tkSs1LW3hwgW4wAL7BUVgZUHBt5TkZOjjvOwSHDjhOf6K7137od0TE9OQ1LChAQ594WLsWrU0Hj8O692nCyQ1ebBPo4d1h6dPwvD6+FFY/wHmRQmVKrGSrDokJhb5cqPicQuqo4O7ra3FfDeHwbbzAm88Ne3a3NPzuoODJSVbKWASaNBAf/qM4S7TN527sJZKio76IK8gTyQ1icRdJ9Wq/hcf/xGvKJodWzuTplRGHNFu2tSIepWVlYGfYupV6gIHDx2EGiEnJ3vj5Kb2LepKHf1lT/D3Hz/nrD687cCp+Pg4P19fCdw7X/Y8EXeJ9AtrcVMsGv5Xr145ODhERcEcWalq1Wpdu3aFDb1evfp85o9Dhw/6+/kBXlVV1c7O3sHBsWnTJrCcLFq4UBAarl199PPHt7muWylgZRX548eu4urS9I8ZCorVqXgElBTlyOvHdM4kRaWiJHb4PbsvtG3baJSDFSJ375nn7Lxi3fppXh6XHB0t2cE4wqOdewcE3EdeHLwkSdnZXykzOonB9KCppZGXW4BXlpM2tofjHLBodnw2fBIUJJ57u7ZvyUhqAVulapXKsycM3nHwNKzqb9++FTAXA1YaDlQIYQ2zjK3twJQUln7au3efZcuX1zM2Lm6oYedjQkLCvbv3WrVqjQVGHOrBZhX21BLD0L4PH/bZucutcxeWoYA8r1/HO4xaPG26XW1D/bjYD7hi6XdKJThII2FDJMV96Ny5MZWU+DuJikHg+bPwCRPtSUy9+jVXrJzoOGrxQNvuHPKUPQvCuC5k0+YZfXrNaNiQZUbHo6enkZyUgT18SCIxuF/1bWSsOt+rWglkefol/vZUlbnMiyJXM+PzF5jCNVS59Jz0zCxMdTWUhTMd/Pj5Kys7R1VFdL90+QXfcvMKhC2XFwcUq8uxHK7+Yt2SwwuGiaeRA2LfZ00jraKhwhkwZ2dnIqnnzXfD6XacvOIvqVHQq9evz58/D38Ro0aNElZSI/vr17EZ6Z/bd2jETnOTJgYa6jXu3nlpbd0em6+xzEhSMzO/nDtbdAl0z54dvDz9yN2mSE1L+3zxYjA7EhJu0qyev/89Kl5Do8Z/lWG7SIKneSqSawBGmEWLx82Zs4Wk6tVUx319p07dpIDPn7tVx6imtra4bhWhCir3gUETVzW0GJP+KYejphlZuUamTuPmb+eIL/E1Pilj8OR1JYLxAbh259nYuX8+9fhAMkkSyIHyr1nv27//eeENnlOmTJ03d26JYpo0Uk9r69K0FswdgwZ3Y3cYT7ANG2Ht4XHliMeCTp2bDbFbYGdvUfDth8/F2wNtLWNi4gBjZtbiypW79nYLsR8DS4g+F+/Y2/fEvhUOYsaM6TvYdu6kiRs6d24aH592+fLtIx5LMQGsWe2NS54oazhHLvI62M4swP9eSMgLvIIbGzdNdxy17PmziBYtjbAbJDj4iYfHEvbjjlyRMJGCcAB7HH1uPBw9yIId+OSlmxql83zEjo0JVxwOlHNh/fXrV7i+RHPWr99g/vz5Akrq0jf/yFFWtWrpFMczxL5b27YNcI3Icvdxjx9F3LnzpEYNlX373ZSVq3/8yPKKULlKZTh9v38/LOTeMw0NtcMei7BdJCvrCwcqaL4B17Zfv/YIN23DcuLrt1lFRQF3ZoeHx0C5lpGpQsG7LXDExSLUKwIQ5Vu2zcA1feSeJ0ND7cu+G/397kdFxbVs1WDefAe4rgdYH5sO7CuxqFG1an96y/8m9sc9IxRal5n28vKy1CsTIBwYZtvz2IUb7MIa63JHTgWMGdHv6Ys3FJdS0rPi3n9QUVGuZ6hbmW2mjU38mJr2sa5hLfUa3A0m6Z+/VpetJl94X9eXrwURUfGKCvLGhrpVKsM8UfTkF/wIexcvJytTz1DvdxzzXyo58Gf4SSX5JRF9L+ReYkICoKZMmULLJRTKSkqycrJfv+bgQhAYptlG1l+kNGpk+Nf775fq8rLUJop2Jg3w9zulkoJCkXDHjNKxY2P8UUnKyn9JWxIPN1LUHSUkBsK3Zcv6VC4SMDTkMmfgxqamzf7s5cAlftDxOTKqq/9lbNXRUWMHqFlTg/0Vt5+wvxYPR0cnwosT4ovfoFocuNzEtGtW9+adRxExSQ3q6JJKPX0TW7169RYNahFhDdnttt4rJPR1LR3VlPRsrByc3r1QRVEu43PO6Nmbvn3/oawgExmbMnZor0l/3yiGZb3tnr4hoWH7Vk+pVKnaMZ/b6/eerldbO/trPnB6bJytp8UyZAWGvJyz6kAdfdxN819ObkG/Hh3LDW8rYEXKubC+e+cuGhXbP2z69qWldXHFZ5fOXS5d8rkZ9HDd2qMOjr3Zr62jpYjyhyQyIo5YybGqVkpH9dLFHGyZGDGwu/f5IPeZwwnlh076jxjQjfrCu3LzSXR8UtCJNYDE3D9lyZ6jF4Imjex1+PQ1Q32trUsmIFdm1leLoXN7d2tH1R1CfN5aj4xP2R4bXWSrVXkZ8X7D3lNXjrjrabIE9Ikr98bP23r50JLUjOwpi3Z6bXFtU7jJ8nl4nNOsjXUNuEzeFGYmIMkcKOfCOjw8HNyva1y3lP7R2ZvQde5ceD2GgWX1qgNbNnvDcMGeyoSLcyD3ax7ZMDBqlANWd4sDlOMYexvTXg6L5k+yg7ECam/gvWfus0Y9fBFFqqysWH3O/+wgqfGKr7Q6Broxse8Lw5W/fM2DjowkVWX5bUv/B3PH1zzWufMvX/PHuG5p0qDO2nlOJKP3hcCpowcSSQ2AIb077fb0if2Q4R/8yMqsDZHUiG/RsPYA604vw6IRZh5p5EA5F9aZhe5xNTVYJ7npepo3a3bEw3PqlCkpKcm5uXl0oS3feOBFYMjQYfAGQymV5bu+VO10NVTqGOjceRxm1aX5Of8Qsw4tNFSVqFSL9k3Coz/sO+4fFZ+CnXkPn4WbNK2DVGd7y+lL93QfsaBts3qmJk3NTJqoqijEJKZnfsq2m7T6Y8YnIwNdardl6IvwqzfvHzl5hUL75m18RFRc+NvY1s3/2o/UrKEhI6wpLkldoJwLa3K6nXZ/I9ZWViEh9319r8DvK9yMSE6rnz59KiMjw9CwjnXpdrPQWyMNTU3L7pYtW7agvSHopVMc2DA5OQ6y9Dx7zbJTs0On/NfOH8deyv6T1y8G3J0x1tamm4maqvLBU9fJpqAaSvIeG2emf/ryMjLu2q0nizd6wJaNg8HJqalr5o1u07Su+ZA5Fp1aYgIANqxJLnZxMmluzI5ZXVU5IPgx5d2BJAl4+JYdDxOWHA6Uc2EtPkarq6thC7b48IuG+e7duxDWTZs2XbeuVBtyRSudycWVAz26tFy4/sit0Ii8/G/tm/85yw4rx7ZDZ696r9YttDUjb1o6a0cQnimLd88YM9C4to65SRP86eloep0LHDO0Z6P6dYmA3rVy6oT5W4NOrNNWV27ZtH580seBVu1JXvgOm7p49/wpQ5s0MHrw5LXjQDMSj9/Ql8xRQ4oZ0hdg7K3S12YMxdLFAUV5WWvzdqNd1o6ytWTfPgSNWFG++qOXRfbrBy+iLl2/X1C4Z0a1hsp2z8swjKCm377/DH0Zqa2pyl5rUzgbGNRj6uJdkPjD+1ts2X/6zbui2y1OXr7zLi5JT0t1QI8ON+48DX7E8jmD5+6TiKu3nlbAjxtS/XLwy2jWojdiXl4+zNYSdb8qscnk5OTghL3oFaM7J86G6Ojo8HHDQneBEoGvlq6GkkKRB5jRdj2C7j4e3KsToUxBXk5PWw0nj1bNHT1tye5Ne09WqVpNW6PGgXUzx7tu8LsZOmeC7Yxle9v2naatppield+6idG4IT0+fs4BTqpuruNth09fdznw8YAeJhsXTxw5Y52aSvVv33/JylQ7tH4mdlpjd7bnlrkuy/dgcbJqtarKCgobFo674H+bwsAEpIsDjLAWpb1wbcfu3bvhofv9+3gJvFQwKCiwTZvWolRMPHmqVZOp36D+nDmuAwcMEE8JkojVc+NMiqxm9Ws99d1FvZq1a4g/vFp0aPbQZ2tSykdsvoawhoR9dGkbATu0bnpK+ucvX3KgZaupsA7F6GvVOLJ+GoUEJ19Obp9LXm2t2vcya5Oc+hFXeehpsaYBEt++hXHwyXUfUljxupqq0OvNTf5acqSwMQHJ5wAjrIVuI0jniRMnnjx5QuicFTXDt28Fr1+9cnJ0iF26zMXFpaKygXu9ofZiawfXNG11FfxxTSoeWV22ah1uh2arVa1cu2YJR5aKY2NiJJADjLAWulH8/PyIpNZQV3Wy76mj/mcnltC4KkaGt3GpR0764jrBNWtW9+3b19jYuGLUm6klwwE6OcAIa6G56eXthTxwlBF0cmNj4z+3rgiNqCJlwD6zYZOW5eXl4epkOGmpSFVn6spwgB4OMLtBhOZjclIy8uC4ASOpBeddP0sTrKoBPjIyQvBcDCTDAYYDFAcYYU2xQtAAOWggw+aCTpCc2Tm5SakZXE8lfM7+mpr+mT+S9Mzsn4UbudjBsnD0uIB1BLn48zEzCx4kOOLhJhsOJTgiRXv9mpuPGgmeFy4syK41xlG94ExjIBkOsHOAEdbs3BBjeNXuM/omw+4/59xRh1taejouamPzZ5WfKxE2Y90TUlknJp68jrl65xmBmbfO0//2i+Lw2J9rNXJB6OtYjqSbD14OnryGI1K01/3H/VfuOClaXiYXwwGGAyJwgBHWIjBNxCy6OlpHTgdwZH4WHpeQ9BHO/Djieb2+CI+9ef8VSR1g3bmxcS1ekEy8WDkAJ6WzVx5wW+9RvJSsnDznOZs8zwUVT6JiktI+u+84RV7xhYSzLSS8+6jfy8gECowKJH/Mws5rCoyK33/C/9pdLhM2BSB44MK1EHgvERyegSxjDjDCuuwY3tfa9Nb9l5+y/7IeHDzh72jfq2qVKiLQ0aFl/Vq6aiJkJFngxS301bs3b99ziAA4Pn74POLZm+j8gu/syBH/+OVbuByCnGKPr5hhWKV8gx5vO3gOVwRwcMD3ZujR8zeevi46msiRSl4h0AMLL+vB64jp659HvCfxUe/TPmV9LZ4lOyfvcuBDfIdxJD16Hvk2NokjUrRXuH96FRknWl4mVxlwgNkNUgZMLipCSV62c7smV4IejejXlURBcAc/eHFsx8Izl4MRA8PF1kPnPTf+2Ylsbj/La9tCeKYn8MOnb7hx++G3b99PXbx24/i6zUcuW3ZpY2PesqgAYf6dv/rAfdtRYwPtvIIfn7NzDm+YZVR4gYC3z+2tB84Z19bKy/8eFZ/kvWVe84YGQAz39uv2nIIT/XzWTTQyzX9fuStMmeUQ1qJrh2MXg9wm2bHX7fDJANu+VuwxgofXzBlJHWkRPBcDWRE4wAjrMm1l5yHW7luPDe9rSjyF4sOzQ6tGar8vgsFdKhyrdhCjP9iujj62dfaRs0GRMYmrZo8E3QW4wPEH5yoiVZ/wd/HVKv+liL2NKXIfEf0+dckmzwsHlhrps5zHXrn5FJ/tQcdXp2Rkr9918vrx1ZqFbjxP+YW4bz92eue8Z2Hxa3Ydv3JkRa3C+2Ku33sxfu4We5uiKYcqsQIGRg2yXLPda/Y4W5lqRd9GkbHJKWnp/aw7v4tmKctxiWlPX0cP+O1lCTG7vC452fUkvMrKyd955PzbmPcHj10ObVxn/PDenudvtW9Zv4mxKFdwwUvftiOXbt4LVVZSHGHbw753J3JJ2P1nb3d5+ryLidfR1hw3rHcvs9akdFwntvXwxdv3n+rpaI0f3odEMr8SywFGWJdp07RtWhee1aITPtatpYllQK+zN1bMdhATBUfPXVWrociOPCUts3I1lnH8xOVbzkN6EkmN197mrbYdOh8Rm4I9GwumjySSGvF1DfSIL3zvCzfGj7Ahkhrxlp2ad27XFAHmMdRT19VWv/8ssmu7omPcR05fG2FrWe23XQvz4mm/u+zCeuvBc4P7WBDW4faAWrqa1eVktbXUdApdNd168BwOQEQQ1jBSDRzvbmPZ4ei2+Z+zcxdu8IhPTHUdP/DJm9jJi3ZsWzYJl369jUuZOH+rhvrsdk2NPmV/7eO0EDL95K6Fn7Jyl2/1hmWmQ8sGTJtKLAcYYV2mTQP9a1Af06MXAhdPHRIWlZjzNa9tM2OsHZWSiPnrPe8+ZG0RkZWRObN3maK8DMLurmM7tKjLjvnq7adr9pxBzJPn4eFR8ed8/6yARUYnvnjzzr5Pl+pyMrB4vI6M+f6rclxCMtmnCDf2tr1M2VE1b2iYnllastkRSm/YwbbHoVMBRFhDYvpcC7l2dPWlG48EqRGujxlp2/3klTs2lp3aNK7NP8uHpFTLYXP+++33gwC/i/nQsilLwgIJ7haAdEZYX6eSx6ZZZvauE4b3CrgVOmu8XefWLBgt9RoDepnee/gCwnr/iaum7Vu4jGZdd6enVclj46xWvSczwhrckNiHEdZl3TRwaNl/zOK5/xsMFWxYf4tqVYs+n4vTgX3VxElm8SSOmDnjbac6sD5jYV1RUpApcf0PfjJdJw6z7MxyXU89qipKj1/FTFuyc5rzwHHDemqoqsQnZ4ya4g4AwHO4sWfWGCm+WXdtuWSTBy4Xxxx5/e7zRvUMdDQFdehBISkeuPP4TdrHTMTjrKy1WTsEtLXUvbbOp+wtJIvr6kMkEHgn1LCW7nn/u+QVv/hOehEePWvMABjBC759T/qYHRv/ITjkWU9T1iJHyJOwmWMH/QGWqdqne0fqlQlIIAcYYV3WjVJbV62Wnvb1ey99gx4GHl/LXnzVqlVyc/OpmMysHGzwol75BNRUFCvh7/fzoyRpDXf1sYmpetrqJAfAXdz3Tx3d/9BJvymOfYf26UziUz9+IgG4sb8f+qZzq3q/S4Ab+3dGtbSp14ocwK0ull1an/W/52hrfvBkwGQHm//oYAd26cDKDEwwknTv0gYBXDesq6UmK/PXmJWvzrJr4UlN//Tz54+C/D97jbqaNFZVVox+n7J4k7esrEydmupNG9Zt3bwhgU9KSq5R6MyPvOK3hnL1Hz+YfT4UPyQu8FfDSxx15ZQgOKGf7LYFH6E6GsrsVcSF1i/D3sUkpNXR14QA3e5xpVpVzgbCZervk9K+//gh2m4/UtwQG9Puw1x7mbdt14xlJ7kU+PjRy7eGNTWVFOUfv4wa2rcrFqY+pH7a5XUFu/qg3Y+y7TZg7BKb7ibYDYLRfM7//quIOEZYU203cmB3t3UHzTo0i32fZNb+L2s+vnXYp05slyT33lJ5eQXGD7PmlcQ1HrbvPpadbK1MqNT7TyN0NNVsnBdvWTKxQ8uiiRb78ypVYknk2gb6ickfm7I5t0n5mMV+PySFhwlICAc4ZYGEkFX+yNBUU6H2dfQya7V5X43xw3uRasISUqdQS1VXkZ83eXhPhwXYq1e1mtzAXp17mLUj96LWrqlJDCbm7Zt6nb3W1HJcgPcaeEBWVGA53OB4ICAM9bVhfeaIh3eOWnqs7R91DbT3rnGZtGC7soLsz18sRRAmS/hHnj66/9ApqzsNnKmkWL3Sf1XXu41xW3to3Z4zuJx78+JJI6avraEo91+VqrVraq+e5/wu5j0H/gr72r5FXZhB3NZ52Pc1l/tb81WtoRQZFYc5j9xEfuvRa2LcYOcV2ovqG+zxQoWtzNrt8fKxsWhD7CT4Jhs7b9v1Y2sTPqQ0rKtPUGGe8A18MLAHS6D3NGt78EQA1orR7njFzpALAXfGDi3qk0IVzQCXDQekXljDloq+jocrvxDPH4BrLv6RouGcNaY/hVZZsfr9i1upV11NFX+PZeR1mpPNyIHmmZ+y4H9VRbH6qAEWcrLVUOLJ7a4EoKa2qr/HchJeOn0YhYQ9UOW/Suf3LWKPIeEubRvjj4R7dm1l3qEZ3N5DQ8d+BiJKamqrBR5fU+jD5JeuljqGve8RFmEgwKZbm+6dmyenpisoyGO7CGIqVWIZUgV/BOEbgREcpyCQ6AAl9gFBaOMoC1nYH3yOuK3Zv+aWFyIBSSU1MtKFxd9lxYGeXVpCIAbceda6ZRMqlQAb1a45d8Ue666t5k8eRiXxKY49iYIf0KP9CZ+bw6fh8rBuX/MKth2+iFscddQVe3RtN8pl/Rj7Htk5+ScuBXfr0ibg9lO7vhbD+pqeunzT2XXL4J6dsDME/gPs+nYj2Njx8wkT4F+/fgqViytCYEAbIYkPKgqGK4aKECn1wpo0IWnp4g1GRil+8RRPFS0GqPgXKhpaKpeqsgL+8IqCsFuABKhUGgNYgIICThBS/CncTFZ0dxQVSQLQGYvDC04PkJTINwIjOE5BIFGogOWidDyC4AQMVu32rJxS31CHZHG279GuubGBrip57dm1ZZc2DRCGw68Ar5UeZ6/7Bz9q0aQeTjxdvfMCtzKiZVfPGUWA1813evA04r9KWLX95eLcr6a2Bolnp0RPS+XA2ulVq3Ku9E516qesqAB42LJP7Zx/OSg0+P4T+epyW5dMNGlhDAz7Vk87deVO0L2n2GS9032ynrZqcEgTheoygL+4f8nF6w9u3H1aq6b2iZ3z0eG+5uYVL5qdDPYwIPGUyFv2LLzCBA9SC1FybwIKhheSch8v9cKaNCF6DNemIj0Jv3i4AogQCVT8CxUBZ0XIIgjfCAy93CDjH5jx8MKMJGHbFLi6spmnMb92NfljrTbQ+3NZIi7lcnH+813Vr1vRmRRqnxyuSOxq0oTQ1qJRHa5EKlSXNe/w1+4dAtasgSEFjy8h2KzZzdZIQuTIAWb4o8CsuhYRgCS7Xp3wRyUJFSjkKPjGaNZCsU10YKkX1mSYYaRx5QEZgWS4cgUQIVIcOEUgQ+qyCMI3AkNv1X7LFFYv4IVZENp45a2w8SyGMpp1GTa/1Atr0l0wILkyjYhyMly5AogQKQ6cIpAhdVkE4RuBobdqhSKF38IGihOENnqpKgfYwLRCvjGadRk1ptQL68LuwhqPXBlGRDkZrlwBRIgUB04RyJC6LILwjcDQW7VCkcKycuDhhRlJ/DsSr4wVOb6Qo/TwjfAfzCQ4uXKVguGaWhEipV5YkybESOPaWmQEkuHKFUCESHHgFIEMqcsiCN8IDL1VI+Offx8QhDZ6qSoH2AhLGZt1mTWl1AtrMswwILmyjIhyMly5AogQSTtOOEqdsXTnuOE2ndsUnS4jVGV8/oITaGQawh1deXkFrO3PIj2fsnJw4IXsqN148EK/Hp3qGWiJhEn0TILwjcCIXga3nL9lCqsXcEtnxQlCG6+8FTaexVCavkgIHtIQCHNlKQXDNbUiREr95QOkCcmA5PpbIgDXXPwj6cV56fqD0FfRWw9dQIdjL9dimFtGVi6Juf04fPKSveypQoUHjHePSUwnWd7GpWZ/zRcqO13AgvANMPQOPCDEU2IVBIEpEUlxgCNnbvhcf1A8Xhwxx3yCcRZGHJj54KSLb6xGKqmZAEBv35AubFIvrNGNCluZ50+JADxz8k6gESfOtnmdCzy0Yc6zsOj3ybhRV+zP9iVjWzWoJfZiuBUgCN8AQ+8QAkI83Mj5K04QmL8yCPCS/PHziu3HFm30ys0rYAfvNGhOZlYuibke8nLKkr3sqUKFrR0WxSd9IllwoURyepZQ2UsPTBffWI1UUjMBgN6+IV3YpN4Mgt5W2MrcW5E0Px8AEVqLXpyvIuN//vrRpolh3+4dTvvenTWmH0iCE2TvswGpaekb957Ebtxf/1W+ePXey7Ao963eowb1qFNLJzI2adthn8fPXhno60126m/WjnUu8dGLt7l532A82Xf00pcvXy26tHGdMCi/4MeOw2fjE5Lh5L5lI8PR9tb7Tlzv2bW1sQHcj/yCI+YdRy5Gxb5vWM9osmM/4iok5EkEjmckpWUePH7l69fc7l1NZo8bKF/s8LqwrBOEbwRGWMz84Yk84t8HBKGNfylcU6HqOg/pHXz/WfCjN8TXHQHL+pILFRGF4hU3TuCqeBLmioR/JG6rQGOR7Dj/olhdRmRU/AsqnoqC8DA26+KcEVOM1Avrwu7CGo9cGYR4/gBcc/GPpBfn4dNXHQdb4Tjc8AEWY1w3zXCyQVhOVqa2vjZ8NunraamrwdlTZW1NVQX56ohEUtyH9AFjly6YNhJOsSNik+euPuA2eVgfi9YPnkWe8Q8xaV5v54qpuCFw3pqD89Z6rJzjgFxwulZTRwPu7UH8jTuhbZoZ162lgdNuizccWTN/bKvGhk/fxDnNXL9x0f+sTVvcDQ3zDQ7FJLF71XSIktkr9i3edHT9fCf+bCkxVRC+EZgSUQkFwJIov1U2XhkFoY1XXl7xBd9/nLly++hWVyMDncOnrlp3aQFI6Nq3Qp59zso673e7WQOD7z8qwWdpdHziSZ+b3Tq31FBTyficc/TCzdDnbwxq6Y0ZYl278HBNZMwHNGhewXePMwE5ObndTdviJEtOXoHfjfsf0zMvX7vXpF5N844tAkNedmrdQLfQOxhuqDly5npMXEKjBkaOg3voqLNchuFY+YvwmAZGtfYevRIdm9CqeaPRdpbK3NzL8KoUezyYRhffCB4gL0TJbyyzE1DRwlJvBiHNTAYk198SAbjm4h9JF87PX/Ju3Hk6wKoDimvRsDZOst19EoGwnlYNSHDVGipD+3UzNWlmatLEysykrqE+IuEkc+2e03AnP6KfqZZGDdO2Dfevddmw7wyuUkXGn9/zV7uOqqOvBVdNGxb9z/fGPTmZasilo6U+sFfXXhYmVL1wI9i81QcOrp9tbdoSPukho/etcVm8yRMehQBTpdJP95kj4IfPuLbOugUTrly/B3MNlVfkgCB8Awy9gxAI8ZRIsyAwJSJhB3jw7K2WunLtmhq9zds8fh4OxyBIhSL8PCw6Ly//VWTM+w9pcR9SY+KTMjOzEImbKNIyv/QYMT8z68vYYb0M9LQGjlse+joGufyCnyzYdGzjgXO9zNsN7Nlly8Gz6/adx3XGyIUD4mHv4qLiPgDM88zVpLRPCNx7Gtl3zFKIfuCRlZXtNsT1eXgc4uM+fHRdfWTy4t1N6hs62Vs/D4saOmVNKVuWLr6xGqmkZgIAvX1DurAxmrXQ7UW6FKtnlbrrnA+417FNo6qV/8OHMOgY3Lsr7hyB/CU0kSJIKVQY37zB9560bmJ01vc2AcNGkdj3H3D7NWC6d2kL76Yki56GMi5pxFCsVuhQgmBAFhKIiE6Ul6/eqnFtAox4uJLI/fo1IeUzYqC7wRcbSdLTVM5nXfZY5DeOFCrCL7BBXuAXD6/sSAIMr1TR4oEQT2GxJZTLH0bY0vcf94NARGWUFeV6dG179ELQzDH969XWWek6+uKN0IXTRqkps/b21FBROnXpFiIRnrvWY2g/c1wlgXCXdk3r1dFfutnLZ/9iEBb/PuHOmY3EmbW+ns7wKe5zxg9ErqAHr2f/b6ihHuubiTzfv/+csWz35iUTu3dkHX8Hnpra6q6rD8L/FwAi38V4bZ6NK76QZNKqUXOriR9SMw10izybI1LwhxRXIm8FQQhUwANIgpNrFgqGa2pFiJR6YU2akLR08QYjPQm/eIqnihYDVPwLFRAtxKjn2RspKSkmfaf8zvIr/VNOanqWtoYKYgqpLqKcChcUfM/8nP0qPFqG7YoZ+95dCDj8XwOSYKOysAcotIX7AuUpYMTDBauutuaXwo0ikO9UEkd2glyEX+ApkW8ERgTkfLKgUAHLJTXlg0rwJHgDfxEWvW/1VOBELic7qwlzN09xtMHHE15JQSSJCmMaDgh+BCH7OjKWFKQoXy0yOgGLk4DpZ9UF/hdJvFEt9ZzcPPSfqlVYzU0eCm14dOLPH7+6dWyKeALfr7uJ25oDaZk5iIHpA86nSLy8bDUtVQVcRUZBkngBf0m5jM1aQHaVHkzqhTV6DBmNXHlBRikfAK65+EfShfP1u4QvOV+fBexlv9lrxIwNZ/zuThrJcitMyMYvexiu77Q11aeNtaujp0boxOUAwfdfKsjLssOzZ6Hi2VHpaanhkxmW0N8juhJMolhpVFORp8AIfo7sJFKEX+Dh31iEZtEEBx96fssUVj14gQlCG6+8XONPXbkdFRPftPsYkgpBnPAh7dGLd+QuRBYphQ9Sfwd/5eV/T0n9uGnvSbIdnmSEh9X8b7j5B071quGXRJKPJyojCVCoktIydLVqQE5T8LIyVWrV1PmU9RUx0M2peGRB61PZCXLBf0nGEttUEIRARdqdDzEUjCAIyyWM1Atr0oS8RjjpSfjFQ1f7ARX/QgUsaK/3leEDusGFJjs8dmssXH/kfyN6VqnMWk7AICeU45dYkxFpadpmx5ELG+Y7YykSr/efRazYcfKaVzPAkIcg/P1W9J/KTt6NDLRVFOV9bjwe0KPILfX5gPt1auvrqBf6qi4EKo6HxIj2C5Ql8o3AiIafVy4UKmC5hDO88AgeD2uy59mrD6/saVxXj8q1zePKvqNXuhSeeyIF4RepVBjTsFoNlb1rZ9fUYn1X4fn582dMQoqKkhwFQ+KpV/YAksgrrrlIy8gmrwQe4j7hQ7KSolxuXtG2fRJPZUFGKkbwACmO0awF51gpIaV+gRE9hoxGXr8lAvDKyCe+9DixtOh/86FdH1OOUrq0bZSV/eVZWCzitdRV/jdvk+eZawjr62rcvPdkotvWiOiEOeMH3bjzZNqyfVduPNh7zH/C/K3LZzlUqcKPD0a19aYt2rp5/1mqOKhv290nu609CEF/JfDBih2nsC9w86Lxpa8aVUTxgCDIAVPKPs2RHQjxFCeGI0YQGI4svF7vPYlQUlAgrq4pmAFWHQPvPsNpVSqGBEAtpmQ8qHeHNk3O+N4m8fh9/S5xxIyN+Prh81DZKRjcC5Odk/P4VTQVc+vBKzXVGjpqilQMjQG6+MZqpJKaCQAcjVuhXv9S66Sx5uh2ha3MvRVJ8/MBEKHKtOAsKCjw3uKqr63KQUB12WrHt89TYZ0y/+/CvsUPnr3RVFVBuIGhzp2zWyKjYjVUldVVlW+f2XjG7x782WtraV46sBRqMvD07d4Oi0sAJjhxv6rnFld8AiNm94rJ95+GyVVjmTgXTRliZKCLQKtGhjdPrTt2Icj/5qMGxnXunt+spiyPvIN6sm65pvDIyckc3jATvo+pGIJf2F9k599YpFDACIuZPzwRTCgdDy9IJJVIG6+8xeMPnvR3GGRJLt+hUg101bqYND3uEzxxRE9sWl+767iVaSvctKupVuP2g+dbD52369N13kT7ng7z0XA9TVvghJTrqgMLp4+AlayQ9j/0U68I4JbFNTuP9jRtZdurC4mHho4tmM6zNy51GYUtRrixHpev7187AxfWUBkpqorHUEklBkheRrMukVF0AUi9sKaLEWWMR1NNGX9cC23Z2IjEKynIWnZuRcHUNcCGvCKHHtgb6zy4WyX8sT21a/7l7gNj06Ija28vHgxg8/bNSLh1U9YlueTRUlOeweYXn0SSCyF/g1TCvV9m3NzeUwBMgJ0DWPczb9/EtnDCY49HeMGUobEJKQgc2z73avBDqMwIt2pkgH3x4W9jEK5fRxdXa+KGrckLt2EaXu821qw961ICM5MmWJlAgDwQ34umDSeTwY7lEy9dC/n56yeSxg7pQaZ/HMDR2jh73zHffd4Xcdzp/L4ljQsvxq2ppTp+6F/38E5zHqhduAX7N27mv+RygBHWkts2DGXSyAHI0LFDe3KlvFmD2vhDEjbw1XNgHVXFA4UX92Hij7wiad08JxKmfls1KZq/SUzVqlWd7Ytkrp6W6oQRvUl8P8v2JACdt01To72rqF1GRZigH2BTf9FL4b8hfc3ZX5mwJHNA6m3WksxchjaGAwwHGA7QxQFGWIvIybz8byLmrJDZsEGCfPX/958kdjmot2iWr3lMmwrRO3HiivYFBiGKr3igkjhyJLwVdHRZZwqev44Ii/4g4aRKDnm+wU9wnBr01KtfX3Kooiip34BFVciTMCzrUZFMgD8HTl+5hXOtgNHR1eUPyaTSwgHGZi00G4cNHebn6wv3Dt2HzBo7vK+qiqLQKCpYhrjE1IPHLmHXsJycnO3AgRJYe7Rp6OPHcHNobjfL0b6nkoKIlzxIYNXERFLYu3jP035Arqys3Kd3HzGVwqBl5wAjrNm5IVC4b9++dnb2p0+fSkr56L75sEB5GKDCvYBz585r2PCv23AkhDEODg5+fn43blyPjktYsv6AhFAl+WRgqXPVqtU6Oqydo8wjbg4wZhChOYwOumvX7mXLl+vVrCkjIyN0/oqXQVZOrl69env37Zs5cyY2KkggA6pXr+7t7e3iMlNTU7NatSIXHBJIp4SQhEbER1KzZs2PHz+BeU4y21RCeEUjGYxmLQoz5eRkZ7rMnDRxUlJS0sePH3mhCAsL+/HjR9OmTXkB0B7/4+ePy5ev9O9XtC2MdvxcEUIn7dyls7IS923j2O6tpaWto6Mj4UJQUVFx+fLlc+fORZtmZmZyrSkir12/3qZ1azW1IscsvMBojE9OTr527dqoUaNoxFkiqvMXLvTv17dy5SpcIaGvaGlpoU1xfocrABMpDg4wwlp0rkK5qFP4cEWBhfILFy5kZGSMHj2aK4A4Il+/fn3i+PGZLi5lJk1wOwH0ZeN69bp36y6OGpUxTgUFBWNjY16FYup1d3fXUFe3tv7raAkveFrit2/fHnwreN26dehvtCAsEUlm5if0Int7+5Ytig5VlZiFASgDDjBmEHEx+evXr7Brnzt3NjmZdWitbJ4DBw+mpCRDuS6b4lBKSMi9Fy+ee3t5QZCVWaH/qqCoqKg7d27v2bMH3gLKhobv378fPHgwOioq6GZQ2ZSIUo4dP5qWlnr82DFmZ16Z8VyQghhhLQiXRIG5eu0aPqghsr28vUTJL3weKEQXL5xHvv0H9pXNMMMGj3379uH3wYP77969E55kKctx4sTxb9++RUW9u3kzuGxIv3nzZnR0FMo6dPBQ2bRpXl6eh4cHSjxz9kxOTk7ZVJMpRRAOMMJaEC4JDYNx5eFxhGTz9Djy5csXoVEIn+H8+XNpaWnI9+L580ePHgmPQOgccXFx/v6s/VvQNMtsThKaSpoy5OfnHz9+HMgwOe3evasMviRQ0KFDB4mMDgoKLJvpMOjmzbA3b1DN1JQUf39/mpjHoKGBA4ywpoGJxVHExMTcvXOHxMfGxgZcvVocht4YaHyUuMQg9/D0KANF7PCRw1DESEVOnTxJhemtmoRguxEYmJCQQIi5devW27dvxU0YYyWAMAAAQABJREFU5sLr16+TUshUIe42Bf59+/ZS9UKPEneJVFlMoEQOMMK6RBaJAnDixAl2ybVn9y5xd/qnT5/iWAdF64Xz52G8pl7FEcj+8sXby5vCDJvPVfHPSVRxZRzA/IcvJKrQgoL8PXv/CDUqnt7A0aNHqV6EA/He3l7i/kSLjIy8fu0aVYs7t28jhnplAv+WA4ywpp//UIKwtIjdagS1srLKw4cPnz17Rn9JbBgPHznSp49No0aNEGdpaVm/foMLF3zY0ukPnjt7FntdUDuglpdXwEk2bFUW95xEfzUEwwidOigoqGZNfQKurq5x/txZPjv8BMPKDwqWpXv37h06dBjXkwNu6rTpHTp0xB4+fnlKl4a2279/P/bDkNMDGhqaiDl7jnVhRekQM7np4QAjrOnhIzuWx6Gh/fr3f/jgoZFRXcS3atXq7Lnz9+/fZ4ehNwz7KTYIwqKqpsa6phqSGqO6ZauW9JbCjg27FAoN1gFKSqzT9ubm5qGhT3R1dRMSEtnByk0YC33u7iv8AwKI6LQfYr9y1ergYDEuMxZO+WcGDx5MjpwYGtb29PQ0NTUVH0s/Z32WkZE9eeo0cWs1ZuzYm8HByUnJoER8hTKYBecAI6wF55WgkG3atFm2dJmqqmqPHj2QB5vbNDU0xo8fL2h+4eFwNsGkXdFViiQ3ji10aF/k3Vh4fCXnwHhesGBBfHxcYiJLOtvY2OCIxObNm7W1/7oAoWREUgIxZMgQtGAtff127UxAMqxMvXr2guMB8ZGvpISrwVgX97A/OGDJ/kpvWElRacUK96sBAbC9oEdhL3nzZs03btwo4aeZ6GWCJGOTemENvQOfaXyeEgH45BUtSVZGBhnR6mPGjME5Ziz9ubrOgfIrGjZhc5VNfVEKbCBLly5BAMfu+/fvDzoRxsAWlmAOeCChd8AAIR6OUoR9hWUAWTBFjR07FthwqnD1mlWlRysgGWVTEGr38uVLLDCiuA4dO7Vu1QrkYdZHvIB0lgYMheLhjwEA9PYN6cIm9cIarVvYyjx/SgTgmbPUCXBaNGLESBAA46Obm9v3Hz9KjbJkBGVT3+zsbIit9+/fo7g5c1xhsC6ZMsEggJDeIQSEeAQrvGSofv36dezYCQgP7N/v5cXaQV9ynlJD0Eg/H1pg13J2Hg21GgJ66ZIlUK75ANOexGqkkpoJAPT2DenCVlW6yC1OLTpNYStzb0XS/HwAiiOkNwb+nh49evjixQsoLCmpKevXrdfWFqOLsrKpL3YIwCbw9OkTMN/WdpCToyPKpYVvhH5aUFFIiFgBZjxUpMgBCLIdO3ZYWfVIT0+fPn1aRGTE/PluigoKIiMsMSPI5t/JS8RQIgCKgP19ypTJmH1Rlqvr3Pbt29PCrhKLJgCkjggjgIdrLsSDNq5JFSRS6oU1aUJerUh6OX7x/JMWVVZS8vD0GmJvHxERDkPnvbt3R41yGDBgQP0GDeSr0+80GdXkz5DSMCErKxsny0+ePIm9LuRsW9euZlu2bIH8Kg1a9ryEfvaY0ofBEHp5Ag+C3t5Hhw8fBkPQ9m3b4Nzc0Wl0r1696hgaisMLo/jaFGxJT894+PABtvH4+fli0Rjcnjhp0uzZs8t4vFDtjgAero2OeBDMNamCRNI2zP4Vv0gT8mpFMkrxi+dfUWhUp05AQMCkSZNw2A8nDDdt2rh58yaMapgCaScJ37BgCLT4I0cO044ce42pjQGgf+zYcUuWLIFRnkbeAhWvsSpydYAQD6sH0NcHOnXq5O8fMHHi/548eQKHIYsXLYTdQEamGgoSmU5eGcFzoJ3r6rrAzY0XjMjxMM19++3nBLYsN7cFEydOJOwSGacIGdE0hHWFrcR9qFIwIuAvH1mkXliTJuQ1SEi3wy+ef9hg6urqx44dgytReFCDGw0sNkKqio8eqEhESxJHEfD9ZmHRbdasWSYmJrRzFQjRoPSSTcY/qwfQ2gewpd3Pzx+nn3D0vNAX7vfcXJZmKqYH267xiAm5krKy7UBbFxeXunVZm03L/kHTkHYvbCXuQ5WCKXvyJKREqRfWpAl5jXDE8wcos2aAHt2nTx98LMfFx8MYgt/v3+i/nhUueD5+TDM2roftGbRXDXcIwH1oly5dtDQ1wVXg58V2kYsm7SVydq4ZQSoeYMbDFUDkSMxbTk5OI0eOhBH/7r27Kckp+PgQGRvXjPkFBbt27gBaU9OumB25wpQmUlFJCf7Wse+zRo0awEM7iwSkDeWijQgBvGigYATEWf7ApF5YkyYkLV28ecgoxS+e4qllH4MVdlhF8CemonHgG84tofTBQCGmIsSKFs3Ea6yKXC4Q4insAmLpA9it2KTwEZlCPhmzsrP37tnz40d+d0tLuCnnAynVSVS782kmCkaqa1oa4qVeWJMmxGjkygUySlmDlQcA11zSG4lq8meIhFeN0E8vkWT8s3qAFPYBQrZUt6kgrYlqoo6AJPXlmoWC4ZpaESKlXliTJiQtXbzBSC//+bsrFAcoZzGkvvjFI41VA9loUHopJ+O/kCXSxxNCNv9OTi+7/gk2qt35NBMF808olIRCpV5YkybkNcJrqKgAID39Iy8ASWgDGmkgoxq/eGhEW2aoQDbai97igBBPIUukjyeEbOmlX8CmLPj2DXUEMKkp11zi6BtcC5LYSKkX1qQJSUsX53KDBg18fa+8e/s289MnNVXV4gDlLIb0dfzikcaqgWw0KL2UU/JOGnnCashCnpAAvZyRHGwfEhNJu2uoa6CmXAkjfOCaVEEipV5YkybkNcKxH3bLls3wzoFtc8OHDSv3jQo+8GeIhHOA0E8vkWCI9PIEDCE8IQF6OSM52HCZA9oIe/aNjeuiplwJI3zgmlRBIqVeWJMmREtzbTDsM4Pfzg8fPuCk2YD+/eGrlytYuYkkUgm/eKSxUiCb11gVuTpAiKeQJdLHE0K29NIvSKvhntKjR1me0Js2baanp8er64qjbwhCnuTASL2wJk2IlubKU0hn5zFjV65wf/Pm9abNmxcuWMAVrNxEklGNXzzSWCmQzWusilwdIMRTyBLp4wkhW3rpF6TVdu7cmZKSgjqOHu1Maso1lzj6BteCJDZS6oU1aUK0MS8WT5k8+fy5c69fv1q3dg18BOOVRl8WvAr9V/Gkr+MXz7+ioTTlgmw0aGkwFM9L5B3ipZEnrIYsvzZrNM2VK75r1qxBoHHjxnZ2RTctFG9ExOAAAcBgKuGaWhEipV5Yk66MVuTVWvLy8gcPHuzdu3dmZsaSxYtw8/eyZcv09YvuZ+KVS0rjwYcSGSLJVSP000shvq7Ak0+fPvHpJPSWSCM20IxHqtuUDzdOnjo1Y/q0b98KcBZ069ZtxGk4V3gsO8FaAj4wwporf6Qgktig4Q2OP62YtM+dO+fg4PD+ffyZM6d9fHysrKwsLCyM69UrZ1o2OjR/VkhyKmtA5rLox/xKF50Y3mho3ESOHUE4tC0O51l0kVpx8OTm5sIBFu4VunbtKmqNI6A7d+6CU1Y+HIBD2qysLADUrFmTD1j5TpJuzbp+/fq+vr6JiQklNlLr1q3h+m7u3LmXL1/C1dT4xV+JuRiAsuQAxnBGegZKNDQ0pLHcFi1aABukNTyaamho0Ii5LFGdPnUKF9iXZYliKutLdjb8XiUlfSD44eNsx45dvXv34l/cy5eviFfedn9fX8c/VzlLlW5hjXta4U85Pj4+ITFRv6QpF3MyrvbAbbYHDxy4eTMI3krF55qunPWSsqlORETkp0+ZKIveAdm9e3fg/JqTg0tvcf9s2dSF9lKwQo4/2tH+Q4SKioqDB9vh6gYdnZKv4/DxuQhSkaVWrVr/kOZ/W7R0C2vKDxkcwI8bN65EVuKjuF3btviDh1Ls50tNTfv1i2Y3aSXSIFYAeM2Ojo4SaxHiQ+5zyQfIYbjEUSYaS4HbT9zOg/0GBw4ekF5hraOjq6WlRSNb/hUqtG+9evXbtzeBKVJAmwZOtJ2/cB4E44Zicrv8vyL+35Yr3cIag9DIyCg6Ohq+9mGSFrwhsaCBjHj+LfdpL51Gay/ttPFHCPdyJ44fAwxMzPRuh4enw6VLl8Kn/v2QEHglhIzgT4lkpo6f8D+XGTMkkzahqMI2JehMQmXZumVLdqHBWkp9SQpVWT7A9F9Wwqcw2pPQ6itXrgTaV69eYQmRdvwMwjLjwJ49e1JTU1HcqlWraC8UXqfxBY1tFQsXLcS2ENrxlwFCyLfKlf8rB3/CSmpY6vfu3QMOm5qa4kK1MmC1xBYh3cIabLW1ta1T6B7abYFbQkKixDKaIYwPB54/f75l82YAwD0AWQ/kAyxCEj65jhw5gowR4eGzZs/GTT0iIGGylD0HPn78iKuZsccJxhPctSSsoC97gsVaotQLa+z7OXr0KHiUkZ7u6OiQmclaoWIeKeJAUlKSo6NjTs4XbKPETTdi2l03cODAQYMGgS1nTp9asHABtglKEYsqJqmQ1Hb2dpGREag+bpQX0MBdjnkl9cIabYMdmgsXLkTg8eNHg+0GJycnl+MGK2dVi4iM7NevX0xMNOq1f/9+8d0BCKUMqhn5jt69a5eTk2NGBjOvS25vgmHTpq/Nk9BQkDhhwoQxY8ZILq1lRVl5ENYYh1hBgl0STHv86BH281286EP7bXhl1SIVpRzotl7e3lY9LInq5ObmhiVisVYeH2GPHz/GDVwo5fLly6amXU6cPCm+W2jFWpdyjBwfx6vXrOnRwzLszRtUE5IazkMquAGENHd5ENaoCb6dDxw4MHnyZDQq9ts7Oo6y7tnz/PnzOPWEZaVy3LOlrmqYRNMzMo4eO2ZubjZl8iQs96Ht1q9f7+7uXgYDEs5hsGA1rNBZbkLC+wnjx3Xu3Hnjxo3hERH5+fnMBP+vuhNWEXDm5f79+/Pnzzcxabdm9SrYqWEWg6OIXbt2icky9q8qK3K59PvNEZmU0meEXL537x4+qynLtby8AjSp+g0aCL6rr/Rk/EMMF86fz8hIr127dnfLHv+QDF5F5+Xmvn79Ojw8DJKRwIDUS5cu4YJtXlnEEY9+cufOHXt7e2y+pvBraGjq6OooKSpSMZIQgBR7+PAhKDEwMCivRls0x6dPnzF3fvnyheI5nBt7enrSe5aVQi6lgXIlrEkbQBBgydHV1RXHi6W0VSoC2fAzjlUjHHP4V+5ZYIfBtmuocm/evGF0agnpcugM2N+FRmnevHkZfGlJSK0FJKMcCmtSc6gkERER169ff/DgwaNHjyrI6n9iYiLO0ONojKampoA9oCzBQFibNm2gNOEIODZcSsLnLdS6z58/YzkLunZMTIykecKCceDixYsgEh+ILVu2LMvGKsuyVFVV4b0HFcTh1YrsV48/z8utsGavNvo6+2s5Drdt2xY2WfiAJdtjJLCmjLokVKNg6oWdHR+LOPM1YMAAofIywOWMA9J93FzAxqg4AoKYFHCYvuJUWcA+wIAxHJB2DpST3SDS3gwM/QwHGA4wHODPAb5mkAbC+VvhXxKTynBAUA5EiMFsxXRmQbnPwNHKAfo6M6NZ09owDDKGAwwHGA6IhwOMsBYPXxmsDAcYDjAcoJUDjLCmlZ0MMoYDDAcYDoiHAwLvBqHP8iKeijBYWRyATytsKl+7du2cOXOkjCNlaVOWns7MbN2Tsm5MyBVPZ2Y0a6nsDAzRDAcYDlQ0DjDCuqK1OFNfhgMMB6SSAwKbQQprhwPcONDMXlFccAcfxHAxU5pTGDgLjkPh8H9WHAmcUyNVfFcaw8E5PPOVv8sY2duICTMcYDhQDjggnGa9bdu2zZs3h7E9cEOKE/0zZswozZFueNuCCzTCTeBp1KgR5Vjn2rVrZ8+eFR+j4ZURbhhpwQ/K8cC5RPrvJzs7GxVBJC34GSQMBxgOVGQOCKdZg1O4Jbp3797sLMMNp3DCEhAQ0LNnT/Z4wcPKysoQyhR8bGwsJeBsbGywxkIlSWAApMIjq5+f35kzZ4KDgznuY8U9rfhisLOz69Onj5aWVvFPBwmsEUMSwwGGAxLIAaGFdfE6wJXaokWLTp48SQlrqJPwFAzzBZxpQVqxSygkwfKQl5enoKCgpqZGkuB9rXHjxghD8BFVFL+IREyNGjXYSySSEZo43F/AsRyFmQh3vKJQckk2UnHJJpUXAMgFqQq0JInKS8EIGwDO6Oho1B26PwjGlVH4woBrZtiFUDukwvdmeHj4iRMnMMPBC2C7du1whzfj+1FYPjPw/4QDZEyh6NKPFA764eYQD3skRqW6unopfdpgDH748IGrSTY3NxfOsDiECTsBpQwDOfwjQqCVEg//7MKZQXjhgkSmuP/kyZNmzZqdOnUKe8hGjBgB+QUBSjJCgsNDJpJgR3F2dsb9W+RSJWijYDE6x/Hjx2EPAfzgwYMh4BDj7e29detWkh3SFhcLzJo1C9nXrVtnYmKCtiFJCQkJEPcoEZeA4P4BeJWEB86bN2+SVOjmoGTUqFEA8Pf3xxXapTd9wNyBe+Hq168fFBS0adMmzBBwq7948WJ448X93MbGxpDd/fv3nzt3LtzgYX7CZJaWltaqVSt4B8UrIYz5ZTggURyASvH27Vt8I+KWNYw1WDjxYEzBjyM+ndGBIRBLTzBGNEYBdpdSD4qAYgf/5tQMIUIpkJiglqIQkof6KA8MDMR+VhFwCpgF18WhLgICiw4G7vB86lf6Rf0VAk2aNOnKlSsc8GhgCwsLSFXEwyMw9EpymRZewTjwCEINATxwVoslSpIdr3AxvmbNGrzilgC4okcMyYIJFlwmYLgtAlZyhBGDOSAkJISAIQbCESIeQhPh+Ph4zMyQlVQqCsJER/DgzmwITSoJ06y2tjYhEteUoF+SsgT/hftjqOe4fQZ3DmG+ETAjiPHx8YHHS8xtCFD0CJhdEDBMYNCDMJMJAixZMFRPQ0Acj7jxi4PmX7+guBB9E4tD4imBhRVdEYoUxI2Ghgb6Dy6r1NfX79ixY4/CBxoGJCm2EkD/xeg+dOgQtMjSEAPR7+XlxY4BBEDdwaiEA3r2eKHC4BUUQWpYgW/4gicYoMxBiRQKm1DAcIYO7fNPFvF0NqE1a1yugXuGqAd9CL7kIYaGDBkCWmfOnIk7qiGPyOyBhp89ezamtffv3yMGxmiIVCoJArRbt24CzjNQYOF/HYc+qI8yqNLQvnfv3k0wQD2H2KVSodiitcj9XpCn5HpGAol4+H2GBUPAotnBUEfIWUzgmF0wQ4AA9Gx2AD5hdHdcjIKvAdhDoHRDuwc2PvBMEsOBMuAABg7UKT09PQwlLK48e/YMX8kYsPhCxWDHAzGHJXOAIQwj3vjx4zGKN2zYgFFPF3kYttB+tm/fjptUKZwYHRi5ELhcC4KOiCRo09Qggn9g0E9JAAoPAtDqMOWwx0Cmc2RnTwVOYMYDMPZ4hEm5yFs8iQOS9lehhTWUysIWLPqBArt8+XJIUnAK1UCgQ4cO7FRiNnZ0dLx9+zYiEYBkRxjbJMAOFRUViC12YD5h2IUxd3G0BGwm+GQjrYXexnHRIuYMkAScY8eOxeY/gJGtGjCP4AG7+RTHKwkZYaLp2rUrpissGPIC4xMPtRrqA2Y1XNt85MgRQjwfeCaJ4YCYOIC+B80DtzvC/LhixQoo1/hShDguflcLxh36LWwXGIbQNmBUhKbVsGFDqF800oYLOSMjI8mIwNwwfPhwCF+o4dCNsNhDCUcAYF7BGMSEQQYj5hKQAdmKZTOAQSbgWx+vgIF6BCGAiYfS6pAdoxiSZ968eePGjYP+B7MqqQVmqYEDB4IPMAGhgpiWwA0qFRmhYEHowyQwZcoUBKCGEmppZAIfVEIvMELKcOwGobCDTbAwQG+lYkgAht13796hvcEvbJXD/EkqCW0X1WZfBuTIyP4KUwl6FXsMwpjhod4SfmFNjyOVkuyweKAgWI0xwcKWgm872JQ5gAV5RddEb8BsBPsdcfMvSK7iMJjAcJ83yMYsgitB0bGKwzAxDAfEygGMVqyNr169GhuuYMPEjixBisOYggoM/dfFxQUZMbSxjwsykRprgiDhCoPhAJsnZCVQYXUKohAWV3w9Axj7zVAcbNAwdiP18uXLOJYBywMpFGAgAEokagTbMfBAguPBlHPr1i2iwOELG4KClIsFrX379kF8kyQIFhgPgRNzD1R4oJ0+fTru5SFfzM+fPwfypKQkjHeseJ0+fRrfGWTswxYEoxBmFwFZx7XWQkUKrVnzwQ7eof5kzZAdDOdoYDRADIQUFvcwjWNyxtcWpizMe0TUssNzDYMjHOdxAAYNHV2HtBnXXIhEE2LzHOzXaC0Uin4JBR9c5gXPKx4WMWtra+AppaQm+EEzLMuY1XFXE2rBq1AmnuGAODiAQQelEitGS5YsgfASQdzAJomvaujaeGALFZZI5IWRmnqwqgk9F2MTChxQYZlq2rRpRFLjFYNl48aNEMowPeMVchnzBDXqe/Xqhb0DXE0lxakCGEyXmBWor3CMaIhmfCsQQQQlfcuWLZRtE5o1tEkczQMq7E3A9EZpadAOYczEdq/ipYgpRmjNmg8dqAbmqJcvX8IiTIGBBZiHsY4HLly4cIGYMmC9hdWCzOcQghQwnwCaB59gHDZu9DMIO6rZuGaHuQMTI2w1FBhIwuIkV2A+kViqjoqKQkdBM6OF8HGAmRYBVBnbP/C1geURqgg+eKgkMAHzOT79YA/BdexC5aWQsAfwuYdPP8QQK1PpEbIjZ8LlhgPo/+7u7ocPH4ZUgkwUuV6QYhCgEHOwRt69exeah+CosEoJHZaCh+iAgRSyGMYWaFd79+6FSkulIoDBAqMEbK8wr+PTFoozDJvQviFVoQJC0ANGEHmNT3x8XmMdlR05tttiaOP7G5H4WMdAplIxiHR0dIgCiv0LJB4U4oFAgxEJu78oYHEHaNas8VWFT3tK/qJbYH0WaizMDtiOjeVmsuJHagXuQC9GMxSvZHH1HPYHCGvwlAKGaQmqAT6OqBiuAeAHPfhmoVLR5GA02E3FlBiAsRtX0KJfolBMtpjz8a2E3gb5CKpQZfQATCfC7snDrI5PPNhnyAJsiWRwBQCTsQkHihI+X168eAEY7MAhXzCCdF+uOJnIcswBmCJhCMZq/NSpU0tZTQhK7OvAl6uVlRW1eVcQnOiiWN+iHthSoONDUiMv+jNME1jQ4sADlQi7YBGJLb+wSkOYYI8KTIjQomA24QDm9QqZA7MGRypqAd2RDN7i1lSkEnhIDJQLMzrssXBQ4erqCvHFgUqsr3QKaxAKnRpMx4IAdEbYj2DgxpIF5DUmKJiQ0K7YZw2FGootVgxMTU0xNRUX1iNHjoR5BPYpNBtVeeizmGzBKUg3ZIe2DqZDsy7eqFQWEkBG6BEoC6sKWNvE/IztokuXLsWnk+AiEtZ2mOOhPqBzwCiP7o5XmKtgOwMSzARYKkR9seEJMOxkcxBT/BVqNfoHRk7xJEFiII7xsQLTYVxc/IoVKx8/Dn39JgyfpR07dsKGdHRBEb4hBCmXgZFSDuDbC4MLyim+NVEFdGOsxMAgCZVTWA2GcABKMb6YER49erRQPZ8XAyErMGaLr/9DIhNzDQAwDHFaGNMDVvxw9Ay6ILs2xgsz4qGJA744AJCj0OLxVAyqhg1vMHZDH4VuFBcXhw3BmDYogLIIgAieT7HdglB4IR14wv9OgB4K6zAEGaqE6eh3NOs/kqD9IQksAzaSBBiyFYb9lcSgOOjFJB6/0GRh7UJ2mCOo7IgnGCgwEqBwIhVWJ1gtQkNDscpM4NFNgY0DPwcG8gowKM7oIphjMYXglSsY2htLl+i7wu7oxKI2vihBLVe0fCLBGZhfMEPgsDuoQjWfPXt+5IgHKoUwDIKjRjmgd2KS44NEUpKKdTaaCRM3fprJLerqUH0goaDoWFpa4osQw6eU5UCnhnoE0QyFA1+r6Hjo2NSDWR/iDwJd2FLwdYjRgfElSEbQwLHPmj0Xui7M0FCiOSIxx0BAI9XX15ddJiAGZ2qwlgjmwIhBCSgoVdSYgu4IUwkQkiMdHEMYMgFKOuQJlGuYJYGQvWgooPigR4mQ5uycARgWsWDIBjA+sqEz/cklns7G9wCCeIr8UyUpCUH1QEdEh4ahjaMhOWqAFsVRAmzpE2pQYbkVyHHehwMb/1dQ4uTkBEkdGfkWYfLs3LkLG8zJLIUY0INldGjuENz8sf37VHF3NnHjp4+DaDgs/MCQChndoWNHBwcHGGpt+vbV1taBAIIBAc0qWmlQPyFxYOqFmEaXwyE1qIdEp4Z9Dyvn2IwBbQNWWognoYqAiMSZYdidQXyJGfkLa2SH7IOIpMQuYvCBCPyk4rC6kO1kpCCUCAsk5oniwhpGDwJDCWsAY1vesWPHKDoRwFkQco6Mv7DGOGIf19iwgHkUMwchmBHWhNX/+BfGFvRs9GOqgfkQhEUSKLNYuuEDw5GETok1jQULFnDE83/FtxhUJKzwgCrq4RDWiIcuYGLSHqoHwvwR/uNUcQtTceOniX1oJpjUIDFHjBwVHh6Bz6Ws7OyUlFTEf/r8GZ/hUAUgrSidUahioc+iJ0PzwDQAWxmHgglUKAViGvM9Vpjw7SsUcpg0gRwf0yXmKlFYgwxsCMHHBGiAAAWpWE7EpEIwI4DpBOZj2DNxtA0DB0o36sIhrKGew+aJMw1IooQ1MAAMmwIgnfG1DT0MhntAkomBj7AGSSgIkMiCDQuw5SIjTCJoC+BhNOsSG72MANAqEIuYSAUsD8Y7dKbiI4FPdvjkg/0LHYIPDEcSOqKZuTk6GXJRT3FhjSRsxcH4hIGPA4NkvYpbmIobP03chKYGSY2zCFTLbt68pXWbNlAqSStjlxs0YjMzM6E6GKhDdggpyFMsa0Pc8KEXCjjcFMPtESx7fMA4kmBXhFGFOJDgSOJ4hdmhRMygFso+VGCciAZP2O0PwIayoKYgCZvw8BUCYETiF6oSCeMVDMRmXxIDAY2tDRQZYB1WmGDwwbxIZaeyUBgIPGQx0egRD/0du2jwhQ1bLl5RBJasMHHigcWfwv/HSwd6HX0PX1xS0r/p4wZ3TJCk+ATjaELuoIWx+EbDkBDK8oDzY9CYIE9Jw5f4C0jA79i5E1SxP1yFNT4GdXR1S+N1gU9laUsSd2cTN346GIE9l9gR4ea2gL1N16/f0LRZM1hUqciw8HBIUsgpocqEfMQ3H9QOLN6UmBGCEto3Vr9LhKQAQB7MEbDeUDEVNyCezkbnPuuyWA8t8zLQBTH3Yq8e5K+AheMoFCDJgR0Bs2A5G990gu/UxjCAroFNhA8fPrp+4zpVysMHD6FBrF23DmOSRCoqKE6dOgU7jTD8KDAmIJkcwHZ7rf+3dyZwOlVvHK/s+xZCCFH2JXukKK2WZCtLkb9spaJIIiLZaxQjSxspspRIIm1IMpNlDMaWfY3BjCXV/ztzcuZ23+2+77z3fe+Y5/34jHPP8pxzf+fc5zznOc95TqHCAwa86L15t5Qr169ffxZ8HMjWHe29CKlIiEiCaPOwyPKZGVEAAYKFP7vfyqLOZxE+kEceeYQjJ8wriNg+80sGfxEQZu0DMYYgy1I2i33kMySTnydWaoY4H0G+InLAf33k+28yisUd23csMpwfO3bsOJPEF8lKdpWXrw5mnT1bdpZ+/y0tT85CgAn4nXfegf9qP2he2texY4c33hiFZZQ+5ucls0pSRpyYsVoUO2gJpsRYZWD26pO4yoD0AKdW+hCLRSSbdQSEWfvGCvcd6Lx857uSQ31s7I1wJPdKnI//sUli1YkuzMqHCi04MhYCcTt2tG/fjn+a+pQpkW++ORFbb6Nog8Ztz9499nle17VLIDUI0E1sl2EBDb8zTtuEWd7R40oIoAp2INhw42gG/NT6GENLS1nrXnE48YH9A2PJOrNm9DLlYN3k8/RDaoBKt2WFWfvoesQQmDUDnVFoUSTBOopvCctTjvD4oJ6cjMzLbgnfHsd2LVZBYzC6Qg2Nob7PKnbsiNu/bx8GWz5zSoYwIgBHhi+XKnXT+PETBg9+2dQS4wnp0qXLxMXtyJcv/9q1a9SZVVNmT49wedTWnlJN8ShYYNYWD5uosgxLAkw2JlLyGBQE/GPWmKpwHNFtxbAz6+oztxT8imT25gwkp7BQxXLaG4MHv4r7lRk2x1sj+BjFVS8UYLisHzm9ifrYiv4EB2DszmMVZJFTUzU5e/TogUcqtIrMJV4aQ1LEpAisUzjN6D2bpIYXAcVJGdidOne6y+DnHcdnS5cuef/9D/T3lSVZI5yQcI4+5biWxWZjc8a+iMXMKht2I5wisV6EjXHrmSWnvwj4x6yxg8EuDSt912oYaq6R9sXAOrGlgz5iKXYX9lUEZYzqkC94d7bpLFYESrBRmKmy0fZSCgULvrvIwE66l2yuSeTnQ+3T5+kFC+Z7mUWWLfv6g/ff56h9iDvItcES4x0BZF6Y74aoKPzY3Whgwat/+gkVWZ3atbQaBDrsFmJoz7E9PGZ4J6tTMYPDkQMKZbY6dKT3AMQ5So4docXBg5N3CFqfP7zXLqkmBPzmsOi80H66/qxLhaYWpPIR70Wc/UslEe/FOSOAZoN7b71nM6byPaCmwBQfF+ZqbWhM1WHlVgazUz4GXC/peCsBimB/+t13q7p07YpVlipS4Prrby2fYriyZOnSxx57FLeTaEKt0JQ8YUSALwgdNHK0FTXCwoWLyGZ9d5H3UnowzIGtvyNrVtZ8nHOxUgQ1DkbWyA0WrUes0JQ8RgT8k6yNJV3DaNw4XIQ5PXIctsZk4Pgp7rj0tAzbwqoc/SziJOMM74J6P40kRFdMl1AdsGbnxB1/dRWkcrAKz9/wNXz44f1OJyFi41AJ605i8EeD8IsNMiaorPigwCIAdwEqM0QQxlElM165ggAFMUs8xhZrPU3NbQBOzcFujjzh6Mu6yo9TrQjXuJ3CjSoaGyYV43yG+QdeBZB0AA18+JAC8OCFmhuzQk46cDZ34MCXUKS0fqRV2zatkZ5++20jzqc++uhDjpvTcmPVbt9RIp2AAJ0Fv5s+fUavXj29tOfIkaOvvz6Sn/XRCDX2URhp+NUh4IW4MYnjeejxmOz5Zn0OISR3Nkj5APlejERcw+y14GbPNZ4Y7AX9eim3RKxHsmJmdmROgiNx7TUfrM/XtE48+DlhYR5/Lqbdbi/M1cVRisGp0dWuXLmSl4cVwo6xq2fKJQ/6CgQHXMHBjuEm5MGsmCNGJJGBc7T4K4ACzAs7Cpgp40NTxjs44wZWizTBfABX4uAsSgYyEAn7Vjnx9sdJVuxPUYxABwpwao6QqlREXVzuUhwi2DxhcMpxfrpKpXr/S356kbnEezZTKu+FMp1dGhaw+HiCZTNGaRVjAp8eEMSRiLo3knhTWeuPDDg+cmad3LnzcHinavL9kOg3ccrD1KjAt04tbDldBluQW2I3/SA1F4efLMuWff01Had+pkMxiBqNGzfBlp8R7ledUEOmQXjyqxSHyGHxOJimuJeCfLP4LWFI457fSzaVxEcKW2Br1PUHl/BZPIgZYBR8mBAEVXRQ3t/Rj3rtGWz+nWCEWeP0BNNL049dEd4EVgtXgkHot4Jlo27jLzHYkHJxmREOTvera3bpaTgLwqYuyLoeSRPpmBi2EMER/q5T2cdAG+OWWaPJNVYBW6ReRQSLYwpqIjBx2maRWUMT/wNIGT6PyWr6OkDLqQUtB25fGM0IDoj8KLURivneeBHTu+uCfgWYgRj6uN/DwTeGgEBnxMEvUuHJbM/4TnkXu+mn1JSqEL2GKTRT77BhwxF3eERcxbUvXIxF5MqV37IkZUpWn4a/NbHYQuxleWq9IA3gSjzGLV7raIBrQTLgKIMGk4cfp+Fd85hifPoGMeW371Eza94CNsXf4NRlz2DzWw2CZ0XXdQqeCljmI/bD/owmYky2MCZEP4YIqwzMHuhOvTpgY03pUtnBwPOR3uwmA9IoTAdujs0DblzQP0BKF4QaB6XgTTpGB5DcjVXAIhHhSWWjDwsN4wIN7QdShi7oPQBNHBHgPpH2oGMxVuG9IKm0vD220O3a8b0xGijLmyKtMCxYyfIp4k7W+O4+CbrNQKewHMFrBEfOgNqvFrolKJFhQYCOQ8JAcEbzNmXK5MZNmqDmypw5y5dfLvl21bfRUVHKq7L1TULjW6D6Y92J8E4VxngvYdrDKOW7xgU8MgdqCvyCKrED0YcvGieunF/nVCQbnnzs1jfhPVXKN4Imk10x1OV4G+YRNNg3Mg5pVufocxCD2MykauPng9TC3MZuEBRYuRr5BjVShDaTiuhm3MjhYyRJZSZVwYuNOfMldGAjRtaBjMU+GW1AoVSjRg1qpDgQeXqjYMX7vcHINIse1vSj/1SDTJpZImEivAmvx0JDq49VZsRwtXGMEkApnY1vhSTLjE0MveK65e3pWnTUC0Yi1E5nE8NIUqfAdSp9b5xXdLynAEobDq2gCYFr80aesnmKpzreFwGEJsGpycb2IAOdHUjXd/dExGc8V2+wW4BqyGdOyeBYBBgqXFsFL+CGDVSEM2fMeH3kiOjoqHZt27LXx0cRGKfmfRFQ8P8Fw4UfWX992oNyA00gjJgVIR8CshRtgIvhNofvi5UcV17RYKYBNbatE3fNCaOA//Lu6C1ZRqDkRKfMPU3qo+Mv95mwIQS3ZauGJT6tYpWs6MDcOUWJjAx7ZRHMl6WOAqlU9r2IgReRyl/0rvoGRVYbyDoqG1ti1M4hCRg07B538DBljRiPKHt5WXg9TWVXDKe1+IRyfZGgx/gtWXtvAfzIbQYgJslTRzI1uc5L5GeugxqjwZWs3pk0VcfAMsWoR+ZeVw6LqOs2s6dItj0RIhDqkSwQcDzV5am4MZ75CYU+QwFT8dTQMdLkBVmCEMPV6Xw2xiQJpzkEmNRhhfxYmGJWxHgLyivAqXE1B89l2erXwENfxyIVmReWB8OiMTA+OCkTAN8vSzoeXW/M8tRmto4QWk2pMEemASKRqXl9FC+qhWzFoxRld4dURFoEJmwWlTSN7hvjE7ZAMRyA4cJ/MTdgFoEI0h5MGTmPc/acqIQ70zwkPyXPMeXA68mAitXUDB7R0aNCUNI0F/hhKAlo3FfJYgKySNxqkxbZlOmEF2fx4Uok6DF+S9aBtQCJkoLMeMbicGGl4UJp63rDFipdJbCDpqsTIgoaSfkMs/dIBxuzwdroD2OMzzBDBw2DcqATERGhZHafpUwZqBcrQD5ClrdIwa7zkCm/9UdWD8r/A/O8CWrrRCSn0xDAdoI52FXUCKyd7LvAd1Atst3tL03GP3wQsZedeX4MYNbKEGH3CPbKjOJJGnNtKtIxX7fphwZP5eTLwhhBzyVIcjBHxFjqQoEDJzXqPRCBkZ8oiH6SFYDi1IoOzeNrRUzmERM1PjrjyhuRi3WGymn6y4691nvQDHbClAk5ChZ1N5POD0Hs4vWjrYEQMWtYEteQozg2vgzvr667BRrORhqHDmFi1HFtug1R0ZQK0zSS8hlmz5c+Y0jpnMjIKIv1o8UAPYdbdHQXtBmaTLkWC6psLM3QRfJG+CdDTlFzmF8UPGUGn/HjxyuUECLUtXieMkt8WkGADmVLH6tWNuGD1WZ0LIxA5EQkxFTSVM3DphbrLCVsWiTI98sHaPqhFVTFUXEgWRtJIVPDwVkKo9ZAf21M4iPi2BoxzBaubkxgO9iS0U5eltsMjAUJs7Q1xahHk8cVGLdytYZxMGKfnkXITJgLId0SCXqk38waaRSp1vWnXsZL+2C4KJ7QMQEcP+ZJXBGprTAmWB5Z3ShZlS6BG6JQBhcIAhwnqtmBVKn8RUlkQtNLvSqJWRQdMXbf6J1BHGrcSk4DfBZ0zUD3oLJH3kH2Z4BiqqjmfNecOob3xREP0gQ7MIxslHEYpQaRU1MRKiNeTdfIVKfg0jESSIsIsKhH7UDLtdSZ+rdgACNcs7sOl+EqLwZnYDQZYOgf+JRgshbd4FisyMSpdSmaisrF04ejTMh0ZhWAyyuNNhKMq66VWcGUXz0aJXdjBhrg6kAiiItjY12uYf+YNcbOaCQYN64/1t0oj5i0TXWwAa32WFmewKmxp27cuDHLCn7Mxqi6yA80qKXQ2bOwwnACHs3kyT6emsH4C2tDcwf75hQJUyWaJhqgplMqRZWsKqV2mLKxAWxg6smTDQHEE4jDWzFEUaetrC/cjGRpEm+BqSKLMlgwXc5SCOUGO3swTeYt9UPDhUzEkhNBhhUZsgzTA6blXKyuXs1IM5Vh7GEZjpos+hB2hFJJU4qHFwFYA6NUtQFLDD6QYLUH/sIylxU9RxZQHWCT5y9lOCDsHo0ESnAo6IHnLx2/8vO18r3DCoylQAlJiL9IQnxuxiTC6FdRW9M81NYotU2prvlNGUyPbGayGjBFKt2jKdKWR17S488Ga0FmY/1zrddLEpm9p7pSM8YwHNkbMcZADV0E5hPGyADCzOesCRgQTPiMCf4ymTOk+LF6IoYPg7kHnq7MZgOowmcR3oWpSxnVUCN6OoR39tB9FnRQBhsG23/ezm76/6ksOA9YIKghRJ/ygzMGh+4VKixhUZ0xPlm5sn3C45UUb/8jE7ApggQG+0MRzNjzlttdmnc7a2yfMSQ3kiWMhRxbMhBjVLOXaKQKO2bTizyoQRDmTAUx7VBqENbBmJCZUqHmeigGOVIrAFRFKGzZ4CUMD0GyZtbUDcDgHTEU42MdkxSwZ7D5dyjmPw1KUw/Is0y8yiJSNRx1M6ONWToo78EgYG3BHIsZE7oddD7I/iheUIvTwcYhEpTqTEQQ5NWBBZYmfNWcLycDr2Z3vaZmpOrRnvGd0iS76afUFLQQeq1kLv3vHwwY6OigUU8mxAjBfA1WSB2IFNQIr3Q7bBhgsEsUgHw1SLiYrJmkH+sNg1lDB3HY9ceE4Z1Zk4qXBSRiVR2twjxDsWPCmN8x66j285flJitpBRqP8GXcZ6pUijPTIOL4xawpRV0AhVEKr4/JNmt0rJlDw6zdW9rZIsOHlShGNmwJYruDkQ32RkyzPCIRB2yyanobxjoaMex4iLduwGQiEvCjWxVbsF4t4FZJwdQgAF9AycZ2DrsjsDCM0liAczyY+Tg1ZE1lGbeoIhVlbNSUcwiUh4xkKmLVD2vbsmUL9SJ2KEkfaZR9GoRxypqoWXxEV4lEz1rTNT/bgCxJmZZMSZjuKdUwAa4SR16mhbSBFSR6c1Sj5CcDO2osKyGuODgyrzbyo7VK9GZCIj9LaiyyEdLhA5QlFWFOVYrrcJPSnOWyPiNCWc4A4jQC0MAHC0gsF+ggU4PteLyWMeGR7i2GztjuOZvH8o5LQFuNHIEIjKaCSdiTsbbj2m25QTg/YQyxAasMri2Xc0BGuweb3fSDDSEiJPsf2K3C2tA8INChX2Y97mrwEKyaYQWwY86VwIlgiEivSL7IAXwmMHQ2itAPYFNsOhMYrNr9okNT+YphkUhIJsYKHXBDyiaepppmFAqyk0Qqoozi/v7WS6WmglhDoAVlXyqFlD2DLb1I1gpHpkf2SFMwlZAg4FQElKECS3jdQPTX9nFqaoGvoeLARIQfTI2fqlrxOxPX060KS4DGIG95qhoOzs9tKgW9pLotYoxEQ43BAiY6ei2LZhUNvjolZMxpR9g/axA7WiA0BQFBwGkIwNRQTKsfYX5Oa2FY2oMShpM1WJ1hCYb8zl/OIeMvyO0xyKC3MH1J1kGHTwgKAoJA+kGASeutt97ioAa2A2wwoqFC5Yj2PDSTmTDr9DPS5E0FAUEgtQjAl+HO/FJLyP/ywqz9x8xQQuv1DHHhDKr2JKkbrygcw9kaQ92hET0MFQYedBR0yT2ZpDvWgcBfLKgl01CHBvW9w0ksfVmDBAtpvhwOAXO6jItgjFtAwaIfMB3MBrC1YvfD05HcgCmnpiCb8qj5cIjselQ3haw9G+jW6dOnnPnEOp7DtKgjUwqGNUSr1Lk7MPS0aRaWBmLfhp0ft5E4wTgkLAh4q9SewSzM2hvmntI4Qc6JJgyAPGWQeFcEsADDXJcDBa5JSTH2jO+UurzShyfi0gDvcaExmE1pVRoP4XOOPvXkYSONv1wqmu91sAVMV5i139BxvFUdh82SOfMd9ernz5fXbxLprMDe/ft/iYqCIXJIAceHmKC5AcCe8Z1SkVf6bBlhQUwLaVvd22pm92D4lUIt3Yd+xxHg9m3AwBFBPOFhN5LuITEA4HWwGfL5FxSdtX94kRtfVMhf6Ow+iZz64J13ivLOJ4LANToycsjYMThV4OQYh/F8FglxBvxBoj7KmiXLohnvNalfT/rUJ/4XLl16bvjwabM+wo0G/tGY6nwWkQypREDmQ78BxKUAH3O1ypXh1BRGHJOfdwQQu3o//gQ3QYEbBwr8Rtz+ApwMpG2sk+DU0qfee1OlZsmU6aU+fehZcAuir237uzoN1yCStd+dpwZrrpw5GaZ+F06vBfLkzMEhXaBDgHUgBsrXT/7k6+cd2DxnNilPrlwwa6BzZp86E7TUtEqYdSDowaYVyw6ksJ9l/rx8ecmqVc0aN9YnXP0k4JTsIObk6c3uPj164uS8pUvWR0djsVO3Zs1W999fokgRp/RNQO1Qn4CT+zSg13JuIVGDBNI3iu8wTEPwu3Dx4tCJEy9dvhzcug4cOfLUoEHBpemTGrgFAndIytjap0y393XueP7ChZ6dO/fv0QMfQ826PPHJl0t8IvbRwoVzFi/2mc1Lhif69Tt26rSXDKlMcnKfhmTghK4SkawDwZrxzRgNzTBVFam/gbTVQ5mLly7tSPbm7iE9+NG8ArgFn26QKNrXp9t27+434rX5ke9WLHuzamzNKlUeatLkvk4dS5UoXqdKFS9vcPTECTh7akba9t27L/35Z2ooeGqeGpNO7lNPLU+j8cKsA+k4xXdCM0ypRf9iduwoc9NNUTEx33z3XaGCBVs0bVo0+RI52G7JYsV2/v77199/98/f/9zTqFGV5PvSeLetcXFlSpbEylC95/E//kg8fz5jhgybYmPPnju3fuNvN91YvND11weCgp9leAs7WIafrfCY3aY+hez4d999qkPHSuX+Y2B+U7FiLz/T9/WIiEXTpsFM9+zfX/7mf1k5Tdy+a1exIkV279u3/9AhdP10U43KVU7Fxyv/nF+sWHHw0MHaNW5rXK9epoxJn3Dszp2lihfHmkW93slTp84mJNCtW7bFJiQmboyJSTxX4pYyZTy+fEAJalg6uU8Dei3nFhI1SCB9o/gOwzTEvy79+78yceLHixbBf/cdPtyoTWv+0oYXXn997PTpr0VE5MmVmxNl3V54Yfrcuapt/xs44PCJk7qdS1eufHPmzHUbN34wb96hw4cjZs7cvG2bTrU7AG6BwB2SMjb1KYz4h1/WtbynqSu2991xx8bYrXDVfYcO9R4yxJjh2WGvbomLm7Vwwepffvnx55/ppkuXLi7+9ts3IiO5lvzs2XPFixab+emnjAe0ZBTsPXjwviNHNIXlP/wwdurUE6dOUfDo8WMzP5mzKPliXJ0hiAEn92lIBk7oKhHJOhCsGeuM0dAMU1WR+nv5r8s5s2Yb8+KLqurT8fELly3r26ULj9vj4j6aOFHJWY888ECj1q3vvv12xDdVUOXnVdVjq3vvrVq+fLcBA2ZFTArk/QMqQ9XgFlDRUBSyqU/jz57j8HrB6wvoLtAvkztnrmxZsx46fiJjkv1b0k8nqccxLw0ad/001CB9n3iCJCIXL1/+4/z5ajnVqVWrdn36fPzFF13btFH5NQX1yAYm/Vvv4YcjRoy8sVBBTTxYAVWLk/s0WG/qEDoiWQfSEQxTxmjofxiEPNayBS1WVVe4ucyxk/9KzY+2aIFyQ8UXLlCgaaNGK1evDn0LvdeouUkgoNtcxqY+/evvv5JY8ZUuM+JDLEl/+XPh7N0NGxYpWFARwWyuR6dOi75eZqQZ+rCT+9TmIRNq8iJZB4I4nwRjNDTDVFWk/l537XVckKHrzZQho04tnixE65cpUeSG/YcP61RdxBijwrqI3QGqAze7awmYvk19mjdXrgwZM8afPZsze3ZT2xIvXEDqvqFAgVPx/1pr6Axuu4lItB/81dlK3HDDgcNHeNT5VZLx0RjWBYMSUJSd3KdBeU3nEBFmHUhfMEwZo6EZpqoi01/VaGPk6TNnjO05k5CYO1cuYwZV5Oz588ZIY5FAgPCnDHWBmz8lQprXpj5la7dq+Qrfrl3bsUXSksj4WxMVVaJosby5c/1x+pTqFJ16LtFNN5Hn9Jl4Y5edSUzMni0rpVRxnXQuMVHFuCbpKlIfUFU4uU9T/46OoiBqkEC6g2HKGHXU77Mvv9Tt4RzNt2vWNKpbl5hsWbMdPX5cJ/20fr0O8+Y6HJqA5iaBgG5zGZv6FGXF8//rPvqdd4798YcR5DMJCa+OH9//qadQXmXOnAX7jb+vDKpTZ87E7NiuMxu76ctvvmFHUSUR/9WqVY3r384j3lOPHDP08q+/6uJqfjQ8Bjno5D61eciEmrww60AQZ7wzRh31O3Ds2JTZs5HI/oiPf3ncuBsKFqxeoQItbFi79tjIKUdPnuQjnzF3LjxCNRujkX0HDsz/6ivcp4XsRcAtELhDUsa+Pm1Q87Yubds279pl+erVCefPY+H+w/r1Dz7x+H13NW7WpAngFy1UEOU1vXP+4kV4OrY95cveojoFrwYrfvzxyxUr/rycZCtdvHjxZ4YNO3j02IWLl+Yv+3rO54uebN+e+Aa1a49/d+qREycg/sGCBSfjkwRw9cuZI+fsBfPXRUdfiQjy/07u05AMnNBVImqQQLBmvDNGQzNMWUd3bNkSMw+qa9+8ec5s2XS9VcqXL1G8eFI7rr325T5PL0fOateG/apmTZt+NPFNZRkyoEePYW+91fSxR7Nny/5oi5av9eu3cWss+YsVKjRhyNDv165mw6rkjTcGgoKfZagU3PwsFLrstvbp8926Napbb+rsWS8OH37x0kW8sI58ccAdtWqBCW+YOVOm2ZMmvTph/MSpkTeXKj2wd++N27blz5OH1A4tWsSfiV+5+qcmDRrweGedutUqlO/S7/kDhw5yZv3zGTNLFi0KheeefHJkYuJ9HTtgat22WYsR/V+AOyviE4cMnb1wwW8xMXWqVw8umtDn5+Q+De77hp2aV6zt8coa9ndOZQMaNGiwevXqO+rX//bjOakkFaziLbt3HzlgQMVgn3oIVvMUnQJVKsefOTNx4sRnn33WDWW7B5tX+kWKFDly5Ej75i1mRUS4aZszot6bP//w0WODevV0RnOuiU9IKFy1Co6c5syZ0759e4e0yhHN8DrYAm6hqEEChk4KCgKCgCAQOgREDRI6rO2rqUubNthW20dfKDsBgVpVqiQkJDqhJdKGsCAgzDossAe50hb33BNkikLOeQhU8nR9pfOaKi2yAwFRg9iBqtAUBAQBQSDICAizDjKgQk4QEAQEATsQEGZtB6pCUxAQBASBICMgzDrIgLqSG/n228Vq1Sx3R0Pjv5oPPYhfadfMbmOe6N9/4/ZU3TPLXdQVGjdOOH/BlT7HZCrfczeHLJb98EO/kSNdM0iMKwIvjx13Y61axg4lXLt5M+zYXDO7jWnbu3fc7/vcJlmMxK9IxSZNOEfjmn/2woX9k7tywfLlg8ePd80gMWkRAdlgtL3XOFT25GMdhj/3XMA1cR1U6u8kxV+EpwaopMIFC1arWMlTHok3IkCf9un65MCePYyRfoWT+jTVR4Q89Sn+BjiwSnuKFb6BsF8Nk8yORUCYdfi7ho82gVPg11yTM0cOjh3Dl3FIj08J/LRxQky3j/ikj/Off3C8l+G6lCURR8gQr/hxRjFL5kw6P/EcbkbWg6yOVIGkpMREnHMaXcFxuYzR3oA85xISqJTixrt6+UrfUAkAACC/SURBVPgpy6G77NmymcjKo0ZAdRadB3p0IlADJr2Ww22fki17dnrcVJwuSALfEO+241Spy3/9xSjCw18OQ7/UrFSxRsUKKWST+zSJbPbsrn3KWVn8a+vMEnAaAsKsw9kj3KPKPVvrf9u4KXbrmXPnalWrOuy55weNGbv79z3x587ho2fsoEHq1Di3fqAM2bl3DzePFClU+O3XXlPnjHkcMWnSsu+/v+avyxmzZHn2yW5tH3iAV8In56AxY9Zv2pThmmsKFir0Uu/e+j1Pnj498I03NsbGZrj2mhsK3zCgVy+VtOrndd+v+/m15577ZPFiFCY0acOmjbD7fHnyTh8zpnTx4mT7ZvXqkW9PSjyXkDVb1sdatNx/8GDL++6vVaWyJi6B+V9/jdT8w7p1W7dvP5Nw7o7adV7s0fOlMaP37d8Xfy7hgcaNR/Tvj/MmgOJ+xeETJ+zZtw+/H/g+jRg+/MbChYnnLuNnhg49ePgwszjLnYlDh5YtWZJ4vL4MHDXqt+SOK1z4BmOf0tF0d3x8fJasWWtUqlyuVCnVEUt/+IGbgAb17Pn+Z59dmyHDuqiopCu+LpwvWOD66aNHl0g+qs4gHBMZeT6RPs3+RJs2NLtzmzb6WjhFR/46AQFh1qHohUuXLiEsG2uCBePGAU49NjJy8siREcNeZd3avGvXh7t3nzluXMWbbz6bmPhQly6r1v7ctGEDCo6cFIFbj/rVq/MBL1z+Teunnvpu7lxkqAkzZnBN3zezZufOmWP/kSOd+vblGpH6NWr0GzEiX968P8yblyVTpp379g0YNYpbZqDDJX59hgzhOr63hw/nChLucoVxq4ZduHjhj1OnCB8+dmzm3LnjB78yYfBgqhs3bRrF577zTuzu3X2HDPlk8mQEcPQA6OJnLVrYuEFDVTy9/QUBU5+y2kA4hQVPnfVR5MjX61SrlnDhwv2dOrbv0/v98RPKlbqJGbRpx44/R0c3qFkTuF576036lKMuiOFc+NK+d68Vsz/GEWKHvn17dOzY+v77Ecnxrdr52b7fzP44W5asTw8Zwg2cPyZ33PbdewaO/rfjDh492qVfv3dGjoQspOYuWTIucurttZKq4JKaU6dPEzh45MhnXy2d8MrQSa++Sp8Oj4h4Zfz498eNwwnJgFGvfzp5SvkyZZhjhk6YMG/Jl60efDC99WaaeN+UlVeaaG4abeSH8+Y2av2I8d+46dPVu1SvWLFR7dpJC+Rs2e5v0gRXebBCvtLcOXLc3aBhzPZtKlvjunUb1qzJ0hUu3+b++0oUK7ZyzRrE3k8XLx7/yit5cuWkCNc4DXnuuXc//hjvaz9HRb367LNZM2cmHrmsV6fOXKQLqd37D+zYtWtgz56wFVQuFcqUebJdO1dUcfrDJKGqe/yR1ptiYi5dvjzjk0+e7toVmYsFO+vlwc88g07GtWw6iZk26yNjhxKe9OGH6t1rV6ter0YNUMqVPfu9d94F14ZTk5QnV667br89Ztu/fXpvw4Z1q1Wj6+nTTi1bcsvXTxs2/BwVzUW3jzZrRiQCeNMGDapXqrxy9Zq9Bw/E7owb1KuX6rjyZUp3u+KOg5VQ86ZNcQulSOH7qUqF8qolxr/4X7yrbh3dp9FbNqM5mTp79gs9eiIcMBgYga/17w/LNpaSsHMQEMk6FH3RrUNHTxuMtxjutOb7LGtwxsR3deHKl9OkYYoAC//l+4/avPnW0mUOHT40YORIYtRrJJxPjNm+Y+uOuIq33mrUXd5WuTKfPnm27dxZrVIlmLh+bbfO2MobDsvlyZkDloyi89eNG9s1a6YLQqTilTvUdWT6CXjZYLzV0KcZM2Yy9in8lxWMQsnYp3D22lWr0qf//P333n2/dx8wQCO5Zcf2gvnyZcxwXdWKlfT95aTqjtscG9u2eXM9BpKSqlXfGmc2HypftpymmdSn/1yDiB21aWPvxx/X8dmyZKlQLiWbjpeAExAQZh3mXjBuK9EU4ydnbBkqC+Mj3zwKDTYP8+fN92gLPtSUFRJ+6P84fVppRXWRZE6dxNDxz2lKYobQ2XTAbTMQvkzxxOgiEtAIBNinGf/tU2xyHm3eXFMjULxo0U2xseaOy/Bvx7G3bE5KnpiNFAib+k6lJnfpfzqRq+NMBeXRIQhIxzikI3w0I3rzZp0DITd2165ypUsXLnj9dRky1K5e46769dW/0jfdxF5T2dKlt+/cabTZitv7O8wdCmVKlYqNi2P9q6lt27VLh70E+KoRyddGRVG7ysYVgtExMV6KSJJ3BMx9ujOpT1nT0Du6Qwmw1Yxeq0zp0tvidrjtuJtLl96ybZvuFyqN3bXbe9UqlbkWaZ0+1Zmx3d64dat+lICjEBBm7aju8NiYjxYsOHTsuErevCPuh3U/N73jDvzT44p+TORULMNIgjsPHT8+c6bMpW+8kd3FOYsXq/wY/I2bGsnVMDyipIbXfv7NNyoJRjBh2jSVpGK8/H2yXftJM2esjY6mutNnzg4cPdpo+eeloCS5ReD9efO4wUclrd+8OTpmy1316nEZ24/r1nE9o4o/fPw4m35FChcuX7r0dddlWLh8uYrHdmj8tHeVpV3bhx56b+7cA0ePqqTorVu//v47Ffb5t/tjHcZOmfzLpk3sTGJtwr50gXx5fZaSDGFBwM0SOCztuLornfz+e58sXGB6x9ULPzfFeHns9fgTbXr2qFD2ZlQf6zdufmfESOUTldteHu3z9ENdnri5ZEl29jHzeKL1Iyi7Jw0f/sTzzy9ZsaJg/nxbdu7s1q799mQJmu2pySNGdOnf/7MlS/LnyR0Tt7Nn587jph70UrVOqlSu7NRRo7EiOHDwQJ48eXt3fvzQIUsFNYWrKTBh6pSZc2ab3mjDV8tMMV4eu3fq1Kp7d/aTOV8aFRMz5fVRzL7kn/rG6K79+6F3RkO9esOvL/V5ukyy3eTbI0YQv2DpUrLF7NzZs1Onvfv3kx8Kz3br9kDnzrffdtuFSxcPHz/R76mnojZt8lK1TrqtUsU3Xx2GtQ9dmS9ffkw/9x9Ioik/ByIgN8X43SncFLNmzZoGdeuG+KYYTKpRcaDNqFW1KhtBut2sf7fu3LX/4P5bypYrVayYjkf+/W1rbPzZ+DrVauRIvgNbJ7Gajo7ZmpCYgN1C9qwppHQGt4HfDx1CGYLNiU69q317ZoVK1rakuCnmLIL8hAnOvCnm6NGjbR9qFuKbYmDTbNuCZ82qVY27vlzUuGHzJraX0XHlzpFdA57UcVu3cvjFtePOnEv4ddNvBfIVqHzrLdb3EnYfOIDFobLvVrXUffjhWW++ydyvK/UUUDfFJNkdfvyx3BTzH5TsuSlGJOv/gGzxAf7oujNjsWzA2RCKlX2uiQItQeblnymeTaeald0fH2dTsXbVKqb8Ph+xJBk7deoXM2YoOxMOyMSfPcP5CxrgsywZyGbUq1opEso8YelTJl0s6lxfkxm0Ya1arvFJHVfFfcdhvtnk9iSTfL9+aKixyPwsMlJN/1+uWoU5Sslixaz0KXn4OblP/YLC+ZmFWQfSR2qMprdh2rRhw+27d9/+8MMlihW9eOlP1KbTx45DLrOIg+KGgcAdkjLps0+5tiJuz576D7dkwXT+0qWEhPOcyWJKsNKn5OEHbiHpH6nkGmHWgQwCxiirv/Q2THnfvl26dGnb9sChQ1myZClepGjmTFbHjzJjALdA4A5JGdqG4ii99WmGa68d0KMHByY53c4+c/EiRdyacrrtAdWbTu5Tt81Ou5FWP7a0+4ZBb3n+/Pn5pGN3xJ04fbpA8o5Q0KtwMkFO5ZW/cujD+oeKth2XsOCWx5GIFShQAJ01/lI4FJo9/Tkz4rhsbv/7FJs/JbLkzJnTySP2qmmbV5WTPWrytI7d8uXL7733Xt6i7m01X+jZs0Du3Gn9jexu/++HDw+bOGH33r2cFtm7d2/xZNsGc6V2Dzav9KdOnYp8SZMevOeevl26Fjfs05rbKc9JR6suRW/Z8tKoUUeOHeVU/IkTJ5w5B4etr7wOtoBbJczab+iQJpo3b7506VK/S6b7Av369RszZox7VYM94zsFcq/0//zzz4oVK+7cuVPlx/YxpaCEXBBgRcVXoKLfeuutp59+2iVL+o7wOtgChwbcPf7KXfOP/ucxU3pM4Nt+7rnnTKeKA++DdFCSQ/B81dgdehwueqQRsOPni/7Zs2ebGTyfpIM+Se0r0qczZ86Ea9vRXWmbpq/BFtjbiWQd4JAFbsxdT548qUWMAAkFtRiNmTNnTocOHYJKNbXEEFQLFy7MnqQ3QjYJI7pKC/TpUzp0y5YteNvQ5cIeQDJYvHhxq1atwt4SYwNKlixZunTpzAaPYMbU9B62MNgCgEiYdQCgObcI80fdunU3btyY9qR+e8Z3SlfZTT+lpiCHEhMTOYe1YcMG9+qjINcm5IKBgD2DTXyDBKNvHEPjs88+i4nBYfK/HpMd0y5pSOAILFiw4LfffouLiwuchJS8KhAQZn1VdGPyS6ADGTFiBGv5IUOGXD1vlb7fhD4dMGAAfTp8+PD0jYS8/TXCrK+eQRAbi+fUXSyWv/jiC67ju3peLB2/CRqtw4cP06fz589nCzQdIyGvLsz6ahkDCF/Dhg3jLz+2pNCHXC1vln7fg67UfYpTJ/wlpV8s5M3xrsOA8IiDPWpyj9VJQioQOHfuXL58+dQNA5ApVqzYnj17OLCQCpKhLWr3YLObvg1osTwqWLAgTnEVbQ4T7d69W2zAbUA62CTtGWyiBgl2P4WJXmRkJDXDnZl9uQPs4MGDUVcc2IepRVJtahF477336E0Me1Sf7t+/f7PhwqDUUpfyaQ0BYdZprcfctReBesWKFRzAq1y5MvrNF198EY/bERER7vJKXNpAgD5dsmQJmxAlSpSgT9GHrF69+u23304brZdW2oBA2lkm2/DyVw1JhK+vvvqKT1pJ1rlz58baulatWkhkRF41r5muXoSOwwsNf9F70I958+atV69e7dq1pU/T1TAwvqwwayMaaTVs5Mg6LMrNtNqdye02HmuSPk3TXRmsxosaJFhICh1BQBAQBGxEQJi1jeAKaUFAEBAEgoWAZdO9YFUodAQBnwhs92xO6rOspwxGaypPeSReEAg6AsEbzCJZB71zhKAgIAgIAsFHQJh18DEVioKAICAIBB0BYdZBh1QICgKCgCAQfAS86qyDX51QtBeBOnXqrF+/fvTo0S+88IK9NQn1UCFQtmxZjsZMnjxZ3RIZqmqlHschIJK147pEGiQICAKCgCsCwqxdMZEYQUAQEAQch4Awa8d1iTRIEBAEBAFXBIRZu2IiMYKAICAIOA4BYdaO6xJpkCAgCAgCrggIs3bFRGIEAUFAEHAcAsKsHdcl0iBBQBAQBFwREGbtionECAKCgCDgOASEWTuuS6RBgoAgIAi4IiDM2hUTiREEBAFBwHEICLN2XJdIgwQBQUAQcEVAmLUrJhIjCAgCgoDjEJA7GB3XJalpUMuWLatWrVqlSpXUEJGyjkKgXbt2x44dK1++vKNaJY0JPQLidS/0mEuNgoAgIAj4jYCoQfyGTAoIAoKAIBB6BIRZhx5zqVEQEAQEAb8REGbtN2RSQBAQBASB0CMgzDr0mEuNgoAgIAj4jYAwa78hkwKCgCAgCIQeAWHWocdcahQEBAFBwG8EhFn7DZkUEAQEAUEg9AjIoZjQY+6xxr///vuXX36pXbv2ddfJJOoRJYcn/PPPP/v27Zs3b97+/fuvvfbaGjVq3H///ddffz1hh7dcmudwBIQpOKiD/vzzz/r161++fNnWNiUmJrZp08bWKtItcfquS5cuTLcZMmT43//+17lz571795YtW3bo0KEwcSuwXLp0qVGjRlZy+sxDjbfffvtff/3lM6dkSBMIiGSdJropmI3k6928eXMwKQqtZARgjq1bt86dO/eBAwcyZcqkUEGy7t+//7333kvM4MGDfcrXEImOjg4Wohs2bLA4SQSrRqFjHwLCrO3DNrWU+cz4thHW/vjjDxQj+fPn1+oRlUQFiMlnz57NkiVLnjx5NCNQ36d+VO1QRVQSf1VA5SF87tw5SGXOnDlv3rymgql9jXRT/rfkX1xcnObU6tWzZ8/+xRdf3Hjjjd27dy9cuDCRAG4CWcXwV//IRh4eVU5WXQwDKOfLl89YVmfQMKsY/qqKTNUxnE6dOkUqHU1361IScD4CogZxaB/9+uuveGX6/vvv27Zt+/XXX0+cOLF48eI7d+5Uza1Tp86WLVv69u3bs2fPH3/8sV+/fihG4+PjVeqKFSuef/5544vxqaM2ZYn99NNP33333Xv27EHWe+GFF8hz8eLFpk2bDhkyZPXq1c8++yxOoDQdIwUJ+0TgjTfeGDlypIlTq1Jw2F69en344Yc8rlu3rmPHjkZqrHVuuOGG8+fPoy1p0qQJsya9gxaFPPTLl19+OXnyZGT2b775hmGAqE73qeKoxU0OnuDCFStWPHLkyKxZs+ho+r1x48a4gmI7hKRFixY1aNDgq6++QqVeoUKF999/X/F0Y2Mk7FwE6C35OQSBCxcuIDTBPWnP+vXr+YAnTJigPjNili9fXq5cOfVYq1at22677ffff1ctJxJWW6lSJeQmlRO2q5LUX9g0grmifObMmVtuuUWnduvWjU9XkeXvjBkz0GirR51HAj4RAPmCBQvCJT3lZPalg0j9+eefH3vsMWM2yhYqVAgeTSRjIFeuXDoVzUm1atVWrVqlewQdC+I5yynysJNp7EpiyAb7Pnz4sAqz5IJfK2qHDh0qXbq0GiHEQKFYsWIqp8ogfx2OgEjWzp1H+a6eeeYZvea98847jx8/DsNVLUb4KlGihAqTp169ejzC4v19n23btrEDpmrhb4cOHWAl/hKR/HznzII5cuTwBAWTJXzWU6qXeHg3W456GMBhWVEhFHsp4jYJ7UfJkiW1Ji1nzpxz5851uw5wW1wiw46AMOuwd4HHBtSsWROjAp3MZ4aSEdFJxTzyyCM6iQAf8+OPP/7TTz8ZI62EH3300YceegixHbU1HAdZDPWLZg1WKEgehQAdBICe0KDjAuOMdKupO+igZcuWeanLbRtuuukmti5feukllCfKRATTowIFCrjNLJEORECYtQM75d8muYppxo8WqwNT05Gs16xZY4r0+YjWe8GCBe+9996tt97KJtjLL78M1/ZZSjKYEIBTowZh6WOK14/sMYCwfrQeYLPBlJmYrVu3miJ9PrLPiR0hujV4PWI+umx2O/zl+D5rkQz2ISDM2j5s7aXsug3IOte03aRbgCSlRXIdqQJMAGjA58yZgwYcyQuy1atXRwNjyiaP3hGAWT/44IOffvqp22zwxI8++qh3795uU+kaL4BzTYypFNptdptNkfqRjUodNgUwGWIzA+350aNHBw0axOYEm5amPPLoWASEWTu2a3w0bP78+cYcsINPPvmEhS2RLLdh3MbUgwcPumUHbDxGREQo8QqVC9tckyZNypYt24kTJ4zFJWwFAdjfqFGjTMirghi2r1y5Em7OY8aMGU15kMfhv56qwK7DJP+is+K0C7MsXXb69GljKpyavnZL6ttvv1VmJBTMmjUrtiJMLewtu80skQ5EQJi1AzvFUpP4htnf11nZ1ucbvueee4jBKmvJkiWYAahUPmZMvrQKhYCyJSAVxvHWW29t375d00EGh3e4amB0Bgl4QgAlErZ3devWVVY6Khvgs17BII/dPPb0iLz55pvXrl2L1YfOQBcYNyeU/YauZceOHcatCAoOHz6cnWcyoHjhEftrnZmNR3Yd9CMB5mP1mJCQMHDgQCNn37VrF/YhxswSdjICwqyd3Dve2oYIzGnmmTNnYnwN44ZNf/fdd+qYA99wq1atHn74YVTYmzZtQivNAlzzX3SXKC45oIFszuL9s88+w0b73Xff5dNl2wo73NGjRyu24q16SXOHAObtWFtjBY9hJWaXI0aMwOqZreDFixcjyaoS6CIwl3zggQdQGStjeeyg2f1TqayKOK3OpiJ9qmLYRaCX6ZTY2FjmY1KnTJlCD5JKZqZhtM9oM+Dpr7zyCvsWqKRVQf5inQ3xadOmwaPpZWZirH3wP7Nx40bIslGBVkRnloDDEZALcx3UQXxRiD9wVYRfviskLJarun2ksliG1ZLKF4uWuVSpUpyXw7aXIljjIiYbM+/evRtbMShUrlyZUpRFv6Hka5SkPCLNEUMRhK+YmBgsz3hE642tmKYjgQAQoONYrJw8eRK04Z78mBSNdOhKpG9+SMEYXzM1uvYOReg1+C9GQc2bN6crUWIwGXNqiXgjNRZY9DX52cBk5xBZm2yqRjVmyKyGDY/QYZuRAOsAxo8aD0ZqEnYsAsKsHds13hqmmHWZMmW8ZZK0tI+AYtYtWrRI+68ib5BaBP4z4aeWmJQXBAQBQUAQsAeBlIWzPfSFqi0IoGqU4wy2IOswoiiale8nh7VLmhMGBEQNEgbQpUpBQBAQBPxFQNQg/iIm+QUBQUAQCAMCwqzDALpUKQgIAoKAvwgIs/YXMckvCAgCgkAYEBBmHQbQpco0gQCHQvXxP9cGY6pMKn9dk4ghXp8gVY9kxnbebWa/InEb4KlSIx3vzTPmhKAnvzHGbBDEm66Vqo2lJBxEBIRZBxFMIXX1IACr5T4X4zkj07txZJ9DJZ6YF+cJOWKuisCmOWTYqVMnLogghoOL2im5iaaVRw6acwTGZ074L4dxvDh10hQ408hVjfrRFMCNlKqO4zMciOXmMlMGeQwZAsKsQwa1VJSWEPjggw84kGI6eWj9BXBgi9Wdyg935noHvCbdcccdxHD1l6vHROuULeaEt3LQ3OhyxGJBUzYOxOOCSkVyK8WTTz7paX4yFZTHoCMgzDrokArBNI8A+orx48fjJiXgNylSpAhu/lVxjpVXrVo1YFKBFWSawT+UyalTYKR0KVwXcF0Rngl0jARCiYAw61CiLXWlDQTw7IGPb6UDQZDE8xFumO666y48fQ8YMMCoyMYRB572EJnx4MHVxtq1LI5BcGAN0x8zZszUqVNxhodA/fbbb/MXTQLOVAkoZQj0cbYFE8S9LQ5e8Khl1CDjUQ+nTniGatiw4YsvvuhFf4KvGNyl0h4COIGCyJtvvqn15tzW2L59e+hQEQ3DFcm4ceO0jEw7uRCOF+SH7xHu1SWJsjilov3Tp0+ntbiRovO6du3KHJA2evHqayW9Ij9BQBAwIjB27NiPP/5YxcCp1Y3jPLIXN2zYsGbNmsEKUWXg/hsOiGskHvl9/vnnaLHVBiB7cbBXItEav/766zB0AnBS/uKKGvfWBEiFJkoGLizHwzWP8Efo9+jRQyXBqfHGx6UwPPLjOi486nEVPX4Wja1VYdwuorrhUgLc6aG7oBkcfcQvGKl4+yIeAV/RoUY0JHnz5uWRVOYY/ALiyU+1nEq5hJdbfUmlkbNnz8Z3IAGVyivw1irs2gaJsRWBpG1r+QkCgoBGACaFg1McxqqY1157DS6sUxGrkaORcGHW6IURinUSBbnNFt94xChmrZK4MB6ZWmfjpmMualGPcGecnRrvRIcI4i2iPRnQES9cuFAXJMC+JZV6Ytbch8t+oMqvmTUE8caHT1QjHURmI7PGkyrZdAaueevSpYt6hLMj7OsksuGuj6lFx0ggZAiIGuTqWyzJG6UWAZyOao/euDZ89dVXUWvwTUIXF9Lff/+98huOZ1rjPWqwUSRrNAzWq0e3wF0ERu8fEOnTpw9yPaoJvGDD2Y3UyKw8WRsjdRiPMbgy148qwI2a3CaBW21jvOkCe/xrU6/OANPnffWjMUA2GmC87sCYKmFbERBHTrbCK8TTJAK49lbsmNajJUDK5vIdPGehPcDGA7lbWVng+NtkLuLF1M8tEIioWHObtMCrVq3iggIUDmzo6Wbo4ngn12FTAANBUwyP0GG309RO6Btz5suXz/hoymxMIkyrENtNkfIYAgSEWYcAZKkijSFgtHgjPHjwYC7EQsOwbt26p556Ck63YsUKXskojQb2hlBgXxHB1licR5i+0gsb41UYNbRrpIpxy2RZCqh7Go2tNe6RUtaY5Im4imd5wdLBen7v1CTVLwREDeIXXJI5XSCApKnYGbxJ3asC9yxatCg3pXF+BEVzVFRUUIBAa8GRE9Qpxh+sEN0Ft/ZQkUmpQnuUVYb12rH4hr+bFBdeTsH4pIyGRF0w5DOnZAguAsKsg4unUEvzCMArkXYVdyOMKQi7hfqtkF7LlSvHPpuO8TcATbiwKoUOmskAexJNBHbM5h7mHFTECRRs/nQSAYw0UNEYY3yGocOd61itaN0FSwQMPHwW1BmYOXSY5sGsXTXjOoME7ENAmLV92ArltIoAEjTHDlXruW0WWz0MMGDQGIGw6ffrr7+itg743di+45ZbDJ8hiMDOhcWYl2D+wSP6ZRgrgjBmf9DHupk7bbFFgbnDarnjPDIy0rQ3aKUZXI6M5h0jbq5FZxOyb9++GPlZKUgeNPVY9WH8p2R8NCoY9rlq0i1Sk2ypQUAuH0gNelL26kSAfT8EaqXrQJaEsU6ePBkRmOU/p2PYZkQRDPeEoXPGBElZo8DREuxDsCSB4XLSj6sySVKG2HjqUNng+GvXruUvVcCsicT45J133mE+QBmCGXWbNm200hxtDFebw6bJiXSsjKwxnjPdmQsRphDYqL7smGZz2z3TgCZFg2G4CNrUwrqBLVNMBmk8Vn1Ycxu3HBHeaQzW35CFTnR0NPYkHMLEDgSrPvg1R2PUu8jfUCIgzDqUaEtdaQMBOBTS9Icffshl4WmjxV5biXkJih3j0XNmC3ZN2SY1zjReaSQlAguzxbx587DR9plZMgQdAVGDBB1SIZjmEYCFRUREcJIlzb9J8gvgQ4ozmbBa9TqI2Ni0cOTdL05NWY5QVqpUSTh1uEaFMOtwIS/1OhoBjregCsAPqqNbaa1xOAlB6czBSPTvuARBv8EeplujbC/04PUchefcvJc8kmQrAqIGsRVeIS4IOAUBdi/RpCNNY8yndOVOaZm0wxoCwqyt4SS5BAFBQBAIKwKiBgkr/FK5ICAICALWEBBmbQ0nySUICAKCQFgREGYdVvilckFAEBAErCEgzNoaTpJLEBAEBIGwIiDMOqzwS+WCgCAgCFhDQJi1NZwklyAgCAgCYUVAmHVY4ZfKBQFBQBCwhsD/AWl8hXEN8ti9AAAAAElFTkSuQmCC)"
      ],
      "metadata": {
        "id": "Pg2Xqg50rb8_"
      }
    },
    {
      "cell_type": "markdown",
      "source": [
        "The attention layers used throughout the model see their input as a set of vectors, with no order. Since the model doesn't contain any recurrent or convolutional layers. It needs some way to identify word order, otherwise it would see the input sequence as a bag of words instance. For example, *how are you, how you are, you how are,* and so on are the same and these sequence indistinguishable."
      ],
      "metadata": {
        "id": "mrWn3pDfrmqN"
      }
    },
    {
      "cell_type": "code",
      "source": [
        "def positional_encoding(length, depth):\n",
        "  depth = depth/2\n",
        "\n",
        "  positions = np.arange(length)[:, np.newaxis]     # (seq, 1)\n",
        "  depths = np.arange(depth)[np.newaxis, :]/depth   # (1, depth)\n",
        "\n",
        "  angle_rates = 1 / (10000**depths)         # (1, depth)\n",
        "  angle_rads = positions * angle_rates      # (pos, depth)\n",
        "\n",
        "  pos_encoding = np.concatenate(\n",
        "      [np.sin(angle_rads), np.cos(angle_rads)],\n",
        "      axis=-1)\n",
        "\n",
        "  return tf.cast(pos_encoding, dtype=tf.float32)"
      ],
      "metadata": {
        "id": "VLIMsFjBtHE7"
      },
      "execution_count": null,
      "outputs": []
    },
    {
      "cell_type": "markdown",
      "source": [
        "The position encoding function uses a stack of sine and cosine function values that vibrate at different frequencies depending on their location along the dimension / columns of the embedding vector. They vibrate across the position axis."
      ],
      "metadata": {
        "id": "225m68ivtnRB"
      }
    },
    {
      "cell_type": "code",
      "source": [
        "import matplotlib.pyplot as plt\n",
        "# embed a sequence fragment with the length of 2048 and 512 dimension (columns)\n",
        "pos_encoding = positional_encoding(length=2048, depth=512)\n",
        "\n",
        "# Check the shape.\n",
        "print(pos_encoding.shape)\n",
        "\n",
        "# Plot the dimensions.\n",
        "plt.pcolormesh(pos_encoding.numpy().T, cmap='RdBu')\n",
        "plt.ylabel('Dimension')\n",
        "plt.xlabel('Position')\n",
        "plt.colorbar()\n",
        "plt.show()"
      ],
      "metadata": {
        "colab": {
          "base_uri": "https://localhost:8080/",
          "height": 473
        },
        "id": "yItlev43tmoz",
        "outputId": "c962e762-4b3a-482b-93ce-97e83b78473b"
      },
      "execution_count": null,
      "outputs": [
        {
          "output_type": "stream",
          "name": "stdout",
          "text": [
            "(2048, 512)\n"
          ]
        },
        {
          "output_type": "display_data",
          "data": {
            "text/plain": [
              "<Figure size 640x480 with 2 Axes>"
            ],
            "image/png": "[encoded data removed]"
          },
          "metadata": {}
        }
      ]
    },
    {
      "cell_type": "markdown",
      "source": [
        "Implement the PositionEmbedding layer that looks-up a token's embedding vector and adds the position vector to the embeddings"
      ],
      "metadata": {
        "id": "RQsT1i3IubFg"
      }
    },
    {
      "cell_type": "code",
      "source": [
        "class PositionalEmbedding(tf.keras.layers.Layer):\n",
        "  def __init__(self, vocab_size, d_model):\n",
        "    super().__init__()\n",
        "    self.d_model = d_model\n",
        "    self.embedding = tf.keras.layers.Embedding(vocab_size, d_model, mask_zero=True)\n",
        "    self.pos_encoding = positional_encoding(length=2048, depth=d_model)\n",
        "\n",
        "  def compute_mask(self, *args, **kwargs):\n",
        "    return self.embedding.compute_mask(*args, **kwargs)\n",
        "\n",
        "  def call(self, x):\n",
        "    length = tf.shape(x)[1]\n",
        "    x = self.embedding(x)\n",
        "    # This factor sets the relative scale of the embedding and positonal_encoding.\n",
        "    x *= tf.math.sqrt(tf.cast(self.d_model, tf.float32))\n",
        "    x = x + self.pos_encoding[tf.newaxis, :length, :]\n",
        "    return x"
      ],
      "metadata": {
        "id": "l5Ly01nBu2Cr"
      },
      "execution_count": null,
      "outputs": []
    },
    {
      "cell_type": "markdown",
      "source": [
        "Check the positional embedding"
      ],
      "metadata": {
        "id": "-DeKBG8-VTiy"
      }
    },
    {
      "cell_type": "code",
      "source": [
        "embed_pt = PositionalEmbedding(vocab_size=tokenizers.pt.get_vocab_size().numpy(), d_model=512)\n",
        "embed_en = PositionalEmbedding(vocab_size=tokenizers.en.get_vocab_size().numpy(), d_model=512)"
      ],
      "metadata": {
        "id": "b2E4DR8EVf1P"
      },
      "execution_count": null,
      "outputs": []
    },
    {
      "cell_type": "code",
      "source": [
        "pt = pt_examples[0]\n",
        "en = en_examples[0]\n",
        "print(pt)\n",
        "print(en)"
      ],
      "metadata": {
        "colab": {
          "base_uri": "https://localhost:8080/"
        },
        "id": "NPCMtpalm4IU",
        "outputId": "2dfce749-22ac-42e1-a6e6-b507b6e67ed4"
      },
      "execution_count": null,
      "outputs": [
        {
          "output_type": "stream",
          "name": "stdout",
          "text": [
            "tf.Tensor(b'e quando melhoramos a procura , tiramos a \\xc3\\xbanica vantagem da impress\\xc3\\xa3o , que \\xc3\\xa9 a serendipidade .', shape=(), dtype=string)\n",
            "tf.Tensor(b'and when you improve searchability , you actually take away the one advantage of print , which is serendipity .', shape=(), dtype=string)\n"
          ]
        }
      ]
    },
    {
      "cell_type": "code",
      "source": [
        "for (pt, en), en_labels in train_batches.take(1):\n",
        "  break\n",
        "pt_emb = embed_pt(pt)\n",
        "en_emb = embed_en(en)"
      ],
      "metadata": {
        "id": "QPMtEi3utVsr"
      },
      "execution_count": 191,
      "outputs": []
    },
    {
      "cell_type": "code",
      "source": [
        "print(pt_emb.shape, en_emb.shape)"
      ],
      "metadata": {
        "colab": {
          "base_uri": "https://localhost:8080/"
        },
        "id": "51GP8gBi37jb",
        "outputId": "6c946a65-1dd6-4736-951c-9b3591aca62d"
      },
      "execution_count": 194,
      "outputs": [
        {
          "output_type": "stream",
          "name": "stdout",
          "text": [
            "(64, 128, 512) (64, 124, 512)\n"
          ]
        }
      ]
    },
    {
      "cell_type": "code",
      "source": [
        "# the mask to prevent the decoder from looking at the succeeding tokens\n",
        "en_emb._keras_mask"
      ],
      "metadata": {
        "colab": {
          "base_uri": "https://localhost:8080/"
        },
        "id": "ZZn1AeJ8wM54",
        "outputId": "7cc221b7-7e04-4022-cb5c-6ddbb135b6e4"
      },
      "execution_count": 192,
      "outputs": [
        {
          "output_type": "execute_result",
          "data": {
            "text/plain": [
              "<tf.Tensor: shape=(64, 124), dtype=bool, numpy=\n",
              "array([[ True,  True,  True, ..., False, False, False],\n",
              "       [ True,  True,  True, ..., False, False, False],\n",
              "       [ True,  True,  True, ..., False, False, False],\n",
              "       ...,\n",
              "       [ True,  True,  True, ..., False, False, False],\n",
              "       [ True,  True,  True, ..., False, False, False],\n",
              "       [ True,  True,  True, ..., False, False, False]])>"
            ]
          },
          "metadata": {},
          "execution_count": 192
        }
      ]
    },
    {
      "cell_type": "markdown",
      "source": [
        "**The components of the transformer encoder**\n",
        "\n",
        "![image.png](data:image/png;base64,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)"
      ],
      "metadata": {
        "id": "C8oRNm7Zkb7E"
      }
    },
    {
      "cell_type": "markdown",
      "source": [
        "# The base attention layer\n",
        "\n",
        "The attention layer with the Add & Normalization is one of the basic building blocks for the encoder block.\n",
        "\n",
        "We first build a base attention layer to better explain the attention mechanism. The base attention layer is **the template of other attention layers**."
      ],
      "metadata": {
        "id": "7M02PabtcRFL"
      }
    },
    {
      "cell_type": "markdown",
      "source": [
        "![image.png](data:image/png;base64,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)"
      ],
      "metadata": {
        "id": "r7_zq64UxV4_"
      }
    },
    {
      "cell_type": "code",
      "source": [
        "class BaseAttention(tf.keras.layers.Layer):\n",
        "  def __init__(self, **kwargs):\n",
        "    super().__init__()\n",
        "    self.mha = tf.keras.layers.MultiHeadAttention(**kwargs)\n",
        "    self.layernorm = tf.keras.layers.LayerNormalization()\n",
        "    self.add = tf.keras.layers.Add()"
      ],
      "metadata": {
        "id": "6rVi6YR8w2C4"
      },
      "execution_count": null,
      "outputs": []
    },
    {
      "cell_type": "code",
      "source": [
        "sample_ba = BaseAttention(num_heads=4, key_dim=512) # passed to the MultiHeadAttention layer\n",
        "\n",
        "print(pt_emb.shape)\n",
        "print(en_emb.shape)\n",
        "print(sample_ba(en_emb, pt_emb).shape)"
      ],
      "metadata": {
        "colab": {
          "base_uri": "https://localhost:8080/"
        },
        "id": "g4I0-QO840hF",
        "outputId": "c145f2b3-4ae4-47cd-d5c8-9037df942e1e"
      },
      "execution_count": 197,
      "outputs": [
        {
          "output_type": "stream",
          "name": "stdout",
          "text": [
            "(64, 128, 512)\n",
            "(64, 124, 512)\n",
            "(64, 124, 512)\n"
          ]
        }
      ]
    },
    {
      "cell_type": "markdown",
      "source": [
        "There are two inputs:\n",
        "\n",
        "The query sequence; the sequence being processed; the sequence doing the\n",
        "\n",
        "*   The query sequence (Query): the sequence being processed; the sequence doing the attending (bottom).\n",
        "*   The context sequence (Key & Value): the sequence being attended to (left).\n",
        "\n",
        "Think about a dictionary having keys and values. The keys are the terms to be looked up, the values are the detailed explanation the users actually want.\n",
        "On the other hand, the dictionary cannot always find a perfect match, but you can find a similar term to satisfy your search. If you looked up d[\"species\"] in the dictionary above, maybe you'd want it to return \"pickup\" since that's the best match for the query. An attention layer does a fuzzy lookup like this, but it's not just looking for the best key. It uses its knowledge learned from the train to combine the values based on how well the query matches each key.\n",
        "\n",
        "In an attention layer, the **query, key, and value** are vectors. Instead of doing a perfect lookup, the attention layer combines the query and key vectors to determine how well they match by the \"attention score\". The layer returns the average across all the values, weighted by the \"attention scores\"."
      ],
      "metadata": {
        "id": "0pv6ZHcIxWnl"
      }
    },
    {
      "cell_type": "markdown",
      "source": [
        "# The cross attention layer\n",
        "\n",
        "The cross-attention layer connects the encoder and decoder. This layer is the most straight-forward use of attention in the model.\n",
        "![image.png](data:image/png;base64,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)"
      ],
      "metadata": {
        "id": "3GmsxuXA0Tta"
      }
    },
    {
      "cell_type": "markdown",
      "source": [
        "The cross-attention layer takes the target sequence x (English) as the query and the context sequence (Portuguese) as the key/value when calling the mha layer:\n",
        "\n",
        "\n"
      ],
      "metadata": {
        "id": "b1eFv_M37mY5"
      }
    },
    {
      "cell_type": "code",
      "source": [
        "# the cross-attention layer is a sub-class of the base attention layer.\n",
        "# thus it inherits the multi-head attention, normalization, and add method.\n",
        "\n",
        "class CrossAttention(BaseAttention):\n",
        "  def call(self, x, context):\n",
        "    attn_output, attn_scores = self.mha(\n",
        "        query=x,\n",
        "        key=context,\n",
        "        value=context,\n",
        "        return_attention_scores=True)\n",
        "\n",
        "    # Cache the attention scores for plotting later.\n",
        "    self.last_attn_scores = attn_scores\n",
        "\n",
        "    x = self.add([x, attn_output])\n",
        "    x = self.layernorm(x)\n",
        "\n",
        "    return x"
      ],
      "metadata": {
        "id": "F0UyjWoe0WQU"
      },
      "execution_count": null,
      "outputs": []
    },
    {
      "cell_type": "markdown",
      "source": [
        "Test the cross attention layer with 4 heads"
      ],
      "metadata": {
        "id": "Ooi08VSz1jU5"
      }
    },
    {
      "cell_type": "code",
      "source": [
        "sample_ca = CrossAttention(num_heads=4, key_dim=512)\n",
        "\n",
        "print(pt_emb.shape)\n",
        "print(en_emb.shape)\n",
        "print(sample_ca(en_emb, pt_emb).shape) # English as query, Portuguese as key / value"
      ],
      "metadata": {
        "colab": {
          "base_uri": "https://localhost:8080/"
        },
        "id": "Q2T3QXdXw2Fp",
        "outputId": "2f85b759-c7fa-4e3e-bf82-d3902e7a339a"
      },
      "execution_count": 193,
      "outputs": [
        {
          "output_type": "stream",
          "name": "stdout",
          "text": [
            "(64, 128, 512)\n",
            "(64, 124, 512)\n",
            "(64, 124, 512)\n"
          ]
        }
      ]
    },
    {
      "cell_type": "markdown",
      "source": [
        "# Global self-attention layer\n",
        "\n",
        "The global self-attention layer is for the encoder side. It processes the context sequence, and propagating information along its length. Information is allowed to flow in both directions. (no mask)\n",
        "\n",
        " We pass the target sequence x (Portuguese), as query, kay, and value arguments to the multi-head attention layer"
      ],
      "metadata": {
        "id": "nFfsS8Xg8mkq"
      }
    },
    {
      "cell_type": "code",
      "source": [
        "class GlobalSelfAttention(BaseAttention):\n",
        "  def call(self, x):\n",
        "    attn_output = self.mha(\n",
        "        query=x,\n",
        "        value=x,\n",
        "        key=x)\n",
        "    x = self.add([x, attn_output])\n",
        "    x = self.layernorm(x)\n",
        "    return x\n",
        "\n",
        "sample_gsa = GlobalSelfAttention(num_heads=4, key_dim=512)\n",
        "\n",
        "print(pt_emb.shape)\n",
        "print(sample_gsa(pt_emb).shape)"
      ],
      "metadata": {
        "colab": {
          "base_uri": "https://localhost:8080/"
        },
        "id": "OyLEd6Pa6xp2",
        "outputId": "274e8bc7-e998-494e-f25a-bd2c3d1c9704"
      },
      "execution_count": 201,
      "outputs": [
        {
          "output_type": "stream",
          "name": "stdout",
          "text": [
            "(64, 128, 512)\n",
            "(64, 128, 512)\n"
          ]
        }
      ]
    },
    {
      "cell_type": "markdown",
      "source": [
        "# Causal self-attention layer\n",
        "\n",
        "The causal self-attention layer is for the decoder side. Transformer is autoregressive. It generates the text one token at a time and feed that output back to the input. It ensures that the output for each sequence element only depends on the previous sequence elements.\n",
        "\n",
        "To build a causal self-attention layer, you need to use an appropriate mask when computing the attention scores and summing the attention values. So we set the use_causal_mask = True in the MultiHeadAttention layer."
      ],
      "metadata": {
        "id": "x2SApQrH9xSz"
      }
    },
    {
      "cell_type": "markdown",
      "source": [
        "![image.png](data:image/png;base64,iVBORw0KGgoAAAANSUhEUgAABToAAAVYCAIAAAAIivDLAAAAAXNSR0IArs4c6QAAAERlWElmTU0AKgAAAAgAAYdpAAQAAAABAAAAGgAAAAAAA6ABAAMAAAABAAEAAKACAAQAAAABAAAFOqADAAQAAAABAAAFWAAAAAD0bn+NAABAAElEQVR4AezdB7wdVbk4bIHQW4AgoYt06VJCb9KkCqICF7hwQQQERAFFmnAV5QaxIYKIXpBihEsLHUKKJJRACoQiLUASAoRAElJII/nef853993OPpmzzz67zJ79nJ8/nFmzZq13Pesk2e+emTWLzJ8//3N+CBAgQIAAAQIECBAgQIAAgSwJLJqlYMRCgAABAgQIECBAgAABAgQI/D8B6brfAwIECBAgQIAAAQIECBAgkDkB6XrmpkRABAgQIECAAAECBAgQIEBAuu53gAABAgQIECBAgAABAgQIZE5Aup65KREQAQIECBAgQIAAAQIECBCQrvsdIECAAAECBAgQIECAAAECmROQrmduSgREgAABAgQIECBAgAABAgSk634HCBAgQIAAAQIECBAgQIBA5gSk65mbEgERIECAAAECBAgQIECAAAHput8BAgQIECBAgAABAgQIECCQOQHpeuamREAECBAgQIAAAQIECBAgQEC67neAAAECBAgQIECAAAECBAhkTkC6nrkpERABAgQIECBAgAABAgQIEJCu+x0gQIAAAQIECBAgQIAAAQKZE5CuZ25KBESAAAECBAgQIECAAAECBKTrfgcIECBAgAABAgQIECBAgEDmBKTrmZsSAREgQIAAAQIECBAgQIAAAem63wECBAgQIECAAAECBAgQIJA5Ael65qZEQAQIECBAgAABAgQIECBAQLrud4AAAQIECBAgQIAAAQIECGROQLqeuSkREAECBAgQIECAAAECBAgQkK77HSBAgAABAgQIECBAgAABApkTkK5nbkoERIAAAQIECBAgQIAAAQIEpOt+BwgQIECAAAECBAgQIECAQOYEpOuZmxIBESBAgAABAgQIECBAgAAB6brfAQIECBAgQIAAAQIECBAgkDkB6XrmpkRABAgQIECAAAECBAgQIEBAuu53gAABAgQIECBAgAABAgQIZE5Aup65KREQAQIECBAgQIAAAQIECBCQrvsdIECAAAECBAgQIECAAAECmROQrmduSgREgAABAgQIECBAgAABAgSk634HCBAgQIAAAQIECBAgQIBA5gSk65mbEgERIECAAAECBAgQIECAAAHput8BAgQIECBAgAABAgQIECCQOQHpeuamREAECBAgQIAAAQIECBAgQEC67neAAAECBAgQIECAAAECBAhkTkC6nrkpERABAgQIECBAgAABAgQIEJCu+x0gQIAAAQIECBAgQIAAAQKZE5CuZ25KBESAAAECBAgQIECAAAECBKTrfgcIECBAgAABAgQIECBAgEDmBKTrmZsSAREgQIAAAQIECBAgQIAAAem63wECBAgQIECAAAECBAgQIJA5Ael65qZEQAQIECBAgAABAgQIECBAQLrud4AAAQIECBAgQIAAAQIECGROQLqeuSkREAECBAgQIECAAAECBAgQkK77HSBAgAABAgQIECBAgAABApkT6Ja5iAREgECLCQwcOLDFRtwcw33//fd79uzZHLGKkkAGBPyRycAktBPC+PHj11hjjXYOKGq0wJ577tnoEPRPoAkEpOtNMElCJJBXgY8//vjrX/+6dD2v82tcBAgQIEBgYQIbbbTRq6++urCjygkQaBNwM7zfBAIEGibw0EMPydUbpq9jAgQIECDQOIHXXnutd+/ejetfzwSaQ0C63hzzJEoCuRR44403cjkugyJAgAABAgQ6FIhv7TusowKBFheQrrf4L4DhEyBAgAABAgQIECBAgEAWBTy7nsVZEROBFhTYY7ft+t9/QwsOPIND/u21t/7g/CsLgX02ZWRh20YDBcxLA/HTu15sxa0LFfo/eMMeu2xX2LXRQIFV1tlt8pSpbQH85MenXnL+qQ0MRtcFgf+84rrLfnFdYdcGAQLpAq6up/s4SoAAAQIECBAgQIAAAQIEGiAgXW8Aui4JECBAgAABAgQIECBAgEC6gHQ93cdRAgQIECBAgAABAgQIECDQAAHpegPQdUmAAAECBAgQIECAAAECBNIFpOvpPo4SIECAAAECBAgQIECAAIEGCEjXG4CuSwIECBAgQIAAAQIECBAgkC4gXU/3cZQAAQIECBAgQIAAAQIECDRAQLreAHRdEiBAgAABAgQIECBAgACBdAHperqPowQIECBAgAABAgQIECBAoAEC0vUGoOuSAAECBAgQIECAAAECBAikC0jX030cJUCAAAECBAgQIECAAAECDRCQrjcAXZcECBAgQIAAAQIECBAgQCBdQLqe7uMoAQIECBAgQIAAAQIECBBogIB0vQHouiRAgAABAgQIECBAgAABAukC0vV0H0cJECBAgAABAgQIECBAgEADBKTrDUDXJQECBAgQIECAAAECBAgQSBeQrqf7OEqAAAECBAgQIECAAAECBBogIF1vALouCRAgQIAAAQIECBAgQIBAuoB0Pd3HUQIECBAgQIAAAQIECBAg0AAB6XoD0HVJgAABAgQIECBAgAABAgTSBaTr6T6OEiBAgAABAgQIECBAgACBBghI1xuArksCBAgQIECAAAECBAgQIJAuIF1P93GUAAECBAgQIECAAAECBAg0QEC63gB0XRIgQIAAAQIECBAgQIAAgXQB6Xq6j6MECBAgQIAAAQIECBAgQKABAtL1BqDrkgABAgQIECBAgAABAgQIpAtI19N9HCVAgAABAgQIECBAgAABAg0QkK43AF2XBAgQIECAAAECBAgQIEAgXUC6nu7jKAECBAgQIECAAAECBAgQaICAdL0B6LokQIAAAQIECBAgQIAAAQLpAtL1dB9HCRAgQIAAAQIECBAgQIBAAwSk6w1A1yUBAgQIECBAgAABAgQIEEgXkK6n+zhKgAABAgQIECBAgAABAgQaICBdbwC6LgkQIECAAAECBAgQIECAQLqAdD3dx1ECBAgQIECAAAECBAgQINAAAel6A9B1SYAAAQIECBAgQIAAAQIE0gWk6+k+jhIgQIAAAQIECBAgQIAAgQYISNcbgK5LAgQIECBAgAABAgQIECCQLiBdT/dxlAABAgQIECBAgAABAgQINEBAut4AdF0SIECAAAECBAgQIECAAIF0Ael6uo+jBAgQIECAAAECBAgQIECgAQLS9Qag65IAAQIECBAgQIAAAQIECKQLSNfTfRwlQIAAAQIECBAgQIAAAQINEJCuNwBdlwQIECBAgAABAgQIECBAIF1Aup7u4ygBAgQIECBAgAABAgQIEGiAgHS9Aei6JECAAAECBAgQIECAAAEC6QLS9XQfRwkQIECAAAECBAgQIECAQAMEpOsNQNclAQIECBAgQIAAAQIECBBIF5Cup/s4SoAAAQIECBAgQIAAAQIEGiAgXW8Aui4JECBAgAABAgQIECBAgEC6gHQ93cdRAgQIECBAgAABAgQIECDQAAHpegPQdUmAAAECBAgQIECAAAECBNIFpOvpPo4SIECAAAECBAgQIECAAIEGCEjXG4CuSwIECBAgQIAAAQIECBAgkC4gXU/3cZQAAQIECBAgQIAAAQIECDRAQLreAHRdEiBAgAABAgQIECBAgACBdAHperqPowQIECBAgAABAgQIECBAoAEC0vUGoOuSAAECBAgQIECAAAECBAikC0jX030cJUCAAAECBAgQIECAAAECDRCQrjcAXZcECBAgQIAAAQIECBAgQCBdQLqe7uMoAQIECBAgQIAAAQIECBBogIB0vQHouiRAgAABAgQIECBAgAABAukC0vV0H0cJECBAgAABAgQIECBAgEADBKTrDUDXJQECBAgQIECAAAECBAgQSBeQrqf7OEqAAAECBAgQIECAAAECBBogIF1vALouCRAgQIAAAQIECBAgQIBAuoB0Pd3HUQIECBAgQIAAAQIECBAg0AAB6XoD0HVJgAABAgQIECBAgAABAgTSBaTr6T6OEiBAgAABAgQIECBAgACBBghI1xuArksCBAgQIECAAAECBAgQIJAuIF1P93GUAAECBAgQIECAAAECBAg0QEC63gB0XRIgQIAAAQIECBAgQIAAgXQB6Xq6j6MECBAgQIAAAQIECBAgQKABAtL1BqDrkgABAgQIECBAgAABAgQIpAtI19N9HCVAgAABAgQIECBAgAABAg0QkK43AF2XBAgQIECAAAECBAgQIEAgXUC6nu7jKAECBAgQIECAAAECBAgQaICAdL0B6LokQIAAAQIECBAgQIAAAQLpAtL1dB9HCRAgQIAAAQIECBAgQIBAAwSk6w1A1yUBAgQIECBAgAABAgQIEEgXkK6n+zhKgAABAgQIECBAgAABAgQaICBdbwC6LgkQIECAAAECBAgQIECAQLqAdD3dx1ECBAgQIECAAAECBAgQINAAAel6A9B1SYAAAQIECBAgQIAAAQIE0gWk6+k+jhIgQIAAAQIECBAgQIAAgQYISNcbgK5LAgQIECBAgAABAgQIECCQLiBdT/dxlAABAgQIECBAgAABAgQINEBAut4AdF0SIECAAAECBAgQIECAAIF0Ael6uo+jBAgQIECAAAECBAgQIECgAQLS9Qag65IAAQIECBAgQIAAAQIECKQLSNfTfRwlQIAAAQIECBAgQIAAAQINEJCuNwBdlwQIECBAgAABAgQIECBAIF1Aup7u4ygBAgQIECBAgAABAgQIEGiAgHS9Aei6JECAAAECBAgQIECAAAEC6QLS9XQfRwkQIECAAAECBAgQIECAQAMEpOsNQNclAQIECBAgQIAAAQIECBBIF5Cup/s4SoAAAQIECBAgQIAAAQIEGiAgXW8Aui4JECBAgAABAgQIECBAgEC6gHQ93cdRAgQIECBAgAABAgQIECDQAAHpegPQdUmAAAECBAgQIECAAAECBNIFpOvpPo4SIECAAAECBAgQIECAAIEGCEjXG4CuSwIECBAgQIAAAQIECBAgkC4gXU/3cZQAAQIECBAgQIAAAQIECDRAQLreAHRdEiBAgAABAgQIECBAgACBdAHperqPowQIECBAgAABAgQIECBAoAEC0vUGoOuSAAECBAgQIECAAAECBAikC0jX030cJUCAAAECBAgQIECAAAECDRCQrjcAXZcECBAgQIAAAQIECBAgQCBdQLqe7uMoAQIECBAgQIAAAQIECBBogIB0vQHouiRAgAABAgQIECBAgAABAukC0vV0H0cJECBAgAABAgQIECBAgEADBKTrDUDXJQECBAgQIECAAAECBAgQSBeQrqf7OEqAAAECBAgQIECAAAECBBogIF1vALouCRAgQIAAAQIECBAgQIBAuoB0Pd3HUQIECBAgQIAAAQIECBAg0AAB6XoD0HVJgAABAgQIECBAgAABAgTSBaTr6T6OEiBAgAABAgQIECBAgACBBghI1xuArksCBAgQIECAAAECBAgQIJAuIF1P93GUAAECBAgQIECAAAECBAg0QEC63gB0XRIgQIAAAQIECBAgQIAAgXQB6Xq6j6MECBAgQIAAAQIECBAgQKABAtL1BqDrkgABAgQIECBAgAABAgQIpAtI19N9HCVAgAABAgQIECBAgAABAg0QkK43AF2XBAgQIECAAAECBAgQIEAgXUC6nu7jKAECBAgQIECAAAECBAgQaICAdL0B6LokQIAAAQIECBAgQIAAAQLpAtL1dB9HCRAgQIAAAQIECBAgQIBAAwSk6w1A1yUBAgQIECBAgAABAgQIEEgXkK6n+zhKgAABAgQIECBAgAABAgQaICBdbwC6LgkQIECAAAECBAgQIECAQLqAdD3dx1ECBAgQIECAAAECBAgQINAAgUXmz5/fgG51SYAAgc997rLLLrv00ktJECBAgAABAi0osOeeew4YMKAFB27IBMoXcHW9fCs1CRAgQIAAAQIECBAgQIBAnQSk63WC1g0BAqUCW221VWmhEgIECBAgQKAVBLbddttWGKYxEuiKgJvhu6LnXAIEuiQwefLkww8/fODAgV1qxckECBAgQIBAswn06tXr6aefbraoxUug3gLS9XqL648AgYRAbtL10aNHn3TSSUccccSZZ56ZGGMz7r7//vs9e/ZsxsgTMc+bN+/ggw/edNNNr7rqqsQhu40VOP300z/44IM777yzsWFUq/fc/JHp3bv3Qw89dNttt62++urVwmlgOxMnTuzRo0cDA6hW13//+9+vu+66X/ziFzvuuGO12mxsO/HgemMD0DuBphDo1hRRCpIAgRwL5OYf7H79+sU0DR48ODfpRz5+6yLr+PTTT4cPH7722muvv/76+RhUDkYxcuTIV155JQbyySefHHrooTkYUT6GMHv27EGDBsVY3nnnnaOPPjofg8rHKM4777wYyMsvv3z++efnY0RGQYBAOQKeXS9HSR0CBAh0LNCnT5+oNGHChHvuuafj2mrUSyAuSbV11TZB9epWPx0IFOalsNHBCQ7XRSCmY8aMGdGVeamLd7mdDBs27Lnnnova8fdY2wSVe6Z6BAg0uYB0vcknUPgECGRD4PHHH3/zzTfbYpEWZmNO/l8U7733Xt++fdvikX5kZ14iksJ0xJ+XqVOnZiq2Vg6mMC9x+4PnirPzm1CYlzlz5vgnJjvzIhICdRCQrtcBWRcECORfoPBZKoYa27GKXv7H3AwjLJ6XUaNGPfnkk80Qdf5jfPTRR9966622ccbiAsXTlP/BZ3iE48aNe+CBBwoBmpcCRcM3iueieLvhgQmAAIFaC0jXay2sfQIE8i8Q+UbicoePUxmZdfOSkYlIhJH4A5LYTVS2WzeBxEQkdusWho4SArHy35gxYwqFxd92FQptECCQVwHpel5n1rgIEKifQHyoTdzN62Nu/fQX3tPzzz//zDPPFB83L8UajdqOu3kTExHLNBaeJWlUVPoNgcS8FD9LwqeBAol5KZ2pBsamawIEai0gXa+1sPYJEMi/QOlnqQEDBrz22mv5H3m2R1g6L/HaMAsBNnzSYl6mT5+eCKN0shIV7NZaIN6e8OyzzyZ6MS8JkPrvzpw5s3QWSkvqH5geCRCoj4B0vT7OeiFAILcC8bLle++9t3R4Pk6VmtS5JHEnfFvv5qXOs1DaXbtT0G5h6blKaifQ7hRE4bRp02rXqZY7FIgpiIw9US0WAkzcOpSoYJcAgdwISNdzM5UGQoBAYwTa/YwboSysvDFRtl6vjz32WGExs+LRx7xMmTKluMR2PQXefffd+++/v7THF1544amnniotV1I3gXb/yvrss8/a/dqrblHpqN15CZaFlRMjQCBnAtL1nE2o4RAgUG+BhX2WfemllwYPHlzvaPT3vwIL+yw7f/78hR3631P9fw0FUvBTDtUwIE0vEHj44YffeeeddjHMS7ss9SmMFeZinbl2+zIv7bIoJJA/Ael6/ubUiAgQqJ9AXBJMeTWxj1P1m4l/7Wnu3LkL+xolKpqXf9Wq614KfsqhuobYkp2l4MdCgKNHj25JlcYPOmVexo8f3+6NKo0PWgQECFRVQLpeVU6NESDQYgIpn6VCIv1oi1HVdbghX7qYWSGC/v37v/7664VdG3UTGDFixNChQxfW3cKWgVhYfeXVEpg1a1b6X1bpR6sVhnZKBdLl04+WtqaEAIFmFJCuN+OsiZkAgawIpFzCjRA//PDDu+66KyuxtlIc6fMSEj7mNuTXoUP2Dis0JOzcdxrsn376acowO/wDlXKuQxULPPfcc8OGDUs5PeYl5XvJlBMdIkCgiQSk6000WUIlQCBbAuXcIyr9qP+clXOPqHmp/7xEjx2yR4VPPvmkIbG1cqcdzkv6Uz+tTFfTsXc4L/HUT4d1ahqhxgkQqIOAdL0OyLogQCCfAuVccbr99tsnTZqUz/FndVTlfH598cUXhwwZktUR5DOuRx555O23304f27x588qZvvRGHO2UwNixYx988MEOTzEvHRJVvUI55uXUqXpgGiRAoJ4C0vV6auuLAIH8CMT7jcr8nFRmtfzQNHok5XyNEjGalzpPVJngZVarc/A57q5M8DKr5RiqzkOL71Dim5QOO3300UfbfWNlhyeqQIBAswhI15tlpsRJgEC2BOLD67Rp08qJycfccpSqVWfkyJEpi5kV92JeijVqvT179uwywR9//PE33nij1vFovyBQ5ry89957ffv2LZxlo9YCZc5LhFF+zVrHrH0CBGohIF2vhao2CRDIv0CZl3ADYuDAga+++mr+RbIxwvLnZcKECXfffXc2os5/FJFRzJgxo8xxSj/KhOp6tVjJLNYzK7Md81ImVNerxcp/5WuXX7PrgWmBAIH6C0jX62+uRwIEml4gLjTdd9995Q/Dx6nyrbpYs1PUnarcxcBa/PROUXeqcovDdnH4naKOylOnTu1ij04vRyCo4+165dSMOnFL0TPPPFNmZdUIEGg6Ael6002ZgAkQaLxApz7jRridrd/4ETZnBPEYZ4eLmRWPLOZlypQpxSW2ayEwbty4Bx54oPyWR40a9eSTT5ZfX82KBTr1V1P5C3ZUHI8T2wQ6NS9xSmfrcyZAoIkEpOtNNFlCJUAgKwLl33HdFvHLL7/8xBNPZCX6/MbR2XkJiQpOya9frUZWQS5RwSm1ij6/7T700ENjxozp1PjMS6e4Kqv8zjvvPPzww50617x0iktlAs0lIF1vrvkSLQECjRd4/vnnK7jz0MepWs/cnDlzKkCu4JRaDyR/7VeAXMEp+XOr9YgqQO7Xr9+bb75Z68BavP0K5mX8+PGdej6rxYUNn0BzCUjXm2u+REuAQOMFKrseW8EnsMYPtakiCOHyFzMrjGzAgAGvvfZaYddG1QWGDx/+7LPPdrbZDz744J577unsWeqXLzBz5szK/lKq7KzyA1OzMuHKzqJNgED2BaTr2Z8jERIgkC2Byj4VTZw48c4778zWSPIVTWVfo4RBZROaL7wajqZi3opPrOFgctR08EbGXsGAzEsFaOWfEt9txTdc5dcv1Ix5KfPdooVTbBAg0BQC0vWmmCZBEiCQFYHHHnvsrbfeqiwaH3MrcyvnrHfffbdTi5kVt2leijWqvl0xb5z4ySefVD0eDbYJVDwvL7zwwlNPPYWxRgIVz8vcuXMrPrdGY9EsAQJVEZCuV4VRIwQItIpAxZdwA+iOO+6YNGlSq0jVd5xd+Zz60ksvDR48uL7xtkpvsWJWrJtV2Wjnz5/flT9ulXXaImeNHTs21pmreLBd+eNWcactcmJXbLtybovwGiaBZhSQrjfjrImZAIHGCHT98oX0o0Yz18XPqV08vUaDykGzXYTt4uk5AKzRELr4F5F5qdG8PPjgg/HWw4obj5u/Ro8eXfHpTiRAIJsC0vVszouoCBDIokB8SJ0+fXpXIvMxtyt6Czt3xIgRQ4cOXdjRcsrNSzlKna0ze/bsLsL279//jTfe6Gy/6nco0MV5ef/99++9994Oe1GhswJd/BoluuvizHY2YPUJEKiDgHS9Dsi6IEAgJwJd/yQ0aNCgV199NSccmRlG1+flww8/vOuuuzIzoJwEErnHp59+2sXBdD2B6WIA+Tt92IKfLo6r63/ouhhA/k6PPyxdV+16C/mDNSICzS4gXW/2GRQ/AQJ1EqjWi22lH1WfsKp8Qq1KI1UfWlM3WBXSqjTS1IxVD74qpNGIhQCrOzVBGjekdLHN559//umnn+5iI04nQCBTAtL1TE2HYAgQyK5AVT7jxvCq1U52peob2SOPPPL22293vc/bb7998uTJXW9HC20C8QhuPIjbdY0XX3xxyJAhXW9HCwWBqnxjOG/ePH+VFUirslEtz2q1U5VBaYQAga4LSNe7bqgFAgRaQqBan4FeeeWVf/zjHy1BVpdBVmteItiqpDF1GXQTdFJFzCpOcRPA1TjEWBA+loWvSifmpSqMbY3ECxTiNQpVadC8VIVRIwSyIyBdz85ciIQAgewKjBw58plnnqlWfD5OVUuy64uZFUdiXoo1urhdRcwqNtXFQeXg9CpiPv744xYCrNavRBXn5b333uvbt2+1AtMOAQINF5CuN3wKBECAQBMIVPGzVIy2uq01AV/NQgzJGTNmVKv5gQMHvvbaa9VqrZXbibXMnnvuuWoJTJgw4e67765Wa63czsyZM6v7l091W2vlqamuZHVba+V5MXYCWRCQrmdhFsRAgEDWBar76eejjz76n//5n6yPuRniq+68xIireAt3M/jVKsaqz0vVG6zVyLPdbjBGxl7FGM1LVTCfffbZ4cOHV6WptkZiXqZOnVrFBjVFgEADBaTrDcTXNQECzSHw6KOPvvXWW9WN1cfcrnvGYmYPPPBA19spbsG8FGtUvF11xmhwypQpFcfjxDaBqs/LqFGjnnzySbxdFKj6vHz22WdVb7OLY3Q6AQIVC0jXK6ZzIgECrSJQi889cXX9448/bhXB2oyzFvPy8ssvDx48uDbxtkqrsZjZmDFjqj5aNz50kTQmJaami42Unl6LP4alveS7pBaGtWgz37NgdAQyKyBdz+zUCIwAgUwIzJkzp0Z5Qo2azYRaXYKoEWCNmq0LSSY6qVGeUKNmM0FWlyBq9Itdo2brQpKJTuIWobhRqOqh9OvX780336x6sxokQKD+At3q36UeCRAg0EQCkSQcc8wxHQYcV2ULN4V27979yCOP7PCUESNGdFhHhYUJxKOeWy/4WViFtvJYJLn4hvn/+I//WHTRDr6nnjVrVnqbjqYIxKPRiy+++Mknn5xSJw4F8s0331yo87Wvfa1Hjx6F3YVtxEKAG2200cKOKk8XeP311zucl2jhb3/72/Tp09ua2mOPPTbccMP0ZuPoPffcEzPYYTUV2hUIvXLm5ZFHHim8gW/LLbfcYYcd2m2tuDC+SbnwwguLS2wTINCMAovMnz+/GeMWMwECBDIlcM0115xxxhltIX3pS1966aWXMhVeywYTr7iPlKMw/LhXols331MXPBq2MWnSpJVXXrnQfXz5ss022xR2bTRQYJ111imkhTfddNPxxx/fwGB0XRA46KCDHnzwwbbd8847r3fv3oVDNggQyLdABxcZ8j14oyNAgAABAgQIECBAgAABAtkUkK5nc15ERYAAAQIECBAgQIAAAQItLSBdb+npN3gCBAgQIECAAAECBAgQyKaAdD2b8yIqAgQIECBAgAABAgQIEGhpAel6S0+/wRMgQIAAAQIECBAgQIBANgWk69mcF1ERIECAAAECBAgQIECAQEsLSNdbevoNngABAgQIECBAgAABAgSyKSBdz+a8iIoAAQIECBAgQIAAAQIEWlpAut7S02/wBAgQIECAAAECBAgQIJBNAel6NudFVAQIECBAgAABAgQIECDQ0gLS9ZaefoMnQIAAAQIECBAgQIAAgWwKSNezOS+iIkCAAAECBAgQIECAAIGWFpCut/T0GzwBAgQIECBAgAABAgQIZFNAup7NeREVAQIECBAgQIAAAQIECLS0gHS9paff4AkQIECAAAECBAgQIEAgmwLS9WzOi6gIECBAgAABAgQIECBAoKUFpOstPf0GT4AAAQIECBAgQIAAAQLZFJCuZ3NeREWAAAECBAgQIECAAAECLS3QraVHb/AECDRaYOrUqcOGDWt0FFXo//XXXy+0Mn369IEDBxZ2m3Fj7ty5b7311korrdSjR49mjL8Q8wsvvFDYjo1BgwYttthixSVNtz1u3LiIea211mq6yIsDnjZtWvFu/CUwZcqU4pKm2544ceLkyZM32GCDpos8EfCsWbMKJf/85z+b/a+ySZMmxdSst9563bo19yfejz76qDAvY8eObfZ5aRvL1ltv3b1798K4bBAg0K7AIvPnz2/3gEICBAjUVKB///4XXXTRU089VdNeNE6AAAECBAhkUyAy9mOPPfacc87JZniiIpAFAel6FmZBDARaTuBHP/pR7969W27YBkyAAAECBAj8q8AhhxzSt2/ffy2zR4DA/y/g2XW/CgQI1FvgrLPOkqvXG11/BAgQIEAgkwL33XefTwWZnBlBZULA1fVMTIMgCLSOQDykut1227XOeI2UAAECBAgQ6FDgtttuO/roozuspgKBVhNwdb3VZtx4CTRYYPjw4Q2OQPcECBAgQIBAxgTiGnvGIhIOgUwISNczMQ2CINA6AiNHjmydwRopAQIECBAgUI5APl4TU85I1SHQKQHpeqe4VCZAoKsCL7/8clebcD4BAgQIECCQL4HXXnstXwMyGgLVEZCuV8dRKwQIECBAgAABAgQIECBAoIoC0vUqYmqKAAECBAgQIECAAAECBAhUR0C6Xh1HrRAgQIAAAQIECBAgQIAAgSoKSNeriKkpAgQIECBAgAABAgQIECBQHQHpenUctUKAAAECBAgQIECAAAECBKoo0K2KbWmKAAEC1RI45cwLq9WUdsoRGDb0H8OeeaLDmoccfuzqa63bYTUVqiVgXqolWd12xr/7zv133dJhm9v22m3bHXbvsJoKVRS4/urLO2xt+eVXPPqEMzqspkIVBcqZlyp2pykCeRKQrudpNo2FQH4Evn3mBfkZTDOMZNhx/ygnzI023fKoE75bTk11qiJgXqrCWPVG+tx4zf3lNeqvsvKcqlarzLTQvFRNvLyGypyX8hpTi0BrCbgZvrXm22gJECBAgAABAgQIECBAoCkEpOtNMU2CJECAAAECBAgQIECAAIHWEpCut9Z8Gy0BAgQIECBAgAABAgQINIWAdL0ppkmQBAgQIECAAAECBAgQINBaAtL11ppvoyVAgAABAgQIECBAgACBphCQrjfFNAmSAAECBAgQIECAAAECBFpLQLreWvNttAQIECBAgAABAgQIECDQFALS9aaYJkESIECAAAECBAgQIECAQGsJSNdba76NlgABAgQIECBAgAABAgSaQkC63hTTJEgCBAgQIECAAAECBAgQaC0B6XprzbfREiBAgAABAgQIECBAgEBTCEjXm2KaBEmAAAECBAgQIECAAAECrSUgXW+t+TZaAgQIECBAgAABAgQIEGgKAel6U0yTIAkQIECAAAECBAgQIECgtQSk660130ZLgAABAgQIECBAgAABAk0hIF1vimkSJAECBAgQIECAAAECBAi0loB0vbXm22gJECBAgAABAgQIECBAoCkEpOtNMU2CJECAAAECBAgQIECAAIHWEpCut9Z8Gy0BAgQIECBAgAABAgQINIWAdL0ppkmQBAgQIECAAAECBAgQINBaAtL11ppvoyVAgAABAgQIECBAgACBphCQrjfFNAmSAAECBAgQIECAAAECBFpLQLreWvNttAQIECBAgAABAgQIECDQFALS9aaYJkESIECAAAECBAgQIECAQGsJSNdba76NlgABAgQIECBAgAABAgSaQkC63hTTJEgCBAgQIECAAAECBAgQaC0B6XprzbfREiBAgAABAgQIECBAgEBTCEjXm2KaBEmAAAECBAgQIECAAAECrSUgXW+t+TZaAgQIECBAgAABAgQIEGgKAel6U0yTIAkQIECAAAECBAgQIECgtQSk660130ZLgAABAgQIECBAgAABAk0hIF1vimkSJAECBAgQIECAAAECBAi0loB0vbXm22gJECBAgAABAgQIECBAoCkEpOtNMU2CJECAAAECBAgQIECAAIHWEpCut9Z8Gy0BAgQIECBAgAABAgQINIWAdL0ppkmQBAgQIECAAAECBAgQINBaAtL11ppvoyVAgAABAgQIECBAgACBphCQrjfFNAmSAAECBAgQIECAAAECBFpLQLreWvNttAQIECBAgAABAgQIECDQFALS9aaYJkESIECAAAECBAgQIECAQGsJSNdba76NlgABAgQIECBAgAABAgSaQkC63hTTJEgCBAgQIECAAAECBAgQaC0B6XprzbfREiBAgAABAgQIECBAgEBTCEjXm2KaBEmAAAECBAgQIECAAAECrSUgXW+t+TZaAgQIECBAgAABAgQIEGgKAel6U0yTIAnUXOBb3/rW3XffXfNudECAAAECBAgQIECAQHkC0vXynNQikHeBZ5999ogjjvj85z9/5plnDh48OO/DNT4CBAgQIECAAAECWReQrmd9hsRHoJ4CH3744e9///vddttt8803/+lPf/raa6/Vs3d9ESBAgAABAgQIECBQEJCuFyhsECDwfwIvvfTSJZdcsvHGG++9995//OMfp0yZ8n/HbBEgQIAAAQIECBAgUHsB6XrtjfVAoJkFBgwYcOqpp3bv3v2oo47ycHszz6TYCRAgQIAAAQIEmkxAut5kEyZcAo0S+Pvf/x4Pt6+22mpnnXXWkCFDGhWGfgkQIECAAAECBAi0iIB0vUUm2jAJVEdgwoQJV1999a677rrFFlv87Gc/e+ONN6rTrlYIECBAgAABAgQIEPhXAen6v3rYI0CgPIEXX3zx4osv3nDDDb/yla9cf/31n3zySXnnqUWAAAECBAgQIECAQFkC0vWymFQiQGBhAv379//Od74TD7cfffTR99xzz8KqKSdAgAABAgQIECBAoFMC0vVOcalMgED7AvPnz+/Tp8/hhx/es2fP733ve0899VT79ZQSIECAAAECBAgQIFCegHS9PCe1CBAoT+CDDz743e9+t/POO2+55ZaXX375m2++Wd55ahEgQIAAAQIECBAg8C8C0vV/4bBDgEC1BEaNGnXRRRdtsMEG++yzz5/+9KepU6dWq2XtECBAgAABAgQIEGgFAel6K8yyMRJopMDjjz9+yimnxMPtxxxzTN++fRsZir4JECBAgAABAgQINI9At+YJVaSNETj22GNHjhzZmL71WkeBd999t6a9zZs3728LfpZYYomadqRxAgQIECBAgAABAvkQkK7nYx5rO4qXXnqpth1ovZUEZs+e3UrDNVYCBAgQIECAAAECFQpI1yuEa4XTDjnkkBjmiBEjWmGwxkiAAAECBAgQIECAAIFMCUjXMzUd2Qpm0qRJQ4YMyVZMoiFAgAABAgQIECBAgEBrCEjXW2OeuzzKgw8+eP/99+9yMxrIrsCll1760Ucf1Tq+9ddff86cOWPGjKl1R9onQIAAAQIECBAg0OwC0vVmn8E6xd+rV68zzjijTp3pphECv/rVr2qXri+//PLfWvATL3Xba6+9pOuNmGF9EiBAgAABAgQINJmAdL3JJky4BJpL4NBDD21L1BdbbLHmily0BAgQIECAAAECBBorIF1vrL/eCeRTYMcdd2zL0ldfffV8jtCoCBAgQIAAAQIECNRYQLpeY2DNE2glgS9+8YttWfpWW23VSuM2VgIECBAgQIAAAQLVF5CuV99UiwRaTWDZZZc96qijIlHfd999W23sxkuAAAECBAgQIECgRgLS9RrBapZASwgccsghbZfTu3Xzl0lLzLhBEiBAgAABAgQI1E3AJ+y6UeuIQH4Edthhh7bL6WussUZ+RmUkBAgQIECAAAECBLIkIF3P0myIhUC2Bb7whS+0Zelbb711tiMVHQECBAgQIECAAIGmF5CuN/0UGgCBWgsss8wybVn6fvvtV+u+tE+AAAECBAgQIECAQJuAdN1vAgECCxU46KCD2hL1xRdffKGVHCBAgAABAgQIECBAoAYC0vUaoGqSQJMLbL/99m1Z+pprrtnkQxE+AQIECBAgQIAAgWYVkK4368yJm0DVBeLR9LZl3rfZZpuqN65BAgQIECBAgAABAgQ6JSBd7xSXygRyK3Dttdfuv//+uR2egREgQIAAAQIECBBoNoFFmy1g8RIgUBMBuXpNWDVKgAABAgQIECBAoFIB6Xqlcs4jQIAAAQIECBAgQIAAAQI1E5Cu14xWwwQIECBAgAABAgQIECBAoFIB6Xqlcs4jQIAAAQIECBAgQIAAAQI1E5Cu14xWwwQIECBAgAABAgQIECBAoFIB6Xqlcs4jQIAAAQIECBAgQIAAAQI1E5Cu14xWwwQIECBAgAABAgQIECBAoFIB6Xqlcs4jQIAAAQIECBAgQIAAAQI1E5Cu14xWwwQIECBAgAABAgQIECBAoFIB6Xqlcs4jQIAAAQIECBAgQIAAAQI1E5Cu14xWwwQIECBAgAABAgQIECBAoFIB6Xqlcs4jQIAAAQIECBAgQIAAAQI1E5Cu14xWwwQIECBAgAABAgQIECBAoFIB6Xqlcs4jQIAAAQIECBAgQIAAAQI1E5Cu14xWwwQIECBAgAABAgQIECBAoFIB6Xqlcs4jQIAAAQIECBAgQIAAAQI1E5Cu14xWwwQIECBAgAABAgQIECBAoFIB6Xqlcs4jQIAAAQIECBAgQIAAAQI1E5Cu14xWwwQIECBAgAABAgQIECBAoFIB6Xqlcs4jQIAAAQIECBAgQIAAAQI1E5Cu14xWwwQIECBAgAABAgQIECBAoFIB6Xqlcs4jQIAAAQIECBAgQIAAAQI1E5Cu14xWwwQIECBAgAABAgQIECBAoFIB6Xqlcs4jQIAAAQIECBAgQIAAAQI1E5Cu14xWwwQIECBAgAABAgQIECBAoFIB6Xqlcs4jQIAAAQIECBAgQIAAAQI1E5Cu14xWwwQIECBAgAABAgQIECBAoFIB6Xqlcs4jQIAAAQIECBAgQIAAAQI1E5Cu14xWwwQIECBAgAABAgQIECBAoFIB6Xqlcs4jQIAAAQIECBAgQIAAAQI1E5Cu14xWwwQIECBAgAABAgQIECBAoFIB6Xqlcs4jQIAAAQIECBAgQIAAAQI1E5Cu14xWwwQIECBAgAABAgQIECBAoFIB6Xqlcs4jQIAAAQIECBAgQIAAAQI1E5Cu14xWwwQIECBAgAABAgQIECBAoFIB6Xqlcs4jQIAAAQIECBAgQIAAAQI1E5Cu14xWwwQIECBAgAABAgQIECBAoFIB6Xqlcs4jQIAAAQIECBAgQIAAAQI1E5Cu14xWwwQIECBAgAABAgQIECBAoFIB6Xqlcs4jQIAAAQIECBAgQIAAAQI1E5Cu14xWwwQIECBAgAABAgQIECBAoFIB6Xqlcs4jQIAAAQIECBAgQIAAAQI1E5Cu14xWwwQIECBAgAABAgQIECBAoFIB6Xqlcs4jQIAAAQIECBAgQIAAAQI1E5Cu14xWwwQIECBAgAABAgQIECBAoFIB6Xqlcs4jQIAAAQIECBAgQIAAAQI1E+hWs5Y1TIAAgcoFtt9o2cpPdiYBAgQIECBAgACB5hdwdb3559AICBAgQIAAAQIECBAgQCB3AtL13E2pAREgQIAAAQIECBAgQIBA8wtI15t/Do2AAAECBAgQIECAAAECBHInsMj8+fNzNygDqo7ArrvuOmTIkLa2fvrTn1500UXVaVcrrS2w1157DRw4sLUNmnj0Sy651BJLLNnEA2i20GfMmPbZZ591GLV56ZCouhVmz541a9bMDttcbLHFlllmuQ6rqVBFgalTp3TY2iKLLLLccit0WE2FKgqUMy/Rnaykiuaayo2ApeZyM5UGQoAAgZoLRIpSTpZS8zh08K8C5uVfPbKyF1+1lJmlZCXi1ogjckLz0hpTbZQE8iDgZvg8zKIxECBAgAABAgQIECBAgEDOBKTrOZtQwyGQdYE999wz6yGKjwABAgQIECBAgEAGBNwMn4FJEAKBVhLYcsstW2m4eRvrwUccu8aa6+ZtVBkez3133fzeu2M6DHCn3fbdYusdOqymQrUERo0c+tQTj3XY2uprrnPIEcd1WE2FKgpcf/XlHba2xJJLnXDKOR1WU6GKAuXMSxW70xSBPAlI1/M0m8ZCoAkEDj/88E033fSVV15pgliFWCJwyOHHfrnXbiXFCmolMGzoP8pJ13febd+jTvhurYLQbolAnxuvKSddX2Otdb995gUlZyuooUA5aeGSSyxpXmo4B+01Xc68tHeeMgIEPudmeL8EBAjUW6B379717lJ/BAgQIECAAAECBJpNQLrebDMmXgLNL3DwwQePGDFi3333bf6hGAEBAgQIECBAgACBWgm4Gb5WstolQCBFYOutt3700Ue/+c1v3nHHHW3VunfvHoUppzhUU4G3F/zUtAuNEyBAgAABAgQIdEpAut4pLpUJEKimwGabbVZI1yNXHzBgQDVb11ZnBC677LJLL720M2eoS4AAAQIECBAgUFsBN8PX1lfrBAgQIECAAAECBAgQIECgAgHpegVoTiFAgAABAgQIECBAgAABArUVkK7X1lfrBAgQIECAAAECBAgQIECgAgHpegVoTiFAgAABAgQIECBAgAABArUVkK7X1lfrBAgQIECAAAECBAgQIECgAgHpegVoTiFAgAABAgQIECBAgAABArUVkK7X1lfrBAgQIECAAAECBAgQIECgAgHpegVoTiFAgAABAgQIECBAgAABArUVkK7X1lfrBAgQIECAAAECBAgQIECgAgHpegVoTiFAgAABAgQIECBAgAABArUVkK7X1lfrBAgQIECAAAECBAgQIECgAgHpegVoTiFAgAABAgQIECBAgAABArUVkK7X1lfrBAgQIECAAAECBAgQIECgAoFuFZyTv1Pmz58/ZcqUadOmdevWrUePHvHf/I3RiAgQIECAAAECBAgQIECgiQRaMS99//33hyz4GTp0aGxPmjRp8uTJ8+bNa5u24cOHb7PNNsVT2KdPn5dffvm0005bffXVi8ttEyBAgAABAgQIECBAgACBGgm0ULoeOfkf//jHP//5z6+//nqnNCOBv/LKK6+44opvfvOb3/ve97bffvtOna4yAQIECBAgQIAAAQIECBDorEBLPLv+zjvvnHXWWWuttdb555/f2Vw9QN9+++3475w5c2699dYddthh5513Hjx4cGeh1SdAgAABAgQIECBAgAABAuUL5D9djxx78803v/rqq6dPn16+S3HNyPaLd5966ql99923b9++xYW2CRAgQIAAAQIECBAgQIBAFQXynK7PmDHjpJNOOvbYY2MNua6QtV1dL25h5syZX//61//6178WF9omQIAAAQIECBAgQIAAAQLVEsjts+uRq++9997PPPNMF6U+/fTTCRMmlDYyd+7cE0444eOPPz777LNLjyohQIAAAQIECBAgQIAAAQJdEcjn1fVY5v3oo4/ueq4esok74Yut4/Vv3//+93/zm98UF9omQIAAAQIECBAgQIAAAQJdF8hnuh4Ly6U8W77YYovF0+zHH398ZNpHHHFEOmL37t0POeSQlDo//vGPR48enVLBIQIECBAgQIAAAQIECBAg0FmBHKbr/fr1u+aaa9qFWG+99W6++eapU6eOGjXqpptuireyffGLX2y3ZqGwZ8+ekfmPGDEiEvtFFlmkUF7YiOfYTz/99MKuDQIECBAgQIAAAQIECBAg0HWBvKXrcRv8eeedV+qyyiqr/Pa3v/3nP/8ZK88tvfTSpRXSS7beeus777wz1oRfddVVS2s+8sgjw4YNKy1XQoAAAQIECBAgQIAAAQIEKhPIW7oeF89HjhyZsFh99dWffPLJuEN+iSWWSBzq1G6vXr2eeOKJtddeu/SsG264obRQCQECBAgQIECAAAECBAgQqEwgb+n6VVddlYBYeeWV+/fvv9FGGyXKK9vdeOONhwwZUpqx33bbbXFXfGVtOosAAQIECBAgQIAAAQIECCQEcpWujxkzJh5KT4zwyiuv3GSTTRKFXdmNXP3SSy9NtPDJJ58MHz48UWiXAAECBAgQIECAAAECBAhUJpCrdP3+++9PKOy0004nnnhiorDru7Gq/Prrr59oZ+jQoYkSuwQIECBAgAABAgQIECBAoDKBXKXrDz/8cELhlFNOaXc590S1zu5269bthz/8YeKsZ599NlFilwABAgQIECBAgAABAgQIVCaQq3T9zTffLFZYfPHFDzvssOKSKm7vsMMOidbGjRuXKLFLgAABAgQIECBAgAABAgQqE8hVuv7BBx8UK8TyciuttFJxSRW3N9hgg0RrkyZNSpTYJUCAAAECBAgQIECAAAEClQnkJ12fO3fuxx9/XKwQ728r3q3u9nLLLdezZ8/iNidPnly8a5sAAQIECBAgQIAAAQIECFQskJ90PXL1+fPnF0OsuuqqxbtV3+7evXtxm3PmzCnetU2AAAECBAgQIECAAAECBCoWyE+6vsIKKyQUan25e8KECcU99ujRo3jXNgECBAgQIECAAAECBAgQqFggP+n6UkstlcjYE4+yV2zU7omffvpp4t77Wl/MbzcMhQQIECBAgAABAgQIECCQS4H8pOsxPZ///OeLJ+mll16aPn16cUkVtwcOHJhozdX1BIhdAgQIECBAgAABAgQIEKhYIFfp+hprrFEMMWvWrP79+xeXVHH7vvvuS7S25pprJkrsEiBAgAABAgQIECBAgACBygRyla7vscceCYU//OEPiZKq7MZT67fcckuiqT333DNRYpcAAQIECBAgQIAAAQIECFQmkKt0/aCDDkooPPzww0888USisOu7l1122dSpU4vb6dat21577VVcYpsAAQIECBAgQIAAAQIECFQskKt0ffvtty9d7+2EE05IrAlXMVbbiffee+91112XaGTHHXdMLHSXqGCXAAECBAgQIECAAAECBAiUL5CrdH3RRRf91re+lRj86NGjjzzyyE8++SRRXtnu008/fcwxx8ybNy9x+je+8Y1EiV0CBAgQIECAAAECBAgQIFCxQK7S9VC46KKLlltuuQTHgAEDNt988379+iXKO7U7bdq0c889d7fddpsxY0bixFhk7pRTTkkU2iVAgAABAgQIECBAgAABAhUL5C1dX2211c4777xSjrFjx+63336nn356Za92u/POOzfddNOrrrpq7ty5pY3HdwTx1vfSciUECBAgQIAAAQIECBAgQKAygbyl66FwzjnnrLvuuqUc8+fPv/baazfccMPjjjsuVowfMWJEu7l34cR4D9ywYcNuuOGG/fffP26nHzduXOFQ8cZGG2100kknFZfYJkCAAAECBAgQIECAAAECXRTo1sXzM3j6sssu+8ADD+yyyy5TpkwpDe+9996Ld7C1vYYtasZPos7NN9/8u9/9LpL5l19+ec6cOYmjid0VV1zxnnvuWXzxxRPldgkQIECAAAECBAgQIECAQFcEcpiuB8dmm2121113HXDAAen5dtwYX3pv/K9//esyQePlbXfccUfcJF9mfdUIZFkgXk941FFHbbzxxlkOUmwECBAgQIAAgRwIfPbZZ/Gsbty9O378+E8//XT2//7E7cDVGt0PfvCDajWlnQYK5DNdD9C99947LqHHW9ziD0AtfOOK+h//+Md99923Fo1rk0D9BW666aZLL710jz32iNcrxM/KK69c/xj0SIAAAQIECBDIsUA8ihvvhI6fuBe4uq+aLkWTrpeaNGNJDp9dL0zDN7/5zaFDh9bi6vfaa689aNCgE088sdCXDQL5EIhf7FiRcZVVVok/PrHCYj4GZRQECBAgQIAAgYYLxCO0cQtwLIkVz97WOldv+GAFUC2BPKfrYRTvb3vuuediKbhFFlmkWmQHH3xwPNm+0047VatB7RDIoEA86BH/nKy66qpnnHHGE088kcEIhUSAAAECBAgQaAqBuPU91ro+/PDDX3vttaYIWJDZEch5uh7QyyyzTKzu/sorr3znO99ZeumlK6aPhP+www4bPHjwfffdF9ceK27HiQSaSGDixInXXHPN7rvvHl8G/+d//uerr77aRMELlQABAgQIECDQcIHI1Y899ti2ha4bHowAmk4g/+l625TEAlrXXXfdmDFjrrjiinjgfPnlly9zqhZbbLFtt902nv2IhD/uYIkF58s8UTUCeRKIFyX85Cc/2WSTTfbaa6/4ozR58uQ8jc5YCBAgQIAAAQI1Eviv//qvPn361KhxzeZeILdLzbU7cz169PjRgp/4luuFF14YMmTIW2+9NWnBTzxAEhnIkksuGStstf2sttpqvXr1ipvey8/t2+1UIYE8CQxc8HPaaafFw+2xIt0RRxyRp9EZCwECBAgQIECgigLvv//+L37xYXHj8wAAQABJREFUiyo2qKlWE2itdL0wu3HNfJsFP4USGwQIdErg9gU/8XD7goXkv7Xrrrt26nSVCRAgQIAAAQK5F7j44ounTZuWMszVV199iy22WHHFFVdY8BPXDlMqO9SCAi2arrfgTBsygVoIfPjhh79f8BMPt0feHm9u33DDDWvRkTYJECBAgAABAs0lMHPmzNtuu63dmOOCRzxmeOCBB6633nrtVlBIoE2gVZ5dN98ECNRU4KWXXrrkkks22mijvffe+49//OOUKVNq2p3GCRAgQIAAAQIZF+jXr9+MGTNKg4xnCWOJ+O9+97ty9VIcJQkB6XoCxC4BAl0SGDBgwKmnntq9e/e40h6rM3apLScTIECAAAECBJpW4N577y2Nfccdd7z11lvjk1LpISUESgWk66UmSggQqILA3//+93i/aCzZeNZZZz355JNVaFETBAgQIECAAIHmERg6dGgi2G7dusXiP0sttVSi3C6BhQlI1xcmo5wAgSoITJgw4eqrr443IMYyKj/72c/eeOONKjSqCQIECBAgQIBA5gViWfhEjHElY+21104U2iWQImCpuRQch+onELdPe9q5ftzt9RR5dXvFVSt7ccFPrI8aD7fHffKxLl0sgFq11jVEgAABAgQIEMiSQLw3euLEiYmITjzxxESJXQLpAtL1dB9H6yfQp0+f+nWmp8YJ9F/w853vfCcy9sZFoWcCBAgQIECAQA0FPv7443nz5iU62GSTTRIldgmkC+QqXX/rrbdOP/309AHX7uhDDz1Uu8Zz3PIFF1wQoyt9tifHQza0EJg/f74vaPwmECBAgAABAnkViFepL7LIIvGBpzDARRdddK211irs2iBQjkCu0vWpU6c+/PDD5QxbnewIDBs27NFHH81OPCKpj0D8GxZX12fNmnXTTTfVp0e9ECBAgAABAgTqJrDEEkv06NHjww8/LPQY6Xpx9l4ot0EgRSBX6XrKOB1qCoGtt956hx12aIpQ8xfk3/72t/jCqw7j+trXvhaJevzEV86XXXZZHXrUBQECBAgQIECg/gJrrrlmcbo+d+7cV199NRbfrX8kemxeAel6885dDiP/6le/+vOf/zyHA2uGIT322GM1Tdd33nnntiw9Xu3WDB5iJECAAAECBAh0SWDdddcdOXJkcRMvvfSSdL0YxHaHAtL1DolUIECgcoENNtigLUv3j1PliM4kQIAAAQIEmlDg0EMPvffee4sDj/fkFO/aJtChgHS9QyIVCBDotEC8pK0tS//KV77S6ZOdQIAAAQIECBBofoEjjzzyu9/97syZMwtDiWW2fvrTn8bzgIUSG10U+PTTT2+55ZYRI0bEouNvv/32Mssss9FGG2288ca77LLLvvvu28XGs3C6dL3CWTjuuOMs7VihndNyLXDYYYe1JeqxnkquB2pwBAgQIECAAIE0gbh6ERfYb7/99kKlWGL5z3/+88knn1wosVEq8N5770US/sUvfrH0UHHJ9OnTf/WrX1199dXFCwREheHDh7dV+/KXvxyvoDr88MOb+kNprtL1mNR+/foVz2IF2zNmzJgyZcrkBT8x908++WR8W/PZZ58lmopXR993333bbLNNotwugdYU2Gmnndqy9J49e7amgFETIECAAAECBBIC55133l133RWLzBXKf/zjHx9xxBErr7xyocRGm8BTTz116623RpL1yiuvnH322b/+9a9TZCZNmnTggQc+/fTTKXUib48bHHbcccfI2mKV/pSaWT6Uq3R9ueWWq8Wdt5G9P/HEE717947/Fuby3Xff3X333WMx7YMPPrhQaINAqwnEd2RHHXVUJOpbbrllq43deAkQIECAAAEC6QLbbbfdxRdf/JOf/KRQbeLEieeff/71119fKLExatSoCy+8MJLqAsWbb75Z2C7dCMNI+l544YXSQ6UlkdLvuuuujzzySKz8V3o0+yXuVu14juIF0ZGTDxo0KO5dKf4mbNq0afFKqscff7zjJtQgkC+B+Gos7uOKxeTjL9PLL79crp6v6TUaAgQIECBAoGoCkYjGBd7i5v70pz+dcsops2fPLi5s2e2bb7453uVcnKsHRXq6fu6555aZq7epxvvz4lH29DYz6y9dL3dqYk2I//iP/4jkPBYwKJwTN8kff/zxH330UaHEBoF8CxxyyCFxn1I8LBL/0uyzzz75HqzRESBAgAABAgS6KLDYYovF4+ubbbZZcTvxOapXr17xmarFk/b/+Z//OfHEE+fNm1eME9uxbtz8+fMThW27cc/8X//613YPpRTGndGnnnpqSoXMHpKud25q4rufv/zlL8XnjB8/3nIRxSC2cykQ/6LEE0Tx2963b99jjjkm/uHJ5TANigABAgQIECBQdYG111471sPaf//9i1uOV7Ife+yx66yzzr/927/Fp6x//OMfkaPGVcA5c+YUV8vx9vPPPx+fKkvXCIshx1JzseBcu2OPS+sLy+TbrV8ojDXO7rjjjsJus2zk6tn1+qDHY7rxDoYbb7yx0N0999zzwAMPHHTQQYUSGwTyIbDeeuu1PZq+1VZb5WNERkGAAAECBAgQqI9APDlbvBZaLJ82YcKEWMS6uPcPPvjgtgU/xYVLLrlk1xczj/Wzi9vM4HY81Z/y3UTcu77GGmskwo4X18cXH4nCtt0NN9wwnl/eYYcd4sTBgwcPGDBg1qxZiZo/+MEPYoG6ZZddNlGe5V3peiWz8/3vf784XY8m/vu//1u6XgmlczIpEH+LtWXp+XhfZSaNBUWAAAECBAjkXGD06NGVfZQqzTPzJ/XMM88knlcvjDG+qth5553jNXiFksJGPOhe2C7e2HvvveMO0OI8PNqPV7glLtGPGzcuVgpvrjuj3QxfPNHlbsfCWrvttltx7fht8wR7MYjtJhWIR9NvueWWeDT9hhtuqOwfmCYduLAJECBAgAABAgTqJvDzn/+8tK943DLWMI6nL+OFXO3e2tnu3eyxLkDc6Vycq0fL8SDnc889t/HGGyd6uffeexMlGd+Vrlc4QfG+xOIzY5WIWEOiuMQ2geYSOPPMM2MRjvhiMh6g6tbNfTfNNXuiJUCAAAECBAg0jUCkTvEkeSLceBtXZN0XXHDBaqutljjUthvvUY/H+0sPxavsl1pqqdLyuJe+9EuB6Hf69OmllTNbIl2vcGrWX3/9xJnxKEWixC6BJhKIRzxKHxBqoviFSoAAAQIECBAg0BQC8fx56aP1d911V2I1vsRY2r15fvnll09cRi0+K+6HT7xveObMmfEO9uI6Gd+Wrlc4QbEEV+LMsWPHJkrsEiBAgAABAgQIECBAgECxQOml9T322COePy+uU7p9//33lxbG0nFLL710aXlbSbyK+7zzzkscjVfBJUqyvCtdr3B2lltuucSZsXRBosQuAQIECBAgQIAAAQIECBQLDBkypHg3ti+55JJESWI3ltAfNmxYojB2Dz300NLC4pItttiieDe233///URJlnc9oVrh7JQ+ONFcE1/hsJ1GgAABAgQIECBAgEAZAnEb9ty5c8uo2HJVEgu2x6pJcXU9XeHRRx8tfd16XDzfb7/90k+MN9snKkTmnyjJ8q50vcLZiRf6Jc6M1RESJXYJECBAgAABAgQIEGhZgVjqvGXHnjLwxBu11lprrQ6hIl0vbXDrrbfu0aNHaXlxyUorrRS3RU+bNq1Q2FzpupvhCxPXuY2HHnoocYJluhIgdgkQIECAAAECBAgQIFAsMG/evI8//ri45Atf+ELxbul2XFdvN13fZ599SiuXlqy55prFhRMmTCjezfi2dL2SCRo1atTdd9+dOHP11VdPlNglQIAAAQIECBAgQIAAgYLA5MmTI2Mv7MZGz549i3dLt0eOHNlujv2Vr3yltHJpSfRYXLj44osX72Z8W7re6QmaM2dOLDBY+uzEVltt1em2nECAAAECBAgQIECAAIGWEShNoxIX20sl2r20vsQSS+y2226llRMl8ca4xN3vK6ywQqJOlnel652bnXhTX7y+r92X9UV559pSmwABAgQIECBAgAABAq0k0L1791girnjEiZXnig+1bT/88MOlhTvttNMyyyxTWp4oefvttxMl0vUESE52Z8+efdttt+28884PPPBA6ZDiDQEbbLBBabkSAgQIECBAgAABAgQIEGgTiFXlll9++WKN9HR96tSppS9+i9MPOOCA4kYWtj169OjEoVVWWSVRkuXdXK0M/8knnwwYMKDr3PE0xWeffRY3vce9E/H78eGHH8Zr2/r375+4j6K4o+OOO6541zYBAgQIECBAgAABAgQIlAqst956zz//fKE8FoqPldtj/fZCSfHGY489FnlZcUnb9kEHHVRaWFpyxx13JAo333zzREmWd3OVrsetDl/72tfqzx2LGZ555pn171ePBAgQIECAAAECBAg0tUC8m33YsGGDBg2KBdUmTpwYD3JH+tr2OHfc7B0/cS06Xh7+xQU/22233Q477BAvKm/qIccQitP1eJr9r3/96+mnn97uoO65557S8gCJu5tLyxMlr7zyyi233JIo3GabbRIlWd5t7pnOiGzv3r2XWmqpjAQjDAIECBAgQIAAAQIEMi4QN/PefvvtN954Y9zpPX369HajjXuH28qLk9u4Ch1LrB177LFHHnlkLLfW7okZL+zVq9ef/vSn4iB/97vfnXbaaYln2qPCmDFjQqm4Ztv2EUccUVpYWnLJJZckVqGPOl/+8pdLa2a2xFJzXZ2ak08++Rvf+EZXW3E+AQIECBAgQIAAAQItIBBrV1933XUbbbTRMcccE2ueLyxXX5hE3Df+0EMP/du//VtcYf7Vr35VutD6wk7MTnk8dr7oov+Sh7766quRsScijKH94Ac/mDVrVqI8dr/1rW+VFiZKrrrqqjvvvDNRuNlmmzXXimP/wpQYjN0OBSJXv/766zuspgIBAgQIECBAgAABAgSGDx/+pS99Ka4kly6B1lmcWFfrnHPO2W+//dKXautss3Wov+aaa5a+Mv3ss8+++OKLC4+pxwpi3/72t0vz7Qhv/fXXj+vzKXHGNyBHH330ueeeW/pdxr//+7+nnJjBQ9L1CidljTXW+POf/xy5euk9GxW26DQCBAgQIECAAAECBPIrEOnDLrvsEotYV3GI/fr123LLLe+///4qtlmHpuKqZ2kvP/vZz1ZaaaWvfvWrhx56aCxHF1yldaKk3dvm22r+85//vPLKK+MJ/z59+pSeG88vx0MEpeVZLvHseudmJ9Z12HXXXWNBu/iyJxZ+6NzJahMgQIAAAQIECBAg0JICZ5111tVXX12LoccCdYcccsgVV1zxox/9qBbt16LNeJo4blYfOnRoovG4MN7uW9YL1dZaa61IxAq7hY1nnnkmUvE33nijUFK6ccEFF6y++uql5VkuyVW63r1791hxoVrc8UBFLN6w5IKfFVdccd0FPzvuuGP0Uq0utEOAAAECBAgQIECAQO4FfvnLX9YoVy/QRS4aV5VLbzIvVMjURtyh/Ic//CGug8aT/J0K7Nprr11hhRVKT4nXuafn6ptsskkTfZ1RGGCu0vVYbqH0xXqFodogQIAAAQIECBAgQIBAnQX69u3bYaIY65/F681i0fLPf/7zcaUwLhAuvvjisTL8lClT4r/xoHs89B7ve4sL6QsLPpZAj/XnRowY0SwXkLfddtu4Zf3rX/96LJK/sEElyo8//viDDz44Udi2u/HGG7db3lYYJjELzbiQfq7S9ZQZcogAAQIECBAgQIAAAQJ1Fhg7dmysAF/6OrG2MOJl6t/5zndi/bPVVlutnMBefPHFv/zlL/GW8ng3e2n9WHwullh7/PHH41Jz6dEMlhx22GE333zzKaecEsvddxjeGWec8Zvf/GZh1eLt9LGC3bvvvltaoWfPnv37999www1LD2W/xFJz2Z8jERIgQIAAAQIECBAg0JQCl112WbuvaotL6DfddFPcv/3DH/6wzFw9xr/55pvHy9vGjx8fq7K1e6140KBBpW9EyzJcfL8Qb5XffffdU4Ls0aNH3AMfTxOkfw2x6aabljYSb2iP9uNO+NJDTVEiXW+KaRIkAQIECBAgQIAAAQJNJhALld94442lQcf68KNGjYpbuyt7yVQk6hdeeOGzzz7bbhYaz4SXvsCsNIbslMQtBvEtQyw7FzcafOELX4i1vdtii+cC4uH2G264Ie5QOPXUUzsMOKERT/LHg9LxKrhop8NzM1vBzfCZnRqBESBAgAABAgQIECDQxAJxab30wex4Z3gsfr7ccst1cWDx/ra473233XZLvMI9rtgPGDBg77337mL7dT59+wU/0WmIvf/++3H3QWeJ2tL1WAVgr732OvHEE3faaac6D6EW3UnXa6GqTQIECBAgQIAAAQIEWlpg9uzZ9913X4IgriQ/+OCDnU1EE40UdtdYY4147/o222wTK9IVCmPj+uuvb7p0vRB/3PEeT6EXdsvfiJfDxfu2Kzu3/F7qXNPN8HUG1x0BAgQIECBAgAABAvkXeOKJJ0qfWo8HsFdeeeUqDn699daL59gTDd59990pa8gnKudmN256z1muHlMjXc/N76eBECBAgAABAgQIECCQFYGHHnooEcoBBxxw4IEHJgq7vnvaaaclVlmLC/tx1b3rLWuh4QLS9YZPgQAIECBAgAABAgQIEMibwJAhQxJDihe2JUqqsht3j8cb1xNNvfPOO4mSlt2NLy/iBXix7FwsJRDL+zWXg2fXm2u+REuAAAECBAgQIECAQBMIxFvQi6NccsklDzrooOKSKm7H68ouuuii4gaznK6/9dZbiZXer7zyylg5rzj+qmzHyvzxNPubb745d+7cQoO//e1vV1pppcJuxjeynq7/4he/mDBhQsYR28L79a9/3RRxCpIAAQIECBAgQIAAgVoLJLKYeEXZ8ssvX6NOY1H0eP9ZcVL69ttv16ivrjc7derURx99tLidCy64oHi3WtvxxrtXX3010dqYMWOk6wmTyndvuummUuLKm6vlmdL1WupqmwABAgQIECBAgEDTCMyYMSOxztzqq69eu+jj/e09e/YcN25coYssX10vBFnrjdVWW620i0jXt9pqq9LybJZ4dj2b8yIqAgQIECBAgAABAgSaVWDatGmJ0FdYYYVESXV3E5fuP/744+q234ytxR0H8UVGIvJI1xMlWd6Vrmd5dsRGgAABAgQIECBAgEDzCZTebp14lL3qQ0rce7/KKqtUvYuma3DkyJHz589PhP3ee+8lSrK8K13P8uyIjQABAgQIECBAgACB5hNYfPHFV1xxxeK4x48fX7xb3e1Zs2Z99NFHxW3GS8iLd1tze9CgQaUDT8xLaYVMlUjXMzUdgiFAgAABAgQIECBAIA8CPXr0KB7G2LFjR48eXVxSxe2BAwcmWlt11VUTJS21GxfVb7zxxsRq+W0C7T7QnlmcrK8Mn1k4gREgQIAAAQIECBAgQGBhAptttlm8Qqz46F133XXuuecWl1RrO1pONLXOOuskSmq9G5ey431s5fTyySefJKqdf/75Vbl7f968eZ9++mks8vf6669Pnjw50UvbrnS9XZYKCy+55JJJkyZVeLLTCBAgQIAAAQIECBAg0AiBvfbaq2/fvsU9X3fddWeeeWa8gL24sOvb77//fp8+fRLt7LPPPomSWu/usssuMbpRo0ZV0NHTTz9dwVkVnBL4vXr1quDERp2S9avrxxxzTKNo9EuAAAECBAgQIECAAIHKBCJdT5wYF9t/+ctfXnjhhYnyLu7+8Ic/TFyvXnrppffYY48uNtvZ02MZ9muuuWb33Xfv7In1rH/wwQd37969nj12sS/PrncR0OkECBAgQIAAAQIECBBICmy55Zald6RffvnlgwcPTlbtwv6tt9568803JxqInHmppZZKFNZhd7fddjv++OPr0FFlXcRL3b773e9Wdm6jzpKuN0pevwQIECBAgAABAgQI5FYgksPvf//7ieHFk9VxgTdeMJYor2z3vvvuO+GEE0rPPfHEE0sL61PSu3fvzC69HivPld7yUB+WinuRrldM50QCBAgQIECAAAECBAgsVODkk08ufQH7lClT4k71v/zlLws9rYwDc+fOveyyy4444ojYSFTfeuutv/nNbyYK67YbC7n99Kc/rVt3ZXYUN+pHrn7ppZeWWT871aTr2ZkLkRAgQIAAAQIECBAgkB+B5ZZbrt2l4ONR85NOOikus1ewxFosfv7QQw/tuOOOkXyW5uphF/fbx4X9BiKefvrp8ZVBAwModB3P8McjCRHPc889F18iLLpo8yW/WV9qrmBtgwABAgQIECBAgAABAs0l8KMf/ej+++9/6qmnSsN+YMHPFltsETe077zzzltttVWkl6XV2krimvzw4cPjZWn//d//PWbMmIVVO+iggw488MCFHa1P+WKLLRZDfuuttxbWXSy5l7iH/+qrr65Khh9dL77gZ/nll1955ZXjtvzGfnOxMIHyy6Xr5VupSYAAAQIECBAgQIAAgU4IRAIZq8FFLppYvL3QRLz57JxzzonduGF700037dmzZySZK6ywwjLLLDNt2rTI0uNn7Nixb7zxxvz58wtntbvxpS996bbbbmv3UJ0L11zws7BOY3SJQ/Gdxa677pootBsC0nW/BgQIECBAgAABAgQIEKiVwHrrrRfvRT/yyCNnzJiR0kfc2R6pe/yk1Ek5tOqqq8Y17dJMOOUUh7Iv0Hy372fNNP5c3XLLLVW5eSNrQxMPAQIECBAgQIAAAQJdF/jqV7/av3//Hj16dL2pdluIN8Y9/PDD8b1Au0cVNq+Aq+udnrv4VmzSpEnjxo174YUXHl/wM3HixE634gQCBAgQIECAAAECBFpGoFevXk8++eQBBxwwevTo6g46nlf/61//Go9qV7dZrWVBIP/perzbMNZOfOaZZ8aPH//ee+/NnDlz9uzZcxb8pDz+EYfiJ9ZdjJ/PPvssTmn7iQdIYjcLMycGAgQI1F/g+qsv/9zV9e+2dXsc/+47rTt4IydAgEDuBDbccMNYLu5Xv/rVb37zm4U9yt6pQcdb4i644IJ49L25FlSLewHief7ikcZD+8W7tgsCeU7X33777fj1vffee9OfEilY2CBAgACBdIFhQ59Ir+AoAQIECBAgkCIQy8jF+9K/973v9e7d+/e///306dNTKqccivvezz777Hgb3LLLLptSLZuHunfvfswxx2QztqxFldt0/aqrrrrkkksk6ln7hRMPAQIECBAgQIAAgRYXiBvXr7jiigsvvPAf//hHPNMeP88//3zc25vOssQSS2y33Xa77LLLnnvuuf/++8ea8+n1Hc2BQD7T9cjVzz333BxMjyEQIECAAAECBAgQIJBLgXg3eDx2Hj8xuo8++ujFF1+M/xZ+pk6dGsu8R2Ifd7zHT7wZbdttt11qqaVySWFQCxPIYbret2/f8847b2EDVk6AQDYF4umVvfbaK5uxtUJU4d8Kw8zrGP9+63UDH78vr6PL4Lg+eP/dcqJ69eUXTj3ugHJqqlNPgRkzppuXeoLrq0yBVVZZZY899iizsmqtI5C3dD3WgfvBD37Q4Z0kVZzg+KO1zz777LffflVsU1MEWkSgOEWM7eLdFhEwTAJVERj3zuj4X1Wa0kgVBaZNnTLsGcs9VFG0Ok199tlc81IdSq0QIFB7gbyl67fddtubb75Ze7fPxeqLF1988cEHHxw3pSy6qNfX14FcFzkUkJ/ncFINiQABAgQIECBAoEoCeUvXY4nFhckceOCBW2yxxfoLfuLxj3h3wle+8pXit7Kddtppxx13XJweKzR+/PHH8XL1+O+IESMee+yxyZMnJ5qNC/jxUrftt98+UW6XAIHyBTbZZJOBAweWX19NAgQIECBAgACBHAuMHTs2Ft6LN3AX0rFIymbNmlXFIT/55JNVbK3WTeUqXX/33XdjhYZSso033vi6666LFRQTh3beeecnnvi/u9QiM//DH/6QqBO7c+fOjUn98Y9/nJjaX//613vvvXfb4hClZykhQKBDgZ49exbqlP4JLRyyUQeBmTNnPv3003XoSBe1ENhoky2XX2HFWrSszXYF4tn1cWM6fvpgueVX3HjTLdttQWGNBMp52eRii3XbetudahSAZtsVKGde2j1RYesIxOvo403sDz/88Msvv9w6oy5npLlK1wcNGlQ65k033TTy8CWXXLL0UFxvL07X46PquHHj1lprrUTNbt267b777vGWhbh0f+mll86ePbutQlxg//d///d46UKs05g4xS4BAhUIDBgwoIKznFItgUMPPfS++yxXVi3OurZzzoW9v9xrt7p22dqd9bnxmqt+/sMODTb+0pbX3fxwh9VUqKLA9ht1/ALqZZZZ9rpbzEsV1Ttuqpx56bgVNXIqELlVvIj+v/7rv4rves7pWCsZVq4eum43Xb/88svbzdVDK15amDDr169foqSwGy82jAvscW9GvPCwUBgvWjjhhBMKuzYIECDQvAI33nhj8wYvcgIECBAgQKDpBGIZox122OHnP/+5XH1hc5erq+vPPfdcYpy9evU6/PDDE4WF3e222y6unMe97oWSSNfT0+/I8OOl7meeeWbxKZHDx13xhRIbBAgQaEaBeLPr6NGjv/rVr7766qvNGL+YCRAgQIBArQWGDh06Y8aM0l5iQatll03e3BHrYT377LOlletTkv3HDOO6+je+8Y24Vbk+IE3aS67S9bjWnZiGCy64IFFSvLv00ktvvvnmI0eOLBQOGTKksL2wjTPOOCOq9enTp1DhJz/5iXS9oGGDAIHmFVhvvfWGDRsW77ywBGDzTqLICRAgQKB2Ascff3y7X2pHzrnllsm1KuJ9VXvttVftgklvuZ5vtk6PZGFHf/SjH5VebV1Y5ZYtz9XN8LFsYGIiS//YJCpEul5cEvdjTJw4sbik3e24wB73xhcODR48OOUu+kI1GwQIEMi+QFwcOOyww4rjjH/v/TRKIBZMKZ4L2wQIECBAIB8CcXvyb37zm3yMpaajyM/V9XjgYerUqcVYcaN76bpxxRViO5GuR0l8x3PAAQckqiV211hjjVimrnhNpmuvvXafffZJVLNLgAABAgQIECBAgAABAgmBdl/IVagTD7TH636/8L8/yy+/fOFQq23kJ12fMmVKXP0onr/I1SNjLy4p3d5ss80ShXErS4fpepzy7W9/uzhdf/zxx+P7guJL7olm7RIgQIAAAQIECBAgQIBA3BNdnEkVg2y77bZXXnllAx8iKA4mC9v5uRl+3rx5CdB4CDNRUrq74YYbJgpfeeWVREm7u3F1fZlllikcii8LnnnmmcKuDQIECBAgQIAAAQIECBAoFYhVwArvxi4++qc//SkW55OrF5vkJ11faaWVFllkkeKxxUpyxbvtbscdFomzykzX40L6OuusU9zmY489VrxrmwABAgQIECBAgAABAgQSAo888kiiJHZPOumkk08+OZGalVZrtZIO7hVvIo7In1dcccXJkycXYn7vvfcK2wvbiFeyr7nmmuPGjStUiHQ9bqov5xcl0vV//vOfhRPbXSWycNQGAQIECBAgQIAAAQJNLRAvdV533XVLh9Duw9VRuN9++5VWVlKcfLVpxNJgv/zlL8mUCuQnXY+xxUuDi9P18ePHlw64tGT99dcv/o2J9ereeeeduOpeWjNRsvbaaxeXfPjhh8W7tgkQIECAAAECBAgQyJPAn//85/KHE0/mtnsZufwW8lrz3XffTQzt7LPP7t69e6LQbgjk52b4GMwqq6xSPKmRP8+dO7e4pN3tSNcT5S+88EKipN3dJZZYorh8woQJxbu2CRAgQIAAAQIECBAgQKBYIBK00ryp9HVdxae08nau0vXEunGx+Fw5N6gnzorfhjLT9XhJe/Gvzv/H3p0H3FD38f//Fsm+77JEtizJUiT7kkLIVrZQbgmJEBUlJBSS7JUlEbJUhIQskSI3slWEZCeyL7fv63ed332+c88517nmnOucc83Mec4f9z3zmZnPfOYx56reM5/P+8PXdaMG6wgggAACCCCAAAIIIICASUBp4X1zhN97772mw9j0CLgqXK9evbrpuU6cONFU4rt5zz33mAqVkNBU4ndz//79xvIEJ40zHsw6AggggAACCCCAAAIIIBBrAkoQfvvt/xOEar4tUw7vWDMJcL//IxXgOEfs8g3Xp02bpinWAje+WLFipgNWrlx5+fJlU6Fp8/r16xribixkuIVRg3UEEEAAAQQQQAABBBBAwCSgb5zZsmUzFt68eVOpvo0lrHsFXBWuq1u7kgp6700rFy5ceO211wI//uLFi6dJk8Z41qVLl1asWGEs8V2fPHnylStXjOV6UWTcZB0BBBBAAAEEEEAAAQQQiKaAxud+9913QaXEi2bzPNfKlSuX8aJXr171TT5nPCCW112VGV4P8rHHHps6darxiY4bN+748eMzZsxImTKlsdy7rhngypYtu27dOm+JVgYMGFC/fv34+rfrLcDgwYONx2vddwy86QA2EUAAAQQQQAABBBBAIEYEFDmbApPWrVtHote3ZrkaMmTIrrjl9OnTHt6nnnpKncztSf3AAw9s27bN2DaNMjbNumXcG8vrrvq6rgfZp08fhd+mJzpv3ryqVat+9dVX6mhh2uXZbNOmjal8x44dL730kt/P8vqo/txzz+kVgOmUihUrmkrYRAABBBBAAAEEEEAAgdgUOHr06Cv/uxw4cCASFPqUOGnSJH199Mbqusrhw4cjca2w1NmsWTNTPYsXLzaVsOkRcFu4XqRIEb1J8n26yh7XsGFDvbPp37//oUOHTAe0a9cue/bspsKxY8fql/Tbb78Zy/fs2VOpUqVZs2YZCz3rDz30kG8hJQgggAACCCCAAAIIIIBA5ARy5MjhW7lvyON7TFKV1KhRI3PmzMarf/TRRxcvXjSWsO4RcFu4rrvSYHVTskHvw9YrrrfffnvJkiXeEs+K+sl369bNVKjNBQsWFC1aVHF4+/btmzZtqr4rGuhu6rnhOUvd6Zl+wBeQEgQQQAABBBBAAAEEEIioQIYMGW677TbTJUxZsU17k3ZTI46feeYZYxuUHVwRu7GEdY+AC8N1BdjvvPNOgAdcqFAh373PP/+839EdmhVw48aN06dPV+geoEvJCy+84FsnJQgggAACCCCAAAIIIIBARAXU/9d3DK8GtEf0oomsfODAgaYc4eoEvX379kRW677TXRiu6yH17NmzX79+8T0tv+F6lixZOnbsGN8pgctLliz55JNPBj6GvQgggAACCCCAAAIIIIBA2AU2b97sW2eKFCl8C+1TkjZt2lGjRhnbo87wjRs3Ng6/N+6N2XV3hut6nMOGDXvxxRd9u4Wo60X+/Pn9Pu+33nqrdOnSfncFKFRH+k8//fTOO+8McAy7EEAAAQQQQAABBBBAAIGwCyhDtsYC+1brm5nL95ikLWnZsmWHDh2MbVAqvsqVK2siOmNhjK+7bSI34+McPXq00s51797d+MJJ48/jm54tXbp0S5cuVYJ3611H9NZKU8SVKlXKeF3WEUAAAQQQQAABBBBAwJUCW7duXbVqlZVbU9os02Fz5sxRAmxTYQibGq57+fJlfY7et2/ft99+q8zwvpX4zT/ne1jSlmiiO93F3Llzvc3Yu3evEtEpjNdUXOXKlYsvJZn3eNev2D1cnzlzZt26dUP+tWlOv02bNimRu+pZs2bNtWvX/PaE9z7mPHny/PTTT/p9fP31197C+FYyZsw4f/78WrVqxXcA5QgggAACCCCAAAIIIOAmgQIFCgwfPvzUqVMh3NTEiRNDOCuEU9TFOIRewyFcyHuKhp1rumvvpvUVfVvVuRp+7z1F4/CVdk5LpkyZFLorpbdWlEle/6ukeokP4BUheq9l/xW7h+tDhw5V2kDNwfbss88+8sgjITwe/Vg1rbqW8+fP6+P59evXAz8VvRrQYZMnT9ZoCr3d8XuwpnZXewYPHpwtWza/B1CIAAIIIIAAAggggAAC7hNQ3Khw3ZTY3G63qS7l8Y3/jVBTW7RoEV/oFPIVz549q2zfWkKuwe+Jvmn5/B5mk0K7h+tiUoDteU6aNV3fvZUQLrQfX/r06a0nhPtX3LJ27dpFixZpEIXmLVQ/DUXyd911V+3atRs0aECgbpNfMM1AAAEEEEAAAQQQQCCaAgpJpkyZoj680bxoUNdSC4M6noNtK+CAcN1rp3nU3nzzzSFDhtSpU0cftxs1anTHHXd490ZipWrcEomaqRMBBBBAAAEEEEAAAQScKKDeu+PHj69QocLNmzdt2H59WSRct+FzCa1JzssMr8wKy5cvb968ucaZ9+7d2zjOITQCzkIAAQQQQAABBBBAAAEErAvcf//9Xbp0sX581I7U10Yl7fKdHitqDeBC4RVwXrjuvf+TJ0++++67xYsXr1KlyvTp0y9duuTdxQoCCCCAAAIIIIAAAgggEDkB5bGy1WRp99577wcffKDs2sqHHbm7puYoCzipM3x8NOvjlh49erRq1Uqd5JU8ML4jKUcAAQQQQAABBBBAAAEEEi+gqFgTs23YsCG+qo4dO6b42bhXSbjuvvtuY0lo68p7rUHBWjQRtVLf5cqVq0iRIkqcHlptnGVnATeE6x7fc+fOTYhb1DVFQXvr1q2V6N/O9LQNAQQQQAABBBBAAAEEnCugaca0xNd+zU9mCtfbtWtXrVq1+I53dLnmSCcVdySeoN3DdU2Z/vHHH8+ePfvMmTMW7//nn3/u2rWrhrVrfLvidnWVt3gihyGAAAIIIIAAAggggAACCAQroKgt2FM43oqA3ceu6z3NuHHjjh49+vnnn2v29eTJrb5fuHz58owZM5RroVixYiNHjjxx4oQVDo5BAAEEEEAAAQQQQAABBBBAwA4Cdg/XPUYpUqR44oknvvjiiyNHjowePbpMmTLW7fbu3du3b1/Nl96sWbNly5Ypsbz1czkSAQQQQAABBBBAAAEEEEAAgSQRsPqxOkka53tRZV98MW7RUBBlg1eni+PHj/se5lty/fp1fZ/Xki9fPuV40FSEWvE9jBIEEEAAAQQQQAABBBBAIPECWbJk6dSpk7Ee5YQzbrKOQIICDgvXvfdTunRpzeI2fPhwfTBX3K4P79euXfPuDbBy6NChN954480336xbt65Gtj/++OPKqRjgeHYhgAACCCCAAAIIIIAAAsEK5MmTZ/LkycGexfEIGAWc0Rne2GLjuoayN2jQYN68eZomYfz48Q888IBxb4B1dYlXnK/u8eokr67y6jAf4GB2IYAAAggggAACCCCAAAIIIBBlAWeH614sTTPYpUuXH374Yffu3f369dOrLO+uwCtKQadEdEpHp6R0M2fOVIK6wMezFwEEEEAAAQQQQAABBBBAAIEoCLgkXPdKKfAeNmyYeryvWLGiVatWqVKl8u4KvLJu3TpNhKjxJJoETlPBBT6YvQgggAACCCCAAAIIIIAAAghEVMBt4boH6/bbb69Tp44S0amT/NSpU61PvX7u3Dl1qi9btmz58uUnTpx4/vz5iOpTOQIIIIAAAggggAACCCCAAAJ+BdwZrntvNX369M8888zatWt///33gQMHFihQwLsr8MqWLVvUu14f29u3b79+/frAB7MXAQQQQAABBBBAAAEEEEAAgfAKODUzfLAKBQsWHDRokHLCK3RXJnllp7tw4UKClVy6dEkHa1Efe6WRV2/5bNmyJXgWByCAAAIIIIAAAggggAAC8QncvHnz8OHDf/75519//aXkWZriyrPcunUrvlOCLe/Vq1ewp0Tt+CNHjig0i87lbrvtthQpUtwZt6RMmTJz5sz6IqtFyc7y5s2rvdFpRshXiZVw3QOk51Etbhk3bpzmYFccvmrVKit/FXv27Ondu/crr7yiid80fWLt2rXV3z5kdE5EAAEEEEAAAQQQQACBWBO4cePG4rhlyZIlZ86ciejt2zlcP3369JQpUyJ6+1Yqz5gxowZBV6hQoWnTpvpfK6dE/5gYjTlTp07dtm3blStXHjx4cOjQoUWKFLFCr5de8+fPf+SRR/StXjO365WYlbM4BgEEEEAAAQQQQAABBGJcYNGiRSVKlNBM0pqOKtKxeoxTW7z9v//+W99uhw8frunAixcvrq+5Fk+M5mExGq57idUFQt/MNe/6999/37lzZ71i8e4KsKIg//XXX9dI+Pr16y9cuPD69esBDmYXAggggAACCCCAAAIIxKyAur7rS2GTJk327dsXswg2v3F1ptablA4dOvzzzz+2amqsh+veh1GpUiWlgj969Ohnn3322GOPJUuWzLsrvpX//Oc/S5cufeKJJxTzv/zyy/EdRjkCCCCAAAIIIIAAAgjEpoBi9TZt2nzyySexefvOuutp06aVKVNm06ZN9mk24fr/PAulH2jRooUGkyjxw7vvvluxYkUr6QeOHz8+YsSI/6mIDQQQQAABBBBAAAEEEIh5AfW1njNnTswzOAZg//79devWtU8/CMJ1/z+dnDlzKj3Dxo0b1e999OjRlStXthK3+6+LUgQQQAABBBBAAAEEEIg9gWPHjg0bNiz27juBO9Yn0nsNi7oqJ3DCf3cr27cGL2uu7oim/VZ/eH3BvXLlyn8vm5T/H1uZ4UOQ1q/nxbhFsywo/YBSzWkadnWDD6EqTkEAAQQQQAABBBBAAIHYERgwYEDg2aM1o1ipUqUyZMigEFSLphuLBRzl+f7ll188d3rq1KlatWr5zeGtCdg0IZfywJUvX75kyZKagy1t2rSeb6ia20uwZ8+eVT0///zzli1bli9ffvHiRV+9LFmydOvWTeWK4K5evapp83TiyZMndUWNV1eJ7ykq+fe//60QUGOl/e6NZiHhulXt3Llzd49btm7d2rFjRz1Cq2dyHAJOENCrKCXYcEJLaSMCCCCAAAIIIOAAAX2e/fTTT/02NFu2bEpcrYRZd999t98DYqRQY4oVq3tDd+9d58+fv2vXru3btxeUt9C4oqA9XdySL1++Rx99VLv0SVw5yDRdtylM06RxJ06cGD9+vPF0z/qlS5eUpf+9997bvXu3795JkybpAWkab99d0SyhM7xV7d9///2dd95RRjq93TH9CKxWwXEI2Figb9++WbNm1T8Z165da+Nm0jQEEEAAAQQQQMAZApo0WgGhb1uVqVpDo/UfXTEeq+t1ht9YvUuXLgrg+/TpE1+s7kuqEgXvzz77rD6za5ZufZY3HjNhwgS/s9Brbm9NDaZrLV68WF0bjKd41t9//33fwiiXEK4nAL5z505Nsa4Mgffcc49+NMoTqK4XCZzDbgScKaC3j3r1WK1aNc08OWjQIHUQcuZ90GoEEEAAAQQQQCDpBRQE+jZCqaxnzZplcfZo39PdVPLGG2+YvqvfcccdCxYs0H+OpkmTJrQ71fRemqV7zZo16jZvrEHJyNST1FjiXdeHen1C1wTs6jbvLfSsqFAJyE2FUd4kXPcPvmPHjv79+2tYhQaTqKcKn9P9M1HqUgEF6voHqIJ2he56H3nmzBmX3ii3hQACCCCAAAIIREpg8+bNpqqTJ08+d+5cJVozlcfgpsYXq+ey8caVPU5d0zU7vbEwtHV1iNa7ElMigB49epw/fz6+CsuVK/fdd9/pe7vxAA13T/IZ+AjXjU/k/+j1yciRI++7777SpUu//fbbv/766//sjmdDaQ9eeOGFeHZSjICDBdQx/vnnn9e7xubNmyvVooPvhKYjgAACCCCAAALRFVBaeNMFFYtaz4JuOtdlmxqGqRnpjTeljswtW7Y0liRmvWbNmvrMbqxBicPVe9RYYlovUaKEMpSZCmfMmGEqifIm4fr/B37u3LkPP/xQD1W5CvTT2b59u5XHoI4TylWoeRT17JWiwMopHIOAQwU8ieg0uF2pNdetW+fQu6DZCCCAAAIIIIBAdAQUiyrnuelaHTp0MJXE5ubRo0dXr15tvPcCBQoMHDjQWJL49ZdffrlgwYLGeqZNm3b9+nVjiWm9Z8+e6k5vLFQWut9++81YEuX1mA7Xr127tmjRIn02zJEjhzIT6EdjcVy63orp97R///5vvvlGL4FMHS2i/Ai5HAJRE9Dg9g8++KBq1aqaKVM5Hfbu3Ru1S3MhBBBAAAEEEEDAQQIaS+g793OxYsUcdAuRa6pSuJtw1FXZ1BE98VdXjPbMM88Y69FD+fbbb40lpnWF940bNzYV+p1kznRM5DZjMVxXTK7Pg0oDmDNnTvVI0WfD+CbcM7krx6Bmulq2bNkff/yhrhR6CWQ6gE0EYkRALxqV00H/yqlevbpmpNSklzFy49wmAggggAACCCBgRUBTqXtmCPcerLHZd911l3czlle+/PJL4+0LqkWLFsaScK37zlKsVHaBK69QoYLpAPWkNpVEczO25l3ftWuXsgVo/sODBw8GpayRDHo307ZtW3UGDupEDkbA3QLKyaFF822ol8qTTz6piUncfb/cHQIIIIAAAgggYEVA3/kUOJw8edJ7sMJ1iz15vae4dcUUi+mbdp48eSJxs0ocrhTxFy5c8FauKfS8635XfJMLEK77hQpnoYhnz56tQH3btm1B1avp+xSBKFB/8MEHgzqRgxGINYF5cYv+taThIfqrefjhh2NNgPtFAAEEEEAAAQSMAgpBjeH6jRs3NJBQ004Zj4nN9SNHjhhvPEKxuucSuXPnNobopksbm+FZJ1z3NYlUiTL1q7eDonQNSjeNjkjwkpUrV1aUrl4ZIU/6l+AlOAAB9wkopYoGt2vR4HYF7Qrd9VLTfbfJHSGAAAIIIIAAAgkK5M+f3/SxUNOME65rAPmVK1eMeho4YNwM77ppSHyCn8rtFq67cOy60v198cUXihOUQE7ZF5VOwHqsnj17dk0hoHG569ev17nE6uH9a6G22BHQwBOlYyxatGiNGjUmTZr0999/x869c6cIIIAAAggggIAEHn/8cZPDzp07TSUxuKn42TSq//jx45FzME2nlzx5AoPBNWbB1JjAyeRNB4d909yasF8gahVqKMiGDRs0R3SuXLkaNWo0d+5c02ubAC1Rvv769evrU7x6R4wYMYKcjQGs2IVAUAJr1qx57rnnMmXKpDdoCxcuDOpcDkYAAQQQQAABBJwroDxnKVOmNLZfKasZvi4TdVA3siiNt3EzjOuXL18+ceKEsUKFisZN33XTuHodENGP/74NMJUk8HbBdLQ9N/fs2eNJIHfgwIFgW1ioUKGOHTs+/fTTER0yEWyrOD5CAkOHDo1QzS6oNtIfwPUGTUu2bNk8g9s13sQFaNwCAggggAACCCAQn0D69On1gV3//eM9YMuWLR9++KEmkPaWxOaKcssZx5Arov7hhx8ikSzs66+/NvWz1tRggc0J1wP7BLH36NGjc+bMUaC+devWIE6LO1QvdZo2barR6ZqGytQZI9iqON5BAhoqM2rUKAc12H1NVcKVcXGLZlvQ4HY9EffdI3eEAAIIIIAAAgh4BDTMVh14lWTOC9K/f3/NpJM5c2ZvSQyuKFzXvNrGG1dMF4lwXdGi8SpaD+HrepYsWUyVRHPTeV/X//nnH3Wp1RNdtWrVzZs3g8W6//779UKrVatWGTNmDPZcjneugGbvU+PVEcO5t+CylivVyoABA1x2U9wOAggggAACCCBgFChfvrz+g+f111/3Fiovb79+/SZPnuwticEVheumuxaIJgZWrmJTeWI29cV+/vz5phoSnL3om2++MZ1SunRpU0k0Nx0zdl0vpZYsWfLUU08pgZz6rssxqFhdwXnXrl31HV6LxrcTq0fzR2aHa+lvtXXr1kuXLrVDY2iDR0D94R999FE0EEAAAQQQQAABFwu8+uqrFStWNN7glClT/vWvf127ds1YGFPrvkn4pNGpU6erV6+Gy0Gj1pU+yZQpQL2qmzRpEuASGzdu/O6770wHlC1b1lQSzU0HfF2X2qxZsz777DO9iwqWRo9E3d31OV19TkyZHoKtiuNdI6AhK3fffbdrbidcN6I3WWH8R2SAVhUuXNgzfF394QcNGqQxRQEOZhcCCCCAAAIIIOBoAeW01vB1faJQ10LvjShi//HHH3v37t28efMUKVJ4y2NkpUyZMnXr1l2xYoXxfr///nvNoq1vbHfccYexPIR1Bf+K/kyz6KmeSpUqmbLcmSp/6623TCX6VOw7tZvpmIhu2j1cV7Dt+4bDiohSx7Vv315p5Hz7Wlg5nWNcLKB/LI4dO9bFNxjarekvJYRkjdavpaSanihdU7tZP4sjEUAAAQQQQAABpwso3vPEosuXL/fei4LJNm3avPTSS7Vq1VKf+XLlyukwZafTkvh41XsV26707dvXFK6rqZqNu2HDhh9//HGCI8wD3JdmVteE3L6V6xSVBzhxzJgx6s1tOkCBg6kkypt2D9dNE+UlqKMft56xcsjVq1fPd9K8BE/nAAQQCLtA48aNlVVOsXrYa6ZCBBBAAAEEEEDAtgIXLlzYtGmTt3kvvviiUqD//PPP3hKtaMpxpVjyZFnylt95552JD2QuXbrkrdCGK3pJoTcUSpVvapveaKgD5jvvvKN3GcH2O9A03jNmzHj55Zf9TnikVHb6lGu6nGfzzz//VJfPqVOn+u7VKGzfwmiW2D1ct26hydIVpbdr1y579uzWz+JIBBCIkMBDDz3kidL5k4yQMNUigAACCCCAgJ0F9u/fX6dOnRBaGJ3xiSE0LLynvP322xojYEyb76n/7NmzCusUdSuy02ReyhSeKlWqAJfW8RrUOW/ePI2e9huo69zkyZMrm53vSxC9KBk5cqRvt3nP5TRqXR0fAlw6CrscH66nSZNGX+30RBUbRMGLSyCAQGCBe+65xxOllyxZMvCR7EUAAQQQQAABBBCIWYHatWt/9NFH+nxtSgjnAVHaMk3ArEWD/5UxvmjRohpZqUWDBfQ643zcoimBd+zYcejQoQQN9fHcb4L3adOmxRerq051j0+w5kgf4OBwXSkWFaUrMEibNm2kmagfAQQCC+gfnZ6h6TVr1gx8JHsRQAABBBBAAAEEEJBA27ZtFZb36tUrgIamA1NMriXAMYF3DR069JVXXvF7zL59+/yWq1CzSlWpUiW+vVErd164njVrVvWLUKAe3nn5oibOhRBwmUCjRo08n9M1EYPLbo3bQQABBBBAAAEEEIioQM+ePU+ePDls2LAIXWX06NHKGuC3co11P3z4sN9dFSpUmDBhgt9dUS50TLiukQZK968oXbFBLCRLjPLvgMshEKyAZsLwROma3yLYczkeAQQQQAABBBBAAAGPgKZPUx44xe3hnaVIMzdPnDhRIWR8zr/99tt//vMf373qNr9s2bJ06dL57op+iQPC9QIFCiiJn2ZlS9op76L/bLgiAjYUKFSokCdKL1WqlA2bR5MQQAABBBBAAAEEHCegL7KPPPLIiBEjlH/u8uXLiWy/Essp+H/jjTdSp04doCrfnvDKyd+nTx/1nA+c3C5AnWHfZfdwfdasWcrIRyfbsD94KkQgKAG9X/QMTdesG0GdyMEIIIAAAggggEBsCugjrW/a89iksHLXKVOmHDhwoDLPDRkyZPHixeohb+Us0zGZM2fWV94uXboo+bFpl++mN1xXsKlZ5Ro0aKDZ4/RpyvfIJCyxe7guuCTU4dIIIPD44497AnXfqS/AQQABBBBAAAEEEAggoKzmAfayy1cgf/78U6ZMmTRp0saNGxW0f/HFF3v37vU9zFSSK1cuTROmeFv/1Wr9w3iTJk2qV6+uCF+zDmfMmNFUp0027R6u24SJZiAQawKaecETpefMmTPW7p37RQABBBBAAAEEEEhCAX0lqhy3qHv8H3HLMcNy6dKlTJkyKczWctdddymhkkZPh9BaTQ4XwllRPoVwPcrgXA4BWwsULFhQUbqW+5z/ikMAAEAASURBVO67z9YNpXEIIIAAAggggAACMSCgUDy0aNwdNoTr7niO3AUCiRXQfOnKIVe7du3EVsT5CCCAAAIIIIAAAgggEA4BwvVwKFIHAs4XmDp1qvNvgjtAAAEEEEAAAQQQQMA9Are751a4EwQQQAABBBBAAAEEEEAAAQTcIkC47pYnyX0ggAACCCCAAAIIIIAAAgi4SIDO8C56mNwKAggggAACCCCAAAIIOFDg77///vHHH48fP342bjlz5syFCxeSJ0/+6quv5s2b13hDBw8e1KxjGTJkMBay7lYBwnW3PlnuCwEEEEAAAQQQQAABBOwroAnJFi1atHbt2g0bNuzates///mPb1s7d+5sCtdnzZo1bNiw9u3bd+/evUiRIr6nUOImAcJ1Nz1N7gUBBBBAAAEEEEAAAQTsLnD06NEPPvhg4sSJp0+fDratmoZcH97HjRunGh599NEePXrUqVPntttuC7ae8B7//vvv+72XLl265MiRw3QtdSKYMGGCqTBqm2+88UbUrpX4CxGuJ96QGhBAAAEEEEAAAQQQQACBhAWuXLnSt2/fSZMmXbt2LeGj/R2hcN1TfOvWraVxS8OGDT/77LNUqVL5OzxKZXp3sHfvXt+LPfHEE37D9UGDBvkeHJ0SZ4XrpJqLzq+CqyCAAAIIIIAAAggggEBMC+zZs+eBBx7Qh+iQY3Xxaey6CfHLL7+sV6/e+fPnTeVsukCAcN0FD5FbQAABBBBAAAEEEEAAAVsL6AN4+fLld+zYkZhW6ou6b7iuCjUAvnr16idOnEhM5ZxrQwHCdRs+FJqEAAIIIIAAAggggAAC7hFYtmxZmzZtLl68mMhb0qjvq1ev+q3k559/rlKlit9g3u/xFDpCgHDdEY+JRiKAAAIIIIAAAggggIAjBRRIN2/e/MaNG4FbnylTppw5cwY+5tixYwEO2LdvX8uWLf1mmA9wFrvsLEC4buenQ9sQQAABBBBAAAEEEEDAwQKaUL1BgwbK5e73HooWLfrKK6/Mnz9///79mmtdX+D9HuYtLFOmzE8//dS4ceP4UsH/8MMPymPnPZ4VpwuQGd7pT5D2I4AAAggggAACCCCAgE0Fhg4d+tdff/k2Lnfu3EpR3rFjx2TJkvnuDVBSrly5hQsXbt++XXH+kiVLfI9UucL+dOnS+e6KXEnPnj31usG3fr/9BXLlyvXWW2/5HkyJrwDhuq8JJQgggAACCCCAAAIIIIBAYgU06ZrywPvW0r179+HDhydm6rXSpUsrIbwmXfetX9/z58yZ06lTJ9/rRq6kc+fO1ivPli1b//79rR8fy0fSGT6Wnz73jgACCCCAAAIIIIAAApES0Pdz38xwL7744tixYxMTq3uaq/7wquf111/3bf2UKVN8CylxogDhuhOfGm1GAAEEEEAAAQQQQAABWwtocvUFCxaYmtiwYcPRo0ebChOzqTcCrVu3NtXw448/kiLeZOLQTcJ1hz44mo0AAggggAACCCCAAAL2FdBc6P/884+xfWnSpBk3bpyxJCzr+sDuOwB+8+bNYamcSpJWgHA9af25OgIIIIAAAggggAACCLhQwDcP3HPPPZcvX76w32rhwoV9U8oTrofdOUkqJFxPEnYuigACCCCAAAIIIIAAAm4W+P777023p0nRTSXh2mzbtq2pqh07dphK2HSiAOG6E58abUYAAQQQQAABBBBAAAFbCxw/ftzYPk1pVqFCBWNJGNf1gd1Um99p1UzHsGl/AcJ1+z8jWogAAggggAACCCCAAAIOEzCF6wUKFIjcDeTNmzdlypTG+jWdm3GTdYcKMO+6Qx8czUYAAQQQQAABBBBAAAGbCpw/f/7KlSvGxuXKlcu4Gd51TeqWP3/+vXv3eqs9d+6cd925K6dOndKYAo3DP3bs2Nm4Rb0GLly4kDx58oULFxYvXtx4axs2bNC0eTVr1jQWOn2dcN3pT5D2I4AAAggggAACCCCAgL0Erl+/bmqQb/J20wGJ3Lx06ZKxhrRp0xo3nbX+ww8/fPjhh0qtb3wBYboF09sQ7V2+fPngwYNLlizZo0cPTW6X+JntTVdMkk06wycJOxdFAAEEEEAAAQQQQAAB1wpkzpxZX4CNt3fixAnjZtjXTfVnzZo17JeIdIX/+c9/NFP9ww8/XLFixSlTpgSI1f225I8//lD5zp07O3XqpNEBr7zyysmTJ/0e6aBCwvWgH9ateJagK+IEBBBAAAEEEEAAAQQQcKOAeqdny5bNeGcHDhwwboZ3/ffff1c/cGOdpqsbd9lzXcF5uXLlmjZtqj7tobXQE657zj19+vSwYcMefPBByYRWm03OIlwP+kFkyJDhdn9LmjRplJKxatWqmqFh/PjxJGMMWpYTEEAAAQQQQAABBBBwi0COHDmMt3L48OE9e/YYS8K4/tVXX5lqc1a4PnPmTMXq27ZtM91FUJsHDx40Ha9XJPpWv337dlO5gzYJ18P2sDRc5Lffflu3bt3cuXO7du2aO3fu5s2bR+5vMmztpiIEEEAAAQQQQAABBBAIt0CxYsVMVaqnt6kkXJtz5swxVVWqVClTiW03u3fv3q5du4sXLyamhTdu3Dhy5IhvDcpRV61aNeWr893liBLC9Ug9JnVHmT9/vsZdrFixIlLXoF4EEEAAAQQQQAABBBCwpcBjjz1mateoUaOUMd5UmPjNxYsXb9q0yVRP3bp1TSX23Bw6dOi4ceMS37Y///zz5s2bfuvRnHZ16tRZtWqV3702LyRcj+wD0gwK+kP95JNPInsZakcAAQQQQAABBBBAAAE7CTz66KMaQWtskQZUv/HGG8aSxK//888/ffr0MdWjfr5KkG4qtOGm+sC/9tprgRuWL1++xo0bV6hQIfBhSsWfPXv2+I5RP2h9wJdVfAfYtvx/fkC2baUjGqYJANX1/ZtvvnnrrbeMfx56zaO+8UePHnXEXdBIBBBAAAEEEEAAAQQQSLyAcrMr1ZmpntGjR8+ePdtUGPKmeoC3aNHi119/NdXgiE/r+/bte/bZZ00t92xq0rtnnnlGnZQ177pGpGuKdXVo93ukt1BJxJRqbsyYMXpV4S00rqir/IABA4wljlgnXA/bY1KquaJFi9auXbt///47duxYuXKlN8GDOr306tUrbFeiIgQQQAABBBBAAAEEELC9gO93bzW5Y8eOCto1aVkim//XX381a9Zs2bJlpnqUlP6FF14wFdpws1+/fteuXfNtWJMmTTQZ29SpU9WDPUuWLL4HxFeiidY14/r+/ftHjBhh6tfgOUW97pXwL77T7VlOuB6p51KrVq2ffvpJM/55LqAUdGfPno3UxagXAQQQQAABBBBAAAEEbCagyLNy5cqmRl25ckVf8mrUqKHA0rTL4qZ677733ntKZadR676nKIa///77fcttVbJ+/Xp9Mzc1STPVK/mXEvL5ZukzHRlg884779RbEuXeS5EihekwuX388cemQptvEq4H/YDSx7P4VqSBFnqFo/dbnTp1+uWXXzJlyuR7DCUIIIAAAggggAACCCDgVoGRI0f6vbW1a9eWLl1ayeeCnRh848aNmvPsxRdf9DsSW93IBw0a5PeKtir0baRarmECmnc9LO3UFF1ffvll6tSpTbV99NFHie/XYKozopvJI1q7KytX1kHr9/X4449r/kD9KVo/hSMRQAABBBBAAAEEEEDAHQKVKlXq3bv3O++843s7mrrspbhFQ2h1mBZNC+17mAZv/xy3bN26Vf/vd7oy71kallu8eHHvpj1XlKp9zZo1prapx4H6BZgKE7OpAfzSHTx4sLESYeozqoNmuXNVuK6Mf3pZkjZtWuMjSfJ1YvUkfwQ0AAEEEEAAAQQQQACBpBLQUGpFifPmzYuvASdPnvwibvE9oEqVKtYnJFe4++abb/pWYreS5cuXK0mesVXqlfz6668bS8KyrlcAY8eO1Vxdxto2b97soHDdVZ3h9ToqZ86cTz/99OrVq2/dumV8KqwjgAACCCCAAAIIIIAAAtEX0NjYGTNm+A5it9IS67G6pjrTVXQtK9Um7TFLliwxNaBbt27K220qTPxmxowZlXzOVI/CdVOJnTddFa4LWj9o/Uxr1qx59913Dxw4MNihIHZ+VLQNAQQQQAABBBBAAAEEnCiQMmVKpXBv06ZNhBrfoEEDfbJWavQI1R/eajWLlqnC8HaDN1Zer14946bW/Y44MB1jn023heteWXU40UAFzb9XtWpVZRTwm4nBezArCCCAAAIIIIAAAggggEDkBDRid+bMmcpM7pv/LDEXVTZ1dbZXV3oHpbU+fvy48ZYLFSqkT63GkjCu33PPPabanDVdl2vDdc9TUZd4zaD2zDPPqJN827Ztv/32WzrJm36vbCKAAAIIIIAAAggggEB0BNq3b6+McU899ZTC7MRfsXbt2gp2NG+ZI/rAe+5X4ZjG6hvvPU+ePMbN8K4rjV+GDBmMdSrRnXHT5usuD9e9+spC98knn+gHXaBAgQEDBjirC4T3LlhBAAEEEEAAAQQQQAABRwsULVr0008/1aTryhhviiQt3pdC/VatWilL/DfffFOxYkWLZ9nksDNnzpjyzOnDakTbljt3bmP91tMBGM9KqvVYCde9vocOHRoyZIg6yT/88MNTp049f/68dxcrCCCAAAIIIIAAAggggEAUBPLmzasp2U+cOLFhwwb1Ztf0z1mzZg1w3RQpUmimt759+2o6cZ01a9asMmXKBDjetrt0I6a2Xb161VQS3k1T73cHjRqQQxj6YIRXMzG1aUCIXlCZMvXHV6H+MLS88MILTZo0UaeUWrVq3X57zL28iA+HcgQQQAABBBBAAAEEEIi0gGLXh+IWdWjXtZRvS7GlFn2CVp/tO++8M/N/FwWZyZIli3R7olB/unTplHjvypUr3muZhrJ7y8Oyonm+TX3vA78WCctFw1iJq8L1ggULHjt2TIkWlBzedzY/v2qXL19WXxQtd911V7t27TQJXJEiRfweSSECCCCAAAIIIIAAAgggEDkBhbJaNAl55C5hh5pz5MihvODeluzdu/fmzZsRehnx008/qXLvtbSi0ezGTZuvu+17sl7VtGjR4quvvjpy5MiYMWPKli1r8QH8+eefb731lkaS6PXW5MmTLX6it1g5hyGAAAIIIIAAAggggAACCEgge/bsRgf1Jti0aZOxJIzrCgxNtZmubtprt023heteXz2GHj16bNmyZefOnRrjYT3f4MaNGzt37qyEB8rfoE/06j7hrZMVBBBAAAEEEEAAAQQQQACBxAhUqFDBdLqSgptKwrJ57do1TZ5nqkopAEwldt50bbjuRS9RosTw4cOVYW7FihVt2rRJkyaNd1eAFY2mmD17dr169dQXpX///nv27AlwMLsQQAABBBBAAAEEEEAAgaQS0IjgVatWjRs3rmvXrjVq1FAIY+fpq+vXr2+C+vDDDw8cOGAqTPymQP744w9TPXXq1DGV2HnTVWPXA0ArjZwejJYLFy4sWLBAg9tXr15t5cu5OtW/Hbc8+OCDykj35JNPZsyYMcCF2IUAAggggECUBSa/P/T/vB/la8b05f45fy6m75+bRwABawLq5FuuXDnjsStXrqxSpYqxJCzrmsjddCFVq/xtkZ4gLeTG64VCqlSplETMW8P169fVwfnrr78O4wh2DYl/8803vZfwrNx7773Wu12bzk2SzVgJ1724yh6vlHJaNFhdnS4Ut+/evdu7N8DKD3FLz549GzVqpIx0devWDeOPKcB12YUAAggggEBggS2b1wU+gL0IIIAAAtEX0KdBdcY2XtfKx0Lj8RbX/Q7GVudi24britXVi3nhwoXGG9Qc8hrC/O677xoLQ15XNvjHHnvMNx9ZgwYNQq4zSU50f2f4+FiVCr5fv367du368ccfu3fvbjGhvzrJf/bZZ3r26mHy8ssvWwz142sD5QgggAACCCCAAAIIIIBAYgTiC9cTU2ekzx04cKDvLNqjRo1q3Lhx4ud1U3o59Yzev3+/6S5Sp06tj6+mQptvxm647n0w5cuXHzt27F9//bV48eJmzZppekPvrgArOn7EiBHqTaGfwvjx45XPMMDB7EIAAQQQQAABBBBAAAEEIiFw6dIl32qNM6X57k3ykjJlyiitmG8zFJEp9djcuXN9d1kpUZ+CJk2aNGzY0O9I+G7dutm2x0F8dxdzneHjg7jjjjsej1sUeOv38fnnn69Zs0aDKOI73lu+OW7p1auXzu7QoQOd5L0yrCAQlIASgWggU1CncHCEBP7++29jzTwXo0aU130T5ES5AVwuMQJ7d21/rm29xNTAuZEQuHTpIs8lErDUmYQC6izse3XTv819D0jykiFDhsybN884gt3TpNOnT7ds2VLDljUGWVncixcvfttttwVurfLq/f7776pNdfp9eaHT06dPr872geux4V7CdfNDyZQpk/IcaDl//ryyHXzxxRdLly5N8Od+9epV/T605M6dWwPjn3322UKFCpmrZhsBBP5X4MyZM94ChSVEJl4NW63o3aWt2kNjEHCKwIV/zm35gbQCtntcN2/e4LnY7qnQoMQJ+P0WbXGob+KunKiz8+bNO336dEXmfpPYfxm36ALK863uzKdOnTJdTKOSt2/f/nPcsm3bNsVupgOMmwr4p02bliVLFmOhI9YJ1+N9THoBo1+Plhs3bqxdu1Zxuxa/3SqMVaiTvBLJa+q42rVrd+nSRZ/cyUhn9GEdAaPAr7/+atxkHQEEEEAAAQQQQMCKgEJcfZfet2/fmDFjFPT6npIjRw7fQruVNG/eXJ32+/TpE6Bh+m66fPly3wNat27tWxhfiQI0dZKPb6+dywnXE346yZMnrxm3vPrqq0OHDtX0fTdv3gx8mv5+lNtQS4ECBXr06KFv9cp/GPgU9iIQgwJ+M6PEoAO3jAACCCCAAAJOEdBkbEqHZqW1vnnglQ49LF/yVLMSYPv9KO1tmFOmK+vdu7dm7Hrvvfe8LQ/7ijo+O7EbvMeBcD3h34OSCi6KWzZs2OD7Vxf4fHXuVfpBz/d2Tf8W+GD2IhBrAho84r3l6tWre9dZSVoBvcZWpzJvG3g0Xoror1y8eNHviMTot4QrhiCQLXuufAXuCeFETglZwMqkhsmSJS9TrlLIl+DEEASsPJcQqk2qU9SFVosyooXQAMXYIZwVwinq9V2xYsUQTkySU9RBoHTp0pqrK75h5yG3Sp9dhw0bpjcCIdeQ5CcSrsf7CLZu3eqJ0nfs2BHvQdZ2aDaC9u3bz58/f9KkScb4xNrZHIWAawVMEzGsXr3atbfqqBvTvzWN4TrPJWmfXtWqVdetY/xz0j6EEK/epGXHTt1fCfFkTgtJoEKRNAmelzp1momfLEvwMA4Io4CV5xLGy0WhKn0KXrFihW+OtChc2uIlWrRooUTaFg+2w2EdO3bU+wU1+5dffglXezRvt2bgfuihh8JVYZLUw0RuZvYtW7boe3j+/PnLlSs3ePBgi7G6/h7SpEng3xCaAFDTEqxfv958SbYRQAABBBCIR0CpceLZQzECCCCAQNIIKFLQINmkubaFqyoDl2atsnCgvQ7RDNk//fSTvm4WK1YskS3TuH2liFcc5/RYXQ6E6///j0G91jUuXfMEaBp2fVnSlH0WfyXquTF69OgjR47oE/rMmTPVN+b22+NVVRdTTQNo8RWAxQZwGAIIIICAiwUKFiyo3l6pU6d28T1yawgggIDjBJQdrXDhwjZsticF+j33OHIkTsqUKf/1r3/t2rVLnzk1zj/Yf/cpCtMH18mTJyt9nd6nKKW8DR9QsE2K9c7wmkdKs69pWj+NSw+crcEkmzlz5latWmmi9bJly3p3tYlbFOrPmDFj6tSp+qF4d3lXFLHrx6cZB0iy5TVhBQEEEEAggMD999+vNDw1atT497//HeAwdiGAAAIIRE0gRYoUyj/9yCOPRO2KVi6kLNdTpkzR50MrB9v2GL1xqB+3aH4uvbBWmKZF83OdjVvOnTvnido0plIRmRZ9S9dMb1WqVNG39AwZMtj2vkJrWIyG65omXe9sFKVrTvVr165Zt1Mux7p16ypK1wxtpmG33kry5cv32muv9evX79NPP33xxRf1u/Lu8qxosjeNeNHHfFM5mwgggAACCPgVyJQpk3KgaKyWd29Qr5i9Z7ESFoE1a9bo7UlYqqISBBBwroCCAs1DtmDBggC3YJpPSp9/FYsGON7iLoUkGoqrJV26dIpXc+XKVaRIkYcfflhBbrBfpC1eMUkOU6K4B+IW47/+lPlbEbsCMTfdaQDe2ArX9R83mkFdUbqyvukrdwAX311FixbVfyq1a9fOYq44/bx0sIZe6P3WP//8Y6pwwoQJ/fv3T5s2ramcTQQQQAABBBBAAAEEEHCEwNy5cwO0c/v27ffdd5/xgFWrVlWrVs1YwnqwAnrloVfYwZ7l3ONjJVxXjkFF6bNmzTp8+HBQT0uvrFq2bKnP6aElKtD7oC+//FK9303TNuiTuz7sK/lhUI3hYAQQQAABBBBAAAEEEEAAgRgRcHm4rm7ns2fPVqBunJTIyqNVNxVNNawovWnTponsaKFXaAr4p0+fbrru77//biphEwEEEEAAAQQQQAABBBBwt8CpU6cUnSlKUn9+d99p4u/OneG6Op9rGImidHU40fCGoJiUoeHpp59Wv3etBHVigIMV8/uG68qXEOAUdiGAAAIIIIAAAggggAAC7hPQJ9U6deooc7sG2zdu3Fg9kRkjHN9TdlW4rlwOy5YtU5S+ePHiy5cvx3fPfsv1Cf2JJ57Q53QljwlLBgjjVfxG/nqrZDyGdQQQQAABBBBAAAEEEEAgRgSUSkxDlbVo/rZatWopblcybybPMj19V4XrGqDeoEED0x0muKlB6fqWrv7q6dOnT/Dg0A7IkiWL74n8Fn1NKEEAAQQQQAABBBBAwB0C995775EjR4z3kjVrVuMm6x4BJflaErd07ty5UqVKitu1OHTq+LA/U1eF60HpKMG7MrcrUFfK96BODOFgzZfre5bfT+6+h1GCAAIIIIAAAggggAACjhPQRFEWp5Ry3K1FqMEaxRw3yfqGPn36lChRwhO3ly9fPkKXc0S1MReup0iRolGjRur0rpkSNWNhdB7S3r17fS/ElK2+JpQggAACCCCAAAIIIIBAsALHjh3bFbfs3r1b/6+c1gcPHgz7CN9gW5WY49VvWsvQoUPz5s2r8E2hu1LT6Q1IYup04rkxdMNly5ZVlN6qVavMmTNH+VHt2bPHeEWlQCxcuHCMvygygrCOAAIIIIAAAggggIDLBHbu3FmuXDnjTa1cubJKlSrGkrCsb9261XQhVXv8+PGcOXOGpf6krUTzcI+LWzTdujc1XZo0aZK2VVG7uvvD9WzZsrVu3VqBeunSpaPGarpQ8eLFR4wYkS9uyZ8/v/5ybr/9dtMxbCKAAAIIIIAAAggggIBrBNS1+9q1a8bbCXbKKuO5Adb9psQ6dOiQbcN1BUQDBw786quv9KIhwH2Zdp09e1Y5xbUoNV3t2rX1vb1hw4Z+7910oqM3XRuuq6fEo48+qihdyeeSfEK/Nm3aOPpXQuMRQAABBBBAAAEEEEDAngJ+Q1aF6w888IA9G5whQ4ZBcYtmdFOOOcXt6ndw6dIli61VajqdokVfQJU13DPEvVChQhZPd9ZhLvzGqxyMI0eOVHa3L774okmTJkkeqzvrB0FrEUAAAQQQQAABBBBAwEECfgNdjV23/y0oFV+nTp00Cffp06eXLl36/PPP68O79Wart8L69et79+6tNPKlSpUaMGDAli1brJ/uiCNd9XVdz/uHH36w7WskR/wgaCQCCCCAAAIIIIAAAgg4SODHH3/0ba1mNfcttG2J+rerZ7SWDz74QGP+476df7Vx40brwwd0lpYhQ4a4LDWdq76uayZDYnXb/hHSMAQQQAABBBBAAAEEEAi7wNy5c33rdO4c7yVLluzXr58+m584cWLmzJktW7bMmDGj7w3GV+JJTafB7Roj0LZt288///zixYvxHWz/cleF6/bnpoUIIIAAAggggAACCCCAQCIFbt26pT7w27Zta9++/dSpU31ry5Ejh2+hs0qyZMmiFGBz5sw5efLk6tWr1em9WLFi1m/Bk5quWbNmenOhpHQffvih4n/rp9vkSFd1hreJKc1AAAEEEEAAAQQQQAABVwooKZpym1m5Nd+O3PXq1UuWLJmVcwMfo5qVbk0Re4DD8uTJE2Cvs3YpiXj1uEUZyjSlvKer/Nq1a02J9+O7KVNqunXr1sV3pA3LCddt+FBoEgIIIIAAAggggAACCNhRQL2stSg7WgiNU9wYwlkhnKLv0hUrVgzhRPufogzwPeKWf/75Z8WKFQrdlaPO4mdzT2o6+9+jsYUxGq6fOnXq+++/37x587Fjx9RNQsuZM2cuXLigNzcLFy7UNOlGow0bNly9erVmzZrGQtYRQAABBBBAAAEEEEAgBgXee+89BYqXL1+27b23aNHC9dNjpUuXrmncoiBcyfY8n9w1OsC2DyW0hsVWuK688Rq0oI4Te/fujc/L96XX8uXLBw8erJwHeo/TunXrVKlSxXcu5QgggAACCCCAAAIIIOBuAU029uqrr7722mv2vM306dP36tXLnm2LRKs0+/qDcYtCNk3mrdxyw4YNO378eCSuFf06YyLVnN64LFiw4OGHH1afkClTpgSI1f0+gD/++EPlmhhAswJqYoBXXnlF2Q78HkkhAggggAACCCCAAAIIuF6gT58+hQsXtuFt3nbbbdOmTdM85DZsW+SapHDvp59+Gj58eMeOHfv37++aWF1i7v+6ruD8ySefTEy/CE+47vl5nT59Wm9rlJ/wm2++0cCJyP3mqBkBBBBAAAEEEEAAAQTsKZAiRYpx48Y98sgjtmpegQIF9G1SQ+tt1arINWb37t3fxi1r1qxx1jzz1k1cHq5rpr4uXbokcqq9gwcPmkAPHDigb/XqJF+6dGnTLjYRQAABBBBAAAEEEEDA9QJ169Zt3ry5+vAGuNObN28a96rbtr5+G0tCW1d6eQ1N16Lx25kzZ86VK1eRIkUUntSvXz916tSh1emUsxSIrfrvojRkTml2yO10c7jevXt3vfQKmcZz4o0bN44cOeJbiX4c1apVW7JkyUMPPeS7lxIEEEAAAQQQQAABBBBwt8DcuXMD3OD27dvvu+8+4wEKMxVBGEtYtyJw9OjR/0boq4wdn62cazxGrzkqVKhgLLH/umvD9aFDhyY+VtfzU7oC01sx70NVj4s6dep8+eWXJI33mrCCAAIIIIAAAggggAACCCRSQPN2qYu7onT1dt+zZ09iaitWrFjc7Hu1NXd7hgwZElNV9M91Z7iuPvAJpmrMly9f2bJl9eVcef8DuF+/fj179uzxTeV36dKldu3aadSEOqIEqIRdCCCAAAIIIIAAAggggAACAQQ0lfq6des8H9KVeuzWrVsBDg68SwMEatWq5YnS8+TJE/hgO+91Ybi+b9++Z5991i+6+j+0b9++ZcuWCtSzZMmiY5TUMXC4rpSP6nExefLkESNG/PXXX77VKuAfMGDAmDFjfHdRggACCCCAAAIIIIAAAgggEJ+AZtH+/vvvPSG64jKNRI7vyATL9QFVYw08IXqJEiUSPN4RB7gwXO/Xr9+1a9d89Zs0afLWW2+pL4TvrsAlmmhdM64/99xzY8eOVeWaJ8B0vHrdv/TSS5rjzVTOJgIIIIAAAggggAACCCCAgFFAY403b97s6ei+ceNGRezGvUGtK9+e5lz3hOhaSZ7cbeGt2+5n/fr1CxcuND1jPTZNvda0aVNTeVCbd955pz7Fa3aENm3amF4H6Af38ccfDxw4MKgKORgBBBBAAAEEEEAAAQTcKnDvvfeaUlZnzZrVrTcb1H398ssviUzXXbJkSU+Irs/padOmDerqzjrYbeH6oEGDTA9AHeBnz56dyFjdW6dma1B+An2o16h1b6FWPvroI42W19wMxkLWEUAAAQQQQAABBBBAIDYF9Mkwd+7c0b/3y5cv61Nlhw4don/piF7xrrvu8oToGpSeM2fOiF7LPpW7KlxXqnblDzTh9urVq1mzZqbCxGxqikV1fR88eLCxEs3NrrdEpUqVMhayjgACCCCAAAIIIIAAAghER0AZ1CdOnDh9+nSFRS4I1zVHfdGiRfUdXotmldd6dBhtdRVXhevLly83JSdQ+vfXX3897OJ6BaBx7OfOnTPWrAEYhOtGENYRQAABBBBAAAEEEEAg0gKaymrRokUTJkxYvXp1pK8VhfqVEaxt27YK0StVqpQ5c+YoXNHOl3BV5+0lS5aYrLt165YmTRpTYeI3M2bMqORzpnoUrptK2EQAAQQQQAABBBBAAAEEIiRw6NAhDcjVF8oWLVq4I1YX1OHDh5UXTP35v/jiiz///DNCdE6p1lXh+o4dO0zu4e0Gb6y8Xr16xk2t//bbb6YSNhFAAAEEEEAAAQQQQACB8ApopqqlS5c+/vjjd99999ChQ48dOxbe+pO8tqNHj37yySfqz68v7eoD37Vr1wULFpw9ezbJGxb9BriqM/zx48eNgoUKFdIv2FgSxvV77rnHVFts/oBMCGwigAACCCCAAAIIIIBAhAROnDihFNeTJk36448/InQJu1W7L24ZP368snqXLVtWeea0aCi7Jtu2W1Mj0R73hOu3bt06efKk0ShPnjzGzfCuZ8uWTSnijcPXldEhvJegNgQQQAABBBBAAAEEEEBAAmvXrlUauc8//9w0pbQTcYoVK7Z48eIVK1Z88803CsYt3oL6FPwUtwwfPlxzbGtwuxLFK3QvX7685gKzWInjDnNPuH7mzBlTnrlI5/fXxAzGcP3ixYuOe/w0GAEEEEAAAQQQQAABBGwroHBj5syZCtQ1C5VtGxlsw1KkSKGe/Fp0oibYUtCu0P3bb79VQGexqqtXr2qsvpZXX31V31CrV68e99G9lua6t1iDUw5zT7iup25C11M0lYR309T7PVOmTOGtn9oQQAABBBBAAAEEEEAgNgW2bt2qKP3TTz9190fB/PnzPxu36OP5li1bPJ/cv//+e6W7t/jc9UZD3+q16PhcuXJ54nZ9eNc87RZrsPNh7gnX06VLlzJlyitXrni5TUPZveVhWdHvydT3PmvWrGGpmUoQQAABBBBAAAEEEEAgNgUuX7782WefaVa20KadUkjSpk2bjh07Ok5PQ9MrxC36YH7hwoXvvvvOE7rv3r3b+r14ctQpTZ1OKVKkiKe3fI0aNZz7YdU94boeSY4cOdSbwvs49+7de/PmzQiNZNC4CVXuvZZWNJrduMk6AggggAACCCCAAAIIIGBRQMGLPqdPnz7d1IfXyumKdevWrasovVGjRr6djq3UYKtj0qZNWz9uUas0l5snbl+5cuWpU6est9MdOepcFa5nz57dGK7rh75p06bKlStbf6jWj/zqq69MB+vqphI2EUAAAQQQQAABBBBAAIEAAkq/tWjRIn1OX7VqVYDD4tulmbAUpT/99NOa8yy+Yxxdrj7tukEtyiz+888/e0L3DRs2WB/4bMpRZ+yObX8ZV4Xr6j3x448/GtHVESIS4bryMSrlg/FCWq9UqZKphE0EEEAAAQQQQAABBBBAwK/A4cOHJ0+ePHXq1BAmTtco4KZNmyqIVU/v2267zW/9LivUbWoiNy39+vW7dOmSUuUrdFeCuh07diiSt3iz1oN8ixVG+jBXhevqMaEZ+YxkH374Yd++fcM++/q4ceN8pzqsU6eO8dKsI4AAAggggAACCCCAAAImAcWWy5cv1+d0ddfVh1/T3gQ3y5Ur98wzzzz11FMZM2ZM8GC3HpA6dep6cYtu8PTp0xrorizxa9asUf5866G7I3BcFa7r3VKqVKmUnsFLr4yCnTt3/vrrr8M4gl2jSt58803vJTwrmjMgotO8my7HJgIIIIAAAggggAACCDhLQJmqP/roo0mTJh04cCDYlmfOnNmTQ+6+++4L9lx3H58lS5Yn4hbdpoQVumtYgbpCK1+dC278dhfcg/cWFKvrJYt307Oiefz0gd1UGPKmfgGPPfaYcbp1T1UNGjQIuU5ORAABBBBAAAEEEEAAARcLrF+/vnXr1hqGrY7cwcbqSqetXPF//fXXe++9R6we4Edy5MgRdViYP3/+3Llz3RGr62Zd9XVd9zNw4EDNuWfqVTJq1Kjff/9d77H0Ww/wgBPcpcf/wgsv+P6BqTNGz549EzydAxBAAAEEEEAAAQQQQCB2BM6fP6/PvMr3vnPnzpDvukCBAi1atAj5dHefqLxxGsSuwQUax54YZNsquS1cL1OmjHqJzJgxwySuGF7vtDSyPbTf+qFDh3r06KGcjaZqPZvdunXLmTOn310UIuAUgV27dmlMh1NaSzsRQAABBBBAAAE7C2zbtk2j02fNmnXx4sWg2qmEai4bfR3U7Vs8WJG54nNF6YrVnZXp3eINeg9zW7iuGxsyZMi8efOMI9g9d6skBC1btlSueM1GqCzuxYsXTzCJov5U9FletalOpR/0qhlX0qdPH8bO9saaWUcgmgIa0KEOWvob0ZI1a9ZoXpprIYAAAggggAAC7hBQ6KiO6wrUf/jhh6DuSIFJlSpVOnTocPPmzWeffTaoc2PkYEVzGuasKF2L+r2HcNfqp/D444+HcGISnuLCcF1TDk6fPl0hh9/3Ul/GLRJXKsUHH3zw1KlTJv3du3dv375dc/pp0Vsx9WAxHWDc1N/VtGnTlN7AWMg6Ag4VWBe3qLeI5gXRX1Dz5s0deiM0GwEEEEAAAQQQiLLAvn37NPZWocGZM2eCunT+/PnbtWvXvn37ggUL6kRF+0Gd7u6DlTh848aNis/1IX3r1q2mIc9W7l3xWvny5RWlayldurSVU2x1jAvDdfkqzDh48GCfPn0CWP/999966r4HKAmEb2F8JW+//XaTJk3i20s5Ag4V+DxuyZQp05NPPqm4vVq1ag69EZqNAAIIIIAAAghEVODGjRsadavP6ZoAPKgLKfuV0pkrSq9Zs2aCfX6DqtkFB6uDs2c4unK8//PPPyHc0Z133lmrVi2F6A0bNsydO3cINdjkFHeG68Lt3bv3n3/+qfSJkYNWNxW6wUeOl5qTXODs2bP6d4+WokWLeuJ2DSFJ8lbRAAQQQAABBBBAwA4CijWmxC1Hjx4Nqj2VK1dWlK6MWhpUG9SJ7j5YnZo1d7qidC379+8P7WY1orN+/fqK0uvWrZs2bdrQKrHVWa4N16U8ZswYdXjo3r17fMPOQ34SyZMnHzZsmN4IhFwDJyLgIIG9e/cOiluqVq2qj+1aGADioMdHUxFAAAEEEEAgjAIab6u+2fqeoUmjNM7ces1KEqRO708//XSRIkWsn+XuI9W5fcuWLYrPRapO7+qqENr9Fi5cWOnJFKU/9NBDyZIlC60Se57l5nBd4h07dqxYsaLeXf3yyy/hegD6S9OQEv0UwlUh9SDgFAHl3tTStWvXZs2aKWjX/zql5bQTAQQQQAABBBBIvIDmmfJMEW29qpQpUzZu3Fg55GrXrn377bdbP9HFR+pjquIpRekrV65UArnQ7lSYCvQ8UXqxYsVCq8T+Z7k8XNcD0NxUP/30k6Z2Gz169J49exLzSDRtu77VK1ZRmrrE1MO5CDhdYH7ckjlzZk8neX11d/od0X4EEEAAAQQQQCBBgbFjx2pYdYKH6QANR1f2n7Zt2+rzBp3eTWK//fabvqqaCi1uasx/nTp1FKWr03v27NktnuXcw9wfruvZ6J3Wv/71r06dOi1dunTcuHH6PBhU93i9ubn//vs7d+6s7itKWuDch03LEQivgBKf6h2zFo1pj+sj39LFrzbDS0dtCCCAAAIIIOBWAX0sVJTeqlWrfPnyufUeo39fOXPm1KzDitKVQC5VqlTRb0BSXTEmwnUPrl5x6R2MFg2K0DQAG+KWAwcOKJ+WlnPnznkmflNArm+GWvQtXTO9af5D9XvPkCFDUj0hrouA/QU0/eEbcYveInvidv0F2b/ZtBABBBBAAAEEEAiXgL5eKNO7ZsPVd75w1Uk9JUqU0Ih0RekPPPBAbObPj6Fw3ftzV6I4PW8tPXv29BYqz4EidsXq6l/hLWQFAQSCEvgubnn++ec1maLidv0bK6jTORgBBBBAAAEEEHCWwH333aexgZraWTPpOKvltm2tgrWHH35YUbqWQoUK2bad0WlYLIbrfmXV412zTPvdRSECCAQrMC9u0Vwano/t6qUSbA0cjwACCCCAAAII2F9AubGWLFmiucH1XzuaoS1dunT2b7M9Wyi6evXqKUR/7LHH6KfpfUaE614KVhBAIMwCp06d+iBu0SAuT9zOi+cwE1MdAggggAACCCSpwNWrV9fHLWqFphBTT3jlgVcHQxL6WHwsmnUr7jv64zVq1EiRIoXFs2LnMML1MDxrJdzS3AyLFy8OQ11U4XyBL7/80ok3EVT+xWBvcNeuXa/HLdWrV/fE7XRmCdaQ4xFAAAEEEEDA5gKahl0zUml57bXX9K1CQbsW9Za3ebOj3zyNQi9TpoxnDrayZctGvwEOuqLdw/XBgwe/+uqrdp6icN26dUr8+OeffzroqdPUiAr8+OOP+t1G9BLOrXxN3NKlS5cWLVoobnfujdByBBBAAAEEEIhBAev5p/WtQov+m1Bxe/v27du0aZMrV64YFPN7y6VKlfr555/97qLQJHC7adtum7NmzdIcbJ6c7XZrm7LTDRkyRN02iNXt9miSqj074pYTJ04kVQMcdN25c+fqffOIESMc1GaaigACCCCAAAIxLqCppb744gt1d1c6NIsUCtr79u2bN29eDcnWf/+o87zFEzkMAQnYPVxXEz/88MPu3bvb7WkdPXq0Tp06AwYMUKcXu7WN9iSVgILP0qVLT5o0Kaka4Kzrqj+83jc7q820FgEEEEAAAQRiWUBResOGDRcuXHjkyJGRI0dq8jaLGgoZvv76a3Ut1Dd2zaGzefNmiydyWIwLWH0tlLRMSlaVMmXKd955J2mb4b36smXL2rVrd/LkSW8JKwiYBO644w7NC2gqtPOmxq6rw0h0WqhZSfWvK/WHHzRokMZ3ReeiXAUBBBBAAAEEEAiXQPbs2XvHLZs2bdLHxc8++0zJ4a1Ufvbs2Qlxi0L9p59+um3btrlz57ZyIsfEpoAzwnU9m3fffVcRuzqfJ+1zun79usbS68WBPfvnJy0OVzcK6B+++me3scTm6wULFjxw4EBEG6kpNDUxqQJ1TfAW0QtROQIIIIAAAgggEB2BinHLmDFj5s+fr//2U1ori9fdvXt3v379FFmox64GtyvvmoIdi+dyWOwIOCZc1yMZOnRoqlSp9JtOqsejYEbBBn1Xksqf6zpUoEiRIp4ona7vDn2CNBsBBBBAAAEEAgukSZNGn8q1/Prrrx9//PH06dP/+uuvwKd49qqTvPrtasmYMaP+e0k18FHQilvsHOOAsevGh6FJEUaNGmUsidr6vHnzNI8isXrUwLmQ0wX0b53OnTuvXr1679696vROrO70B0r7EUAAAQQQQCBBgcKFC7/11luHDh366quvNPpPoyMTPMVzwN9//z1x4sRKlSo999xzFk/hsFgQcNLXdc/zeOmll9RRRBkaovZ4Ll++/OKLL06ePDlqV+RCCDhaoEmTJno9rKHpjr4LGo8AAggggAACCIQmkCxZsvpxi3JdzZw586OPPvrll18sVnXu3DmLR3JYLAg47Ou655F069ZNP/roPB5NvfDAAw8kGKvrbzI67eEqCNhWoHLlyu+//77msVuwYAGxum0fEw1DAAEEEEAAgagJZMuWrVevXjt37lRGOs1OnT59+hAu/ccff3z66afKChzCuZzidAFHhusa0dGpUyf9aiOtr3QRFSpU0B9Y4AspR9fatWsDH8NeBNwqoE5fmtFQfybr16/XqzT9a8mtd8p9IYAAAggggAACoQk8+OCDmutXU0FrWHu1atWCquT48eOtW7fOkSOHRravXLkyalP5BNVIDo6QgN3D9fi+0elnqqnUPv/88wi5nD9/vlWrVs8++2yC77E6dOiwbdu2hx56KEItoVoE7CmQIUMGDU1ftWrVvn373nzzzRIlStiznbQKAQQQQAABBBCwiUDq1KkVwqxZs+a3335T/uw8efJYb9iFCxdmzJihNPL58uXr27fvjh07rJ/Lkc4VsHu4rjBAMxz49VUexaeeekpZHPzuTUyhJoIuW7bs7NmzA1eSJUsWTdigbvnp0qULfCR7EXCTQOPGjefMmeNJiFKjRg033Rr3ggACCCCAAAIIREGgUKFCmqD64MGDS5cubdasmfWMdGrbkSNHRo4cWbp06TJlymh6aYsp6KNwU1wiEgJ2D9d1z8OGDYsvYtcs6Pp9f/PNN+GiUTf70aNH61P577//HrhOvdnavn1706ZNAx/GXgRcI6C/i7Fjx6o71sKFCzV3umvuixtBAAEEEEAAAQSSREDZrx599FHNP6WQWzFIqVKlgmrGv//97z59+uTNm7du3bpKaKfP70GdzsGOEHBAuC7HABH71atXGzVq9N133yWe+9SpUw0bNlQ2CL0FCFCb8tKPGTNm+fLluXPnDnAYuxBwh8A999yjzlrqcLVhw4bu3btnz57dHffFXSCAAAIIIIAAAjYRyJo1qyai0rdATRqtidw05NB6wzRGWB8v1cc+Z86cbdu2VZCiPsjWT+dImws4I1wXoiL2l19+2a+mJlpr0KDBxo0b/e61WKiAX/1JlixZEvj4++67T13le/TocdtttwU+kr0IOFpAmUuV0FHpTH799Vd11ipZsqSjb4fGI4AAAggggAAC9hdQlusJEyYoI52+lmvIYVARx8WLFz/55JN69erdddddmvra/jdLC60IOCZc1828/fbb8UXs6vuhniRbtmyxcs+mY/RGatCgQTVr1tQ4ENMu46b+Wnr37q03XqTUMrKw7j4BdVfRtAsamq75C2vVquW+G+SOEEAAAQQQQAABOwukSpWqTZs2SuirjHSvvfaaursH1dpjx46NGjUqqFM42LYCTgrXhaiIXYkQ/WqeO3dOwzbUh8Tv3vgKFaIrUH/jjTcCz4igd1TffvutkjqkSJEivqooR8DRAupApVEe+uf7okWLlMQxqLe5jr5xGo8AAggggAACCNhTQNNFDx48WPOuL1u2rHnz5kQi9nxMEW2Vw8J1WQwfPjy+iP3MmTPKALdnzx6LZOr6rg7wCY57V1YtDdwlA7ZFVQ5zqMD333+vUR6a0tOh7afZCCCAAAIIIICAKwVuv/32Rx55ZO7cucpI99577yknvCtvk5vyK+C8cF23ESBiP3HihLrvJpjXXcnkNKJDI96VXs6vi6dQaR40bkRzVmXMmDHAYexCAAEEEEAAAQQQQAABBCIqoGmkX3jhBSWEVy6t559/nggloto2qdyR4brsFLFr3gK/iHrtpP7tmsbQ714VKpjXlFQJjuioWrWq/hg0biS+eihHAAEEEEAAAQQQQAABBKIsUK5cuQ8++EAZ6WbNmqVPlYxhjLJ/NC/n1HBdRiNGjIgvYj906JB+uH5Tx+lTedmyZfVGKoDyHXfcoUT0q1evzp8/f4DD2IUAAggggAACCCCAAAIIJImAppdu1aqV5vHZv3//wIED8+XLlyTN4KIRFXBwuC6XABG7PqErYj9+/LiX79KlS5qYSjm0zp8/7y30XSlWrNimTZv69eunUSK+eylBAAEEEEAAAQQQQAABBOwjUKBAAU10deDAgRUrVijr1p133mmfttGSRAo4PiJVxK751fwq7N27t3bt2qdPn9benTt3ahrDqVOn+j3SW9i1a9etW7fq87u3hBUEEEAAAQQQQAABBBBAwOYC+taorNvqSqyhwe+//77NW0vzLAokt3icnQ/T/Gpq3jvvvOPbSEXpmt3t6aef1tfyy5cv+x7gLdEsVh999JEmb/eWsIIAAggggAACCCCAAAIIOEsgc+bM3bp1c1abaW18Am4I13VvASJ2fS3XEt/9e8obNWo0ZcqUbNmyBT6MvQgggAACCCCAAAIIIIAAAghER8DxneG9TIrYNTebd9PiSpo0aSZPnrxo0SJidYtiHIYAAggggAACCCCAAAIIIBAFAZd8XfdIefrDv/vuuxbhHnjggU8++aRw4cIWj+cwBBBAAAEEEEAAAQQQQAABBKIj4J6v6x4vRexWvrEnS5ZMsx1s2LCBWD06vzOuggACCCCAAAIIIIAAAgggEJSAq76ue+5cEfutW7dGjRoVH0ShQoVmzpxZqVKl+A6gHAEEEEAAAQQQQAABBBBAAIGkFXDb13WPpvrD9+rVKz7ZKlWqVKxYMb69lCOAAAIIIIAAAggggAACCCCQ5ALuDNfFqoi9Z8+efn2nTZvG3AZ+ZShEAAEEEEAAAQQQQAABBBCwiYBrw3X5qj98fBH7+PHj49tlkwdDMxBAAAEEEEAAAQQQQAABBGJZwM3hup5rgIh9zJgxL7/8ciw/e+4dAQQQQAABBBBAAAEEEEDAtgIuD9flroj9xRdf9PsARowYMWDAAL+7KEQAAQQQQAABBBBAAAEEEEAgCQXcH64Ld/To0fFF7EOGDBk8eHASPgAujQACCCCAAAIIIIAAAggggICvQEyE67rtABG7JmDXZ3ZfGkoQQAABBBBAAAEEEEAAAQQQSCqBWAnX5auIvUePHn6hNYhdQ9n97qIQAQQQQAABBBBAAAEEEEAAgegLxFC4LlzF5PFF7EoUr3Tx0X8AXBEBBBBAAAEEEEAAAQQQQAABX4HkvkW2Khk0aNDx48fD2KRbt25lyJDh3LlzvnVqMvZNmzalTZvWd5eVEqJ9K0ocgwACCCCAAAIIIIAAAgggYEXA7uH67Nmz9+7da+VOEn+MIvmZM2eGXA/hesh0nIgAAggggAACCCCAAAIIIGASiK3O8KabZxMBBBBAAAEEEEAAAQQQQAABewoQrtvzudAqBBBAAAEEEEAAAQQQQACBmBYgXI/px8/NI4AAAggggAACCCCAAAII2FOAcN2ez4VWIYAAAggggAACCCCAAAIIxLQA4XpMP35uHgEEEEAAAQQQQAABBBBAwJ4Cds8Mnz59+kyZMtnTjlYhgAACCCCAAAIIIIAAAgggECEBu4frmzdvjtCdUy0CCCCAAAIIIIAAAggggAACthWgM7xtHw0NQwABBBBAAAEEEEAAAQQQiF0BwvXYffbcOQIIIIAAAggggAACCCCAgG0FCNdt+2hoGAIIIIAAAggggAACCCCAQOwKEK7H7rPnzhFAAAEEEEAAAQQQQAABBGwrQLhu20dDwxBAAAEEEEAAAQQQQAABBGJXgHA9dp89d44AAggggAACCCCAAAIIIGBbAcJ12z4aGoYAAggggAACCCCAAAIIIBC7AoTrsfvsuXMEEEAAAQQQQAABBBBAAAHbChCu2/bR0DAEEEAAAQQQQAABBBBAAIHYFSBcj91nz50jgAACCCCAAAIIIIAAAgjYVoBw3baPhoYhgAACCCCAAAIIIIAAAgjErgDheuw+e+4cAQQQQAABBBBAAAEEEEDAtgKE67Z9NDQMAQQQQAABBBBAAAEEEEAgdgUI12P32XPnCCCAAAIIIIAAAggggAACthUgXLfto6FhCCCAAAIIIIAAAggggAACsStAuB67z547RwABBBBAAAEEEEAAAQQQsK1Actu2jIYhgAACCCCAAAKOFpjy/luObj+NRwABBBBIWgHC9aT15+oIIIAAAggg4E6Bye8PdeeNcVcIIIAAAtESoDN8tKS5DgIIIIAAAggggAACCCCAAAKWBQjXLVNxIAIIIIAAAggggAACCCCAAALREqAzfLSkuQ4CCCQksGbNmoQOYX8SCPBckgDdwiUpKokqAABAAElEQVR5LhaQInXItm3bIlU19UZe4MbNG1t/WBf563AFBBBAIAwChOthQKQKBBAITeDy5cveExV7EH54NWy1UqNGDVu1h8Z4BHgu/BIQCE3g8qWLndvWC+1czkIAAQSiLEBn+CiDczkEEPh/Ar/++uv/22ANAQQQQAABBBBAAAEEDAKE6wYMVhFAILoCKVOmjO4FuRoCCCCAAAIIIIAAAo4RIFx3zKOioQi4TyBXrlzuuynuCAEEEEAAAQQQQACBsAgwdj0sjFSCAAKhCKRLl857WvXq1VevXu3dZCUJBcaMGdOzZ09vA27duuVdZyUJBXguSYjve+nnn39+woQJvuWU2F+geMn7ZyxYb/92uqmFFYqkcdPtcC8IRFOAr+vR1OZaCCCAAAIIIOAGgfHjx2fKlMkNdxJ795A6ddrYu2nuGAEEnCpAuO7UJ0e7EUAAAQQQQCAJBZYuXZqEV+fSCCCAAAKxIEC4HgtPmXtEAAEEEEAAgTALVKxYUUNFevfuHeZ6qQ4BBBBAAIH/CjB2/b8S/D8CCCCAAAIIIBCkwMiRI9955x3vSaNHjy5Tpox3k5UoC9SoUSPKV+RyCCCAQEQFCNcjykvlCCCAAAIIIBBDAorVlTgzhm6YW0UAAQQQiKQAneEjqUvdCCCAAAIIIIAAAggggAACCIQkQLgeEhsnIYAAAggggAACCCCAAAIIIBBJAcL1SOpSNwIIIIAAAggggAACCCCAAAIhCRCuh8TGSQgggAACCCCAAAIIIIAAAghEUoBwPZK61I0AAggggAACCCCAAAIIIIBASAKE6yGxcRICCCCAAAIIIIAAAggggAACkRQgXI+kLnUjgAACCCCAAAIIIIAAAgggEJIA4XpIbJyEAAIIIIAAAggggAACCCCAQCQFCNcjqUvdCCCAAAIIIIAAAggggAACCIQkQLgeEhsnIYAAAggggAACCCCAAAIIIBBJAcL1SOpSNwIIIIAAAggggAACCCCAAAIhCRCuh8TGSQgggAACCCCAAAIIIIAAAghEUoBwPZK61I0AAggggAACCCCAAAIIIIBASAKE6yGxcRICCCCAAAIIIIAAAggggAACkRQgXI+kLnUjgAACCCCAAAIIIIAAAgggEJIA4XpIbJyEAAIIIIAAAggggAACCCCAQCQFCNcjqUvdCCCAAAIIIIAAAggggAACCIQkQLgeEhsnIYAAAggggAACCCCAAAIIIBBJAcL1SOpSNwIIIIAAAggggAACCCCAAAIhCRCuh8TGSQgggAACCCCAAAIIIIAAAghEUoBwPZK61I0AAggggAACCCCAAAIIIIBASAKE6yGxcRICCCCAAAIIIIAAAggggAACkRQgXI+kLnUjgAACCCCAAAIIIIAAAgggEJIA4XpIbJyEAAIIIIAAAggggAACCCCAQCQFCNcjqUvdCCCAAAIIIIAAAggggAACCIQkQLgeEhsnIYAAAggggAACCCCAAAIIIBBJAcL1SOpSNwIIIIAAAggggAACCCCAAAIhCRCuh8TGSQgggAACCCCAAAIIIIAAAghEUoBwPZK61I0AAggggAACCCCAAAIIIIBASAKE6yGxcRICCCCAAAIIIIAAAggggAACkRQgXI+kLnUjgAACCCCAAAIIIIAAAgggEJIA4XpIbJyEAAIIIIAAAggggAACCCCAQCQFCNcjqUvdCCCAAAIIIIAAAggggAACCIQkQLgeEhsnIYAAAggggAACCCCAAAIIIBBJAcL1SOpSNwIIIIAAAggggAACCCCAAAIhCRCuh8TGSQgggAACCCCAAAIIIIAAAghEUoBwPZK61I0AAggggAACCCCAAAIIIIBASAKE6yGxcRICCCCAAAIIIIAAAggggAACkRQgXI+kLnUjgAACCCCAAAIIIIAAAgggEJIA4XpIbJyEAAIIIIAAAggggAACCCCAQCQFCNcjqUvdCCCAAAIIIIAAAggggAACCIQkQLgeEhsnIYAAAggggAACCCCAAAIIIBBJAcL1SOpSNwIIIIAAAggggAACCCCAAAIhCRCuh8TGSQgggAACCCCAAAIIIIAAAghEUoBwPZK61I0AAggggAACCCCAAAIIIIBASAKE6yGxcRICrhMoWLDgc889t3r1atfdGTeEAAIIIIAAAggggIAjBQjXHfnYaDQCkRCYNGlSzZo1ixYtOnDgwF9++SUSl6BOBBBAAAEEEEAAAQQQsChAuG4RisMQiBWBffv2DR48uGTJklWqVBk3btzJkydj5c65TwQQQAABBBBAAAEE7CRAuG6np0FbELCTwPr167t37549e/amTZvOnTvXTk2jLQgggAACCCCAAAIIuF+AcN39z5g7RCCRAgsWLGjZsmXmzJm7dOmyZs2aRNbG6QgggAACCCCAAAIIIGBFgHDdihLHIIDA/zl79uzEiRNr1KhRrFix119/fdeuXaAggAACCCCAAAIIIIBA5AQI1yNnS80IuFNg7969b775ZokSJapWrfrBBx+cOnXKnffJXSGAAAIIIIAAAgggkKQChOtJys/FEXCywLp167p165YtW7ZmzZrNmzfPybdC2xFAAAEEEEAAAQQQsJ0A4brtHgkNQsBxAp9//nmLFi2yZMny/PPPf/fdd45rPw1GAAEEEEAAAQQQQMCGAoTrNnwoNAkBRwqcOXNmwoQJ1atXL168+BtvvLF7925H3gaNRgABBBBAAAEEEEDAHgKE6/Z4DrQCARcJ7NmzZ9CgQffee2+1atXGjx9/+vRpF90ct4IAAggggAACCCCAQJQECNejBM1lEIhBgbVr13bt2jVr1qzNmzefP39+DApwywgggAACCCCAAAIIhCyQPOQzOREBBJJQ4I8//gjv1W/cuBHeCo21KVbXosHtmr9di1LKG/eyjgACCCCAAAIIIIAAAr4ChOu+JpQg4ACBOXPm9O/f3wENNTRRveLVN16LBrd74nbDTlYRQAABBBBAAAEEEEDgfwToDP8/HGwggEAUBJSFTrnoFLR//PHHUbgcl0AAAQQQQAABBBBAwIkCfF134lOjzTEt0KVLl4kTJ8Y0ATePAAIIIIAAAggggEAMCPB1PQYeMreIgM0EihUr9vrrr+/atatDhw42axrNQQABBBBAAAEEEEDALgJ8XbfLk6AdCIQgUL9+/ffffz+EE31P0aRrhw8f9i0PY0nmzJk9Q9Z1rTBWS1UIIIAAAggggAACCLhSgHDdlY+Vm4oVgbRp0959991hudvkySP4T4OmTZsqUNd0bmFpKpUggAACCCCAAAIIIBALAhH8D/RY4OMeEUAggECVKlU8n9M19XqAw9iFAAIIIIAAAggggAACvgKE674mlCCAQKIEihYt6onS77333kRVxMkIIIAAAggggAACCMSwAOF6DD98bh2BsApkypTJE6VXr149rBVTGQIIIIAAAggggAACsShAuB6LT517RiC8Ak888YQC9RYtWoS3WmpDAAEEEEAAAQQQQCCWBQjXY/npc+8IJErg4Ycf9nxOz5YtW6Iq4mQEEEAAAQQQQAABBBDwESBc9yGhAAEEAgoUKVLEE6WXKFEi4IHsRAABBBBAAAEEEEAAgdAFCNdDt+NMBGJKIGPGjJ4ovUaNGjF149wsAggggAACCCCAAAJJIkC4niTsXBQBJwk0adLEE6g7qdG0FQEEEEAAAQQQQAABhwsQrjv8AdJ8BCImULlyZU+Unj179ohdhIoRQAABBBBAAAEEEEDAvwDhun8XShGIWYHChQv/3/buA1yK8mwY8E9RFFEQPz/EAvYWo2gsaLDE9mlsmJioUWKv0Ygt+iUmsUSTqNHYYom9JqKCQQFjQUExNlARKUZBFH+UjohI/d9w/mzW2VP2nG1T7r1ymZl3Zt55nvtZ4DxnZ2fquvStttoqswgSJ0CAAAECBAgQIFBzAe16zUsgAAJxETj55JNDo77nnnvGJSBxECBAgAABAgQIEMiwgHY9w8WXOoE8gffff79Vq1Z5AxYJECBAgAABAgQIEKilQOtanty5CRCIjYBePTalEAgBAgQIECBAgACBfwlo170PCBAgQIAAAQIECBAgQIBA7AS067EriYAIECBAgAABAgQIECBAgIB23XuAAAECBAgQIECAAAECBAjETkC7HruSCIgAAQIECBAgQIAAAQIECGjXvQcIECBAgAABAgQIECBAgEDsBLTrsSuJgAgQIECAAAECBAgQIECAgHbde4AAAQIECBAgQIAAAQIECMROQLseu5IIiAABAgQIECBAgAABAgQIaNe9BwgQIECAAAECBAgQIECAQOwEtOuxK4mACBAgQIAAAQIECBAgQICAdt17gAABAgQIECBAgAABAgQIxE5Aux67kgiIAAECBAgQIECAAAECBAho170HCBAgQIAAAQIECBAgQIBA7AS067EriYAIECBAgAABAgQIECBAgIB23XuAAAECBAgQIECAAAECBAjETkC7HruSCIgAAQIECBAgQIAAAQIECGjXvQcIECBAgAABAgQIECBAgEDsBLTrsSuJgAgQIECAAAECBAgQIECAgHbde4AAAQIECBAgQIAAAQIECMROQLseu5IIiAABAgQIECBAgAABAgQIaNe9BwgQIECAAAECBAgQIECAQOwEtOuxK4mACBAgQIAAAQIECBAgQICAdt17gAABAgQIECBAgAABAgQIxE5Aux67kgiIAAECBAgQIECAAAECBAho170HCBAgQIAAAQIECBAgQIBA7AS067EriYAIECBAgAABAgQIECBAgIB23XuAAAECBAgQIECAAAECBAjETkC7HruSCIgAAQIECBAgQIAAAQIECGjXvQcIECBAgAABAgQIECBAgEDsBLTrsSuJgAgQIECAAAECBAgQIECAgHbde4AAAQIECBAgQIAAAQIECMROQLseu5IIiAABAgQIECBAgAABAgQIaNe9BwgQIECAAAECBAgQIECAQOwEtOuxK4mACBAgQIAAAQIECBAgQICAdt17gAABAgQIECBAgAABAgQIxE5Aux67kgiIAAECBAgQIECAAAECBAho170HCBAgQIAAAQIECBAgQIBA7AS067EriYAIECBAgAABAgQIECBAgIB23XuAAAECBAgQIECAAAECBAjETkC7HruSCIgAAQIECBAgQIAAAQIECGjXvQcIECBAgAABAgQIECBAgEDsBLTrsSuJgAgQIECAAAECBAgQIECAgHbde4AAAQIECBAgQIAAAQIECMROQLseu5IIiAABAgQIECBAgAABAgQItEVAgAABAgQIECBAIDsCI18Znp1kZUqAQKIFtOuJLp/gCRAgQIAAAQIEmiHwxqvDT+mzXzMOsCsBAgRqJ+Bi+NrZOzMBAgQIECBAgAABAgQIEGhAQLveAIxhAgQIECBAgAABAgQIECBQOwHteu3snZkAAQIECBAgQIAAAQIECDQg4LvrDcAYJkCgugLPP/98q1atqntOZytKQF2KYqr6TupSdfKiTvid73ynqP3sRIAAAQIEihDw6XoRSHYhQIAAAQIECBAgQIAAAQLVFdCuV9fb2QgQyBPYZptt8tYsEiBAgAABAhkVWHfddTOaubQJNCqgXW+Ux0YCBCopsMfyVyXPYG4CBAgQIEAgAQI777xzAqIUIoGqC/juetXJnZAAgX8LdOrUaejQoeFb6/8eSPb///Of/zzppJN69+591llnJTuT5dFPnTp1rbXWSkEiixcvPvDAA7fYYotrr702BemkKYVTTz31008/7d+/fzqSSs0fmd/97ndPPfXU/fffv8466ySuNHffffc999yTuLAFHAS+8Y1vcCBAoFBAu15oYoQAgaoKhI/Yq3q+ip0s/IAb5h4+fHhq2o+KUVV14vvuu++rr756880311577U033bSq53ayhgVGjhw5fvz4sH3WrFmHHnpowzvaUlWBBQsW1P0KddKkSUcddVRVz12Ok4V/UJ5++ulPPvmkHJOZo3oCO+20069//evqnc+ZCCRHwMXwyamVSAkQiLfAX//61xDgjBkzHn300XhHmq3o6uoScs4tZCv/uGabK0duIa6RZiuuUI7w662Qc3Lr8thjj2WrZsnPdr311vvHP/6R/DxkQKAiAtr1irCalACBrAmEz3MmTpxYl3Vyf8xNX9WmTJny5JNPqksMK5v7YxIW5syZE8MIsxlSri6jR48eMWJEEhHC57QLFy78yU9+ksTgMxjzeeedN3ny5AwmLmUCRQq4GL5IKLsRIECgMYG//OUvuc39+vWbOXNm586dcyMWaiWQX5cxY8a8+OKLvXr1qlUwzpsTGDJkyIcffphbDS3iySefnFu1UCuB0DUNHjw4d/ZQl1122SW3mqCFFVZY4cYbb/zpT3/6xhtvTJgwIUGRNxTqNddcM3fu3LqtG2644Y9//OOG9kzQ+NbLXxtttFGCYhYqgeoLaNerb+6MBAikTSDczCz3kVRdbmH1tNNOS1ueCcynsC7a9TiUMVKX8FsV7XoM6xLKdN1118UhsJbFEO5VkY7bVYRLhHK9eqD44IMPjj76aF1uy94VjiKQOAEXwyeuZAImQCB2AqHZ+OKLL/LDinQj+ZssV01g1KhRr732Wv7p1CVfo1bL4avRkUKEJ0S89957tYrHeXMCkbqE+/YPGDAgt9VCrQQidQlhFI7UKjbnJUCg0gLa9UoLm58AgfQLFP7k9MILL4wbNy79mcc7w/wr4esinTZtmttQ1bxo4c/Ll19+GQmjsFiRHaxWWuD1118Pl45HzlL4l1tkB6uVFpg/f35hFQpHKh2G+QkQqJWAdr1W8s5LgEBKBMITg5544onCZPw4VWhS5ZF6S1DvYJUDy/jp6i1BvYMZh6py+vWWIAy6EWCVCxE5XShBuHNeZPDtt99++eWXI4NWCRBIpYB2PZVllRQBAtUTaOhTwXp/9q1eWJk/U+RmZjmPhx9+ODzoO7dqocoCH3300aBBgwpPGm4E+NJLLxWOG6maQL1/ZS1btqze8apF5UQN+Tc0TowAgZQJaNdTVlDpECBQbYGGfmYaO3bssGHDqh2N8/1boKG6hO2NbPr30f6/UgKN4Df0m69KhWLePIHwO5Twm5S8gf8sNlKy/+xkqTICkyZNeuqpp+qdW13qZTFIIH0C2vX01VRGBAhUTyDczOzVV19t6Hx+nGpIptLj4drRRvAb2VTpwMzfCH4jm7hVWqAR/Oeee86NACvt39D8jdRl6tSpjz/+eEMHGidAIDUC2vXUlFIiBAjUQKCRn6VCNI1vrUG4mTll+Jy28GZmueyff/758ePH51YtVE0g3Mks3M+sodOFGwH279+/oa3GKycQ/rA0/pdV41srF5iZG5dvfCs9AgTSIaBdT0cdZUGAQG0EGv9pacaMGY888khtIsv2WRuvS7Bpcods+1Uq+ybZXQ9fKfpG5w11CU/Xa2SXJgvXyLE2tVggXLoVLuBq5PBQl/znsTeyp00ECCRXQLue3NqJnACBGguErxSGLxY2HoQfcxv3qcTWjz/+uN6bmeWfS13yNaq23CR7uBHg7NmzqxaPE9UJNFmXd955x40Aq/9uabIuS5cubXKf6oftjAQIlFdAu15eT7MRIJAhgWJ+TgqfrofP2DOEEoNUi/mE9t133x0+fHgMgs1QCIMHD548eXKTCRfzx6rJSexQvMCHH34YHqPQ5P7q0iRR2XcoxryYfcoemAkJEKimgHa9mtrORYBAegQWLVpU5M9JRe6WHppaZ1IkeJG71Tqb9Jy/SPBiftuSHpQYZFJkXYrcLQYJpSSEJ554YsqUKU0m8+yzz/7zn/9scjc7ECCQXAHtenJrJ3ICBGopEJqK+fPnFxOBH3OLUSrXPo3fzCz/LOqSr1Hp5QULFhTZh4cbAU6YMKHS8Zg/J1DkH4TPPvvMjQBzaFVYKLIuIZLi96xC2E5BgEDZBbTrZSc1IQECmRAo/iek8PT18Az2TKDEIMni6zJ9+vRHH300BiFnIoRQl8ZvZpavUHwR84+y3AKB1157beTIkUUeqC5FQpW+2xdffFG8dvF7lh6YGQgQqL6Adr365s5IgEDiBcLNzJ588sni0/DjVPFWJe7ZLOpm7VxiYBk/vFnURX4On3HSsqTfrLqEnd0IsCzsTU4SqMP3rZrcrW6H0aNHjxgxosid7UaAQOIEtOuJK5mACRCovUCzfsYN4TZ3/9pnmMwIiryZWS65fv36zZw5M7dqoUIC4Q5zoTTFTx5uBPjiiy8Wv789WyzQ3L+amrt/iwPL+IHNdW7u/hnnlT6BZAlo15NVL9ESIBALgeb+bDRu3LgXXnghFqGnOojm1iVgtOCQVBNWJLkWILfgkIqEnupJwyVC4UKhZqWoLs3iatnOEydO/Pvf/96sY9WlWVx2JpAsAe16suolWgIEai8QvuoZvvDZ3Dj8ONVcsebuH74a3QLkFhzS3MDs3wJk18NX4W3TgroMHTrUjQArXZoW1OXTTz8dMGBApQMzPwECNRHQrteE3UkJEEiwQAt+lgrZaj8qXfIgHG4/3tyzhKsewrUPzT3K/sULvP766+F2/cXvX7dnuBHgY4891tyj7F+8QHiwRcv+KmvZUcUHZs+WCbfsKNoECMRfQLse/xqJkACBeAm07KeiWbNmhW9KxyuTdEXTsroEgxYfmC6/SmXTYt4WH1ipTNI1b+BduHBhC3JSlxagFX/IK6+88uabbxa/f27PUJc5c+bkVi0QIJAaAe16akopEQIEqiEwZMiQDz/8sGVn8mNuy9yKOaq5NzPLn1Nd8jXKvtzi60oefvjh8EuussdjwjqBFr/tx4wZ40aAlXsXtbguy5Yta/GxlUvHzAQIlC6gXS/d0AwECGRIoJSfh8JTvsMlvhnCqmKqpdRl7Nixw4YNq2KwGTrVoEGDmnszs3ydUsqaP4/liMCkSZOeeuqpyGDxq+pSvFVz9yzFtpRjmxun/QkQqJqAdr1q1E5EgEDiBVp2M7P8tP04la9RxuUSYUs8vIyJpGyqEmFb/Ml8yhjLnk6JdSnx8LKnk5oJBw4c+Mknn7Q4neeee+69995r8eEOrFfgnXfe2X333e+666558+bVu4NBApUW0K5XWtj8BAikRyD8kPrll1+Wko8fc0vRa+jYlt3MLH82bWG+RrmWwx+WEmHDjQDHjx9frnjMkxMo8S+iadOmuRFgDrOMCyXWJURS+gxlTCcdUy1dujRcfnX88cevtdZaxxxzTPidSPjeQTpSk0VSBLTrSamUOAkQqL1A6T8JDR8+/N133619JumKoPS6zJw585FHHkmXSu2zCXVp2c3M8kMvvbj5s1kOAq+++uqoUaNKpFCXEgELDw8f3pauWvoMhYEZqRP44osv7r333r322muDDTb41a9+9f7775MhUB0B7Xp1nJ2FAIHEC3z00Ufhi7ilp+HHqdINIzOUhbQsk0QCy/hqWUhL/Hw+4yWoN/2y1MWNAOu1LWUw1GXx4sWlzBCODVduv/TSSyVO4vDGBcLtZi+77LKNN954t912u+OOOz7//PPG97eVQIkC2vUSAR1OgEBWBMryM27A0n6U9x0TfocSfpNS+pzh0/UZM2aUPo8Z6gTCT7ThMQqla4QbAYZrUkqfxww5gXL9VVaueXKBZXyhXJ7lmifj5Sgm/fBX04knnhguku/Tp8+zzz7rIvli0OzTAgHtegvQHEKAQBYFyvUz0IQJE55//vksClYm53LVJURXxqkqk2uSZi0jZhmnSpJgZWJ94oknpkyZUpa51aUsjHWTfPDBB08//XRZJlSXsjAWP8n8+fPvv//+vffeu3v37hdddJG7/RVPZ88iBbTrRULZjQCBTAu88cYb4X5m5SLw41S5JMPNzMqIWcapypVgcucp41UkZZwquZ7liryMb/Lwa0c3AoxhXT777LP+/fuXKzDztGrVqkiEcJ3X5Zdfvummm/bq1evPf/7z3LlzizzQbgQaF9CuN+5jKwECBP4lUMafccNs2o9yvatCXcLT9co1W7j9b7j0ulyzZXme1157rfSbmeUAw5cUHn300dyqhRYLhHtllfevsvLO1uK8UnBgeSXLO1sKeEtJ4Zvf/ObLL7982mmnde7cuch5wu0DTj755HCR/FFHHRUumgj3li/yQLsRqFdAu14vi0ECBAh8TaC8P/3Mnj073Kjpayew0iKB8tYlhFD2CVuUVuIPKjtj2SdMPHGLEgiMixYtatGh9R+kLvW7NHP0H//4x1tvvdXMgxrbPdQl/CvT2B62NUegZ8+ef/rTn/7v//2/4feGvXv3XmGFFYo5Olz89eCDD+67777hIvmf//znLkUpBs0+9Qpo1+tlMUiAAIH/CAwePHjy5Mn/WS/Hkh9zS1cs183M8iNx4UO+RouXy87Yr1+/8LC9FsfjwDqBsv+1Ex5L6UaApb+7yl6XEFIl5iw900TPsOKKK37ve98LXzQIffuNN9644447FpnOxx9//Nvf/nbzzTffZZddbr311jlz5hR5oN0I1Alo170TCBAg0IRAJX7ueeyxx6ZNm9bEiW1uVKASdQkfgLzwwguNntbGJgSefPLJct3MLP9MlSh3/vypX544ceLf//73sqepLqWTVsKwEnOWnmk6ZlhjjTV+8pOfvPLKK+PGjQsfm3fr1q3IvMJF9aeeemq4SP7II4986qmnXCRfpJvdtOveAwQIEGhMIHw1ukI/91Ro2saSSde2Cn2hQF1KfJtUCLDsn9iXmGbiDq9QXSo0beJ4Wxzw3/72t/BpbYsPb+jAoUOHhqeQNLTVeFkENttss3BvuUmTJj333HPHHXfcqquuWsy0CxYsCH+b7bfffqHPv/DCC0PPX8xR9smyQNssJy93AgQINCkQ/lk94YQTmtxt9OjR4UZldbuFG9KE3503eYh/pJskamSHcKP+8H3C8Gpkn7Dpk08+yb9JcrhdUOvWfk/duFlJW8MzjVZbbbXw0VPjs4QfWO+4447cPj/84Q/XXHPN3GpDC+GPTLigtKGtxhsXCFfkNlmXMMM999wzb968uqn22muvYsDDtULhIuHGz25rQwLhkodi6hKewBe+/lM3ybbbbhsuq25owtx4+E3KL3/5y9yqhQoJhFvHf2f5K1whP2DAgHvvvfeZZ55ZsmRJk6cLVyH9fvlrp512OvbYY4844ohOnTo1eZQdMiigXc9g0aVMgEAzBI5Z/mrygJtuuinXrodL3cI/200eYodSBLZf/mpyhlCU/Hb9+uuvb9vWP3xNsrV8h/bt2xfz5p81a1Z+ux4+YgodSMvP6sgiBIqpS5gmfNiba9d/vPxVxNx2ablAkXUJ32XItevhEd9XXnlly0/pyMoIhL/9frT8FS6XeOCBB0LfHn6PX8ypwnX14dW3b99DDjkk9O3h7nRt2rQp5kD7ZETAhwwZKbQ0CRAgQIAAAQIECBCorEDXrl3PO++8t99+OzzP8uyzz+7SpUsx5wvfvAvf8Prud7+73nrrXXDBBeE+jsUcZZ8sCGjXs1BlORIgQIAAAQIECBAgUD2BHj16XHPNNeGi90GDBoVr3Tt06FDMucOH8+HqiW984xvh5vPhAXLhWqRijrJPigW06ykurtQIECBAgAABAgQIEKiZQLiyff/993/ooYemT58e+vZwc/h11lmnmGhee+21cF+D8Fl9aPXdSb4YsbTuo11Pa2XlRYAAAQIECBAgQIBALATatWsX+vabb775o48+Cq14uBHgNtts02RkdY+nCXeS32ijja644oqpU6c2eYgdUiagXU9ZQaVDgAABAgQIECBAgEBMBcLN5MPNUi+99NI333wzPAfurLPOKubecmHPX/ziF927dw+3gAwHxjQ3YVVAQLteAVRTEiBAgAABAgQIECBAoAGBkSNH/upXvzrooIOuu+66Yh78VjfNwoUL77vvvvAojYMPPnj8+PENzG04VQKeZ5OqckqGAAECBAgQIECAAIEYCixevDg8XjQ8nv3xxx+fPHlyKREOHDjw6aefvuyyy84555zWrX3+Wopl3I/Vrse9QuIjQIAAAQIECBAgQCChAuEj8cGDBz/22GNPPPHEzJkzy5XFggULzj///DDto48+Gu5IV65pzRM3Ae163CoiHgIECBAgQIAAAQIEki2wbNmyESNG3H///eGB6s3q0tu2bXvAAQccd9xxnTp1Cpe+9+vXb+7cuQ1ZvPzyy+FGdC+88ELYuaF9jCdaQLue6PIJngABAgQIECBAgACBGAmMGzfugeWviRMnNiusrbbaKnTpRx999H//93/XHbj77rtff/314SP0u++++7nnngu/Aiic8O233w5fZQ/XxoebzxduNZJ0AV91SHoFxU+AAAECBAgQIECAQI0FPv3003DfuB122GGLLbb4zW9+U3yvvvrqq59++unh6W6jR48O30XP9ep1+bRv3z408M8888zYsWNDM1/vN9WHDx9+11131Th/p6+MgE/XK+NqVgIECBAgQIAAAQIE0i7wxRdfhLvHhYvew+fbxd/jPaiExnufffYJHXjv3r2L+WB8s802u/POO3faaadTTz21EPWaa645+eST623mC3c2kiAB7XqCiiVUAgQIECBAgAABAgRqLxA68/CJd+jS+/fvHzr2ZgW0ySabHHvsseEJ6uuuu26zDgw7n3LKKfPmzTvvvPMiB7733nshnn333TcybjXpAtr1pFdQ/AQIECBAgAABAgQIVEngjTfeCF36Qw89FK5+b9YpO3To8MMf/jB8nN6rV69mHRjZ+dxzz/378ldkfMyYMdr1iEkKVrXrKSiiFAgQIECAAAECBAgQqKBA+C76gw8+GBr1cCe5Zp2mVatWu+22W+jSDzvssFVWWaVZxza081FHHRUa9sjW4r8tHznQapwFtOtxro7YCBAgQIAAAQIECBComUB4Blt4lFro0l966aV6b8zeSGTdunU75phjwnXvG264YSO7tWBTuId84VEff/xx4aCRpAto15NeQfETIECAAAECBAgQIFB+gQkTJnzzm99cuHBhs6ZeeeWVDz300PBx+p577lmhe7916dKlMCSPXi80ScGIdj0FRZQCAQIECBAgQIAAAQJlFliwYEGzevWePXuGLv3www/v2LFjmUP5+nSzZs36+sC/1tZZZ53CQSNJF9CuJ72C4idAgAABAgQIECBAoGYCXbt27dOnT7joPTxxvTpB1Pv9+V122aU6Z3eWagpo16up7VwECBAgQIAAAQIECKRBYMUVVzzooIPCx+n77bdfmzZtqpnS+PHjI6cLwey+++6RQaspENCup6CIUiBAgAABAgQIECBAoEoCPXr0CF16uD37GmusUaVTfv004RL97373u+FWduHVvXv38N/111+/ffv2X9/LWhoEtOtpqKIcCBAgQIAAAQIECBCoqEBozkOLHhr10K5X9ERNTn7JJZc0uY8d0iGgXU9HHWVBgAABAgQIECBAgED5BcKF7uFy99Clh0vfwzXn5T+BGQk0LKBdb9jGFgKxF3j00UdXW2212IeZiQAXLVqUyzPcAEZdchq1XViyZEl+AJ07d85ftVwrgcizi3v16lXlr33WKvH4n3fevHm5IE855ZQzzjgjt2qhhgJffvllDc+e5VOHG7z//ve/32OPPXbccccsO8i9hgLa9RriOzWBUgUWL178+eeflzqL48stsHTpUnUpN2p55lOX8jiWe5b58+eXe0rzlUEgPMIqvMowkSkIJFYgfC08/D5xp5122nnnnY855pjwhDbPNk9sMZMaeOukBi5uAlkVOO200956662zzjorqwDyJkCAAAECBAhUSSB8uh7O9PLLL5966qnhgW2hYx80aFDk0q0qheI0mRTQrmey7JJOssDWy19rrbVWkpMQOwECBAgQIEAg7gLvvvvuwIEDc1GG600efvjhAw444Oabb84NWiBQUQEXw1eU1+QEKiWw5ZZbPv7445Wa3bzNFwi/a7/11lvrjltvvfVuvPHG5s/hiPILjBkz5uc//3lu3v79+7du7ffUOY+aLYQvSIe7K+dOf+2112644Ya5VQs1FDjhhBOmT59eF0Dfvn2/853v1DAYp84JXHrppW+88UZu1ULVBG6//fbIvTbCqVddddUf//jHVYvBiTIuoF3P+BtA+kkVOPjgg5Maekrj/uijj3KZhX/IFSinUduFyJcMDzzwwLZt/cNX25r86+yzZs3KD2L33Xffdttt80cs10pg5ZVXzp06FMVfZTmN2i7kfh1c2zAyePbRo0cXZh2+xO6GsoUsRiok4EOGCsGalgABAgQIECBAgACBBAuMHTu2MPqePXsWDhohUCEB7XqFYE1LgAABAgQIECBAgEBSBcLXdqZMmVIY/aabblo4aIRAhQS06xWCNS0BAgQIECBAgAABAkkVWGGFFeq93Ul4GHtSUxJ3AgW06wksmpAJECBAgAABAgQIEKikQLt27bp161Z4hvHjxxcOGiFQIQHteoVgTUuAAAECBAgQIECAQIIF9thjj8LowzPYCweNEKiQgHa9QrCmJUCAAAECBAgQIEAgwQIXXnhh4fXwN910U+55hwnOTegJEdCuJ6RQwiRAgAABAgQIECBAoIoCm2222dlnnx054dy5c88888wlS5ZExq0SqISAdr0SquYkQIAAAQIECBAgQCDxAldfffUZZ5wRSeMvf/nLkUceuXDhwsi4VQJlF9Cul53UhAQIECBAgAABAgQIpETghhtuuOiii9q0aZOfT79+/TbeeOPrr79+/vz5+eOWCZRXQLteXk+zESBAgAABAgQIECCQKoHLLrvs1Vdf3W677fKz+uijj84666zVV1+9Z8+e55xzTmjgx44d+9lnny1atCh/N8sEShFoW8rBjiVAgAABAgQIECBAgEAqBRYsWDBu3Li61MI952699dY//vGPDzzwQH6y4ZL4V5a/rr322tx4hw4dwuPZW7VqlRtpwUL4dUALjnJIygS06ykrqHQIECBAgAABAgQIECiDwIQJE7bddtsWTDRv+asFBzqEQETAxfAREKsECBAgQIAAAQIECBAgQKD2Atr12tdABAQIECBAgAABAgQIECBAICKgXY+AWCVAgAABAgQIECBAgAABArUX0K7XvgYiIECAAAECBAgQIECAAAECEQHtegTEKgECBAgQIECAAAECBAgQqL2AO8PXvgYiIECAAAECBAgQIEAgbgJbbrnl1KlT4xaVeDIloF3PVLklS4AAAQIECBAgQIBAUQJt27bt0qVLUbvaiUBlBFwMXxlXsxIgQIAAAQIECBAgQIAAgRIEtOsl4DmUAAECBAgQIECAAAECBAhURkC7XhlXsxIgQIAAAQIECBAgQIAAgRIEtOsl4DmUAAECBAgQIECAAAECBAhURkC7XhlXsxIgQIAAAQIECBAgQIAAgRIEtOsl4DmUAAECBAgQIECAAAECBAhURsCD3CrjalYCBAgQIECAAAECBLIksGDBgunTp89a/po5c+a8efPCo+D222+/Tp065TMsWrRohRVWyB+xTKAhAe16QzLGCRAgQIAAAQIECBAg0JjAlClThg8f/tLy19tvv71kyZLI3iNHjtx2223zB2+44YYBAwacddZZvXv3btOmTf4mywQiAtr1CIhVAgQIECBAgAABAgQINCHwzDPP/OEPf3jqqaeWLVvWxK5f3zxp0qTQ4YdXt27dzjjjjBNPPHH11Vf/+i7WCPx/Ae26twKBigg89NBDgwYNqsjUJo2lwPz583NxTZgwoWvXrrlVCzUUWLhwYf7Z11tvvfxVy7USWLp0af6p99lnH9eF5oPUcHnatGk1PLtTE0iKwGOPPXbxxRePHj26ZQGHdr3uwMmTJ//sZz8LU1166aXnnntuy2ZzVLoFtOvprq/saibw5fJXzU7vxDUVWLx48dSpU2sagpPXL6Au9bvUenTGjBm1DsH5CRAgUJRA+Pnupz/96e23317U3g3s9OGHH+ZvCb/xP++88z799NMrr7wyf9wygSDgzvDeBgTKJnD66aePGDHiuOOOK9uMJiJAgAABAgQIEIiHwNixY3fYYYcSe/WQSu7T9fy0rrrqqnBVfOFX3/P3sZxBAZ+uZ7DoUq6UwM477xymHjx4cKVOYF4CBAgQIECAAIFaCHzwwQd77LHHZ599VuLJw23j586dW+8kd9xxR9j64IMPtmvXrt4dDGZQQLuewaJLubICm2+++QMPPFDZc5g9fgJPP/303XffXRfXOuus43q2mJRo3Lhxl112WS6Y++67r3Vrl5XlPGq28MUXX5x88sm5019xxRXdu3fPrVqooUC4ytd3E2ro79SxFQhPZdt///1L79VDgpEr4SMph2/Fh78e77nnnsi41cwKaNczW3qJV0rgRz/6UaWmNm+MBcKvw3PteseOHb0NYlKrYcOG5bfrRxxxRHgEbkxiy3IY4c9LfrseHkocecpRlnFqm/uFF16oXa9tCZw9hgLhAvWDDz443Ee23tjCnTLDFfLb/ft11113XXfddfXuWTe42WabhfvJh0vfG7qdyr333nvMMcfsueeejUxiU3YEfMiQnVrLlAABAgQIECBAgACB5gmEL6uHp6oXHtOqVavw2/nx48eHreFR6uHuRdtss02Tz7lYeeWVzznnnIkTJ15//fXhcrzCacNIuB2SL7HXK5PBQe16BosuZQIECBAgQIAAAQIEmhaYN2/er3/968L9evbsOXLkyPD9xw022KBwa5MjK6200plnnhkeBRfmKdw5/ArAvZAKWbI5ol3PZt1lTYAAAQIECBAgQIBAEwLhqvXwiLXITrvuuuszzzzTo0ePyHhzV1dfffUwz7777lt4YOn3ny+c00gSBbTrSayamAkQIECAAAECBAgQqLhAuFt75BxbbrnloEGDVllllch4y1bDPAMHDiz8jP3JJ58M97dr2ZyOSpOAdj1N1ZQLAQIECBAgQIAAAQLlERg1atSUKVPy5wrfV7/11ls7dOiQP1ji8oorrnj55ZdHJlm8ePGrr74aGbSaQQHtegaLLmUCBAgQIECAAAECBJoQCB9xR/Y4/PDDe/XqFRksfTXcB3633XaLzKNdj4Bkc1W7ns26y5oAAQIECBAgQIAAgcYEnn322cjmPn36REbKtdq3b9/IVOFWdpERqxkU0K5nsOhSJkCAAAECBAgQIECgCYGPP/44f4/VVltt7733zh8p43L4SnxktmnTpkVGrGZQQLuewaJLmQABAgQIECBAgACBJgQi94TfaKONwvfMmzimpZvDA+HatGmTf/SsWbPyVy1nU0C7ns26y5oAAQIECBAgQIAAgQYFvvzyy88//zx/89prr52/Wt7l8IuAbt265c85e/bs/FXL2RTQrmez7rImQIAAAQIECBAgQKBBgUivHvZbddVVG9y7HBtat/5aaxb5sL0cZzBH8gS+9p5IXvgiJkCAAAECBAgQIECAQLkFOnfuHB7blj/r9OnT81fLvhy59n7NNdcs+ylMmDgB7XriSiZgAgQIECBAgAABAgQqK9C2bdvQseefI/IM9vxNpS+H3wXMmzcvfx7ter5GZpe165ktvcQJECBAgAABAgQIEGhQoEuXLvnbxo0bN3Xq1PyRMi4PGTIkMpt2PQKSzVXtejbrLmsCBAgQIECAAAECBBoT6N69e/7mZcuWDRo0KH+kjMsDBgyIzLbhhhtGRqxmUEC7nsGiS5kAAQIECBAgQIAAgSYE/ud//ieyxx/+8IelS5dGBktfffvtt/v37x+ZZ5999omMWM2ggHY9g0WXMgECBAgQIECAAAECTQgccMABkT3efffdu+66KzJY4mr40P7cc8+N/BYg3IW+Z8+eJc7s8BQIaNdTUEQpECBAgAABAgQIECBQZoGNN9540003jUz605/+9K233ooMlrL6y1/+8plnnonMsMcee6ywwgqRQasZFNCuZ7DoUiZAgAABAgQIECBAoGmBk08+ObLT/PnzDz744Ndeey0y3oLV8In61Vdfffnllxcee/zxxxcOGsmggHY9g0WXMgECBAgQIECAAAECTQucccYZkRvOhWMmT568yy67hE/FFy5c2PQUDewxcuTInXfe+fzzzy/cvv322/fu3btw3EgGBbTrGSy6lAkQIECAAAECBAgQaFqgXbt29X76vXjx4t/85jc77rhj6LqbnuXre8yZM+fMM8/cYYcdXn311a9v+f9rYeZ6xw1mUKBtBnOWMgECBAgQIECAAAECBIoR+NGPfhRuL/fss88W7hy+xP6tb31r3XXXDZ+T172++uqrwt3CyKxZs958883Q248aNerpp5/+7LPP6t0tDB544IGFd6RvaGfjqRfQrqe+xBIkQIAAAQIECBAgQKCFAq1atXr00Ue//e1vjxkzpt4pPv74437LX/Vu7du3b7h4ftKkSfVujQx+4xvfeOCBByKDVrMs4GL4LFdf7gQIECBAgAABAgQINCHQsWPHQYMGde3atYn96ts8bNiwInv1Nddc84knnlhttdXqm8ZYRgW06xktvLQJECBAgAABAgQIEChSoFu3buFxa5tvvnmR+zd3tzD/kCFD1l9//eYeaP90C2jX011f2REgQIAAAQIECBAgUAaBLbfc8vXXXz/mmGPKMNfXpzjggAPCd9q32267rw9bI/B/tOveBAQIECBAgAABAgQIEGhaYJVVVrn77rvvu+++9dZbr+m9i9hj9dVXD49eHzhwYOfOnYvY3S6ZE9CuZ67kEiZAgAABAgQIECBAoMUCRx999AcffPDQQw+FB6S3eJLwOPdrr7023IXu3HPPDXeza/E8Dky3gDvDp7u+sqtH4N577x08eHA9GwwRKEEgPEM1d/Q///nPTTbZJLdqoYYCX375Zf7Zw3cO/UiUD1Kr5SVLltTq1M5LgACBsgi0bdv2iOWvV155JTzj7aWXXhoxYsTs2bMbnzwcFa5433XXXXfffff9998/rDa+v60EvEW8BzInENqq/M4qc/lLuPICCxcuDB175c/jDM0WeP/995t9jAMIECBAgEDDAjstf4Xty5YtC096mzhxYnjEenjNnDkzdO/t2rULV7nXvbp06RIe0t6+ffuGJ7OFQFRAux4VsZ5KgdOXv2699dZHHnkklQlKigABAgQIECBAoIYC4eqtrZa/ahiDU6dPQLuevprKqB6BvffeO4y6Br4eGkMECBAgQIAAAQIECMRSQLsey7IIqjIC4Wurt912W2XmNmvWBZ5//vkHH3ywTqFr166XXHJJ1kXikf9777131VVX5WK55ZZbWrd2j9WcR80W5s+f37dv35qd3okJECBAgEBCBLTrCSmUMMshcNJJJ5VjGnMQqEcgfF89166Hh7J4s9VjVIuhYcOG5bfrJ5xwgvv61KIO0XOGb3Vq16Mo1gkQIECAQIGADxkKSAwQIECAAAECBAgQIECAAIFaC2jXa10B5ydAgAABAgQIECBAgAABAgUC2vUCEgMECBAgQIAAAQIECBAgQKDWAtr1WlfA+QkQIECAAAECBAgQIECAQIGAW80VkBggQIAAAQIECBAgQCDzAhMnTjz99NNrxeAJxLWSj9V5teuxKodgCBAgQIAAAQIECBCIhcDnn38+ZMiQWIQiiKwKuBg+q5WXNwECBAgQIECAAAECBAjEWEC7HuPiCI0AAQIECBAgQIAAAQIEsiqgXc9q5eVNgAABAgQIECBAgAABAjEW0K7HuDhCI0CAAAECBAgQIECAAIGsCrjVXFYrL28CBAgQIECAAAECBOIh0KdPn3XXXTcesYgiRgLa9RgVQygECBAgQIAAAQIECMREYMMNN3zmmWdKDGb+/Plz5syZvfw1bdq0ESNGjBo1asmSJZFpn3vuuYEDB2677baRcasZF9CuZ/wNIH0CBAgQIECAAAECBOoR6NChw1577VXPhtKGQvc+fPjwK6+8Mvw3N9OUKVN22223hx566MADD8wNWiDgu+veAwQIECBAgAABAgQIEKiSQMeOHUNP/sILL9xxxx2dO3fOnXXevHm9e/d+9tlncyMWCGjXvQcIECBAgAABAgQIECBQVYFWrVodf/zxoTlv37597sThIvkf//jHM2bMyI1YyLiAdj3jbwDpEyBAgAABAgQIECBQG4EePXrceeed+ef+5JNPTjzxxPwRy1kW0K5nufpyJ0CAAAECBAgQIECglgKHH374sccemx/BgAEDnnzyyfwRy5kV0K5ntvQSJ0CAAAECBAgQIECg9gJnn312JIi77rorMmI1mwLa9WzWXdYECBAgQIAAAQIECMRCYOutt951113zQwkPdfMN9nyQzC5r1zNbeokTIECAAAECBAgQIBALge9973v5cSxcuPDhhx/OH7GcTQHtejbrLmsCBAgQIECAAAECBOIisNFGG0VCeeeddyIjVjMooF3PYNGlTIAAAQIECBAgQIBAjAQ22GCDSDQfffRRZMRqBgW06xksupQJECBAgAABAgQIEIiRQIcOHSLRfPzxx5ERqxkU0K5nsOhSJkCAAAECBAgQIEAgRgITJ06MRDN16tTIiNUMCmjXM1h0KRMgQIAAAQIECBAgECOB999/PxJNx44dIyNWMyigXc9g0aVMgAABAgQIECBAgECMBAYPHhyJZu21146MWM2ggHY9g0WXMgECBAgQIECAAAECcREYPXp0//79I9F07do1MmI1gwLa9QwWXcoECBAgQIAAAQIECMRCYNGiReeff/6yZcsi0WyzzTaREasZFGibwZylHFuBO+64Y9CgQbENT2AEGhGYPn16busHH3zQo0eP3KqFGgrMmzevhmd3agIECBAg0LjAggULDjvssKeeeqpwt0MPPbRw0EjWBLTrWat4rPP9bPkr1iEKjkARAuGf3rfeequIHe1CgAABAgQIZFRg4cKFjzzyyNVXXz1q1KhCgm9+85sbb7xx4biRrAlo17NW8djle9ry1y233FLvrxVjF66ACBAgQIAAAQIEsiEwd+7coUOHlp7r0qVLlyxZEi56nz9//ueffz5t2rTw2Lbnnnvu008/bWjyPn36NLTJeKYEtOuZKncck+3du3cIa8iQIXEMTkwECBAgQIAAAQJZFZg0aVLdT6pVBlh//fXPPPPMKp/U6eIpoF2PZ10yF9Xmm29+7bXXZi5tCadI4MUXX3z00UfrElprrbUuuOCCFCWX4FTCfQRuuOGGBCcgdAIECBDInsCVV1650korZS9vGdcjoF2vB8VQ9QX69u1b/ZM6I4EyCqywwgq5dr1z587e0mW0LWWqYcOGaddLAXQsAQIECFRZ4MQTT/zBD35Q5ZM6XWwFPMgttqURGAECBAgQIECAAAECGRIIvfptt92WoYSl2pSAdr0pIdsJECBAgAABAgQIECBQSYG11147PNI49OqtWrWq5HnMnTABF8MnrGDCJUCAAAECBAgQIEAgHQJt27bt1atXuKHdSSed1L59+3QkJYsyCmjXy4hpKgIECBAgQIAAAQIEUiLQqVOnww47rFzJtG7desUVV2y3/NWxY8fuy189e/YMZynXKcyTPgHtevpqKiMCBAgQIECAAAECBEoV6NatW79+/UqdxfEEShDw3fUS8BxKgAABAgQIECBAgAABAgQqI6Bdr4yrWQkQIECAAAECBAgQIECAQAkC2vUS8BxKgAABAgQIECBAgAABAgQqI6Bdr4yrWQkQIECAAAECBAgQIECAQAkC2vUS8BxKgAABAgQIECBAgAABAgQqI6Bdr4yrWQkQIECAAAECBAgQIECAQAkC2vUS8BxKgAABAgQIECBAgACBcgu89dZb5Z7SfIkU8Nz1RJZN0AQIECBAgAABAgQI1Epg9uzZc+bM+Xz568svv+zYseOaa675X//1X+3bty89pFdeeaVnz57bbrvtGWecceSRR6688sqlCJbBdwAAIUpJREFUz2mGhApo1xNaOGETIECAAAECBAgQIFAlgbFjxz7zzDOjR48OC+E1Y8aMek8c2vXQtIfWfaONNtp777332Wef9ddfv949Gxn8/e9/H7aOGjXqhBNOOP/888N/zznnnLXWWquRQ2xKq4B2Pa2VlRcBAgQIECBAgAABAi0XWLZsWWjRH3nkkSFDhkyePLmYiebPnx/2DK833njj4YcfDodsvPHGdX37vvvu26FDhyYnGT9+/IABA3K7zZw585prrjnttNNyIxYyJaBdz1S5JUuAAAECBAgQIECAQBMC4Vr3u++++09/+tN7773XxK5Nbf7n8tctt9wSPnX/2c9+9pOf/KTxC+avuuqq8GuC/Fl/+MMfbrDBBvkjlrMj4FZz2am1TAkQIECAAAECBAgQaELgrrvuClewn3322aX36vlnmj59emjXN9xwwz/+8Y8LFizI35RbDme87777cqt1CxdccEFkxGp2BLTr2am1TAkQIECAAAECBAgQaFBg6tSpBx988PHHHx9uI9fgTqVt+PTTT8MvAsI32++///7CmU4//fSFCxfmj++3337bbLNN/ojlTAlo1zNVbskSIECAAAECBAgQIFCPQPiq+VZbbTVw4MB6tpV76JNPPunTp8+55567dOnS3NwPPvhg+Kp8brVuwUfrEZCsrWrXs1Zx+RIgQIAAAQIECBAg8B+BcJv3I4444vDDD2/ofu//2bWsS+EecgcddNDcuXPDrOHb8uH275Hpd9xxxz322CMyaDVTAm41l6lyS5YAAQIECBAgQIAAgf8IhBY9dMUffPDBf4aaWurUqVOX5a/wcLXw/2ussUZ4/nq4hXuYKrzCwkcffTRv3rympvnX9kGDBu2yyy7hI/3w8LZwnXz+IW3atLnuuuvyRyxnUEC7nsGiS5kAAQIECBAgQIAAgf+zZMmS8KF6Mb16uPlc7969Dz300J122qldu3aN24Vpw4Pchg4d+vzzz7/44ouNt+5jxozZfvvtZ82aFZkzPHG9Z8+ekUGrWRPQrmet4vIlQIAAAQIECBAgQOBfAuFW7c8++2wjFptvvnno50Oj3qNHj0Z2i2wKH4yHT+zDK3zzfPHixU8++eSll146cuTIyG651fCBfG65biF8i/7iiy+ODFrNoIDvrmew6FImQIAAAQIECBAgkHWBcG/28O3xhhQ6dOhw7bXXvvPOO6FtblavHpmwbdu2hxxySPiw/W9/+9u3vvWtyNZ6V8Mh99xzT5Of4dd7rMGUCWjXU1ZQ6RAgQIAAAQIECBAg0IRA6J9POumkhnY68MADwzXqffv2DZ+TN7RPc8fDXeVef/31O++8c8UVV2z82Isuumi77bZrfB9bMyKgXc9IoaVJgAABAgQIECBAgMC/BMLF5+Fb6AsWLCjkWH311cMT3cK937p161a4tfSR4447LjytLdydrqGpQqP+i1/8oqGtxrMmoF3PWsXlS4AAAQIECBAgQCDTAldddVW4eXshQfjce8CAAT/4wQ8KN5VxZNddd/3HP/6x6aab1jvnZpttFi6Gr3eTwQwKaNczWHQpEyBAgAABAgQIEMiowPTp02+88cZ6k7/jjjt22223ejeVd3DjjTc++OCD650zfLb//vvv17vJYAYF/OYmg0VvScp//vOfBw8e3JIjHUMgGwJTp07NRqKyJECAAAECyRa4+uqr632y2iWXXHL00UdXJ7fwJfZwH7t6zxUeAheewX7bbbfVu9Vg1gS061mreAvznbz81cKDHUaAAAECBAgQIEAgBgLhsWq33357YSBHHnnkr371q8LxSowsXLgwfIM9tOUNTR5uCx869vAt+oZ2MJ4dARfDZ6fWzc70tNNOC8+3+Pa3v93sIx1AgAABAgQIECBAIH4C4SnrM2bMiMQVbv/+29/+NjJYudXf/OY34flwjcwf+vnw1LdGdrApOwLa9ezUutmZHrX8tf766zf7SAcQIECAAAECBAgQiJ/AX//618Kgvv/973fv3r1wvBIjb7311u9+97smZ37sscea3McOWRBwMXwWqlxSjptvvvlll11W0hQOJpABgVdeeeWJJ57IQKJSJECAAAECCRZ4/PHHC6M/55xzCgcrNHLFFVcsWrQof/JNNtlk/vz5U6ZMyR/8+9///sUXX6yyyir5g5YzKKBdz2DRm5fyRRdd1LwD7E0gkwI33XSTdj2TlZc0AQIECCRG4IMPPghPXI+Eu8suu+y0006RwQqthrMX/r7g8ssvHzp06M0335x/0vBM+DfffNOXUvNNsrnsYvhs1l3WBAgQIECAAAECBLIlMGrUqMKETznllMLBCo08+OCDX331Vf7kO+yww2GHHXbIIYfkD9Yth3a9cNBI1gS061mruHwJECBAgAABAgQIZFGg3nZ9q622qprFnXfeGTlXuAN8q1atvvOd76y66qqRTeFb7pERqxkU0K5nsOhSJkCAAAECBAgQIJA5gXAxfGHOG264YeFgJUbCp+WR3xeEW0SFRj2ca8UVV9xiiy0iJx0/fnxkxGoGBbTrGSy6lAkQIECAAAECBAhkTmDOnDmRnMOzzTt16hQZrNDqX/7yl8jMhx9+eG5krbXWyi3XLcyaNSsyYjWDAtr1DBZdygQIECBAgAABAgQyJzB79uxIzlX7aD2cN9wTPtxS7vTTT+/SpUtdGPnteteuXSOxFf5yIbKD1SwIuDN8FqosRwIECBAgQIAAAQJZFyhsgDfYYIOqobRu3XqP5a8bbrhh2PJX/gXwhZ+uF0ZbtVCdKD4C2vX41EIkBAgQIECAAAECBAhUSqBNmzaRqZcsWRIZqcJqrm/PP1fkjvH5myxnWcDF8FmuvtwJECBAgAABAgQIZEWg8Gvqn376aUySL4ykMNqYhCqMagpo16up7VwECBAgQIAAAQIECNRGoGPHjpETFzbJkR2qtloYSWG0VQvGieIjoF2PTy1EQoAAAQIECBAgQIBApQTCfeAjUxc2yZEdqrY6derUyLkKo43sYDULAtr1LFRZjgQIECBAgAABAgSyLhCecx4hmDdv3pgxYyKD1V+tN4zNNtus+pE4Y9wEtOtxq4h4CBAgQIAAAQIECBAov0CPHj0KJ33iiScKB6s88vTTTxfeam677barchhOF0MB7XoMiyIkAgQIECBAgAABAgTKLFBvu/7kk0+W+TTNn27gwIGFB2nXC00yOKJdz2DRpUyAAAECBAgQIEAgcwJdu3bt3r17JO0RI0YUfm88sk9FV8Pn6oWf8K+yyipbb711Rc9r8kQIaNcTUSZBEiBAgAABAgQIECBQqsD3v//9yBTh0euXXHJJZLCaqzfccMO0adMiZzzwwAPbtWsXGbSaQQHtegaLLmUCBAgQIECAAAECWRQ47LDDCtO+/fbbJ0yYUDhehZEZM2ZcfvnlhSc64ogjCgeNZFBAu57BokuZAAECBAgQIECAQBYFevbsud5660UyX7x48YUXXhgZrM7qxRdfPHv27Mi5whPX999//8ig1WwKaNezWXdZEyBAgAABAgQIEMicQKtWrfr27VuYdv/+/cNF6YXjFR3p16/fTTfdVHiKM844w5XwhSzZHNGuZ7PusiZAgAABAgQIECCQRYFTTz11zTXXLMz87LPPruZd4ocPH96nT59ly5ZFIllttdXOPffcyKDVzApo1zNbeokTIECAAAECBAgQyJxA+/btzznnnMK0wz3nwjfGR44cWbip7CNjxow55JBDCp+1Hk501llnrb766mU/owkTKqBdT2jhhE2AAAECBAgQIECAQEsEQku86aabFh45b968XXfd9Z577incVMaRBx98cJdddpk1a1bhnOHhbbX6Fn1hMEbiIKBdj0MVxECAAAECBAgQIECAQJUEVl555dCTt2nTpvB88+fPP/bYY4877riwULi1xJEvvvgizHzUUUfNnTu3cKo11lhjwIAB4cP/wk1GMiugXc9s6SVOgAABAgQIECBAIKMC4Rbx559/fkPJ33333T169Pjzn//85ZdfNrRPs8bDPLfddts222wTZq73wPC7g7/+9a8bbLBBvVsNZlZAu57Z0kucAAECBAgQIECAQHYFLrvssoMOOqih/N97772TTz45PPXtoosu+uSTTxrarcnxjz/++H//93/XXXfdU0455f33329o/6uuumqvvfZqaKvxzAq0zWzmEidAgAABAgQIECBAILMCbdu2ffjhh/fbb78XXnihIYQZM2ZcfvnlV1xxxWabbbbzv19bbrll69YNfuoZbvY+duzYESNGvPzyy+G/48ePL7z9e+R0Rx99dLgvfWTQKoEgoF33NiBAgAABAgQIECBAIIsCK6200t/+9rfvfve7L730UiP5h3573PLXXXfdFXYLvXrHjh3D/ds7deoU/rvqqquGL6WHW8fNnj277r/hJvONzBbZtOeee4ar7iODVgnUCWjXvRMIECBAgAABAgQIEMioQHjO+dChQ8O94m+++eYiCZYuXRra8vAqcv+GdmvXrl346D58rt7IZ/UNHWs8IwINXsWRkfylSYAAAQIECBAgQIBAlgVWWGGFP/3pT3feeWc178q+3XbbvfHGG+eee65ePcvvvSZzb9XkVymanMIOBAgQaLHA888/f8kll7T48PgcOGXKlHBPmrp4wj/2O+64Y3xia0EkCxYsmDRpUvjAYe21127B4fE5ZM6cOaNGjcrFs/vuu7dq1Sq3msSFcJuicPfg9ddfP4nB52JevHjxiy++mFvdfvvtO3TokFtN4kK4DVV4LFOoS7iwNonx52IOX7X96quv6la32GKLLl265DYlcWHq1KkzZ84MXzmu93ldCcpo9OjR4RvUdQGHO59ttNFGCQq+oVDDp8rh2eMNba3VeLgt3M9+9rOHHnqoogGEN+TPf/7zX/7yl+HXBBU9kclTIKBdT0ERpUAgqQKvvPJKeIxKUqMXNwECBAgQIFCCwFtvvbX11luXMEGlDg2/T7zgggvCXeIqcYJtt932lltuSfqv9SshY856BVwMXy+LQQIEqiEwZMiQapzGOQgQIECAAIH4CYSvi8cvqH9F1KtXr3DnuXCl+nHHHVeuS2bCXeh/8IMfDBs2bOTIkXr1eNY9nlFp1+NZF1ERIECAAAECBAgQIFAzgfDd8vBt9vBlt3vvvffII49cY401WhDKKquscvDBB4eb2H344YfhoXG77rprCyZxSJYF3Bk+y9WXO4EYCey+6/Z79No+RgFlOJRJkz+554G/5QB+/b+n5pYt1FBAXWqI3/ipL/ntLbkd/HnJUdR84bo/PTB7zud1YahLzcuRH0D+H5n88Xgud+7cuc/yV7gbfPi8PVzAH56p/u67706YMCE8tu3zzz9ftGhRXeThG+nhiW7hti/h5gLh1g/h2exbbbVV+NJfuP17PFMTVSIEtOuJKJMgCWRC4FcXagtjUejrbn4gPw51ydeo4bK61BC/8VPn9x7hN4+7f9tvHhsHq9LW0K7nn8lfZfkaNVy+9Hf/+fVWDcNowanD/dt3WP6KHBtuzhoeur7yyitX867ykRisplhAu57i4kqNAAECBAgQIECAAIEKCoQvt5fr++0VjNLUiRXw3fXElk7gBAgQIECAAAECBAgQIJBeAe16emsrMwIECBAgQIAAAQIECBBIrIB2PbGlEzgBAgQIECBAgAABAgQIpFdAu57e2sqMAAECBAgQIECAAAECBBIroF1PbOkEToAAAQIECBAgQIAAAQLpFdCup7e2MiNAgAABAgQIECBAgACBxApo1xNbOoETIECAAAECBAgQIECAQHoFtOvpra3MCBAgQIAAAQIECBAgQCCxAtr1xJZO4AQIECBAgAABAgQIECCQXgHtenprKzMCBAgQIECAAAECBAgQSKyAdj2xpRM4AQIECBAgQIAAAQIECKRXQLue3trKjAABAgQIECBAgAABAgQSK6BdT2zpBE6AAAECBAgQIECAAAEC6RXQrqe3tjIjQIAAAQIECBAgQIAAgcQKaNcTWzqBEyBAgAABAgQIECBAgEB6BbTr6a2tzAgQIECAAAECBAgQIEAgsQLa9cSWTuAECBAgQIAAAQIECBAgkF4B7Xp6ayszAgQIECBAgAABAgQIEEisgHY9saUTOAECBAgQIECAAAECBAikV0C7nt7ayowAAQIECBAgQIAAAQIEEiugXU9s6QROgAABAgQIECBAgAABAukV0K6nt7YyI0CAAAECBAgQIECAAIHECmjXE1s6gRMgQIAAAQIECBAgQIBAegW06+mtrcwIECBAgAABAgQIECBAILEC2vXElk7gBAgQIECAAAECBAgQIJBeAe16emsrMwIECBAgQIAAAQIECBBIrIB2PbGlEzgBAgQIECBAgAABAgQIpFdAu57e2sqMAAECBAgQIECAAAECBBIroF1PbOkEToAAAQIECBAgQIAAAQLpFdCup7e2MiNAgAABAgQIECBAgACBxApo1xNbOoETIECAAAECBAgQIECAQHoFtOvpra3MCBAgQIAAAQIECBAgQCCxAtr1xJZO4AQIECBAgAABAgQIECCQXgHtenprKzMCBAgQIECAAAECBAgQSKyAdj2xpRM4AQIECBAgQIAAAQIECKRXQLue3trKjAABAgQIECBAgAABAgQSK6BdT2zpBE6AAAECBAgQIECAAAEC6RXQrqe3tjIjQIAAAQIECBAgQIAAgcQKaNcTWzqBEyBAgAABAgQIECBAgEB6BbTr6a2tzAgQIECAAAECBAgQIEAgsQLa9cSWTuAECBAgQIAAAQIECBAgkF4B7Xp6ayszAgQIECBAgAABAgQIEEisgHY9saUTOAECBAgQIECAAAECBAikV0C7nt7ayowAAQIECBAgQIAAAQIEEiugXU9s6QROgAABAgQIECBAgAABAukV0K6nt7YyI0CAAAECBAgQIECAAIHECmjXE1s6gRMgQIAAAQIECBAgQIBAegW06+mtrcwIECBAgAABAgQIECBAILEC2vXElk7gBAgQIECAAAECBAgQIJBeAe16emsrMwIECBAgQIAAAQIECBBIrIB2PbGlEzgBAgQIECBAgAABAgQIpFdAu57e2sqMAAECBAgQIECAAAECBBIroF1PbOkEToAAAQIECBAgQIAAAQLpFdCup7e2MiNAgAABAgQIECBAgACBxApo1xNbOoETIECAAAECBAgQIECAQHoFtOvpra3MCBAgQIAAAQIECBAgQCCxAtr1xJZO4AQIECBAgAABAgQIECCQXgHtenprKzMCBAgQIECAAAECBAgQSKyAdj2xpRM4AQIECBAgQIAAAQIECKRXQLue3trKjAABAgQIECBAgAABAgQSK6BdT2zpBE6AAAECBAgQIECAAAEC6RXQrqe3tjIjQIAAAQIECBAgQIAAgcQKaNcTWzqBEyBAgAABAgQIECBAgEB6BbTr6a2tzAgQIECAAAECBAgQIEAgsQLa9cSWTuAECBAgQIAAAQIECBAgkF4B7Xp6ayszAgQIECBAgAABAgQIEEisgHY9saUTOAECBAgQIECAAAECBAikV0C7nt7ayowAAQIECBAgQIAAAQIEEiugXU9s6QROgAABAgQIECBAgAABAukV0K6nt7YyI0CAAAECBAgQIECAAIHECmjXE1s6gRMgQIAAAQIECBAgQIBAegW06+mtrcwIECBAgAABAgQIECBAILEC2vXElk7gBAgQIECAAAECBAgQIJBeAe16emsrMwIECBAgQIAAAQIECBBIrIB2PbGlEzgBAgQIECBAgAABAgQIpFdAu57e2sqMAAECBAgQIECAAAECBBIroF1PbOkEToAAAQIECBAgQIAAAQLpFdCup7e2MiNAgAABAgQIECBAgACBxApo1xNbOoETIECAAAECBAgQIECAQHoFtOvpra3MCBAgQIAAAQIECBAgQCCxAtr1xJZO4AQIECBAgAABAgQIECCQXgHtenprKzMCBAgQIECAAAECBAgQSKyAdj2xpRM4AQIECBAgQIAAAQIECKRXQLue3trKjAABAgQIECBAgAABAgQSK6BdT2zpBE6AAAECBAgQIECAAAEC6RXQrqe3tjIjQIAAAQIECBAgQIAAgcQKaNcTWzqBEyBAgAABAgQIECBAgEB6BbTr6a2tzAgQIECAAAECBAgQIEAgsQLa9cSWTuAECBAgQIAAAQIECBAgkF4B7Xp6ayszAgQIECBAgAABAgQIEEisgHY9saUTOAECBAgQIECAAAECBAikV0C7nt7ayowAAQIECBAgQIAAAQIEEiugXU9s6QROgAABAgQIECBAgAABAukV0K6nt7YyI0CAAAECBAgQIECAAIHECmjXE1s6gRMgQIAAAQIECBAgQIBAegW06+mtrcwIECBAgAABAgQIECBAILEC2vXElk7gBAgQIECAAAECBAgQIJBeAe16emsrMwIECBAgQIAAAQIECBBIrIB2PbGlEzgBAgQIECBAgAABAgQIpFdAu57e2sqMAAECBAgQIECAAAECBBIroF1PbOkEToAAAQIECBAgQIAAAQLpFdCup7e2MiNAgAABAgQIECBAgACBxApo1xNbOoETIECAAAECBAgQIECAQHoFtOvpra3MCBAgQIAAAQIECBAgQCCxAtr1xJZO4AQIECBAgAABAgQIECCQXgHtenprKzMCBAgQIECAAAECBAgQSKyAdj2xpRM4AQIECBAgQIAAAQIECKRXQLue3trKjAABAgQIECBAgAABAgQSK6BdT2zpBE6AAAECBAgQIECAAAEC6RXQrqe3tjIjQIAAAQIECBAgQIAAgcQKaNcTWzqBEyBAgAABAgQIECBAgEB6BbTr6a2tzAgQIECAAAECBAgQIEAgsQLa9cSWTuAECBAgQIAAAQIECBAgkF4B7Xp6ayszAgQIECBAgAABAgQIEEisgHY9saUTOAECBAgQIECAAAECBAikV0C7nt7ayowAAQIECBAgQIAAAQIEEiugXU9s6QROgAABAgQIECBAgAABAukV0K6nt7YyI0CAAAECBAgQIECAAIHECmjXE1s6gRMgQIAAAQIECBAgQIBAegW06+mtrcwIECBAgAABAgQIECBAILEC2vXElk7gBAgQIECAAAECBAgQIJBeAe16emsrMwIECBAgQIAAAQIECBBIrIB2PbGlEzgBAgQIECBAgAABAgQIpFdAu57e2sqMAAECBAgQIECAAAECBBIroF1PbOkEToAAAQIECBAgQIAAAQLpFdCup7e2MiNAgAABAgQIECBAgACBxApo1xNbOoETIECAAAECBAgQIECAQHoFtOvpra3MCBAgQIAAAQIECBAgQCCxAtr1xJZO4AQIECBAgAABAgQIECCQXoG26U1NZgQIJEzg0t/dkrCIUxrupMmf5GemLvkaNVxWlxriF3/qF4a/Hv5X/P72rJqAv8qqRu1EBAiUUaDVsmXLyjidqQgQIFC8wCWXXHLxxRcXv789CRAgQIAAgdQI7LHHHkOHDk1NOhIhUAkBF8NXQtWcBAgQIECAAAECBAgQIECgJAHtekl8DiZAoBSBQw45pJTDHUuAAAECBAgkV+Dyyy9PbvAiJ1AdARfDV8fZWQgQqF/g+eefD5fE17/NaO0EFixYMGnSpDXWWGPNNdesXRTOXI/A5MmTly5duv7669ezzVDtBKZNmzZjxoxQl5VWWql2UThzVGDq1Klz5szZZJNNWrf2AVUUp+br11133dZbb13zMARAIOYC2vWYF0h4BAgQIECAAAECBAgQIJBFAb9rzGLV5UyAAAECBAgQIECAAAECMRfQrse8QMIjQIAAAQIECBAgQIAAgSwKaNezWHU5EyBAgAABAgQIECBAgEDMBbTrMS+Q8AgQIECAAAECBAgQIEAgiwLa9SxWXc4ECBAgQIAAAQIECBAgEHMB7XrMCyQ8AgQIECBAgAABAgQIEMiigHY9i1WXMwECBAgQIECAAAECBAjEXEC7HvMCCY8AAQIECBAgQIAAAQIEsiigXc9i1eVMgAABAgQIECBAgAABAjEX0K7HvEDCI0CAAAECBAgQIECAAIEsCmjXs1h1ORMgQIAAAQIECBAgQIBAzAW06zEvkPAIECBAgAABAgQIECBAIIsC2vUsVl3OBAgQIECAAAECBAgQIBBzAe16zAskPAIECBAgQIAAAQIECBDIooB2PYtVlzMBAgQIECBAgAABAgQIxFxAux7zAgmPAAECBAgQIECAAAECBLIooF3PYtXlTIAAAQIECBAgQIAAAQIxF9Cux7xAwiNAgAABAgQIECBAgACBLApo17NYdTkTIECAAAECBAgQIECAQMwFtOsxL5DwCBAgQIAAAQIECBAgQCCLAtr1LFZdzgQIECBAgAABAgQIECAQcwHteswLJDwCBAgQIECAAAECBAgQyKKAdj2LVZczAQIECBAgQIAAAQIECMRcQLse8wIJjwABAgQIECBAgAABAgSyKKBdz2LV5UyAAAECBAgQIECAAAECMRfQrse8QMIjQIAAAQIECBAgQIAAgSwKaNezWHU5EyBAgAABAgQIECBAgEDMBbTrMS+Q8AgQIECAAAECBAgQIEAgiwLa9SxWXc4ECBAgQIAAAQIECBAgEHMB7XrMCyQ8AgQIECBAgAABAgQIEMiigHY9i1WXMwECBAgQIECAAAECBAjEXEC7HvMCCY8AAQIECBAgQIAAAQIEsiigXc9i1eVMgAABAgQIECBAgAABAjEX0K7HvEDCI0CAAAECBAgQIECAAIEsCmjXs1h1ORMgQIAAAQIECBAgQIBAzAW06zEvkPAIECBAgAABAgQIECBAIIsC2vUsVl3OBAgQIECAAAECBAgQIBBzAe16zAskPAIECBAgQIAAAQIECBDIooB2PYtVlzMBAgQIECBAgAABAgQIxFxAux7zAgmPAAECBAgQIECAAAECBLIooF3PYtXlTIAAAQIECBAgQIAAAQIxF9Cux7xAwiNAgAABAgQIECBAgACBLApo17NYdTkTIECAAAECBAgQIECAQMwFtOsxL5DwCBAgQIAAAQIECBAgQCCLAtr1LFZdzgQIECBAgAABAgQIECAQcwHteswLJDwCBAgQIECAAAECBAgQyKKAdj2LVZczAQIECBAgQIAAAQIECMRcQLse8wIJjwABAgQIECBAgAABAgSyKKBdz2LV5UyAAAECBAgQIECAAAECMRfQrse8QMIjQIAAAQIECBAgQIAAgSwKaNezWHU5EyBAgAABAgQIECBAgEDMBbTrMS+Q8AgQIECAAAECBAgQIEAgiwLa9SxWXc4ECBAgQIAAAQIECBAgEHMB7XrMCyQ8AgQIECBAgAABAgQIEMiigHY9i1WXMwECBAgQIECAAAECBAjEXOD/AdbhByxh/nMGAAAAAElFTkSuQmCC)"
      ],
      "metadata": {
        "id": "Keml-YBa_JEE"
      }
    },
    {
      "cell_type": "code",
      "source": [
        "class CausalSelfAttention(BaseAttention):\n",
        "  def call(self, x):\n",
        "    attn_output = self.mha(\n",
        "        query=x,\n",
        "        value=x,\n",
        "        key=x,\n",
        "        use_causal_mask = True)\n",
        "    x = self.add([x, attn_output])\n",
        "    x = self.layernorm(x)\n",
        "    return x"
      ],
      "metadata": {
        "id": "bOzPNlcW9wTe"
      },
      "execution_count": 200,
      "outputs": []
    },
    {
      "cell_type": "code",
      "source": [
        "sample_csa = CausalSelfAttention(num_heads=2, key_dim=512)\n",
        "\n",
        "print(en_emb.shape)\n",
        "print(sample_csa(en_emb).shape)"
      ],
      "metadata": {
        "colab": {
          "base_uri": "https://localhost:8080/"
        },
        "id": "zUvOAs5v_SnD",
        "outputId": "75af8cd2-285c-46a1-c171-e3bfdc3607e9"
      },
      "execution_count": 202,
      "outputs": [
        {
          "output_type": "stream",
          "name": "stdout",
          "text": [
            "(64, 124, 512)\n",
            "(64, 124, 512)\n"
          ]
        }
      ]
    },
    {
      "cell_type": "markdown",
      "source": [
        "# Feed forward network\n",
        "The feed forward network consists of two linear layers (Dense) with a ReLU activation in-between, and a dropout layer. As with the attention layers the code here also includes the residual connection and normalization."
      ],
      "metadata": {
        "id": "vFCHkmYa_bnK"
      }
    },
    {
      "cell_type": "code",
      "source": [
        "class FeedForward(tf.keras.layers.Layer):\n",
        "  def __init__(self, d_model, dff, dropout_rate=0.1):\n",
        "    super().__init__()\n",
        "    self.seq = tf.keras.Sequential([\n",
        "      tf.keras.layers.Dense(dff, activation='relu'),\n",
        "      tf.keras.layers.Dense(d_model),\n",
        "      tf.keras.layers.Dropout(dropout_rate)\n",
        "    ])\n",
        "    self.add = tf.keras.layers.Add()\n",
        "    self.layer_norm = tf.keras.layers.LayerNormalization()\n",
        "\n",
        "  def call(self, x):\n",
        "    x = self.add([x, self.seq(x)])\n",
        "    x = self.layer_norm(x)\n",
        "    return x"
      ],
      "metadata": {
        "id": "ku2To5Tb_q7a"
      },
      "execution_count": 203,
      "outputs": []
    },
    {
      "cell_type": "code",
      "source": [
        "sample_ffn = FeedForward(512, 2048)\n",
        "\n",
        "print(en_emb.shape)\n",
        "print(sample_ffn(en_emb).shape)"
      ],
      "metadata": {
        "colab": {
          "base_uri": "https://localhost:8080/"
        },
        "id": "WuaXC3Kk_xep",
        "outputId": "27592cf9-1e73-4a47-b78a-99a46cfa47d0"
      },
      "execution_count": 204,
      "outputs": [
        {
          "output_type": "stream",
          "name": "stdout",
          "text": [
            "(64, 124, 512)\n",
            "(64, 124, 512)\n"
          ]
        }
      ]
    },
    {
      "cell_type": "markdown",
      "source": [
        "# The encoder layer\n",
        "\n",
        "The encoder contains a stack of N encoder block units (encoder layer). Where each encoder block contains a GlobalSelfAttention and FeedForward layer."
      ],
      "metadata": {
        "id": "9WLxuNqJ_3-2"
      }
    },
    {
      "cell_type": "code",
      "source": [
        "class EncoderLayer(tf.keras.layers.Layer):\n",
        "  def __init__(self,*, d_model, num_heads, dff, dropout_rate=0.1):\n",
        "    super().__init__()\n",
        "\n",
        "    self.self_attention = GlobalSelfAttention(\n",
        "        num_heads=num_heads,\n",
        "        key_dim=d_model,\n",
        "        dropout=dropout_rate)\n",
        "\n",
        "    self.ffn = FeedForward(d_model, dff)\n",
        "\n",
        "  def call(self, x):\n",
        "    x = self.self_attention(x)\n",
        "    x = self.ffn(x)\n",
        "    return x"
      ],
      "metadata": {
        "id": "8CY-K0JwAILp"
      },
      "execution_count": 205,
      "outputs": []
    },
    {
      "cell_type": "code",
      "source": [
        "sample_encoder_layer = EncoderLayer(d_model=512, num_heads=8, dff=2048)\n",
        "\n",
        "print(pt_emb.shape)\n",
        "print(sample_encoder_layer(pt_emb).shape)"
      ],
      "metadata": {
        "colab": {
          "base_uri": "https://localhost:8080/"
        },
        "id": "t9pFWZfJAIOP",
        "outputId": "26bdbf22-6825-476b-b935-68ba5cd5aeef"
      },
      "execution_count": 206,
      "outputs": [
        {
          "output_type": "stream",
          "name": "stdout",
          "text": [
            "(64, 128, 512)\n",
            "(64, 128, 512)\n"
          ]
        }
      ]
    },
    {
      "cell_type": "markdown",
      "source": [
        "# The encoder\n",
        "\n",
        "The encoder consists of:\n",
        "\n",
        "*   A PositionalEmbedding layer at the input.\n",
        "*   A stack of EncoderLayer layers."
      ],
      "metadata": {
        "id": "pPCbwfjHAqVw"
      }
    },
    {
      "cell_type": "code",
      "source": [
        "class Encoder(tf.keras.layers.Layer):\n",
        "  def __init__(self, *, num_layers, d_model, num_heads, dff, vocab_size, dropout_rate=0.1):\n",
        "    super().__init__()\n",
        "\n",
        "    self.d_model = d_model\n",
        "    self.num_layers = num_layers\n",
        "\n",
        "    self.pos_embedding = PositionalEmbedding(vocab_size=vocab_size, d_model=d_model)\n",
        "\n",
        "    self.enc_layers = [\n",
        "        EncoderLayer(d_model=d_model,\n",
        "                     num_heads=num_heads,\n",
        "                     dff=dff,\n",
        "                     dropout_rate=dropout_rate)\n",
        "        for _ in range(num_layers)]\n",
        "    self.dropout = tf.keras.layers.Dropout(dropout_rate)\n",
        "\n",
        "  def call(self, x):\n",
        "    # `x` is token-IDs shape: (batch, seq_len)\n",
        "    x = self.pos_embedding(x)  # Shape `(batch_size, seq_len, d_model)`.\n",
        "\n",
        "    # Add dropout.\n",
        "    x = self.dropout(x)\n",
        "\n",
        "    for i in range(self.num_layers):\n",
        "      x = self.enc_layers[i](x)\n",
        "\n",
        "    return x  # Shape `(batch_size, seq_len, d_model)`."
      ],
      "metadata": {
        "id": "b2L6XhjmA5El"
      },
      "execution_count": 207,
      "outputs": []
    },
    {
      "cell_type": "code",
      "source": [
        "sample_encoder = Encoder(num_layers=4, d_model=512, num_heads=8, dff=2048, vocab_size=8500)\n",
        "\n",
        "sample_encoder_output = sample_encoder(pt, training=False)"
      ],
      "metadata": {
        "id": "WEzKIZS9BOz3"
      },
      "execution_count": 208,
      "outputs": []
    },
    {
      "cell_type": "code",
      "source": [
        "# Print the shape.\n",
        "print(pt.shape)\n",
        "print(sample_encoder_output.shape)  # Shape `(batch_size, input_seq_len, d_model)`."
      ],
      "metadata": {
        "colab": {
          "base_uri": "https://localhost:8080/"
        },
        "id": "hinQx1onBbOk",
        "outputId": "88119c14-7c93-4905-b398-ef210b4dbd70"
      },
      "execution_count": 209,
      "outputs": [
        {
          "output_type": "stream",
          "name": "stdout",
          "text": [
            "(64, 128)\n",
            "(64, 128, 512)\n"
          ]
        }
      ]
    },
    {
      "cell_type": "markdown",
      "source": [
        "# The decoder layer\n",
        "\n",
        "In the decoder layer, we need to replace the global attention with causal attention, add the cross attention to connect it to the encoder, and add the FeedForward layer to the attention layer"
      ],
      "metadata": {
        "id": "YCvjlY4fBp1R"
      }
    },
    {
      "cell_type": "code",
      "source": [
        "class DecoderLayer(tf.keras.layers.Layer):\n",
        "  def __init__(self, *, d_model, num_heads, dff, dropout_rate=0.1):\n",
        "    super(DecoderLayer, self).__init__()\n",
        "    self.causal_self_attention = CausalSelfAttention(num_heads=num_heads, key_dim=d_model, dropout=dropout_rate)\n",
        "\n",
        "    self.cross_attention = CrossAttention(num_heads=num_heads, key_dim=d_model)\n",
        "\n",
        "    self.ffn = FeedForward(d_model, dff)\n",
        "\n",
        "  def call(self, x, context):\n",
        "    x = self.causal_self_attention(x=x)\n",
        "    x = self.cross_attention(x=x, context=context)\n",
        "\n",
        "    # Cache the last attention scores for plotting later\n",
        "    self.last_attn_scores = self.cross_attention.last_attn_scores\n",
        "\n",
        "    x = self.ffn(x)  # Shape `(batch_size, seq_len, d_model)`.\n",
        "    return x"
      ],
      "metadata": {
        "id": "ecAoXgEAB_KR"
      },
      "execution_count": 219,
      "outputs": []
    },
    {
      "cell_type": "code",
      "source": [
        "sample_decoder_layer = DecoderLayer(d_model=512, num_heads=8, dff=2048)\n",
        "\n",
        "sample_decoder_layer_output = sample_decoder_layer(\n",
        "    x=en_emb, context=pt_emb)\n",
        "\n",
        "print(en_emb.shape)\n",
        "print(pt_emb.shape)\n",
        "print(sample_decoder_layer_output.shape)  # `(batch_size, seq_len, d_model)`"
      ],
      "metadata": {
        "colab": {
          "base_uri": "https://localhost:8080/"
        },
        "id": "mFzM4KWYB_Nl",
        "outputId": "1fbff87a-d700-4f46-e714-7ee51ed44dc7"
      },
      "execution_count": 220,
      "outputs": [
        {
          "output_type": "stream",
          "name": "stdout",
          "text": [
            "(64, 124, 512)\n",
            "(64, 128, 512)\n",
            "(64, 124, 2048)\n"
          ]
        }
      ]
    },
    {
      "cell_type": "markdown",
      "source": [
        "# The decoder\n",
        "The decoder consists of a PositionalEmbedding, and a stack of DecoderLayers:"
      ],
      "metadata": {
        "id": "gp13gr6EDues"
      }
    },
    {
      "cell_type": "code",
      "source": [
        "class Decoder(tf.keras.layers.Layer):\n",
        "  def __init__(self, *, num_layers, d_model, num_heads, dff, vocab_size, dropout_rate=0.1):\n",
        "    super(Decoder, self).__init__()\n",
        "\n",
        "    self.d_model = d_model\n",
        "    self.num_layers = num_layers\n",
        "\n",
        "    self.pos_embedding = PositionalEmbedding(vocab_size=vocab_size, d_model=d_model)\n",
        "    self.dropout = tf.keras.layers.Dropout(dropout_rate)\n",
        "    self.dec_layers = [\n",
        "        DecoderLayer(d_model=d_model, num_heads=num_heads,\n",
        "                     dff=dff, dropout_rate=dropout_rate)\n",
        "        for _ in range(num_layers)]\n",
        "\n",
        "    self.last_attn_scores = None\n",
        "\n",
        "  def call(self, x, context):\n",
        "    # `x` is token-IDs shape (batch, target_seq_len)\n",
        "    x = self.pos_embedding(x)  # (batch_size, target_seq_len, d_model)\n",
        "    x = self.dropout(x)\n",
        "\n",
        "    for i in range(self.num_layers):\n",
        "      x  = self.dec_layers[i](x, context)\n",
        "\n",
        "    self.last_attn_scores = self.dec_layers[-1].last_attn_scores\n",
        "\n",
        "    # The shape of x is (batch_size, target_seq_len, d_model).\n",
        "    return x"
      ],
      "metadata": {
        "id": "rBdEloKCD07_"
      },
      "execution_count": 221,
      "outputs": []
    },
    {
      "cell_type": "code",
      "source": [
        "# create a decoder with stack of 4\n",
        "sample_decoder = Decoder(num_layers=4, d_model=512, num_heads=8, dff=2048, vocab_size=8000)\n",
        "\n",
        "output = sample_decoder(x=en, context=pt_emb)\n",
        "\n",
        "# Print the shapes.\n",
        "print(en.shape)\n",
        "print(pt_emb.shape)\n",
        "print(output.shape)"
      ],
      "metadata": {
        "colab": {
          "base_uri": "https://localhost:8080/"
        },
        "id": "uWIt0ACsDrFi",
        "outputId": "9b5980de-8b14-4b70-defa-cbb7a4cf9b03"
      },
      "execution_count": 222,
      "outputs": [
        {
          "output_type": "stream",
          "name": "stdout",
          "text": [
            "(64, 124)\n",
            "(64, 128, 512)\n",
            "(64, 124, 2048)\n"
          ]
        }
      ]
    },
    {
      "cell_type": "code",
      "source": [
        "sample_decoder.last_attn_scores.shape  # (batch, heads, target_seq, input_seq)"
      ],
      "metadata": {
        "colab": {
          "base_uri": "https://localhost:8080/"
        },
        "id": "7yZYmA8iE3Na",
        "outputId": "4c880d76-8a61-4662-cbea-b4b616becaf4"
      },
      "execution_count": 215,
      "outputs": [
        {
          "output_type": "execute_result",
          "data": {
            "text/plain": [
              "TensorShape([64, 8, 124, 128])"
            ]
          },
          "metadata": {},
          "execution_count": 215
        }
      ]
    },
    {
      "cell_type": "markdown",
      "source": [
        "# Form the transformer model\n",
        "\n",
        "To complete the Transformer model, we need to put the encoder and decoder together and add a final linear (Dense) layer which converts the resulting vector at each location into output token probabilities."
      ],
      "metadata": {
        "id": "6h_GpP0kFFiq"
      }
    },
    {
      "cell_type": "code",
      "source": [
        "class Transformer(tf.keras.Model):\n",
        "  def __init__(self, *, num_layers, d_model, num_heads, dff,\n",
        "               input_vocab_size, target_vocab_size, dropout_rate=0.1):\n",
        "    super().__init__()\n",
        "    self.encoder = Encoder(num_layers=num_layers, d_model=d_model, num_heads=num_heads, dff=dff, vocab_size=input_vocab_size, dropout_rate=dropout_rate)\n",
        "\n",
        "    self.decoder = Decoder(num_layers=num_layers, d_model=d_model, num_heads=num_heads, dff=dff, vocab_size=target_vocab_size, dropout_rate=dropout_rate)\n",
        "\n",
        "    self.final_layer = tf.keras.layers.Dense(target_vocab_size)\n",
        "\n",
        "  def call(self, inputs):\n",
        "    # To use a Keras model with `.fit` you must pass all your inputs in the\n",
        "    # first argument.\n",
        "    context, x  = inputs\n",
        "\n",
        "    context = self.encoder(context)  # (batch_size, context_len, d_model)\n",
        "\n",
        "    x = self.decoder(x, context)  # (batch_size, target_len, d_model)\n",
        "\n",
        "    # Final linear layer output.\n",
        "    logits = self.final_layer(x)  # (batch_size, target_len, target_vocab_size)\n",
        "\n",
        "    try:\n",
        "      # Drop the keras mask, so it doesn't scale the losses/metrics.\n",
        "      del logits._keras_mask\n",
        "    except AttributeError:\n",
        "      pass\n",
        "\n",
        "    # Return the final output and the attention weights.\n",
        "    return logits"
      ],
      "metadata": {
        "id": "wslBgmcpFIOq"
      },
      "execution_count": 223,
      "outputs": []
    },
    {
      "cell_type": "code",
      "source": [
        "num_layers = 4\n",
        "d_model = 128\n",
        "dff = 512\n",
        "num_heads = 8\n",
        "dropout_rate = 0.1"
      ],
      "metadata": {
        "id": "_7GInTdmGJw6"
      },
      "execution_count": 217,
      "outputs": []
    },
    {
      "cell_type": "code",
      "source": [
        "transformer = Transformer(\n",
        "    num_layers=num_layers,\n",
        "    d_model=d_model,\n",
        "    num_heads=num_heads,\n",
        "    dff=dff,\n",
        "    input_vocab_size=tokenizers.pt.get_vocab_size().numpy(),\n",
        "    target_vocab_size=tokenizers.en.get_vocab_size().numpy(),\n",
        "    dropout_rate=dropout_rate)"
      ],
      "metadata": {
        "id": "8ht7MNlVGQuf"
      },
      "execution_count": 224,
      "outputs": []
    },
    {
      "cell_type": "code",
      "source": [
        "output = transformer((pt, en))\n",
        "\n",
        "print(en.shape)\n",
        "print(pt.shape)\n",
        "print(output.shape)"
      ],
      "metadata": {
        "colab": {
          "base_uri": "https://localhost:8080/"
        },
        "id": "ND7OmYaKGQxl",
        "outputId": "ee88cc74-3db3-4dee-94d7-0a27fec07f9d"
      },
      "execution_count": 225,
      "outputs": [
        {
          "output_type": "stream",
          "name": "stdout",
          "text": [
            "(64, 124)\n",
            "(64, 128)\n",
            "(64, 124, 7010)\n"
          ]
        }
      ]
    },
    {
      "cell_type": "code",
      "source": [
        "attn_scores = transformer.decoder.dec_layers[-1].last_attn_scores\n",
        "print(attn_scores.shape)  # (batch, heads, target_seq, input_seq)"
      ],
      "metadata": {
        "colab": {
          "base_uri": "https://localhost:8080/"
        },
        "id": "SWPtXFeBHVGv",
        "outputId": "494e4aeb-7522-41de-f024-c0609f23873b"
      },
      "execution_count": 226,
      "outputs": [
        {
          "output_type": "stream",
          "name": "stdout",
          "text": [
            "(64, 8, 124, 128)\n"
          ]
        }
      ]
    },
    {
      "cell_type": "code",
      "source": [
        "transformer.summary()"
      ],
      "metadata": {
        "colab": {
          "base_uri": "https://localhost:8080/"
        },
        "id": "K6hObF67Hnls",
        "outputId": "af74920f-5187-45bf-cf1f-502d6a67ec2e"
      },
      "execution_count": 227,
      "outputs": [
        {
          "output_type": "stream",
          "name": "stdout",
          "text": [
            "Model: \"transformer_1\"\n",
            "_________________________________________________________________\n",
            " Layer (type)                Output Shape              Param #   \n",
            "=================================================================\n",
            " encoder_2 (Encoder)         multiple                  8304640   \n",
            "                                                                 \n",
            " decoder_3 (Decoder)         multiple                  15827456  \n",
            "                                                                 \n",
            " dense_56 (Dense)            multiple                  3596130   \n",
            "                                                                 \n",
            "=================================================================\n",
            "Total params: 27728226 (105.77 MB)\n",
            "Trainable params: 27728226 (105.77 MB)\n",
            "Non-trainable params: 0 (0.00 Byte)\n",
            "_________________________________________________________________\n"
          ]
        }
      ]
    }
  ]
}